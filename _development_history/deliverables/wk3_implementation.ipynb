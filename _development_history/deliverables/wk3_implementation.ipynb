{
 "cells": [
  {
   "cell_type": "code",
   "execution_count": 3,
   "metadata": {},
   "outputs": [],
   "source": [
    "import pandas as pd\n",
    "import torch\n",
    "import torch.nn as nn\n",
    "import torch.optim as optim"
   ]
  },
  {
   "cell_type": "code",
   "execution_count": null,
   "metadata": {},
   "outputs": [],
   "source": [
    "# these are threshold constants I found in literature which may be pretty good to start with\n",
    "PSG_REJECTION_THRESHOLD = .25\n",
    "ACTIGRAPHY_REJECTION_THRESHOLD = .25\n",
    "OFF_WRIST_DETECTION_MINUTES = 120\n",
    "EPOCH_LENGTH_SECONDS = 30\n",
    "off_wrist_epochs = OFF_WRIST_DETECTION_MINUTES * (60 / EPOCH_LENGTH_SECONDS)\n",
    "PRESTAGING_ACTIGRAPHY_HOURS = 4\n",
    "POSTSTAGING_ACTIGRAPHY_HOURS = 4"
   ]
  },
  {
   "cell_type": "code",
   "execution_count": null,
   "metadata": {},
   "outputs": [],
   "source": [
    "# data preprocessing (oof)\n",
    "# check for missing values and handle them\n",
    "data.fillna(method='ffill', inplace=True)\n",
    "\n",
    "# feature engineering \n",
    "# create a new feature for total activity?? maybe other ones\n",
    "data['total_activity'] = data['activity'].sum()\n",
    "\n",
    "# model selection and split dataset\n",
    "from sklearn.model_selection import train_test_split\n",
    "from sklearn.ensemble import RandomForestClassifier\n",
    "\n",
    "X = data[['total_activity']]  # add more features as needed\n",
    "y = data['sleep_wake_label']  # idk what the target variable is maybe we should switch after\n",
    "\n",
    "X_train, X_test, y_train, y_test = train_test_split(X, y, test_size=0.2, random_state=42)\n",
    "model = RandomForestClassifier()\n",
    "model.fit(X_train, y_train)"
   ]
  },
  {
   "cell_type": "code",
   "execution_count": null,
   "metadata": {},
   "outputs": [],
   "source": [
    "from sklearn.metrics import classification_report\n",
    "y_pred = model.predict(X_test)\n",
    "print(classification_report(y_test, y_pred))\n",
    "\n",
    "new_data = pd.DataFrame({'total_activity': [100, 200]}) # example only\n",
    "predictions = model.predict(new_data)\n",
    "print(predictions)"
   ]
  }
 ],
 "metadata": {
  "kernelspec": {
   "display_name": "base",
   "language": "python",
   "name": "python3"
  },
  "language_info": {
   "codemirror_mode": {
    "name": "ipython",
    "version": 3
   },
   "file_extension": ".py",
   "mimetype": "text/x-python",
   "name": "python",
   "nbconvert_exporter": "python",
   "pygments_lexer": "ipython3",
   "version": "3.11.5"
  }
 },
 "nbformat": 4,
 "nbformat_minor": 2
}
