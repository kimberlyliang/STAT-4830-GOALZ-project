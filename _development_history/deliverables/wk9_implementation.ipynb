{
  "nbformat": 4,
  "nbformat_minor": 0,
  "metadata": {
    "colab": {
      "provenance": [],
      "machine_shape": "hm",
      "gpuType": "A100"
    },
    "kernelspec": {
      "name": "python3",
      "display_name": "Python 3"
    },
    "language_info": {
      "name": "python"
    },
    "accelerator": "GPU",
    "widgets": {
      "application/vnd.jupyter.widget-state+json": {
        "b0bfef86a04844678ab96993a2f9c032": {
          "model_module": "@jupyter-widgets/controls",
          "model_name": "HBoxModel",
          "model_module_version": "1.5.0",
          "state": {
            "_dom_classes": [],
            "_model_module": "@jupyter-widgets/controls",
            "_model_module_version": "1.5.0",
            "_model_name": "HBoxModel",
            "_view_count": null,
            "_view_module": "@jupyter-widgets/controls",
            "_view_module_version": "1.5.0",
            "_view_name": "HBoxView",
            "box_style": "",
            "children": [
              "IPY_MODEL_c0168d47c9c94391a6b7873d7b4ef1a1",
              "IPY_MODEL_e7887c7d81824f0d8a6d52ecdf3011ae",
              "IPY_MODEL_5dcddecc939542178b3f865683cf254f"
            ],
            "layout": "IPY_MODEL_5d463e82d6e242539b8e9f5d49d32ad4"
          }
        },
        "c0168d47c9c94391a6b7873d7b4ef1a1": {
          "model_module": "@jupyter-widgets/controls",
          "model_name": "HTMLModel",
          "model_module_version": "1.5.0",
          "state": {
            "_dom_classes": [],
            "_model_module": "@jupyter-widgets/controls",
            "_model_module_version": "1.5.0",
            "_model_name": "HTMLModel",
            "_view_count": null,
            "_view_module": "@jupyter-widgets/controls",
            "_view_module_version": "1.5.0",
            "_view_name": "HTMLView",
            "description": "",
            "description_tooltip": null,
            "layout": "IPY_MODEL_c1a389167a954e939d1215c9931af27a",
            "placeholder": "​",
            "style": "IPY_MODEL_a80171c8b4824af6890aeb0d258ded9b",
            "value": "Training Epochs: 100%"
          }
        },
        "e7887c7d81824f0d8a6d52ecdf3011ae": {
          "model_module": "@jupyter-widgets/controls",
          "model_name": "FloatProgressModel",
          "model_module_version": "1.5.0",
          "state": {
            "_dom_classes": [],
            "_model_module": "@jupyter-widgets/controls",
            "_model_module_version": "1.5.0",
            "_model_name": "FloatProgressModel",
            "_view_count": null,
            "_view_module": "@jupyter-widgets/controls",
            "_view_module_version": "1.5.0",
            "_view_name": "ProgressView",
            "bar_style": "success",
            "description": "",
            "description_tooltip": null,
            "layout": "IPY_MODEL_145e1692e82f4f8bb312e559265f463b",
            "max": 20,
            "min": 0,
            "orientation": "horizontal",
            "style": "IPY_MODEL_ca2db5c37f8f4e8eb71446f83a4ec3bf",
            "value": 20
          }
        },
        "5dcddecc939542178b3f865683cf254f": {
          "model_module": "@jupyter-widgets/controls",
          "model_name": "HTMLModel",
          "model_module_version": "1.5.0",
          "state": {
            "_dom_classes": [],
            "_model_module": "@jupyter-widgets/controls",
            "_model_module_version": "1.5.0",
            "_model_name": "HTMLModel",
            "_view_count": null,
            "_view_module": "@jupyter-widgets/controls",
            "_view_module_version": "1.5.0",
            "_view_name": "HTMLView",
            "description": "",
            "description_tooltip": null,
            "layout": "IPY_MODEL_a518121784e84a088ad639c6c5ada87e",
            "placeholder": "​",
            "style": "IPY_MODEL_683cec05f86e49ac9b07f2c4799e1869",
            "value": " 20/20 [00:26&lt;00:00,  1.32s/it]"
          }
        },
        "5d463e82d6e242539b8e9f5d49d32ad4": {
          "model_module": "@jupyter-widgets/base",
          "model_name": "LayoutModel",
          "model_module_version": "1.2.0",
          "state": {
            "_model_module": "@jupyter-widgets/base",
            "_model_module_version": "1.2.0",
            "_model_name": "LayoutModel",
            "_view_count": null,
            "_view_module": "@jupyter-widgets/base",
            "_view_module_version": "1.2.0",
            "_view_name": "LayoutView",
            "align_content": null,
            "align_items": null,
            "align_self": null,
            "border": null,
            "bottom": null,
            "display": null,
            "flex": null,
            "flex_flow": null,
            "grid_area": null,
            "grid_auto_columns": null,
            "grid_auto_flow": null,
            "grid_auto_rows": null,
            "grid_column": null,
            "grid_gap": null,
            "grid_row": null,
            "grid_template_areas": null,
            "grid_template_columns": null,
            "grid_template_rows": null,
            "height": null,
            "justify_content": null,
            "justify_items": null,
            "left": null,
            "margin": null,
            "max_height": null,
            "max_width": null,
            "min_height": null,
            "min_width": null,
            "object_fit": null,
            "object_position": null,
            "order": null,
            "overflow": null,
            "overflow_x": null,
            "overflow_y": null,
            "padding": null,
            "right": null,
            "top": null,
            "visibility": null,
            "width": null
          }
        },
        "c1a389167a954e939d1215c9931af27a": {
          "model_module": "@jupyter-widgets/base",
          "model_name": "LayoutModel",
          "model_module_version": "1.2.0",
          "state": {
            "_model_module": "@jupyter-widgets/base",
            "_model_module_version": "1.2.0",
            "_model_name": "LayoutModel",
            "_view_count": null,
            "_view_module": "@jupyter-widgets/base",
            "_view_module_version": "1.2.0",
            "_view_name": "LayoutView",
            "align_content": null,
            "align_items": null,
            "align_self": null,
            "border": null,
            "bottom": null,
            "display": null,
            "flex": null,
            "flex_flow": null,
            "grid_area": null,
            "grid_auto_columns": null,
            "grid_auto_flow": null,
            "grid_auto_rows": null,
            "grid_column": null,
            "grid_gap": null,
            "grid_row": null,
            "grid_template_areas": null,
            "grid_template_columns": null,
            "grid_template_rows": null,
            "height": null,
            "justify_content": null,
            "justify_items": null,
            "left": null,
            "margin": null,
            "max_height": null,
            "max_width": null,
            "min_height": null,
            "min_width": null,
            "object_fit": null,
            "object_position": null,
            "order": null,
            "overflow": null,
            "overflow_x": null,
            "overflow_y": null,
            "padding": null,
            "right": null,
            "top": null,
            "visibility": null,
            "width": null
          }
        },
        "a80171c8b4824af6890aeb0d258ded9b": {
          "model_module": "@jupyter-widgets/controls",
          "model_name": "DescriptionStyleModel",
          "model_module_version": "1.5.0",
          "state": {
            "_model_module": "@jupyter-widgets/controls",
            "_model_module_version": "1.5.0",
            "_model_name": "DescriptionStyleModel",
            "_view_count": null,
            "_view_module": "@jupyter-widgets/base",
            "_view_module_version": "1.2.0",
            "_view_name": "StyleView",
            "description_width": ""
          }
        },
        "145e1692e82f4f8bb312e559265f463b": {
          "model_module": "@jupyter-widgets/base",
          "model_name": "LayoutModel",
          "model_module_version": "1.2.0",
          "state": {
            "_model_module": "@jupyter-widgets/base",
            "_model_module_version": "1.2.0",
            "_model_name": "LayoutModel",
            "_view_count": null,
            "_view_module": "@jupyter-widgets/base",
            "_view_module_version": "1.2.0",
            "_view_name": "LayoutView",
            "align_content": null,
            "align_items": null,
            "align_self": null,
            "border": null,
            "bottom": null,
            "display": null,
            "flex": null,
            "flex_flow": null,
            "grid_area": null,
            "grid_auto_columns": null,
            "grid_auto_flow": null,
            "grid_auto_rows": null,
            "grid_column": null,
            "grid_gap": null,
            "grid_row": null,
            "grid_template_areas": null,
            "grid_template_columns": null,
            "grid_template_rows": null,
            "height": null,
            "justify_content": null,
            "justify_items": null,
            "left": null,
            "margin": null,
            "max_height": null,
            "max_width": null,
            "min_height": null,
            "min_width": null,
            "object_fit": null,
            "object_position": null,
            "order": null,
            "overflow": null,
            "overflow_x": null,
            "overflow_y": null,
            "padding": null,
            "right": null,
            "top": null,
            "visibility": null,
            "width": null
          }
        },
        "ca2db5c37f8f4e8eb71446f83a4ec3bf": {
          "model_module": "@jupyter-widgets/controls",
          "model_name": "ProgressStyleModel",
          "model_module_version": "1.5.0",
          "state": {
            "_model_module": "@jupyter-widgets/controls",
            "_model_module_version": "1.5.0",
            "_model_name": "ProgressStyleModel",
            "_view_count": null,
            "_view_module": "@jupyter-widgets/base",
            "_view_module_version": "1.2.0",
            "_view_name": "StyleView",
            "bar_color": null,
            "description_width": ""
          }
        },
        "a518121784e84a088ad639c6c5ada87e": {
          "model_module": "@jupyter-widgets/base",
          "model_name": "LayoutModel",
          "model_module_version": "1.2.0",
          "state": {
            "_model_module": "@jupyter-widgets/base",
            "_model_module_version": "1.2.0",
            "_model_name": "LayoutModel",
            "_view_count": null,
            "_view_module": "@jupyter-widgets/base",
            "_view_module_version": "1.2.0",
            "_view_name": "LayoutView",
            "align_content": null,
            "align_items": null,
            "align_self": null,
            "border": null,
            "bottom": null,
            "display": null,
            "flex": null,
            "flex_flow": null,
            "grid_area": null,
            "grid_auto_columns": null,
            "grid_auto_flow": null,
            "grid_auto_rows": null,
            "grid_column": null,
            "grid_gap": null,
            "grid_row": null,
            "grid_template_areas": null,
            "grid_template_columns": null,
            "grid_template_rows": null,
            "height": null,
            "justify_content": null,
            "justify_items": null,
            "left": null,
            "margin": null,
            "max_height": null,
            "max_width": null,
            "min_height": null,
            "min_width": null,
            "object_fit": null,
            "object_position": null,
            "order": null,
            "overflow": null,
            "overflow_x": null,
            "overflow_y": null,
            "padding": null,
            "right": null,
            "top": null,
            "visibility": null,
            "width": null
          }
        },
        "683cec05f86e49ac9b07f2c4799e1869": {
          "model_module": "@jupyter-widgets/controls",
          "model_name": "DescriptionStyleModel",
          "model_module_version": "1.5.0",
          "state": {
            "_model_module": "@jupyter-widgets/controls",
            "_model_module_version": "1.5.0",
            "_model_name": "DescriptionStyleModel",
            "_view_count": null,
            "_view_module": "@jupyter-widgets/base",
            "_view_module_version": "1.2.0",
            "_view_name": "StyleView",
            "description_width": ""
          }
        }
      }
    }
  },
  "cells": [
    {
      "cell_type": "code",
      "execution_count": null,
      "metadata": {
        "id": "yVLiSsiKva-i"
      },
      "outputs": [],
      "source": [
        "import os, glob, numpy as np, torch, torch.nn as nn, torch.optim as optim\n",
        "from torch.utils.data import Dataset, DataLoader, random_split\n",
        "import matplotlib.pyplot as plt\n",
        "from sklearn.metrics import confusion_matrix, accuracy_score\n",
        "import itertools"
      ]
    },
    {
      "cell_type": "code",
      "source": [
        "from google.colab import drive\n",
        "drive.mount('/content/drive')"
      ],
      "metadata": {
        "colab": {
          "base_uri": "https://localhost:8080/"
        },
        "id": "rUeY4VwF1SUY",
        "outputId": "46d29143-7940-4975-bc86-1ca1a81d205f"
      },
      "execution_count": null,
      "outputs": [
        {
          "output_type": "stream",
          "name": "stdout",
          "text": [
            "Mounted at /content/drive\n"
          ]
        }
      ]
    },
    {
      "cell_type": "code",
      "source": [
        "from sklearn.metrics import (\n",
        "    accuracy_score,\n",
        "    confusion_matrix,\n",
        "    f1_score,\n",
        "    cohen_kappa_score,\n",
        "    classification_report\n",
        ")"
      ],
      "metadata": {
        "id": "Y4p_I4VIa_Lo"
      },
      "execution_count": null,
      "outputs": []
    },
    {
      "cell_type": "code",
      "source": [
        "DATA_DIR = '/content/drive/MyDrive/Stat483-GOALZ/sleepedf_processed'\n",
        "RESULT_DIR = '/content/drive/MyDrive/Stat483-GOALZ/sleepedf_results'\n",
        "os.makedirs(RESULT_DIR, exist_ok=True)"
      ],
      "metadata": {
        "id": "-BsDBS-YvvMB"
      },
      "execution_count": null,
      "outputs": []
    },
    {
      "cell_type": "code",
      "source": [
        "print(\"Files in directory:\", os.listdir(DATA_DIR))"
      ],
      "metadata": {
        "colab": {
          "base_uri": "https://localhost:8080/"
        },
        "id": "vJSFcLpW2iIy",
        "outputId": "36c3402d-9d12-482a-ca23-2e460995ee1a"
      },
      "execution_count": null,
      "outputs": [
        {
          "output_type": "stream",
          "name": "stdout",
          "text": [
            "Files in directory: ['ST7242J0_sequences.npz', 'ST7242J0_epochs.npz', 'ST7241J0_sequences.npz', 'ST7241J0_epochs.npz', 'ST7221J0_sequences.npz', 'ST7221J0_epochs.npz', 'ST7212J0_sequences.npz', 'ST7212J0_epochs.npz', 'ST7211J0_sequences.npz', 'ST7211J0_epochs.npz', 'ST7202J0_sequences.npz', 'ST7202J0_epochs.npz', 'ST7201J0_sequences.npz', 'ST7201J0_epochs.npz', 'ST7192J0_sequences.npz', 'ST7192J0_epochs.npz', 'ST7191J0_sequences.npz', 'ST7191J0_epochs.npz', 'ST7182J0_sequences.npz', 'ST7182J0_epochs.npz', 'ST7181J0_sequences.npz', 'ST7181J0_epochs.npz', 'ST7172J0_sequences.npz', 'ST7172J0_epochs.npz', 'ST7171J0_sequences.npz', 'ST7171J0_epochs.npz', 'ST7162J0_sequences.npz', 'ST7162J0_epochs.npz', 'ST7161J0_sequences.npz', 'ST7161J0_epochs.npz', 'ST7152J0_sequences.npz', 'ST7152J0_epochs.npz', 'ST7151J0_sequences.npz', 'ST7151J0_epochs.npz', 'ST7142J0_sequences.npz', 'ST7142J0_epochs.npz', 'ST7141J0_sequences.npz', 'ST7141J0_epochs.npz', 'ST7132J0_sequences.npz', 'ST7132J0_epochs.npz', 'ST7131J0_sequences.npz', 'ST7131J0_epochs.npz', 'ST7122J0_sequences.npz', 'ST7122J0_epochs.npz', 'ST7121J0_sequences.npz', 'ST7121J0_epochs.npz', 'ST7112J0_sequences.npz', 'ST7112J0_epochs.npz', 'ST7111J0_sequences.npz', 'ST7111J0_epochs.npz']\n"
          ]
        }
      ]
    },
    {
      "cell_type": "code",
      "source": [
        "BATCH_SIZE = 16\n",
        "NUM_EPOCHS = 20\n",
        "LEARNING_RATE = 1e-3\n",
        "TRAIN_VAL_SPLIT = 0.8\n",
        "DEVICE = torch.device(\"cuda\" if torch.cuda.is_available() else \"cpu\")"
      ],
      "metadata": {
        "id": "oT53zZbwvxZ_"
      },
      "execution_count": null,
      "outputs": []
    },
    {
      "cell_type": "code",
      "source": [
        "print(\"CUDA available:\", torch.cuda.is_available())"
      ],
      "metadata": {
        "colab": {
          "base_uri": "https://localhost:8080/"
        },
        "id": "dqle45iV4s_l",
        "outputId": "0eec45b3-f3f7-476f-9dc7-2ae17e809272"
      },
      "execution_count": null,
      "outputs": [
        {
          "output_type": "stream",
          "name": "stdout",
          "text": [
            "CUDA available: True\n"
          ]
        }
      ]
    },
    {
      "cell_type": "code",
      "source": [
        "EMBEDDING_DIM = 128   # Dimension of the CNN encoder output per epoch\n",
        "NUM_CLASSES = 5       # 0: Wake, 1: N1, 2: N2, 3: N3, 4: REM\n",
        "NUM_TRANSFORMER_LAYERS = 2\n",
        "NUM_HEADS = 4\n",
        "DROPOUT = 0.1\n",
        "SEQ_LENGTH = 20       # Number of epochs per sequence (must match preprocessing)"
      ],
      "metadata": {
        "id": "yY2kW6JBvz7o"
      },
      "execution_count": null,
      "outputs": []
    },
    {
      "cell_type": "code",
      "source": [
        "class SleepSequenceDataset(Dataset):\n",
        "    def __init__(self, data_dir):\n",
        "        # Find all NPZ files ending with _sequences.npz\n",
        "        self.files = glob.glob(os.path.join(data_dir, '*_sequences.npz'))\n",
        "        sequences_list = []\n",
        "        labels_list = []\n",
        "        for f in self.files:\n",
        "            loaded = np.load(f)\n",
        "            sequences_list.append(loaded['sequences'])  # shape: (n_seq, 20, 2, 3000)\n",
        "            labels_list.append(loaded['seq_labels'])      # shape: (n_seq, 20)\n",
        "        self.sequences = np.concatenate(sequences_list, axis=0)\n",
        "        self.seq_labels = np.concatenate(labels_list, axis=0)\n",
        "        self.sequences = torch.from_numpy(self.sequences).float()\n",
        "        self.seq_labels = torch.from_numpy(self.seq_labels).long()\n",
        "\n",
        "    def __len__(self):\n",
        "        return self.sequences.shape[0]\n",
        "\n",
        "    def __getitem__(self, idx):\n",
        "        return self.sequences[idx], self.seq_labels[idx]"
      ],
      "metadata": {
        "id": "NwT759n5v4Xp"
      },
      "execution_count": null,
      "outputs": []
    },
    {
      "cell_type": "code",
      "source": [
        "class EpochEncoder(nn.Module):\n",
        "    def __init__(self, embedding_dim):\n",
        "        super(EpochEncoder, self).__init__()\n",
        "        self.net = nn.Sequential(\n",
        "            nn.Conv1d(in_channels=2, out_channels=16, kernel_size=50, stride=6),\n",
        "            nn.ReLU(),\n",
        "            nn.MaxPool1d(kernel_size=8, stride=8),\n",
        "            nn.Conv1d(in_channels=16, out_channels=32, kernel_size=8, stride=2),\n",
        "            nn.ReLU(),\n",
        "            nn.MaxPool1d(kernel_size=4, stride=4)\n",
        "        )\n",
        "        #Passing dummy input to automatically calculate no. of features and avoid mismatch error\n",
        "        with torch.no_grad():\n",
        "            dummy_input = torch.zeros(1, 2, 3000)\n",
        "            dummy_output = self.net(dummy_input)\n",
        "            n_features = dummy_output.numel() // dummy_output.shape[0]  # Total features per sample\n",
        "        self.fc = nn.Linear(n_features, embedding_dim)\n",
        "        # The output dimension is computed approximately based on the input size 3000\n",
        "        #self.fc = nn.Linear(32 * (((3000 - 50) // 6 + 1) // 8 // 4), embedding_dim)\n",
        "\n",
        "    def forward(self, x):\n",
        "        # x: (batch, 2, 3000)\n",
        "        out = self.net(x)\n",
        "        out = out.view(out.size(0), -1)\n",
        "        embedding = self.fc(out)\n",
        "        return embedding"
      ],
      "metadata": {
        "id": "DVDcUplEv49-"
      },
      "execution_count": null,
      "outputs": []
    },
    {
      "cell_type": "code",
      "source": [
        "class SleepTransformer(nn.Module):\n",
        "    def __init__(self, embedding_dim, num_classes, num_layers, num_heads, dropout, seq_length):\n",
        "        super(SleepTransformer, self).__init__()\n",
        "        self.encoder = EpochEncoder(embedding_dim)\n",
        "        encoder_layer = nn.TransformerEncoderLayer(d_model=embedding_dim, nhead=num_heads, dropout=dropout)\n",
        "        self.transformer = nn.TransformerEncoder(encoder_layer, num_layers=num_layers)\n",
        "        self.classifier = nn.Linear(embedding_dim, num_classes)\n",
        "        self.seq_length = seq_length\n",
        "\n",
        "    def forward(self, x):\n",
        "        # x: (batch, seq_length, 2, 3000)\n",
        "        batch_size, seq_len = x.size(0), x.size(1)\n",
        "        x = x.view(-1, x.size(2), x.size(3))  # (batch*seq_length, 2, 3000)\n",
        "        epoch_emb = self.encoder(x)           # (batch*seq_length, embedding_dim)\n",
        "        epoch_emb = epoch_emb.view(batch_size, seq_len, -1)\n",
        "        epoch_emb = epoch_emb.transpose(0, 1)   # (seq_length, batch, embedding_dim)\n",
        "        transformer_out = self.transformer(epoch_emb)\n",
        "        transformer_out = transformer_out.transpose(0, 1)  # (batch, seq_length, embedding_dim)\n",
        "        logits = self.classifier(transformer_out)  # (batch, seq_length, num_classes)\n",
        "        return logits"
      ],
      "metadata": {
        "id": "CUpbinAmwBgT"
      },
      "execution_count": null,
      "outputs": []
    },
    {
      "cell_type": "code",
      "source": [
        "def train_epoch(model, dataloader, criterion, optimizer, device):\n",
        "    model.train()\n",
        "    running_loss = 0.0\n",
        "    all_preds = []\n",
        "    all_labels = []\n",
        "    for seq, labels in dataloader:\n",
        "        seq, labels = seq.to(device), labels.to(device)\n",
        "        optimizer.zero_grad()\n",
        "        logits = model(seq)  # (batch, seq_length, num_classes)\n",
        "        loss = criterion(logits.view(-1, NUM_CLASSES), labels.view(-1))\n",
        "        loss.backward()\n",
        "        optimizer.step()\n",
        "        running_loss += loss.item() * seq.size(0)\n",
        "        preds = torch.argmax(logits, dim=-1)\n",
        "        all_preds.append(preds.cpu().detach().numpy())\n",
        "        all_labels.append(labels.cpu().detach().numpy())\n",
        "    epoch_loss = running_loss / len(dataloader.dataset)\n",
        "    all_preds = np.concatenate(all_preds).flatten()\n",
        "    all_labels = np.concatenate(all_labels).flatten()\n",
        "    acc = accuracy_score(all_labels, all_preds)\n",
        "    return epoch_loss, acc"
      ],
      "metadata": {
        "id": "Weai9I38wEBt"
      },
      "execution_count": null,
      "outputs": []
    },
    {
      "cell_type": "code",
      "source": [
        "import torch.nn.functional as F\n",
        "\n",
        "def eval_epoch(model, dataloader, criterion, device):\n",
        "    model.eval()\n",
        "    running_loss = 0.0\n",
        "    all_preds = []\n",
        "    all_labels = []\n",
        "    all_probs = []  # <--- store probabilities for ROC\n",
        "\n",
        "    with torch.no_grad():\n",
        "        for seq, labels in dataloader:\n",
        "            seq, labels = seq.to(device), labels.to(device)\n",
        "            logits = model(seq)  # shape: (batch, seq_length, NUM_CLASSES)\n",
        "\n",
        "            # Compute loss\n",
        "            loss = criterion(logits.view(-1, NUM_CLASSES), labels.view(-1))\n",
        "            running_loss += loss.item() * seq.size(0)\n",
        "\n",
        "            # Predicted classes\n",
        "            preds = torch.argmax(logits, dim=-1)\n",
        "            all_preds.append(preds.cpu().numpy())\n",
        "            all_labels.append(labels.cpu().numpy())\n",
        "\n",
        "            # Softmax probabilities for ROC\n",
        "            probs = F.softmax(logits, dim=-1)  # shape: (batch, seq_length, NUM_CLASSES)\n",
        "            all_probs.append(probs.cpu().numpy())\n",
        "\n",
        "    # Convert lists to NumPy arrays\n",
        "    epoch_loss = running_loss / len(dataloader.dataset)\n",
        "    all_preds = np.concatenate(all_preds).ravel()    # shape: (N,)\n",
        "    all_labels = np.concatenate(all_labels).ravel()  # shape: (N,)\n",
        "\n",
        "    # Flatten probabilities to shape (N, NUM_CLASSES)\n",
        "    all_probs = np.concatenate(all_probs, axis=0).reshape(-1, NUM_CLASSES)\n",
        "\n",
        "    acc = accuracy_score(all_labels, all_preds)\n",
        "\n",
        "    # Now we return 5 items, including val_probs\n",
        "    return epoch_loss, acc, all_preds, all_labels, all_probs\n"
      ],
      "metadata": {
        "id": "LGX4FkLRwHLb"
      },
      "execution_count": null,
      "outputs": []
    },
    {
      "cell_type": "code",
      "source": [
        "def plot_curves(train_losses, val_losses, train_accs, val_accs):\n",
        "    epochs = range(1, len(train_losses)+1)\n",
        "    plt.figure(figsize=(12,5))\n",
        "    plt.subplot(1,2,1)\n",
        "    plt.plot(epochs, train_losses, label='Train Loss')\n",
        "    plt.plot(epochs, val_losses, label='Val Loss')\n",
        "    plt.xlabel('Epoch')\n",
        "    plt.ylabel('Loss')\n",
        "    plt.legend()\n",
        "    plt.subplot(1,2,2)\n",
        "    plt.plot(epochs, train_accs, label='Train Acc')\n",
        "    plt.plot(epochs, val_accs, label='Val Acc')\n",
        "    plt.xlabel('Epoch')\n",
        "    plt.ylabel('Accuracy')\n",
        "    plt.legend()\n",
        "    plt.show()"
      ],
      "metadata": {
        "id": "mwT8mFARwOVl"
      },
      "execution_count": null,
      "outputs": []
    },
    {
      "cell_type": "code",
      "source": [
        "def plot_confusion(all_labels, all_preds):\n",
        "    cm = confusion_matrix(all_labels, all_preds)\n",
        "    plt.figure(figsize=(6,6))\n",
        "    plt.imshow(cm, interpolation='nearest', cmap=plt.cm.Blues)\n",
        "    plt.title(\"Confusion Matrix\")\n",
        "    plt.colorbar()\n",
        "    classes = ['W', 'N1', 'N2', 'N3', 'R']\n",
        "    tick_marks = np.arange(len(classes))\n",
        "    plt.xticks(tick_marks, classes)\n",
        "    plt.yticks(tick_marks, classes)\n",
        "    thresh = cm.max() / 2.\n",
        "    for i, j in itertools.product(range(cm.shape[0]), range(cm.shape[1])):\n",
        "        plt.text(j, i, format(cm[i, j], 'd'),\n",
        "                 horizontalalignment=\"center\",\n",
        "                 color=\"white\" if cm[i, j] > thresh else \"black\")\n",
        "    plt.ylabel('True label')\n",
        "    plt.xlabel('Predicted label')\n",
        "    plt.tight_layout()\n",
        "    plt.show()"
      ],
      "metadata": {
        "id": "i_iAwS9XwP8Y"
      },
      "execution_count": null,
      "outputs": []
    },
    {
      "cell_type": "code",
      "source": [
        "from sklearn.metrics import confusion_matrix, accuracy_score"
      ],
      "metadata": {
        "id": "lM99BAeZwRnf"
      },
      "execution_count": null,
      "outputs": []
    },
    {
      "cell_type": "code",
      "source": [
        "from tqdm.notebook import tqdm"
      ],
      "metadata": {
        "id": "be9O2ifp52Fa"
      },
      "execution_count": null,
      "outputs": []
    },
    {
      "cell_type": "code",
      "source": [
        "def compute_metrics(y_true, y_pred, class_names=None):\n",
        "    \"\"\"\n",
        "    Compute and print various classification metrics.\n",
        "    y_true, y_pred: 1D numpy arrays of integer class labels.\n",
        "    class_names: Optional list of class names (e.g. [\"W\", \"N1\", \"N2\", \"N3\", \"REM\"]).\n",
        "    \"\"\"\n",
        "    # Overall accuracy\n",
        "    acc = accuracy_score(y_true, y_pred)\n",
        "\n",
        "    # F1 scores\n",
        "    f1_macro = f1_score(y_true, y_pred, average='macro')\n",
        "    f1_per_class = f1_score(y_true, y_pred, average=None)\n",
        "\n",
        "    # Cohen’s Kappa\n",
        "    kappa = cohen_kappa_score(y_true, y_pred)\n",
        "\n",
        "    # Confusion matrix\n",
        "    cm = confusion_matrix(y_true, y_pred)\n",
        "\n",
        "    # Sensitivity & Specificity per class\n",
        "    # (Note: \"sensitivity\" is the same as \"recall\" for that class)\n",
        "    #        \"specificity\" = TN / (TN + FP)\n",
        "    # We can compute them from the confusion matrix:\n",
        "    #    TP = cm[i, i]\n",
        "    #    FN = sum(cm[i, :]) - cm[i, i]\n",
        "    #    FP = sum(cm[:, i]) - cm[i, i]\n",
        "    #    TN = total_sum - (TP + FN + FP)\n",
        "    total_sum = cm.sum()\n",
        "    per_class_sens = []\n",
        "    per_class_spec = []\n",
        "    for i in range(cm.shape[0]):\n",
        "        TP = cm[i, i]\n",
        "        FN = cm[i, :].sum() - TP\n",
        "        FP = cm[:, i].sum() - TP\n",
        "        TN = total_sum - (TP + FN + FP)\n",
        "\n",
        "        sensitivity = TP / (TP + FN + 1e-9)\n",
        "        specificity = TN / (TN + FP + 1e-9)\n",
        "        per_class_sens.append(sensitivity)\n",
        "        per_class_spec.append(specificity)\n",
        "\n",
        "    # Print classification report\n",
        "    # This automatically shows precision, recall, F1, and support for each class\n",
        "    if class_names is not None:\n",
        "        print(\"\\nClassification Report:\")\n",
        "        print(classification_report(y_true, y_pred, target_names=class_names, digits=4))\n",
        "    else:\n",
        "        print(\"\\nClassification Report:\")\n",
        "        print(classification_report(y_true, y_pred, digits=4))\n",
        "\n",
        "    # Organize everything in a dictionary\n",
        "    metrics_dict = {\n",
        "        'Accuracy': acc,\n",
        "        'Macro_F1': f1_macro,\n",
        "        'F1_per_class': f1_per_class,\n",
        "        'Cohen_Kappa': kappa,\n",
        "        'Sensitivity_per_class': per_class_sens,\n",
        "        'Specificity_per_class': per_class_spec\n",
        "    }\n",
        "    return metrics_dict\n"
      ],
      "metadata": {
        "id": "0qdXs-PpbRTh"
      },
      "execution_count": null,
      "outputs": []
    },
    {
      "cell_type": "code",
      "source": [
        "from sklearn.preprocessing import label_binarize\n",
        "from sklearn.metrics import roc_curve, auc\n",
        "\n",
        "def plot_roc_curves(y_true, y_score, class_names=None):\n",
        "    \"\"\"\n",
        "    Plot one-vs-rest ROC curves for each class in a multi-class setting.\n",
        "\n",
        "    Parameters:\n",
        "    -----------\n",
        "    y_true : 1D array-like of shape (N,)\n",
        "        Ground truth integer labels (0..num_classes-1).\n",
        "    y_score : 2D array-like of shape (N, num_classes)\n",
        "        Predicted probabilities for each class (softmax output).\n",
        "    class_names : list of str, optional\n",
        "        Class names to display in the legend. Must have length == num_classes.\n",
        "    \"\"\"\n",
        "    n_classes = y_score.shape[1]\n",
        "\n",
        "    # Binarize the labels for a one-vs-rest ROC\n",
        "    # e.g. [0,2,1,...] -> [[1,0,0,0,0], [0,0,1,0,0], [0,1,0,0,0], ...]\n",
        "    y_true_bin = label_binarize(y_true, classes=range(n_classes))\n",
        "\n",
        "    fpr = {}\n",
        "    tpr = {}\n",
        "    roc_auc = {}\n",
        "\n",
        "    # Compute ROC curve and AUC for each class\n",
        "    for i in range(n_classes):\n",
        "        fpr[i], tpr[i], _ = roc_curve(y_true_bin[:, i], y_score[:, i])\n",
        "        roc_auc[i] = auc(fpr[i], tpr[i])\n",
        "\n",
        "    # Plot all ROC curves\n",
        "    plt.figure(figsize=(7,7))\n",
        "    colors = ['blue', 'red', 'green', 'purple', 'orange', 'cyan', 'darkgreen']\n",
        "    for i in range(n_classes):\n",
        "        if class_names and i < len(class_names):\n",
        "            label_str = f\"{class_names[i]} (AUC = {roc_auc[i]:.2f})\"\n",
        "        else:\n",
        "            label_str = f\"Class {i} (AUC = {roc_auc[i]:.2f})\"\n",
        "        plt.plot(fpr[i], tpr[i], color=colors[i % len(colors)], lw=2, label=label_str)\n",
        "\n",
        "    # Plot a random guess line\n",
        "    plt.plot([0, 1], [0, 1], 'k--', lw=2)\n",
        "    plt.xlim([0.0, 1.0])\n",
        "    plt.ylim([0.0, 1.05])\n",
        "    plt.xlabel('False Positive Rate')\n",
        "    plt.ylabel('True Positive Rate')\n",
        "    plt.title('ROC Curves per Class')\n",
        "    plt.legend(loc=\"lower right\")\n",
        "    plt.show()"
      ],
      "metadata": {
        "id": "010qrwWKcOA_"
      },
      "execution_count": null,
      "outputs": []
    },
    {
      "cell_type": "code",
      "source": [
        "\n",
        "# Load dataset from processed sequence NPZ files\n",
        "dataset = SleepSequenceDataset(DATA_DIR)\n",
        "total_len = len(dataset)\n",
        "train_len = int(TRAIN_VAL_SPLIT * total_len)\n",
        "val_len = total_len - train_len\n",
        "train_dataset, val_dataset = random_split(dataset, [train_len, val_len])\n",
        "train_loader = DataLoader(train_dataset, batch_size=BATCH_SIZE, shuffle=True)\n",
        "val_loader = DataLoader(val_dataset, batch_size=BATCH_SIZE, shuffle=False)\n",
        "\n",
        "model = SleepTransformer(EMBEDDING_DIM, NUM_CLASSES, NUM_TRANSFORMER_LAYERS, NUM_HEADS, DROPOUT, SEQ_LENGTH)\n",
        "model.to(DEVICE)\n",
        "criterion = nn.CrossEntropyLoss()\n",
        "optimizer = optim.Adam(model.parameters(), lr=LEARNING_RATE)\n",
        "\n",
        "train_losses, val_losses = [], []\n",
        "train_accs, val_accs = [], []\n",
        "\n",
        "for epoch in tqdm(range(1, NUM_EPOCHS+1), desc=\"Training Epochs\"):\n",
        "    train_loss, train_acc = train_epoch(model, train_loader, criterion, optimizer, DEVICE)\n",
        "    val_loss, val_acc, val_preds, val_labels, _ = eval_epoch(model, val_loader, criterion, DEVICE)\n",
        "    train_losses.append(train_loss)\n",
        "    val_losses.append(val_loss)\n",
        "    train_accs.append(train_acc)\n",
        "    val_accs.append(val_acc)\n",
        "    print(f\"Epoch {epoch}/{NUM_EPOCHS}: Train Loss={train_loss:.4f}, Train Acc={train_acc:.4f}, Val Loss={val_loss:.4f}, Val Acc={val_acc:.4f}\")\n",
        "\n",
        "plot_curves(train_losses, val_losses, train_accs, val_accs)\n",
        "_, _, val_preds, val_labels, _ = eval_epoch(model, val_loader, criterion, DEVICE)\n",
        "plot_confusion(val_labels, val_preds)\n",
        "\n",
        "    # Save the model checkpoint in RESULT_DIR\n",
        "    #torch.save(model.state_dict(), os.path.join(RESULT_DIR, 'sleep_transformer_model.pth'))"
      ],
      "metadata": {
        "id": "KEjycEGMwWZk",
        "colab": {
          "base_uri": "https://localhost:8080/",
          "height": 1000,
          "referenced_widgets": [
            "b0bfef86a04844678ab96993a2f9c032",
            "c0168d47c9c94391a6b7873d7b4ef1a1",
            "e7887c7d81824f0d8a6d52ecdf3011ae",
            "5dcddecc939542178b3f865683cf254f",
            "5d463e82d6e242539b8e9f5d49d32ad4",
            "c1a389167a954e939d1215c9931af27a",
            "a80171c8b4824af6890aeb0d258ded9b",
            "145e1692e82f4f8bb312e559265f463b",
            "ca2db5c37f8f4e8eb71446f83a4ec3bf",
            "a518121784e84a088ad639c6c5ada87e",
            "683cec05f86e49ac9b07f2c4799e1869"
          ]
        },
        "outputId": "53563e03-5c38-4b85-e2c2-6ab82e4ceac2"
      },
      "execution_count": null,
      "outputs": [
        {
          "output_type": "stream",
          "name": "stderr",
          "text": [
            "/usr/local/lib/python3.11/dist-packages/torch/nn/modules/transformer.py:385: UserWarning: enable_nested_tensor is True, but self.use_nested_tensor is False because encoder_layer.self_attn.batch_first was not True(use batch_first for better inference performance)\n",
            "  warnings.warn(\n"
          ]
        },
        {
          "output_type": "display_data",
          "data": {
            "text/plain": [
              "Training Epochs:   0%|          | 0/20 [00:00<?, ?it/s]"
            ],
            "application/vnd.jupyter.widget-view+json": {
              "version_major": 2,
              "version_minor": 0,
              "model_id": "b0bfef86a04844678ab96993a2f9c032"
            }
          },
          "metadata": {}
        },
        {
          "output_type": "stream",
          "name": "stdout",
          "text": [
            "Epoch 1/20: Train Loss=1.1063, Train Acc=0.5677, Val Loss=0.7722, Val Acc=0.7076\n",
            "Epoch 2/20: Train Loss=0.7377, Train Acc=0.7180, Val Loss=0.6939, Val Acc=0.7583\n",
            "Epoch 3/20: Train Loss=0.6680, Train Acc=0.7509, Val Loss=0.5846, Val Acc=0.7823\n",
            "Epoch 4/20: Train Loss=0.5941, Train Acc=0.7800, Val Loss=0.6797, Val Acc=0.7382\n",
            "Epoch 5/20: Train Loss=0.5672, Train Acc=0.7890, Val Loss=0.5107, Val Acc=0.8197\n",
            "Epoch 6/20: Train Loss=0.5006, Train Acc=0.8105, Val Loss=0.5959, Val Acc=0.7765\n",
            "Epoch 7/20: Train Loss=0.4978, Train Acc=0.8123, Val Loss=0.4568, Val Acc=0.8270\n",
            "Epoch 8/20: Train Loss=0.4389, Train Acc=0.8281, Val Loss=0.4384, Val Acc=0.8352\n",
            "Epoch 9/20: Train Loss=0.4564, Train Acc=0.8266, Val Loss=0.4677, Val Acc=0.8262\n",
            "Epoch 10/20: Train Loss=0.4080, Train Acc=0.8431, Val Loss=0.4707, Val Acc=0.8270\n",
            "Epoch 11/20: Train Loss=0.3757, Train Acc=0.8530, Val Loss=0.4417, Val Acc=0.8354\n",
            "Epoch 12/20: Train Loss=0.3737, Train Acc=0.8531, Val Loss=0.4435, Val Acc=0.8330\n",
            "Epoch 13/20: Train Loss=0.3572, Train Acc=0.8610, Val Loss=0.4224, Val Acc=0.8371\n",
            "Epoch 14/20: Train Loss=0.3643, Train Acc=0.8582, Val Loss=0.4075, Val Acc=0.8463\n",
            "Epoch 15/20: Train Loss=0.3228, Train Acc=0.8755, Val Loss=0.3816, Val Acc=0.8566\n",
            "Epoch 16/20: Train Loss=0.3235, Train Acc=0.8744, Val Loss=0.4045, Val Acc=0.8516\n",
            "Epoch 17/20: Train Loss=0.2899, Train Acc=0.8876, Val Loss=0.4693, Val Acc=0.8299\n",
            "Epoch 18/20: Train Loss=0.3062, Train Acc=0.8785, Val Loss=0.4271, Val Acc=0.8501\n",
            "Epoch 19/20: Train Loss=0.2779, Train Acc=0.8895, Val Loss=0.3709, Val Acc=0.8678\n",
            "Epoch 20/20: Train Loss=0.2754, Train Acc=0.8905, Val Loss=0.3797, Val Acc=0.8621\n"
          ]
        },
        {
          "output_type": "display_data",
          "data": {
            "text/plain": [
              "<Figure size 1200x500 with 2 Axes>"
            ],
            "image/png": "[encoded data removed]"
          },
          "metadata": {}
        },
        {
          "output_type": "display_data",
          "data": {
            "text/plain": [
              "<Figure size 600x600 with 2 Axes>"
            ],
            "image/png": "[encoded data removed]"
          },
          "metadata": {}
        }
      ]
    },
    {
      "cell_type": "code",
      "source": [
        "_, _, val_preds, val_labels, _ = eval_epoch(model, val_loader, criterion, DEVICE)\n",
        "metrics_dict = compute_metrics(val_labels, val_preds, class_names=[\"W\",\"N1\",\"N2\",\"N3\",\"REM\"])\n",
        "print(metrics_dict)"
      ],
      "metadata": {
        "colab": {
          "base_uri": "https://localhost:8080/"
        },
        "id": "7HlE4jlPbSkA",
        "outputId": "595527f8-31b6-4ec9-a6a1-79618f52e6f2"
      },
      "execution_count": null,
      "outputs": [
        {
          "output_type": "stream",
          "name": "stdout",
          "text": [
            "\n",
            "Classification Report:\n",
            "              precision    recall  f1-score   support\n",
            "\n",
            "           W     0.8338    0.8234    0.8286       719\n",
            "          N1     0.6689    0.5601    0.6097       707\n",
            "          N2     0.8712    0.9258    0.8977      4704\n",
            "          N3     0.8672    0.8389    0.8528      1440\n",
            "         REM     0.9082    0.8492    0.8777      1910\n",
            "\n",
            "    accuracy                         0.8621      9480\n",
            "   macro avg     0.8299    0.7995    0.8133      9480\n",
            "weighted avg     0.8601    0.8621    0.8601      9480\n",
            "\n",
            "{'Accuracy': 0.8621308016877637, 'Macro_F1': 0.8132847122379451, 'F1_per_class': array([0.82855143, 0.60969977, 0.89766052, 0.85280621, 0.87770563]), 'Cohen_Kappa': np.float64(0.7935245927728375), 'Sensitivity_per_class': [np.float64(0.8233657858124849), np.float64(0.5601131541717679), np.float64(0.9258078231290549), np.float64(0.8388888888883064), np.float64(0.8492146596854193)], 'Specificity_per_class': [np.float64(0.9865312178973876), np.float64(0.9776587256353609), np.float64(0.8651591289780433), np.float64(0.9769900497511222), np.float64(0.9783355350064757)]}\n"
          ]
        }
      ]
    },
    {
      "cell_type": "code",
      "source": [
        "val_loss, val_acc, val_preds, val_labels, val_probs = eval_epoch(\n",
        "    model, val_loader, criterion, DEVICE\n",
        ")\n",
        "\n",
        "plot_roc_curves(val_labels, val_probs, class_names=[\"W\",\"N1\",\"N2\",\"N3\",\"REM\"])"
      ],
      "metadata": {
        "colab": {
          "base_uri": "https://localhost:8080/",
          "height": 641
        },
        "id": "Qm7IIWTwcFmc",
        "outputId": "9cc40f6c-21c4-43b3-835d-302d519ec808"
      },
      "execution_count": null,
      "outputs": [
        {
          "output_type": "display_data",
          "data": {
            "text/plain": [
              "<Figure size 700x700 with 1 Axes>"
            ],
            "image/png": "[encoded data removed]"
          },
          "metadata": {}
        }
      ]
    }
  ]
}