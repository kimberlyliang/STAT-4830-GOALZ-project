{
  "nbformat": 4,
  "nbformat_minor": 0,
  "metadata": {
    "colab": {
      "provenance": [],
      "machine_shape": "hm",
      "gpuType": "A100"
    },
    "kernelspec": {
      "name": "python3",
      "display_name": "Python 3"
    },
    "language_info": {
      "name": "python"
    },
    "accelerator": "GPU",
    "widgets": {
      "application/vnd.jupyter.widget-state+json": {
        "b92673ee6063485db33d3fcb3b5b43ec": {
          "model_module": "@jupyter-widgets/controls",
          "model_name": "HBoxModel",
          "model_module_version": "1.5.0",
          "state": {
            "_dom_classes": [],
            "_model_module": "@jupyter-widgets/controls",
            "_model_module_version": "1.5.0",
            "_model_name": "HBoxModel",
            "_view_count": null,
            "_view_module": "@jupyter-widgets/controls",
            "_view_module_version": "1.5.0",
            "_view_name": "HBoxView",
            "box_style": "",
            "children": [
              "IPY_MODEL_aa10616c60014b5c945b9962a39257ca",
              "IPY_MODEL_5d8cdf32545d45999b8ca1f2ca927504",
              "IPY_MODEL_a6a69767965845c88ea54e781f4b0783"
            ],
            "layout": "IPY_MODEL_4ed7b874ca6e45e78479be002a445b8b"
          }
        },
        "aa10616c60014b5c945b9962a39257ca": {
          "model_module": "@jupyter-widgets/controls",
          "model_name": "HTMLModel",
          "model_module_version": "1.5.0",
          "state": {
            "_dom_classes": [],
            "_model_module": "@jupyter-widgets/controls",
            "_model_module_version": "1.5.0",
            "_model_name": "HTMLModel",
            "_view_count": null,
            "_view_module": "@jupyter-widgets/controls",
            "_view_module_version": "1.5.0",
            "_view_name": "HTMLView",
            "description": "",
            "description_tooltip": null,
            "layout": "IPY_MODEL_00b24f654386479b8313cc5c133b7c0a",
            "placeholder": "​",
            "style": "IPY_MODEL_f58736f19a214d069f55b43422485a3b",
            "value": "Training Epochs:   0%"
          }
        },
        "5d8cdf32545d45999b8ca1f2ca927504": {
          "model_module": "@jupyter-widgets/controls",
          "model_name": "FloatProgressModel",
          "model_module_version": "1.5.0",
          "state": {
            "_dom_classes": [],
            "_model_module": "@jupyter-widgets/controls",
            "_model_module_version": "1.5.0",
            "_model_name": "FloatProgressModel",
            "_view_count": null,
            "_view_module": "@jupyter-widgets/controls",
            "_view_module_version": "1.5.0",
            "_view_name": "ProgressView",
            "bar_style": "",
            "description": "",
            "description_tooltip": null,
            "layout": "IPY_MODEL_4bef133168bf43bc9413e5d9cc200f68",
            "max": 20,
            "min": 0,
            "orientation": "horizontal",
            "style": "IPY_MODEL_bfc9acff8ea0407f973c496eda259b48",
            "value": 0
          }
        },
        "a6a69767965845c88ea54e781f4b0783": {
          "model_module": "@jupyter-widgets/controls",
          "model_name": "HTMLModel",
          "model_module_version": "1.5.0",
          "state": {
            "_dom_classes": [],
            "_model_module": "@jupyter-widgets/controls",
            "_model_module_version": "1.5.0",
            "_model_name": "HTMLModel",
            "_view_count": null,
            "_view_module": "@jupyter-widgets/controls",
            "_view_module_version": "1.5.0",
            "_view_name": "HTMLView",
            "description": "",
            "description_tooltip": null,
            "layout": "IPY_MODEL_36bb4ce456a745819f268e9192ca67fa",
            "placeholder": "​",
            "style": "IPY_MODEL_1e4f6b3621434eaca87a63a222157f7e",
            "value": " 0/20 [00:00&lt;?, ?it/s]"
          }
        },
        "4ed7b874ca6e45e78479be002a445b8b": {
          "model_module": "@jupyter-widgets/base",
          "model_name": "LayoutModel",
          "model_module_version": "1.2.0",
          "state": {
            "_model_module": "@jupyter-widgets/base",
            "_model_module_version": "1.2.0",
            "_model_name": "LayoutModel",
            "_view_count": null,
            "_view_module": "@jupyter-widgets/base",
            "_view_module_version": "1.2.0",
            "_view_name": "LayoutView",
            "align_content": null,
            "align_items": null,
            "align_self": null,
            "border": null,
            "bottom": null,
            "display": null,
            "flex": null,
            "flex_flow": null,
            "grid_area": null,
            "grid_auto_columns": null,
            "grid_auto_flow": null,
            "grid_auto_rows": null,
            "grid_column": null,
            "grid_gap": null,
            "grid_row": null,
            "grid_template_areas": null,
            "grid_template_columns": null,
            "grid_template_rows": null,
            "height": null,
            "justify_content": null,
            "justify_items": null,
            "left": null,
            "margin": null,
            "max_height": null,
            "max_width": null,
            "min_height": null,
            "min_width": null,
            "object_fit": null,
            "object_position": null,
            "order": null,
            "overflow": null,
            "overflow_x": null,
            "overflow_y": null,
            "padding": null,
            "right": null,
            "top": null,
            "visibility": null,
            "width": null
          }
        },
        "00b24f654386479b8313cc5c133b7c0a": {
          "model_module": "@jupyter-widgets/base",
          "model_name": "LayoutModel",
          "model_module_version": "1.2.0",
          "state": {
            "_model_module": "@jupyter-widgets/base",
            "_model_module_version": "1.2.0",
            "_model_name": "LayoutModel",
            "_view_count": null,
            "_view_module": "@jupyter-widgets/base",
            "_view_module_version": "1.2.0",
            "_view_name": "LayoutView",
            "align_content": null,
            "align_items": null,
            "align_self": null,
            "border": null,
            "bottom": null,
            "display": null,
            "flex": null,
            "flex_flow": null,
            "grid_area": null,
            "grid_auto_columns": null,
            "grid_auto_flow": null,
            "grid_auto_rows": null,
            "grid_column": null,
            "grid_gap": null,
            "grid_row": null,
            "grid_template_areas": null,
            "grid_template_columns": null,
            "grid_template_rows": null,
            "height": null,
            "justify_content": null,
            "justify_items": null,
            "left": null,
            "margin": null,
            "max_height": null,
            "max_width": null,
            "min_height": null,
            "min_width": null,
            "object_fit": null,
            "object_position": null,
            "order": null,
            "overflow": null,
            "overflow_x": null,
            "overflow_y": null,
            "padding": null,
            "right": null,
            "top": null,
            "visibility": null,
            "width": null
          }
        },
        "f58736f19a214d069f55b43422485a3b": {
          "model_module": "@jupyter-widgets/controls",
          "model_name": "DescriptionStyleModel",
          "model_module_version": "1.5.0",
          "state": {
            "_model_module": "@jupyter-widgets/controls",
            "_model_module_version": "1.5.0",
            "_model_name": "DescriptionStyleModel",
            "_view_count": null,
            "_view_module": "@jupyter-widgets/base",
            "_view_module_version": "1.2.0",
            "_view_name": "StyleView",
            "description_width": ""
          }
        },
        "4bef133168bf43bc9413e5d9cc200f68": {
          "model_module": "@jupyter-widgets/base",
          "model_name": "LayoutModel",
          "model_module_version": "1.2.0",
          "state": {
            "_model_module": "@jupyter-widgets/base",
            "_model_module_version": "1.2.0",
            "_model_name": "LayoutModel",
            "_view_count": null,
            "_view_module": "@jupyter-widgets/base",
            "_view_module_version": "1.2.0",
            "_view_name": "LayoutView",
            "align_content": null,
            "align_items": null,
            "align_self": null,
            "border": null,
            "bottom": null,
            "display": null,
            "flex": null,
            "flex_flow": null,
            "grid_area": null,
            "grid_auto_columns": null,
            "grid_auto_flow": null,
            "grid_auto_rows": null,
            "grid_column": null,
            "grid_gap": null,
            "grid_row": null,
            "grid_template_areas": null,
            "grid_template_columns": null,
            "grid_template_rows": null,
            "height": null,
            "justify_content": null,
            "justify_items": null,
            "left": null,
            "margin": null,
            "max_height": null,
            "max_width": null,
            "min_height": null,
            "min_width": null,
            "object_fit": null,
            "object_position": null,
            "order": null,
            "overflow": null,
            "overflow_x": null,
            "overflow_y": null,
            "padding": null,
            "right": null,
            "top": null,
            "visibility": null,
            "width": null
          }
        },
        "bfc9acff8ea0407f973c496eda259b48": {
          "model_module": "@jupyter-widgets/controls",
          "model_name": "ProgressStyleModel",
          "model_module_version": "1.5.0",
          "state": {
            "_model_module": "@jupyter-widgets/controls",
            "_model_module_version": "1.5.0",
            "_model_name": "ProgressStyleModel",
            "_view_count": null,
            "_view_module": "@jupyter-widgets/base",
            "_view_module_version": "1.2.0",
            "_view_name": "StyleView",
            "bar_color": null,
            "description_width": ""
          }
        },
        "36bb4ce456a745819f268e9192ca67fa": {
          "model_module": "@jupyter-widgets/base",
          "model_name": "LayoutModel",
          "model_module_version": "1.2.0",
          "state": {
            "_model_module": "@jupyter-widgets/base",
            "_model_module_version": "1.2.0",
            "_model_name": "LayoutModel",
            "_view_count": null,
            "_view_module": "@jupyter-widgets/base",
            "_view_module_version": "1.2.0",
            "_view_name": "LayoutView",
            "align_content": null,
            "align_items": null,
            "align_self": null,
            "border": null,
            "bottom": null,
            "display": null,
            "flex": null,
            "flex_flow": null,
            "grid_area": null,
            "grid_auto_columns": null,
            "grid_auto_flow": null,
            "grid_auto_rows": null,
            "grid_column": null,
            "grid_gap": null,
            "grid_row": null,
            "grid_template_areas": null,
            "grid_template_columns": null,
            "grid_template_rows": null,
            "height": null,
            "justify_content": null,
            "justify_items": null,
            "left": null,
            "margin": null,
            "max_height": null,
            "max_width": null,
            "min_height": null,
            "min_width": null,
            "object_fit": null,
            "object_position": null,
            "order": null,
            "overflow": null,
            "overflow_x": null,
            "overflow_y": null,
            "padding": null,
            "right": null,
            "top": null,
            "visibility": null,
            "width": null
          }
        },
        "1e4f6b3621434eaca87a63a222157f7e": {
          "model_module": "@jupyter-widgets/controls",
          "model_name": "DescriptionStyleModel",
          "model_module_version": "1.5.0",
          "state": {
            "_model_module": "@jupyter-widgets/controls",
            "_model_module_version": "1.5.0",
            "_model_name": "DescriptionStyleModel",
            "_view_count": null,
            "_view_module": "@jupyter-widgets/base",
            "_view_module_version": "1.2.0",
            "_view_name": "StyleView",
            "description_width": ""
          }
        }
      }
    }
  },
  "cells": [
    {
      "cell_type": "code",
      "execution_count": 1,
      "metadata": {
        "id": "yVLiSsiKva-i"
      },
      "outputs": [],
      "source": [
        "import os, glob, numpy as np, torch, torch.nn as nn, torch.optim as optim\n",
        "from torch.utils.data import Dataset, DataLoader, random_split\n",
        "import matplotlib.pyplot as plt\n",
        "from sklearn.metrics import confusion_matrix, accuracy_score\n",
        "import itertools"
      ]
    },
    {
      "cell_type": "code",
      "source": [
        "pip install pycatch22"
      ],
      "metadata": {
        "colab": {
          "base_uri": "https://localhost:8080/"
        },
        "id": "LhyzMDDzqF1W",
        "outputId": "4961e2a9-94b6-4230-ddd2-521beb3d8896"
      },
      "execution_count": 2,
      "outputs": [
        {
          "output_type": "stream",
          "name": "stdout",
          "text": [
            "Requirement already satisfied: pycatch22 in /usr/local/lib/python3.11/dist-packages (0.4.5)\n"
          ]
        }
      ]
    },
    {
      "cell_type": "code",
      "source": [
        "from pycatch22 import catch22_all\n",
        "from scipy.signal import welch\n",
        "import numpy as np"
      ],
      "metadata": {
        "id": "WxNvjeYcp8fG"
      },
      "execution_count": 3,
      "outputs": []
    },
    {
      "cell_type": "code",
      "source": [
        "from google.colab import drive\n",
        "drive.mount('/content/drive')"
      ],
      "metadata": {
        "colab": {
          "base_uri": "https://localhost:8080/"
        },
        "id": "rUeY4VwF1SUY",
        "outputId": "43687733-eb8b-4585-fc81-89ca04effb48"
      },
      "execution_count": 4,
      "outputs": [
        {
          "output_type": "stream",
          "name": "stdout",
          "text": [
            "Drive already mounted at /content/drive; to attempt to forcibly remount, call drive.mount(\"/content/drive\", force_remount=True).\n"
          ]
        }
      ]
    },
    {
      "cell_type": "code",
      "source": [
        "from sklearn.metrics import (\n",
        "    accuracy_score,\n",
        "    confusion_matrix,\n",
        "    f1_score,\n",
        "    cohen_kappa_score,\n",
        "    classification_report\n",
        ")"
      ],
      "metadata": {
        "id": "Y4p_I4VIa_Lo"
      },
      "execution_count": 5,
      "outputs": []
    },
    {
      "cell_type": "code",
      "source": [
        "DATA_DIR = '/content/drive/MyDrive/Stat483-GOALZ/sleepedf_processed'\n",
        "RESULT_DIR = '/content/drive/MyDrive/Stat483-GOALZ/sleepedf_results'\n",
        "os.makedirs(RESULT_DIR, exist_ok=True)"
      ],
      "metadata": {
        "id": "-BsDBS-YvvMB"
      },
      "execution_count": 6,
      "outputs": []
    },
    {
      "cell_type": "code",
      "source": [
        "print(\"Files in directory:\", os.listdir(DATA_DIR))"
      ],
      "metadata": {
        "colab": {
          "base_uri": "https://localhost:8080/"
        },
        "id": "vJSFcLpW2iIy",
        "outputId": "62e6c3e6-7a1e-4fab-8e6b-6b469b13c687"
      },
      "execution_count": 7,
      "outputs": [
        {
          "output_type": "stream",
          "name": "stdout",
          "text": [
            "Files in directory: ['ST7242J0_sequences.npz', 'ST7242J0_epochs.npz', 'ST7241J0_sequences.npz', 'ST7241J0_epochs.npz', 'ST7221J0_sequences.npz', 'ST7221J0_epochs.npz', 'ST7212J0_sequences.npz', 'ST7212J0_epochs.npz', 'ST7211J0_sequences.npz', 'ST7211J0_epochs.npz', 'ST7202J0_sequences.npz', 'ST7202J0_epochs.npz', 'ST7201J0_sequences.npz', 'ST7201J0_epochs.npz', 'ST7192J0_sequences.npz', 'ST7192J0_epochs.npz', 'ST7191J0_sequences.npz', 'ST7191J0_epochs.npz', 'ST7182J0_sequences.npz', 'ST7182J0_epochs.npz', 'ST7181J0_sequences.npz', 'ST7181J0_epochs.npz', 'ST7172J0_sequences.npz', 'ST7172J0_epochs.npz', 'ST7171J0_sequences.npz', 'ST7171J0_epochs.npz', 'ST7162J0_sequences.npz', 'ST7162J0_epochs.npz', 'ST7161J0_sequences.npz', 'ST7161J0_epochs.npz', 'ST7152J0_sequences.npz', 'ST7152J0_epochs.npz', 'ST7151J0_sequences.npz', 'ST7151J0_epochs.npz', 'ST7142J0_sequences.npz', 'ST7142J0_epochs.npz', 'ST7141J0_sequences.npz', 'ST7141J0_epochs.npz', 'ST7132J0_sequences.npz', 'ST7132J0_epochs.npz', 'ST7131J0_sequences.npz', 'ST7131J0_epochs.npz', 'ST7122J0_sequences.npz', 'ST7122J0_epochs.npz', 'ST7121J0_sequences.npz', 'ST7121J0_epochs.npz', 'ST7112J0_sequences.npz', 'ST7112J0_epochs.npz', 'ST7111J0_sequences.npz', 'ST7111J0_epochs.npz']\n"
          ]
        }
      ]
    },
    {
      "cell_type": "code",
      "source": [
        "BATCH_SIZE = 16\n",
        "NUM_EPOCHS = 20\n",
        "LEARNING_RATE = 1e-3\n",
        "TRAIN_VAL_SPLIT = 0.8\n",
        "DEVICE = torch.device(\"cuda\" if torch.cuda.is_available() else \"cpu\")"
      ],
      "metadata": {
        "id": "oT53zZbwvxZ_"
      },
      "execution_count": 8,
      "outputs": []
    },
    {
      "cell_type": "code",
      "source": [
        "print(\"CUDA available:\", torch.cuda.is_available())"
      ],
      "metadata": {
        "colab": {
          "base_uri": "https://localhost:8080/"
        },
        "id": "dqle45iV4s_l",
        "outputId": "5713ac87-7d95-46da-8af2-72109a7c848b"
      },
      "execution_count": 9,
      "outputs": [
        {
          "output_type": "stream",
          "name": "stdout",
          "text": [
            "CUDA available: True\n"
          ]
        }
      ]
    },
    {
      "cell_type": "code",
      "source": [
        "EMBEDDING_DIM = 128   # Dimension of the CNN encoder output per epoch\n",
        "NUM_CLASSES = 5       # 0: Wake, 1: N1, 2: N2, 3: N3, 4: REM\n",
        "NUM_TRANSFORMER_LAYERS = 2\n",
        "NUM_HEADS = 4\n",
        "DROPOUT = 0.1\n",
        "SEQ_LENGTH = 20       # Number of epochs per sequence (must match preprocessing)"
      ],
      "metadata": {
        "id": "yY2kW6JBvz7o"
      },
      "execution_count": 10,
      "outputs": []
    },
    {
      "cell_type": "code",
      "source": [
        "class SleepSequenceDataset(Dataset):\n",
        "    def __init__(self, data_dir):\n",
        "        # Find all NPZ files ending with _sequences.npz\n",
        "        self.files = glob.glob(os.path.join(data_dir, '*_sequences.npz'))\n",
        "        sequences_list = []\n",
        "        labels_list = []\n",
        "        for f in self.files:\n",
        "            loaded = np.load(f)\n",
        "            sequences_list.append(loaded['sequences'])  # shape: (n_seq, 20, 2, 3000)\n",
        "            labels_list.append(loaded['seq_labels'])      # shape: (n_seq, 20)\n",
        "        self.sequences = np.concatenate(sequences_list, axis=0)\n",
        "        self.seq_labels = np.concatenate(labels_list, axis=0)\n",
        "        self.sequences = torch.from_numpy(self.sequences).float()\n",
        "        self.seq_labels = torch.from_numpy(self.seq_labels).long()\n",
        "\n",
        "    def __len__(self):\n",
        "        return self.sequences.shape[0]\n",
        "\n",
        "    def __getitem__(self, idx):\n",
        "        return self.sequences[idx], self.seq_labels[idx]"
      ],
      "metadata": {
        "id": "NwT759n5v4Xp"
      },
      "execution_count": 11,
      "outputs": []
    },
    {
      "cell_type": "code",
      "source": [
        "class MultiScaleEpochEncoder(nn.Module):\n",
        "    def __init__(self, embedding_dim):\n",
        "        super(MultiScaleEpochEncoder, self).__init__()\n",
        "        # Branch 1: Kernel size 50\n",
        "        self.branch1 = nn.Sequential(\n",
        "            nn.Conv1d(in_channels=2, out_channels=16, kernel_size=50, stride=6),\n",
        "            nn.ReLU(),\n",
        "            nn.MaxPool1d(kernel_size=8, stride=8)\n",
        "        )\n",
        "        # Branch 2: Kernel size 100\n",
        "        self.branch2 = nn.Sequential(\n",
        "            nn.Conv1d(in_channels=2, out_channels=16, kernel_size=100, stride=6),\n",
        "            nn.ReLU(),\n",
        "            nn.MaxPool1d(kernel_size=8, stride=8)\n",
        "        )\n",
        "        # Branch 3: Kernel size 150\n",
        "        self.branch3 = nn.Sequential(\n",
        "            nn.Conv1d(in_channels=2, out_channels=16, kernel_size=150, stride=6),\n",
        "            nn.ReLU(),\n",
        "            nn.MaxPool1d(kernel_size=8, stride=8)\n",
        "        )\n",
        "        # Determine combined output dimension via a dummy forward pass\n",
        "        with torch.no_grad():\n",
        "            dummy_input = torch.zeros(1, 2, 3000)\n",
        "            out1 = self.branch1(dummy_input)\n",
        "            out2 = self.branch2(dummy_input)\n",
        "            out3 = self.branch3(dummy_input)\n",
        "            # Concatenated features from all three branches:\n",
        "            n_features = (out1.numel() + out2.numel() + out3.numel()) // dummy_input.shape[0]\n",
        "        self.fc = nn.Linear(n_features, embedding_dim)\n",
        "\n",
        "    def forward(self, x):\n",
        "        # x shape: (batch, 2, 3000)\n",
        "        out1 = self.branch1(x)\n",
        "        out2 = self.branch2(x)\n",
        "        out3 = self.branch3(x)\n",
        "        # Flatten outputs\n",
        "        out1 = out1.view(out1.size(0), -1)\n",
        "        out2 = out2.view(out2.size(0), -1)\n",
        "        out3 = out3.view(out3.size(0), -1)\n",
        "        # Concatenate along the feature dimension\n",
        "        combined = torch.cat([out1, out2, out3], dim=1)\n",
        "        embedding = self.fc(combined)\n",
        "        return embedding"
      ],
      "metadata": {
        "id": "YZI3ICPav0i4"
      },
      "execution_count": null,
      "outputs": []
    },
    {
      "cell_type": "code",
      "source": [
        "class EpochEncoder(nn.Module):\n",
        "    def __init__(self, embedding_dim):\n",
        "        super(EpochEncoder, self).__init__()\n",
        "        self.net = nn.Sequential(\n",
        "            nn.Conv1d(in_channels=2, out_channels=16, kernel_size=50, stride=6),\n",
        "            nn.ReLU(),\n",
        "            nn.MaxPool1d(kernel_size=8, stride=8),\n",
        "            nn.Conv1d(in_channels=16, out_channels=32, kernel_size=8, stride=2),\n",
        "            nn.ReLU(),\n",
        "            nn.MaxPool1d(kernel_size=4, stride=4)\n",
        "        )\n",
        "        #Passing dummy input to automatically calculate no. of features and avoid mismatch error\n",
        "        with torch.no_grad():\n",
        "            dummy_input = torch.zeros(1, 2, 3000)\n",
        "            dummy_output = self.net(dummy_input)\n",
        "            n_features = dummy_output.numel() // dummy_output.shape[0]  # Total features per sample\n",
        "        self.fc = nn.Linear(n_features, embedding_dim)\n",
        "        # The output dimension is computed approximately based on the input size 3000\n",
        "        #self.fc = nn.Linear(32 * (((3000 - 50) // 6 + 1) // 8 // 4), embedding_dim)\n",
        "\n",
        "    def forward(self, x):\n",
        "        # x: (batch, 2, 3000)\n",
        "        out = self.net(x)\n",
        "        out = out.view(out.size(0), -1)\n",
        "        embedding = self.fc(out)\n",
        "        return embedding"
      ],
      "metadata": {
        "id": "DVDcUplEv49-"
      },
      "execution_count": 12,
      "outputs": []
    },
    {
      "cell_type": "code",
      "source": [
        "class SleepTransformer(nn.Module):\n",
        "    def __init__(self, embedding_dim, num_classes, num_layers, num_heads, dropout, seq_length):\n",
        "        super(SleepTransformer, self).__init__()\n",
        "        self.encoder = EpochEncoder(embedding_dim) #create embeddings using features (catch22) and then add the transformer to it\n",
        "        encoder_layer = nn.TransformerEncoderLayer(d_model=embedding_dim, nhead=num_heads, dropout=dropout)\n",
        "        self.transformer = nn.TransformerEncoder(encoder_layer, num_layers=num_layers)\n",
        "        self.classifier = nn.Linear(embedding_dim, num_classes)\n",
        "        self.seq_length = seq_length\n",
        "\n",
        "    def forward(self, x):\n",
        "        # x: (batch, seq_length, 2, 3000)\n",
        "        batch_size, seq_len = x.size(0), x.size(1)\n",
        "        x = x.view(-1, x.size(2), x.size(3))  # (batch*seq_length, 2, 3000)\n",
        "        epoch_emb = self.encoder(x)           # (batch*seq_length, embedding_dim)\n",
        "        epoch_emb = epoch_emb.view(batch_size, seq_len, -1)\n",
        "        epoch_emb = epoch_emb.transpose(0, 1)   # (seq_length, batch, embedding_dim)\n",
        "        transformer_out = self.transformer(epoch_emb)\n",
        "        transformer_out = transformer_out.transpose(0, 1)  # (batch, seq_length, embedding_dim)\n",
        "        logits = self.classifier(transformer_out)  # (batch, seq_length, num_classes)\n",
        "        return logits"
      ],
      "metadata": {
        "id": "CUpbinAmwBgT"
      },
      "execution_count": 13,
      "outputs": []
    },
    {
      "cell_type": "code",
      "source": [
        "class SleepTransformerBoosted(nn.Module):\n",
        "    def __init__(self, embedding_dim, num_classes, num_layers, num_heads, dropout, seq_length):\n",
        "        super(SleepTransformerBoosted, self).__init__()\n",
        "        self.encoder = EpochEncoder(embedding_dim)\n",
        "        encoder_layer = nn.TransformerEncoderLayer(d_model=embedding_dim, nhead=num_heads, dropout=dropout)\n",
        "        self.transformer = nn.TransformerEncoder(encoder_layer, num_layers=num_layers)\n",
        "        # Base classifier (original multi-class head)\n",
        "        self.classifier = nn.Linear(embedding_dim, num_classes)\n",
        "        # Additional 1-vs-all classifier head (treats each class as a separate binary problem)\n",
        "        self.ovr_classifier = nn.Linear(embedding_dim, num_classes)\n",
        "        # Final classifier that combines transformer features with the 1-vs-all outputs\n",
        "        self.final_classifier = nn.Linear(embedding_dim + num_classes, num_classes)\n",
        "        # Residual head for boosting (predicts correction terms)\n",
        "        self.residual_head = nn.Linear(embedding_dim, num_classes)\n",
        "        self.seq_length = seq_length\n",
        "\n",
        "    def forward(self, x):\n",
        "        # x: (batch, seq_length, 2, 3000)\n",
        "        batch_size, seq_len = x.size(0), x.size(1)\n",
        "        x = x.view(-1, x.size(2), x.size(3))  # (batch*seq_length, 2, 3000)\n",
        "        epoch_emb = self.encoder(x)           # (batch*seq_length, embedding_dim)\n",
        "        epoch_emb = epoch_emb.view(batch_size, seq_len, -1)\n",
        "        epoch_emb = epoch_emb.transpose(0, 1)   # (seq_length, batch, embedding_dim)\n",
        "        transformer_out = self.transformer(epoch_emb)\n",
        "        transformer_out = transformer_out.transpose(0, 1)  # (batch, seq_length, embedding_dim)\n",
        "\n",
        "        # Base multi-class prediction (could be used as an independent output)\n",
        "        base_logits = self.classifier(transformer_out)  # (batch, seq_length, num_classes)\n",
        "\n",
        "        # 1-vs-all predictions: treat each class as a separate binary classifier\n",
        "        ovr_logits = self.ovr_classifier(transformer_out)  # (batch, seq_length, num_classes)\n",
        "\n",
        "        # Combine transformer features with one-vs-all outputs\n",
        "        combined_features = torch.cat([transformer_out, ovr_logits], dim=-1)  # (batch, seq_length, embedding_dim + num_classes)\n",
        "        final_base_logits = self.final_classifier(combined_features)  # (batch, seq_length, num_classes)\n",
        "\n",
        "        # Residual fitting: learn to predict the residual error\n",
        "        residual_logits = self.residual_head(transformer_out)  # (batch, seq_length, num_classes)\n",
        "\n",
        "        # Final boosted logits: sum the base predictions and the residual corrections\n",
        "        final_logits = final_base_logits + residual_logits\n",
        "\n",
        "        return final_logits"
      ],
      "metadata": {
        "id": "GTSod2fkkQzo"
      },
      "execution_count": 14,
      "outputs": []
    },
    {
      "cell_type": "code",
      "source": [
        "class SleepTransformerTargeted(nn.Module):\n",
        "    def __init__(self, embedding_dim, num_classes, num_layers, num_heads, dropout, seq_length):\n",
        "        super(SleepTransformerTargeted, self).__init__()\n",
        "        self.encoder = EpochEncoder(embedding_dim)\n",
        "        encoder_layer = nn.TransformerEncoderLayer(d_model=embedding_dim, nhead=num_heads, dropout=dropout)\n",
        "        self.transformer = nn.TransformerEncoder(encoder_layer, num_layers=num_layers)\n",
        "        # Base multi-class classifier head (for all classes)\n",
        "        self.classifier = nn.Linear(embedding_dim, num_classes)\n",
        "        # Additional one-vs-all classifier head for N1 only (outputs a scalar per epoch)\n",
        "        self.ovr_n1_classifier = nn.Linear(embedding_dim, 1)\n",
        "        # Residual head for boosting targeted on N1 (predicts a correction term)\n",
        "        self.n1_residual_head = nn.Linear(embedding_dim, 1)\n",
        "        self.seq_length = seq_length\n",
        "\n",
        "    def forward(self, x):\n",
        "        # x shape: (batch, seq_length, 2, 3000)\n",
        "        batch_size, seq_len = x.size(0), x.size(1)\n",
        "        # Process each epoch separately through the CNN encoder:\n",
        "        x = x.view(-1, x.size(2), x.size(3))  # shape: (batch*seq_length, 2, 3000)\n",
        "        epoch_emb = self.encoder(x)            # shape: (batch*seq_length, embedding_dim)\n",
        "        epoch_emb = epoch_emb.view(batch_size, seq_len, -1)  # shape: (batch, seq_length, embedding_dim)\n",
        "\n",
        "        # Process sequence with the Transformer:\n",
        "        epoch_emb = epoch_emb.transpose(0, 1)  # shape: (seq_length, batch, embedding_dim)\n",
        "        transformer_out = self.transformer(epoch_emb)\n",
        "        transformer_out = transformer_out.transpose(0, 1)  # shape: (batch, seq_length, embedding_dim)\n",
        "\n",
        "        # Base classifier outputs multi-class logits:\n",
        "        base_logits = self.classifier(transformer_out)  # shape: (batch, seq_length, num_classes)\n",
        "\n",
        "        # Compute targeted one-vs-all output for N1 (class index 1)\n",
        "        n1_ovr = self.ovr_n1_classifier(transformer_out)  # shape: (batch, seq_length, 1)\n",
        "        # Compute residual correction for N1\n",
        "        n1_residual = self.n1_residual_head(transformer_out)  # shape: (batch, seq_length, 1)\n",
        "\n",
        "        # Add the extra N1 output (one-vs-all + residual) to the base logit for N1\n",
        "        final_logits = base_logits.clone()\n",
        "        # Assuming class 1 corresponds to N1\n",
        "        final_logits[:, :, 1:2] = final_logits[:, :, 1:2] + n1_ovr + n1_residual\n",
        "\n",
        "        return final_logits\n"
      ],
      "metadata": {
        "id": "3njHuu2dnRwx"
      },
      "execution_count": 15,
      "outputs": []
    },
    {
      "cell_type": "code",
      "source": [
        "class SleepTransformerFeatureTargeted(nn.Module):\n",
        "    def __init__(self, embedding_dim, num_classes, num_layers, num_heads, dropout, seq_length,\n",
        "                 catch22_emb_dim=32, power_emb_dim=16):\n",
        "        super(SleepTransformerFeatureTargeted, self).__init__()\n",
        "        self.encoder = EpochEncoder(embedding_dim)\n",
        "        encoder_layer = nn.TransformerEncoderLayer(d_model=embedding_dim, nhead=num_heads, dropout=dropout)\n",
        "        self.transformer = nn.TransformerEncoder(encoder_layer, num_layers=num_layers)\n",
        "        # Combined feature dimension: transformer output + catch22 embedding + power embedding\n",
        "        combined_feature_dim = embedding_dim + catch22_emb_dim + power_emb_dim\n",
        "        self.combined_classifier = nn.Linear(combined_feature_dim, num_classes)\n",
        "        # Targeted one-vs-all classifier head for N1 (class index 1)\n",
        "        self.ovr_n1_classifier = nn.Linear(embedding_dim, 1)\n",
        "        # Residual head for boosting targeted on N1\n",
        "        self.n1_residual_head = nn.Linear(embedding_dim, 1)\n",
        "        # Fully connected layer for catch22 features (maps 22 features to catch22_emb_dim)\n",
        "        self.catch22_fc = nn.Linear(22, catch22_emb_dim)\n",
        "        # Fully connected layer for power/spectral features (maps 3 features to power_emb_dim)\n",
        "        self.power_fc = nn.Linear(3, power_emb_dim)\n",
        "        self.seq_length = seq_length\n",
        "\n",
        "    def compute_catch22_features(self, epoch):\n",
        "        \"\"\"\n",
        "        Compute catch22 features for one epoch.\n",
        "        epoch: Tensor of shape (channels, time)\n",
        "        Uses the first channel.\n",
        "        \"\"\"\n",
        "        epoch_np = epoch[0].detach().cpu().numpy()  # primary channel\n",
        "        features = catch22_all(epoch_np)['values']    # returns 22 features\n",
        "        features = torch.tensor(features, dtype=torch.float, device=epoch.device)\n",
        "        return features  # shape: (22,)\n",
        "\n",
        "    def compute_power_spectral_features(self, epoch, fs=100):\n",
        "        \"\"\"\n",
        "        Compute power and spectral density features for one epoch.\n",
        "        epoch: Tensor of shape (channels, time)\n",
        "        Uses the first channel.\n",
        "        Returns a numpy array with [total_power, peak_frequency, mean_frequency].\n",
        "        \"\"\"\n",
        "        epoch_np = epoch[0].detach().cpu().numpy()\n",
        "        f, Pxx = welch(epoch_np, fs=fs, nperseg=256)\n",
        "        total_power = np.sum(Pxx)\n",
        "        peak_freq = f[np.argmax(Pxx)]\n",
        "        mean_freq = np.sum(f * Pxx) / (total_power + 1e-9)\n",
        "        return np.array([total_power, peak_freq, mean_freq], dtype=np.float32)\n",
        "\n",
        "    def forward(self, x):\n",
        "        \"\"\"\n",
        "        x: Tensor of shape (batch, seq_length, channels, 3000)\n",
        "        \"\"\"\n",
        "        batch_size, seq_len, channels, time = x.size()\n",
        "        # Keep a copy of the raw input for classical feature extraction\n",
        "        raw_x = x.clone()\n",
        "\n",
        "        # Process epochs through the CNN encoder\n",
        "        x_reshaped = x.view(-1, channels, time)  # (batch*seq_length, channels, time)\n",
        "        epoch_emb = self.encoder(x_reshaped)       # (batch*seq_length, embedding_dim)\n",
        "        epoch_emb = epoch_emb.view(batch_size, seq_len, -1)  # (batch, seq_len, embedding_dim)\n",
        "\n",
        "        # Process the sequence with the Transformer\n",
        "        transformer_in = epoch_emb.transpose(0, 1)      # (seq_length, batch, embedding_dim)\n",
        "        transformer_out = self.transformer(transformer_in)  # (seq_length, batch, embedding_dim)\n",
        "        transformer_out = transformer_out.transpose(0, 1)   # (batch, seq_len, embedding_dim)\n",
        "\n",
        "        # Compute catch22 and power/spectral features for each epoch\n",
        "        catch22_features = []\n",
        "        power_features = []\n",
        "        for b in range(batch_size):\n",
        "            seq_catch22 = []\n",
        "            seq_power = []\n",
        "            for t in range(seq_len):\n",
        "                epoch = raw_x[b, t]  # shape: (channels, time)\n",
        "                # Catch22 features (22-dimensional)\n",
        "                features_c22 = self.compute_catch22_features(epoch)\n",
        "                seq_catch22.append(features_c22)\n",
        "                # Power and spectral features (3-dimensional)\n",
        "                features_power = self.compute_power_spectral_features(epoch)\n",
        "                features_power = torch.tensor(features_power, dtype=torch.float, device=x.device)\n",
        "                seq_power.append(features_power)\n",
        "            seq_catch22 = torch.stack(seq_catch22, dim=0)  # (seq_length, 22)\n",
        "            seq_power = torch.stack(seq_power, dim=0)      # (seq_length, 3)\n",
        "            catch22_features.append(seq_catch22)\n",
        "            power_features.append(seq_power)\n",
        "        catch22_features = torch.stack(catch22_features, dim=0)  # (batch, seq_length, 22)\n",
        "        power_features = torch.stack(power_features, dim=0)      # (batch, seq_length, 3)\n",
        "\n",
        "        # Map catch22 and power features to their embeddings\n",
        "        catch22_emb = self.catch22_fc(catch22_features)  # (batch, seq_length, catch22_emb_dim)\n",
        "        power_emb = self.power_fc(power_features)        # (batch, seq_length, power_emb_dim)\n",
        "\n",
        "        # Concatenate transformer output with catch22 and power embeddings\n",
        "        combined_features = torch.cat([transformer_out, catch22_emb, power_emb], dim=-1)  # (batch, seq_length, combined_feature_dim)\n",
        "\n",
        "        # Final combined classifier for all classes\n",
        "        combined_logits = self.combined_classifier(combined_features)  # (batch, seq_length, num_classes)\n",
        "\n",
        "        # Targeted one-vs-all and residual for N1 (using transformer output)\n",
        "        n1_ovr = self.ovr_n1_classifier(transformer_out)      # (batch, seq_length, 1)\n",
        "        n1_residual = self.n1_residual_head(transformer_out)    # (batch, seq_length, 1)\n",
        "\n",
        "        # Apply targeted corrections only to the N1 logit (assuming class index 1 is N1)\n",
        "        combined_logits[:, :, 1:2] = combined_logits[:, :, 1:2] + n1_ovr + n1_residual\n",
        "\n",
        "        return combined_logits\n"
      ],
      "metadata": {
        "id": "HuE359Qmr_kT"
      },
      "execution_count": 16,
      "outputs": []
    },
    {
      "cell_type": "code",
      "source": [
        "def train_epoch(model, dataloader, criterion, optimizer, device):\n",
        "    model.train()\n",
        "    running_loss = 0.0\n",
        "    all_preds = []\n",
        "    all_labels = []\n",
        "    for seq, labels in dataloader:\n",
        "        seq, labels = seq.to(device), labels.to(device)\n",
        "        optimizer.zero_grad()\n",
        "        logits = model(seq)  # (batch, seq_length, num_classes)\n",
        "        loss = criterion(logits.view(-1, NUM_CLASSES), labels.view(-1))\n",
        "        loss.backward()\n",
        "        optimizer.step()\n",
        "        running_loss += loss.item() * seq.size(0)\n",
        "        preds = torch.argmax(logits, dim=-1)\n",
        "        all_preds.append(preds.cpu().detach().numpy())\n",
        "        all_labels.append(labels.cpu().detach().numpy())\n",
        "    epoch_loss = running_loss / len(dataloader.dataset)\n",
        "    all_preds = np.concatenate(all_preds).flatten()\n",
        "    all_labels = np.concatenate(all_labels).flatten()\n",
        "    acc = accuracy_score(all_labels, all_preds)\n",
        "    return epoch_loss, acc"
      ],
      "metadata": {
        "id": "Weai9I38wEBt"
      },
      "execution_count": 17,
      "outputs": []
    },
    {
      "cell_type": "code",
      "source": [
        "import torch.nn.functional as F\n",
        "\n",
        "def eval_epoch(model, dataloader, criterion, device):\n",
        "    model.eval()\n",
        "    running_loss = 0.0\n",
        "    all_preds = []\n",
        "    all_labels = []\n",
        "    all_probs = []  # <--- store probabilities for ROC\n",
        "\n",
        "    with torch.no_grad():\n",
        "        for seq, labels in dataloader:\n",
        "            seq, labels = seq.to(device), labels.to(device)\n",
        "            logits = model(seq)  # shape: (batch, seq_length, NUM_CLASSES)\n",
        "\n",
        "            # Compute loss\n",
        "            loss = criterion(logits.view(-1, NUM_CLASSES), labels.view(-1))\n",
        "            running_loss += loss.item() * seq.size(0)\n",
        "\n",
        "            # Predicted classes\n",
        "            preds = torch.argmax(logits, dim=-1)\n",
        "            all_preds.append(preds.cpu().numpy())\n",
        "            all_labels.append(labels.cpu().numpy())\n",
        "\n",
        "            # Softmax probabilities for ROC\n",
        "            probs = F.softmax(logits, dim=-1)  # shape: (batch, seq_length, NUM_CLASSES)\n",
        "            all_probs.append(probs.cpu().numpy())\n",
        "\n",
        "    # Convert lists to NumPy arrays\n",
        "    epoch_loss = running_loss / len(dataloader.dataset)\n",
        "    all_preds = np.concatenate(all_preds).ravel()    # shape: (N,)\n",
        "    all_labels = np.concatenate(all_labels).ravel()  # shape: (N,)\n",
        "\n",
        "    # Flatten probabilities to shape (N, NUM_CLASSES)\n",
        "    all_probs = np.concatenate(all_probs, axis=0).reshape(-1, NUM_CLASSES)\n",
        "\n",
        "    acc = accuracy_score(all_labels, all_preds)\n",
        "\n",
        "    # Now we return 5 items, including val_probs\n",
        "    return epoch_loss, acc, all_preds, all_labels, all_probs\n"
      ],
      "metadata": {
        "id": "LGX4FkLRwHLb"
      },
      "execution_count": 18,
      "outputs": []
    },
    {
      "cell_type": "code",
      "source": [
        "def plot_curves(train_losses, val_losses, train_accs, val_accs):\n",
        "    epochs = range(1, len(train_losses)+1)\n",
        "    plt.figure(figsize=(12,5))\n",
        "    plt.subplot(1,2,1)\n",
        "    plt.plot(epochs, train_losses, label='Train Loss')\n",
        "    plt.plot(epochs, val_losses, label='Val Loss')\n",
        "    plt.xlabel('Epoch')\n",
        "    plt.ylabel('Loss')\n",
        "    plt.legend()\n",
        "    plt.subplot(1,2,2)\n",
        "    plt.plot(epochs, train_accs, label='Train Acc')\n",
        "    plt.plot(epochs, val_accs, label='Val Acc')\n",
        "    plt.xlabel('Epoch')\n",
        "    plt.ylabel('Accuracy')\n",
        "    plt.legend()\n",
        "    plt.show()"
      ],
      "metadata": {
        "id": "mwT8mFARwOVl"
      },
      "execution_count": 19,
      "outputs": []
    },
    {
      "cell_type": "code",
      "source": [
        "def plot_confusion(all_labels, all_preds):\n",
        "    cm = confusion_matrix(all_labels, all_preds)\n",
        "    plt.figure(figsize=(6,6))\n",
        "    plt.imshow(cm, interpolation='nearest', cmap=plt.cm.Blues)\n",
        "    plt.title(\"Confusion Matrix\")\n",
        "    plt.colorbar()\n",
        "    classes = ['W', 'N1', 'N2', 'N3', 'R']\n",
        "    tick_marks = np.arange(len(classes))\n",
        "    plt.xticks(tick_marks, classes)\n",
        "    plt.yticks(tick_marks, classes)\n",
        "    thresh = cm.max() / 2.\n",
        "    for i, j in itertools.product(range(cm.shape[0]), range(cm.shape[1])):\n",
        "        plt.text(j, i, format(cm[i, j], 'd'),\n",
        "                 horizontalalignment=\"center\",\n",
        "                 color=\"white\" if cm[i, j] > thresh else \"black\")\n",
        "    plt.ylabel('True label')\n",
        "    plt.xlabel('Predicted label')\n",
        "    plt.tight_layout()\n",
        "    plt.show()"
      ],
      "metadata": {
        "id": "i_iAwS9XwP8Y"
      },
      "execution_count": 20,
      "outputs": []
    },
    {
      "cell_type": "code",
      "source": [
        "from sklearn.metrics import confusion_matrix, accuracy_score"
      ],
      "metadata": {
        "id": "lM99BAeZwRnf"
      },
      "execution_count": 21,
      "outputs": []
    },
    {
      "cell_type": "code",
      "source": [
        "from tqdm.notebook import tqdm"
      ],
      "metadata": {
        "id": "be9O2ifp52Fa"
      },
      "execution_count": 22,
      "outputs": []
    },
    {
      "cell_type": "code",
      "source": [
        "def compute_metrics(y_true, y_pred, class_names=None):\n",
        "    \"\"\"\n",
        "    Compute and print various classification metrics.\n",
        "    y_true, y_pred: 1D numpy arrays of integer class labels.\n",
        "    class_names: Optional list of class names (e.g. [\"W\", \"N1\", \"N2\", \"N3\", \"REM\"]).\n",
        "    \"\"\"\n",
        "    # Overall accuracy\n",
        "    acc = accuracy_score(y_true, y_pred)\n",
        "\n",
        "    # F1 scores\n",
        "    f1_macro = f1_score(y_true, y_pred, average='macro')\n",
        "    f1_per_class = f1_score(y_true, y_pred, average=None)\n",
        "\n",
        "    # Cohen’s Kappa\n",
        "    kappa = cohen_kappa_score(y_true, y_pred)\n",
        "\n",
        "    # Confusion matrix\n",
        "    cm = confusion_matrix(y_true, y_pred)\n",
        "\n",
        "    # Sensitivity & Specificity per class\n",
        "    # (Note: \"sensitivity\" is the same as \"recall\" for that class)\n",
        "    #        \"specificity\" = TN / (TN + FP)\n",
        "    # We can compute them from the confusion matrix:\n",
        "    #    TP = cm[i, i]\n",
        "    #    FN = sum(cm[i, :]) - cm[i, i]\n",
        "    #    FP = sum(cm[:, i]) - cm[i, i]\n",
        "    #    TN = total_sum - (TP + FN + FP)\n",
        "    total_sum = cm.sum()\n",
        "    per_class_sens = []\n",
        "    per_class_spec = []\n",
        "    for i in range(cm.shape[0]):\n",
        "        TP = cm[i, i]\n",
        "        FN = cm[i, :].sum() - TP\n",
        "        FP = cm[:, i].sum() - TP\n",
        "        TN = total_sum - (TP + FN + FP)\n",
        "\n",
        "        sensitivity = TP / (TP + FN + 1e-9)\n",
        "        specificity = TN / (TN + FP + 1e-9)\n",
        "        per_class_sens.append(sensitivity)\n",
        "        per_class_spec.append(specificity)\n",
        "\n",
        "    # Print classification report\n",
        "    # This automatically shows precision, recall, F1, and support for each class\n",
        "    if class_names is not None:\n",
        "        print(\"\\nClassification Report:\")\n",
        "        print(classification_report(y_true, y_pred, target_names=class_names, digits=4))\n",
        "    else:\n",
        "        print(\"\\nClassification Report:\")\n",
        "        print(classification_report(y_true, y_pred, digits=4))\n",
        "\n",
        "    # Organize everything in a dictionary\n",
        "    metrics_dict = {\n",
        "        'Accuracy': acc,\n",
        "        'Macro_F1': f1_macro,\n",
        "        'F1_per_class': f1_per_class,\n",
        "        'Cohen_Kappa': kappa,\n",
        "        'Sensitivity_per_class': per_class_sens,\n",
        "        'Specificity_per_class': per_class_spec\n",
        "    }\n",
        "    return metrics_dict"
      ],
      "metadata": {
        "id": "0qdXs-PpbRTh"
      },
      "execution_count": 23,
      "outputs": []
    },
    {
      "cell_type": "code",
      "source": [
        "from sklearn.preprocessing import label_binarize\n",
        "from sklearn.metrics import roc_curve, auc\n",
        "\n",
        "def plot_roc_curves(y_true, y_score, class_names=None):\n",
        "    \"\"\"\n",
        "    Plot one-vs-rest ROC curves for each class in a multi-class setting.\n",
        "\n",
        "    Parameters:\n",
        "    -----------\n",
        "    y_true : 1D array-like of shape (N,)\n",
        "        Ground truth integer labels (0..num_classes-1).\n",
        "    y_score : 2D array-like of shape (N, num_classes)\n",
        "        Predicted probabilities for each class (softmax output).\n",
        "    class_names : list of str, optional\n",
        "        Class names to display in the legend. Must have length == num_classes.\n",
        "    \"\"\"\n",
        "    n_classes = y_score.shape[1]\n",
        "\n",
        "    # Binarize the labels for a one-vs-rest ROC\n",
        "    # e.g. [0,2,1,...] -> [[1,0,0,0,0], [0,0,1,0,0], [0,1,0,0,0], ...]\n",
        "    y_true_bin = label_binarize(y_true, classes=range(n_classes))\n",
        "\n",
        "    fpr = {}\n",
        "    tpr = {}\n",
        "    roc_auc = {}\n",
        "\n",
        "    # Compute ROC curve and AUC for each class\n",
        "    for i in range(n_classes):\n",
        "        fpr[i], tpr[i], _ = roc_curve(y_true_bin[:, i], y_score[:, i])\n",
        "        roc_auc[i] = auc(fpr[i], tpr[i])\n",
        "\n",
        "    # Plot all ROC curves\n",
        "    plt.figure(figsize=(7,7))\n",
        "    colors = ['blue', 'red', 'green', 'purple', 'orange', 'cyan', 'darkgreen']\n",
        "    for i in range(n_classes):\n",
        "        if class_names and i < len(class_names):\n",
        "            label_str = f\"{class_names[i]} (AUC = {roc_auc[i]:.2f})\"\n",
        "        else:\n",
        "            label_str = f\"Class {i} (AUC = {roc_auc[i]:.2f})\"\n",
        "        plt.plot(fpr[i], tpr[i], color=colors[i % len(colors)], lw=2, label=label_str)\n",
        "\n",
        "    # Plot a random guess line\n",
        "    plt.plot([0, 1], [0, 1], 'k--', lw=2)\n",
        "    plt.xlim([0.0, 1.0])\n",
        "    plt.ylim([0.0, 1.05])\n",
        "    plt.xlabel('False Positive Rate')\n",
        "    plt.ylabel('True Positive Rate')\n",
        "    plt.title('ROC Curves per Class')\n",
        "    plt.legend(loc=\"lower right\")\n",
        "    plt.show()"
      ],
      "metadata": {
        "id": "010qrwWKcOA_"
      },
      "execution_count": 24,
      "outputs": []
    },
    {
      "cell_type": "code",
      "source": [
        "dataset = SleepSequenceDataset(DATA_DIR)"
      ],
      "metadata": {
        "id": "ZCvD_NX6oRP4"
      },
      "execution_count": 25,
      "outputs": []
    },
    {
      "cell_type": "code",
      "source": [
        "# Load dataset from processed sequence NPZ files\n",
        "total_len = len(dataset)\n",
        "train_len = int(TRAIN_VAL_SPLIT * total_len)\n",
        "val_len = total_len - train_len\n",
        "train_dataset, val_dataset = random_split(dataset, [train_len, val_len])\n",
        "train_loader = DataLoader(train_dataset, batch_size=BATCH_SIZE, shuffle=True)\n",
        "val_loader = DataLoader(val_dataset, batch_size=BATCH_SIZE, shuffle=False)\n",
        "\n",
        "model = SleepTransformerFeatureTargeted(EMBEDDING_DIM, NUM_CLASSES, NUM_TRANSFORMER_LAYERS, NUM_HEADS, DROPOUT, SEQ_LENGTH)\n",
        "model.to(DEVICE)\n",
        "criterion = nn.CrossEntropyLoss()\n",
        "optimizer = optim.Adam(model.parameters(), lr=LEARNING_RATE)\n",
        "\n",
        "train_losses, val_losses = [], []\n",
        "train_accs, val_accs = [], []\n",
        "\n",
        "for epoch in tqdm(range(1, NUM_EPOCHS+1), desc=\"Training Epochs\"):\n",
        "    train_loss, train_acc = train_epoch(model, train_loader, criterion, optimizer, DEVICE)\n",
        "    val_loss, val_acc, val_preds, val_labels, _ = eval_epoch(model, val_loader, criterion, DEVICE)\n",
        "    train_losses.append(train_loss)\n",
        "    val_losses.append(val_loss)\n",
        "    train_accs.append(train_acc)\n",
        "    val_accs.append(val_acc)\n",
        "    print(f\"Epoch {epoch}/{NUM_EPOCHS}: Train Loss={train_loss:.4f}, Train Acc={train_acc:.4f}, Val Loss={val_loss:.4f}, Val Acc={val_acc:.4f}\")\n",
        "\n",
        "plot_curves(train_losses, val_losses, train_accs, val_accs)\n",
        "_, _, val_preds, val_labels, _ = eval_epoch(model, val_loader, criterion, DEVICE)\n",
        "plot_confusion(val_labels, val_preds)\n",
        "\n",
        "    # Save the model checkpoint in RESULT_DIR\n",
        "    #torch.save(model.state_dict(), os.path.join(RESULT_DIR, 'sleep_transformer_model.pth'))"
      ],
      "metadata": {
        "id": "KEjycEGMwWZk",
        "colab": {
          "base_uri": "https://localhost:8080/",
          "height": 49,
          "referenced_widgets": [
            "b92673ee6063485db33d3fcb3b5b43ec",
            "aa10616c60014b5c945b9962a39257ca",
            "5d8cdf32545d45999b8ca1f2ca927504",
            "a6a69767965845c88ea54e781f4b0783",
            "4ed7b874ca6e45e78479be002a445b8b",
            "00b24f654386479b8313cc5c133b7c0a",
            "f58736f19a214d069f55b43422485a3b",
            "4bef133168bf43bc9413e5d9cc200f68",
            "bfc9acff8ea0407f973c496eda259b48",
            "36bb4ce456a745819f268e9192ca67fa",
            "1e4f6b3621434eaca87a63a222157f7e"
          ]
        },
        "outputId": "669f7d69-738f-4cc0-cc05-19bfca46a7ab"
      },
      "execution_count": null,
      "outputs": [
        {
          "data": {
            "application/vnd.jupyter.widget-view+json": {
              "model_id": "b92673ee6063485db33d3fcb3b5b43ec",
              "version_major": 2,
              "version_minor": 0
            },
            "text/plain": [
              "Training Epochs:   0%|          | 0/20 [00:00<?, ?it/s]"
            ]
          },
          "metadata": {},
          "output_type": "display_data"
        }
      ]
    },
    {
      "cell_type": "code",
      "source": [
        "_, _, val_preds, val_labels, _ = eval_epoch(model, val_loader, criterion, DEVICE)\n",
        "metrics_dict = compute_metrics(val_labels, val_preds, class_names=[\"W\",\"N1\",\"N2\",\"N3\",\"REM\"])\n",
        "print(metrics_dict)"
      ],
      "metadata": {
        "colab": {
          "base_uri": "https://localhost:8080/"
        },
        "id": "7HlE4jlPbSkA",
        "outputId": "e16e06ed-e951-4224-eba4-8c6d94a099e6"
      },
      "execution_count": 49,
      "outputs": [
        {
          "output_type": "stream",
          "name": "stdout",
          "text": [
            "\n",
            "Classification Report:\n",
            "              precision    recall  f1-score   support\n",
            "\n",
            "           W     0.8729    0.7509    0.8073       823\n",
            "          N1     0.6073    0.6955    0.6485       785\n",
            "          N2     0.8904    0.9228    0.9064      4562\n",
            "          N3     0.8893    0.9212    0.9050      1447\n",
            "         REM     0.9204    0.8132    0.8635      1863\n",
            "\n",
            "    accuracy                         0.8673      9480\n",
            "   macro avg     0.8361    0.8207    0.8261      9480\n",
            "weighted avg     0.8712    0.8673    0.8678      9480\n",
            "\n",
            "{'Accuracy': 0.8672995780590718, 'Macro_F1': 0.8261144394630815, 'F1_per_class': array([0.80731548, 0.64845606, 0.90635091, 0.90495587, 0.86349387]), 'Cohen_Kappa': np.float64(0.8069543781071479), 'Sensitivity_per_class': [np.float64(0.7509113001205943), np.float64(0.6955414012729993), np.float64(0.9228408592720466), np.float64(0.9212163096054449), np.float64(0.8132045088562463)], 'Specificity_per_class': [np.float64(0.9896037888412856), np.float64(0.9594019551465256), np.float64(0.8946726311506923), np.float64(0.9793352421261073), np.float64(0.9828016279373791)]}\n"
          ]
        }
      ]
    },
    {
      "cell_type": "code",
      "source": [
        "val_loss, val_acc, val_preds, val_labels, val_probs = eval_epoch(\n",
        "    model, val_loader, criterion, DEVICE\n",
        ")\n",
        "\n",
        "plot_roc_curves(val_labels, val_probs, class_names=[\"W\",\"N1\",\"N2\",\"N3\",\"REM\"])"
      ],
      "metadata": {
        "colab": {
          "base_uri": "https://localhost:8080/",
          "height": 641
        },
        "id": "Qm7IIWTwcFmc",
        "outputId": "f9e8df57-ce49-4db8-f153-8151b5c75b32"
      },
      "execution_count": 50,
      "outputs": [
        {
          "output_type": "display_data",
          "data": {
            "text/plain": [
              "<Figure size 700x700 with 1 Axes>"
            ],
            "image/png": "[encoded data removed]"
          },
          "metadata": {}
        }
      ]
    }
  ]
}