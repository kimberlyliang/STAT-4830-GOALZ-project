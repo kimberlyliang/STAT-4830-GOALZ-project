{
  "nbformat": 4,
  "nbformat_minor": 0,
  "metadata": {
    "colab": {
      "provenance": [],
      "machine_shape": "hm",
      "gpuType": "T4"
    },
    "kernelspec": {
      "name": "python3",
      "display_name": "Python 3"
    },
    "language_info": {
      "name": "python"
    }
  },
  "cells": [
    {
      "cell_type": "code",
      "execution_count": 1,
      "metadata": {
        "id": "yVLiSsiKva-i"
      },
      "outputs": [],
      "source": [
        "import os, glob, numpy as np, torch, torch.nn as nn, torch.optim as optim\n",
        "from torch.utils.data import Dataset, DataLoader, random_split\n",
        "import matplotlib.pyplot as plt\n",
        "from sklearn.metrics import confusion_matrix, accuracy_score\n",
        "import itertools"
      ]
    },
    {
      "cell_type": "code",
      "source": [
        "from google.colab import drive\n",
        "drive.mount('/content/drive')"
      ],
      "metadata": {
        "colab": {
          "base_uri": "https://localhost:8080/"
        },
        "id": "rUeY4VwF1SUY",
        "outputId": "bbceeaa1-0d4c-4bbb-8a2f-a43dbf7bf95e"
      },
      "execution_count": 2,
      "outputs": [
        {
          "output_type": "stream",
          "name": "stdout",
          "text": [
            "Mounted at /content/drive\n"
          ]
        }
      ]
    },
    {
      "cell_type": "code",
      "source": [
        "from sklearn.metrics import (\n",
        "    accuracy_score,\n",
        "    confusion_matrix,\n",
        "    f1_score,\n",
        "    cohen_kappa_score,\n",
        "    classification_report\n",
        ")"
      ],
      "metadata": {
        "id": "Y4p_I4VIa_Lo"
      },
      "execution_count": 3,
      "outputs": []
    },
    {
      "cell_type": "code",
      "source": [
        "DATA_DIR = '/content/drive/MyDrive/Stat483-GOALZ/4830_project/sleepedf_data/processed_sleepedf'\n",
        "RESULT_DIR = '/content/drive/MyDrive/Stat483-GOALZ/4830_project/sleepedf_results'\n",
        "os.makedirs(RESULT_DIR, exist_ok=True)"
      ],
      "metadata": {
        "id": "-BsDBS-YvvMB"
      },
      "execution_count": 4,
      "outputs": []
    },
    {
      "cell_type": "code",
      "source": [
        "print(\"Files in directory:\", os.listdir(DATA_DIR))"
      ],
      "metadata": {
        "colab": {
          "base_uri": "https://localhost:8080/"
        },
        "id": "vJSFcLpW2iIy",
        "outputId": "e8fc1a38-1961-48ee-f7f3-86f4b64b5c6c"
      },
      "execution_count": 5,
      "outputs": [
        {
          "output_type": "stream",
          "name": "stdout",
          "text": [
            "Files in directory: ['SC4201E0_epochs.npz', 'SC4171E0_epochs.npz', 'SC4201E0_sequences.npz', 'SC4171E0_sequences.npz', 'SC4272F0_epochs.npz', 'SC4421E0_epochs.npz', 'SC4421E0_sequences.npz', 'SC4272F0_sequences.npz', 'SC4452F0_epochs.npz', 'SC4622E0_epochs.npz', 'SC4452F0_sequences.npz', 'SC4622E0_sequences.npz', 'SC4592G0_epochs.npz', 'SC4002E0_epochs.npz', 'SC4592G0_sequences.npz', 'SC4002E0_sequences.npz', 'SC4112E0_epochs.npz', 'SC4482F0_epochs.npz', 'SC4112E0_sequences.npz', 'SC4482F0_sequences.npz', 'SC4442E0_epochs.npz', 'SC4802G0_epochs.npz', 'SC4442E0_sequences.npz', 'SC4802G0_sequences.npz', 'SC4542F0_epochs.npz', 'SC4542F0_sequences.npz', 'SC4531E0_epochs.npz', 'SC4362F0_epochs.npz', 'SC4531E0_sequences.npz', 'SC4362F0_sequences.npz', 'SC4061E0_epochs.npz', 'SC4311E0_epochs.npz', 'SC4061E0_sequences.npz', 'SC4311E0_sequences.npz', 'SC4232E0_epochs.npz', 'SC4142E0_epochs.npz', 'SC4232E0_sequences.npz', 'SC4142E0_sequences.npz', 'SC4461F0_epochs.npz', 'SC4412E0_epochs.npz', 'SC4461F0_sequences.npz', 'SC4412E0_sequences.npz', 'SC4082E0_epochs.npz', 'SC4611E0_epochs.npz', 'SC4082E0_sequences.npz', 'SC4611E0_sequences.npz', 'SC4381F0_epochs.npz', 'SC4031E0_epochs.npz', 'SC4381F0_sequences.npz', 'SC4031E0_sequences.npz', 'SC4121E0_epochs.npz', 'SC4251E0_epochs.npz', 'SC4121E0_sequences.npz', 'SC4251E0_sequences.npz', 'SC4772G0_epochs.npz', 'SC4291G0_epochs.npz', 'SC4772G0_sequences.npz', 'SC4291G0_sequences.npz', 'SC4701E0_epochs.npz', 'SC4192E0_epochs.npz', 'SC4701E0_sequences.npz', 'SC4192E0_sequences.npz', 'SC4502E0_epochs.npz', 'SC4052E0_epochs.npz', 'SC4502E0_sequences.npz', 'SC4322E0_epochs.npz', 'SC4052E0_sequences.npz', 'SC4351F0_epochs.npz', 'SC4322E0_sequences.npz', 'SC4671G0_epochs.npz', 'SC4351F0_sequences.npz', 'SC4671G0_sequences.npz', 'SC4602E0_epochs.npz', 'SC4091E0_epochs.npz', 'SC4602E0_sequences.npz', 'SC4091E0_sequences.npz', 'SC4022E0_epochs.npz', 'SC4151E0_epochs.npz', 'SC4022E0_sequences.npz', 'SC4151E0_sequences.npz', 'SC4221E0_epochs.npz', 'SC4401E0_epochs.npz', 'SC4221E0_sequences.npz', 'SC4401E0_sequences.npz', 'SC4472F0_epochs.npz', 'SC4562F0_epochs.npz', 'SC4472F0_sequences.npz', 'SC4562F0_sequences.npz', 'SC4511E0_epochs.npz', 'SC4661E0_epochs.npz', 'SC4511E0_sequences.npz', 'SC4661E0_sequences.npz', 'SC4041E0_epochs.npz', 'SC4242E0_epochs.npz', 'SC4041E0_sequences.npz', 'SC4242E0_sequences.npz', 'SC4181E0_epochs.npz', 'SC4282G0_epochs.npz', 'SC4181E0_sequences.npz', 'SC4282G0_sequences.npz', 'SC4822G0_epochs.npz', 'SC4631E0_epochs.npz', 'SC4822G0_sequences.npz', 'SC4631E0_sequences.npz', 'SC4011E0_epochs.npz', 'SC4581G0_epochs.npz', 'SC4011E0_sequences.npz', 'SC4581G0_sequences.npz', 'SC4261F0_epochs.npz', 'SC4162E0_epochs.npz', 'SC4261F0_sequences.npz', 'SC4162E0_sequences.npz', 'SC4212E0_epochs.npz', 'SC4432E0_epochs.npz', 'SC4212E0_sequences.npz', 'SC4432E0_sequences.npz', 'SC4522E0_epochs.npz', 'SC4652E0_epochs.npz', 'SC4522E0_sequences.npz', 'SC4551F0_epochs.npz', 'SC4652E0_sequences.npz', 'SC4302E0_epochs.npz', 'SC4551F0_sequences.npz', 'SC4072E0_epochs.npz', 'SC4302E0_sequences.npz', 'SC4371F0_epochs.npz', 'SC4072E0_sequences.npz', 'SC4491G0_epochs.npz', 'SC4371F0_sequences.npz', 'SC4491G0_sequences.npz', 'SC4101E0_epochs.npz', 'SC4811G0_epochs.npz', 'SC4101E0_sequences.npz', 'SC4222E0_epochs.npz', 'SC4811G0_sequences.npz', 'SC4152E0_epochs.npz', 'SC4222E0_sequences.npz', 'SC4152E0_sequences.npz', 'SC4471F0_epochs.npz', 'SC4402E0_epochs.npz', 'SC4471F0_sequences.npz', 'SC4092E0_epochs.npz', 'SC4402E0_sequences.npz', 'SC4092E0_sequences.npz', 'SC4601E0_epochs.npz', 'SC4672G0_epochs.npz', 'SC4601E0_sequences.npz', 'SC4672G0_sequences.npz', 'SC4021E0_epochs.npz', 'SC4821G0_epochs.npz', 'SC4021E0_sequences.npz', 'SC4821G0_sequences.npz', 'SC4131E0_epochs.npz', 'SC4241E0_epochs.npz', 'SC4131E0_sequences.npz', 'SC4241E0_sequences.npz', 'SC4281G0_epochs.npz', 'SC4711E0_epochs.npz', 'SC4281G0_sequences.npz', 'SC4711E0_sequences.npz', 'SC4182E0_epochs.npz', 'SC4662E0_epochs.npz', 'SC4182E0_sequences.npz', 'SC4662E0_sequences.npz', 'SC4512E0_epochs.npz', 'SC4561F0_epochs.npz', 'SC4512E0_sequences.npz', 'SC4561F0_sequences.npz', 'SC4042E0_epochs.npz', 'SC4211E0_epochs.npz', 'SC4042E0_sequences.npz', 'SC4211E0_sequences.npz', 'SC4161E0_epochs.npz', 'SC4262F0_epochs.npz', 'SC4161E0_sequences.npz', 'SC4262F0_sequences.npz', 'SC4431E0_epochs.npz', 'SC4632E0_epochs.npz', 'SC4431E0_sequences.npz', 'SC4632E0_sequences.npz', 'SC4582G0_epochs.npz', 'SC4012E0_epochs.npz', 'SC4582G0_sequences.npz', 'SC4812G0_epochs.npz', 'SC4012E0_sequences.npz', 'SC4812G0_sequences.npz', 'SC4102E0_epochs.npz', 'SC4492G0_epochs.npz', 'SC4102E0_sequences.npz', 'SC4492G0_sequences.npz', 'SC4552F0_epochs.npz', 'SC4651E0_epochs.npz', 'SC4552F0_sequences.npz', 'SC4651E0_sequences.npz', 'SC4372F0_epochs.npz', 'SC4071E0_epochs.npz', 'SC4372F0_sequences.npz', 'SC4071E0_sequences.npz', 'SC4301E0_epochs.npz', 'SC4621E0_epochs.npz', 'SC4301E0_sequences.npz', 'SC4621E0_sequences.npz', 'SC4001E0_epochs.npz', 'SC4591G0_epochs.npz', 'SC4001E0_sequences.npz', 'SC4591G0_sequences.npz', 'SC4271F0_epochs.npz', 'SC4172E0_epochs.npz', 'SC4271F0_sequences.npz', 'SC4172E0_sequences.npz', 'SC4451F0_epochs.npz', 'SC4752E0_epochs.npz', 'SC4451F0_sequences.npz', 'SC4752E0_sequences.npz', 'SC4422E0_epochs.npz', 'SC4532E0_epochs.npz', 'SC4422E0_sequences.npz', 'SC4532E0_sequences.npz', 'SC4541F0_epochs.npz', 'SC4312E0_epochs.npz', 'SC4541F0_sequences.npz', 'SC4312E0_sequences.npz', 'SC4062E0_epochs.npz', 'SC4801G0_epochs.npz', 'SC4062E0_sequences.npz', 'SC4801G0_sequences.npz', 'SC4111E0_epochs.npz', 'SC4481F0_epochs.npz', 'SC4111E0_sequences.npz', 'SC4481F0_sequences.npz', 'SC4441E0_epochs.npz', 'SC4382F0_epochs.npz', 'SC4441E0_sequences.npz', 'SC4382F0_sequences.npz', 'SC4612E0_epochs.npz', 'SC4081E0_epochs.npz', 'SC4612E0_sequences.npz', 'SC4081E0_sequences.npz', 'SC4032E0_epochs.npz', 'SC4141E0_epochs.npz', 'SC4032E0_sequences.npz', 'SC4141E0_sequences.npz', 'SC4231E0_epochs.npz', 'SC4761E0_epochs.npz', 'SC4231E0_sequences.npz', 'SC4761E0_sequences.npz', 'SC4411E0_epochs.npz', 'SC4462F0_epochs.npz', 'SC4411E0_sequences.npz', 'SC4462F0_sequences.npz', 'SC4501E0_epochs.npz', 'SC4572F0_epochs.npz', 'SC4501E0_sequences.npz', 'SC4572F0_sequences.npz', 'SC4352F0_epochs.npz', 'SC4051E0_epochs.npz', 'SC4352F0_sequences.npz', 'SC4051E0_sequences.npz', 'SC4252E0_epochs.npz', 'SC4122E0_epochs.npz', 'SC4252E0_sequences.npz', 'SC4122E0_sequences.npz', 'SC4191E0_epochs.npz', 'SC4702E0_epochs.npz', 'SC4191E0_sequences.npz', 'SC4702E0_sequences.npz', 'SC4771G0_epochs.npz', 'SC4292G0_epochs.npz', 'SC4771G0_sequences.npz', 'SC4292G0_sequences.npz', 'ST7172J0_epochs.npz', 'ST7202J0_epochs.npz', 'ST7172J0_sequences.npz', 'ST7202J0_sequences.npz', 'ST7111J0_epochs.npz', 'ST7062J0_epochs.npz', 'ST7111J0_sequences.npz', 'ST7062J0_sequences.npz', 'ST7141J0_epochs.npz', 'ST7081J0_epochs.npz', 'ST7141J0_sequences.npz', 'ST7081J0_sequences.npz', 'ST7122J0_epochs.npz', 'ST7191J0_epochs.npz', 'ST7122J0_sequences.npz', 'ST7191J0_sequences.npz', 'ST7051J0_epochs.npz', 'ST7092J0_epochs.npz', 'ST7092J0_sequences.npz', 'ST7051J0_sequences.npz', 'ST7021J0_epochs.npz', 'ST7152J0_epochs.npz', 'ST7021J0_sequences.npz', 'ST7152J0_sequences.npz', 'ST7042J0_epochs.npz', 'ST7131J0_epochs.npz', 'ST7131J0_sequences.npz', 'ST7042J0_sequences.npz', 'ST7182J0_epochs.npz', 'ST7241J0_epochs.npz', 'ST7182J0_sequences.npz', 'ST7241J0_sequences.npz', 'ST7012J0_epochs.npz', 'ST7211J0_epochs.npz', 'ST7012J0_sequences.npz', 'ST7211J0_sequences.npz', 'ST7071J0_epochs.npz', 'ST7161J0_epochs.npz', 'ST7071J0_sequences.npz', 'ST7161J0_sequences.npz', 'ST7102J0_epochs.npz', 'ST7151J0_epochs.npz', 'ST7102J0_sequences.npz', 'ST7151J0_sequences.npz', 'ST7221J0_epochs.npz', 'ST7091J0_epochs.npz', 'ST7221J0_sequences.npz', 'ST7091J0_sequences.npz', 'ST7022J0_epochs.npz', 'ST7242J0_epochs.npz', 'ST7022J0_sequences.npz', 'ST7242J0_sequences.npz', 'ST7132J0_epochs.npz', 'ST7181J0_epochs.npz', 'ST7132J0_sequences.npz', 'ST7181J0_sequences.npz', 'ST7041J0_epochs.npz', 'ST7162J0_epochs.npz', 'ST7041J0_sequences.npz', 'ST7162J0_sequences.npz', 'ST7212J0_epochs.npz', 'ST7011J0_epochs.npz', 'ST7212J0_sequences.npz', 'ST7011J0_sequences.npz', 'ST7101J0_epochs.npz', 'ST7072J0_epochs.npz', 'ST7101J0_sequences.npz', 'ST7072J0_sequences.npz', 'ST7201J0_epochs.npz', 'ST7171J0_epochs.npz', 'ST7201J0_sequences.npz', 'ST7171J0_sequences.npz', 'ST7061J0_epochs.npz', 'ST7112J0_epochs.npz', 'ST7061J0_sequences.npz', 'ST7112J0_sequences.npz', 'ST7082J0_epochs.npz', 'ST7142J0_epochs.npz', 'ST7082J0_sequences.npz', 'ST7142J0_sequences.npz', 'ST7052J0_epochs.npz', 'ST7121J0_epochs.npz', 'ST7052J0_sequences.npz', 'ST7121J0_sequences.npz', 'ST7192J0_epochs.npz', 'ST7192J0_sequences.npz']\n"
          ]
        }
      ]
    },
    {
      "cell_type": "code",
      "source": [
        "BATCH_SIZE = 16\n",
        "NUM_EPOCHS = 20\n",
        "LEARNING_RATE = 1e-3\n",
        "TRAIN_VAL_SPLIT = 0.8\n",
        "DEVICE = torch.device(\"cuda\" if torch.cuda.is_available() else \"cpu\")"
      ],
      "metadata": {
        "id": "oT53zZbwvxZ_"
      },
      "execution_count": 6,
      "outputs": []
    },
    {
      "cell_type": "code",
      "source": [
        "print(\"CUDA available:\", torch.cuda.is_available())"
      ],
      "metadata": {
        "colab": {
          "base_uri": "https://localhost:8080/"
        },
        "id": "dqle45iV4s_l",
        "outputId": "d4dbc744-0dbb-4569-e574-a53f5c3ce615"
      },
      "execution_count": 7,
      "outputs": [
        {
          "output_type": "stream",
          "name": "stdout",
          "text": [
            "CUDA available: True\n"
          ]
        }
      ]
    },
    {
      "cell_type": "code",
      "source": [
        "EMBEDDING_DIM = 128   # Dimension of the CNN encoder output per epoch\n",
        "NUM_CLASSES = 5       # 0: Wake, 1: N1, 2: N2, 3: N3, 4: REM\n",
        "NUM_TRANSFORMER_LAYERS = 2\n",
        "NUM_HEADS = 4\n",
        "DROPOUT = 0.1\n",
        "SEQ_LENGTH = 20       # Number of epochs per sequence (must match preprocessing)"
      ],
      "metadata": {
        "id": "yY2kW6JBvz7o"
      },
      "execution_count": 8,
      "outputs": []
    },
    {
      "cell_type": "code",
      "source": [
        "class SleepSequenceDataset(Dataset):\n",
        "    def __init__(self, data_dir):\n",
        "        # Find all NPZ files ending with _sequences.npz\n",
        "        self.files = glob.glob(os.path.join(data_dir, '*_sequences.npz'))\n",
        "        sequences_list = []\n",
        "        labels_list = []\n",
        "        for f in self.files:\n",
        "            loaded = np.load(f)\n",
        "            sequences_list.append(loaded['sequences'])  # shape: (n_seq, 20, 2, 3000)\n",
        "            labels_list.append(loaded['seq_labels'])      # shape: (n_seq, 20)\n",
        "        self.sequences = np.concatenate(sequences_list, axis=0)\n",
        "        self.seq_labels = np.concatenate(labels_list, axis=0)\n",
        "        self.sequences = torch.from_numpy(self.sequences).float()\n",
        "        self.seq_labels = torch.from_numpy(self.seq_labels).long()\n",
        "\n",
        "    def __len__(self):\n",
        "        return self.sequences.shape[0]\n",
        "\n",
        "    def __getitem__(self, idx):\n",
        "        return self.sequences[idx], self.seq_labels[idx]"
      ],
      "metadata": {
        "id": "NwT759n5v4Xp"
      },
      "execution_count": 9,
      "outputs": []
    },
    {
      "cell_type": "code",
      "source": [
        "class EpochEncoder(nn.Module):\n",
        "    def __init__(self, embedding_dim):\n",
        "        super(EpochEncoder, self).__init__()\n",
        "        self.net = nn.Sequential(\n",
        "            nn.Conv1d(in_channels=2, out_channels=16, kernel_size=50, stride=6),\n",
        "            nn.ReLU(),\n",
        "            nn.MaxPool1d(kernel_size=8, stride=8),\n",
        "            nn.Conv1d(in_channels=16, out_channels=32, kernel_size=8, stride=2),\n",
        "            nn.ReLU(),\n",
        "            nn.MaxPool1d(kernel_size=4, stride=4)\n",
        "        )\n",
        "        #Passing dummy input to automatically calculate no. of features and avoid mismatch error\n",
        "        with torch.no_grad():\n",
        "            dummy_input = torch.zeros(1, 2, 3000)\n",
        "            dummy_output = self.net(dummy_input)\n",
        "            n_features = dummy_output.numel() // dummy_output.shape[0]  # Total features per sample\n",
        "        self.fc = nn.Linear(n_features, embedding_dim)\n",
        "        # The output dimension is computed approximately based on the input size 3000\n",
        "        #self.fc = nn.Linear(32 * (((3000 - 50) // 6 + 1) // 8 // 4), embedding_dim)\n",
        "\n",
        "    def forward(self, x):\n",
        "        # x: (batch, 2, 3000)\n",
        "        out = self.net(x)\n",
        "        out = out.view(out.size(0), -1)\n",
        "        embedding = self.fc(out)\n",
        "        return embedding"
      ],
      "metadata": {
        "id": "DVDcUplEv49-"
      },
      "execution_count": 10,
      "outputs": []
    },
    {
      "cell_type": "code",
      "source": [
        "class SleepTransformer(nn.Module):\n",
        "    def __init__(self, embedding_dim, num_classes, num_layers, num_heads, dropout, seq_length):\n",
        "        super(SleepTransformer, self).__init__()\n",
        "        self.encoder = EpochEncoder(embedding_dim) #create embeddings using features (catch22) and then add the transformer to it\n",
        "        encoder_layer = nn.TransformerEncoderLayer(d_model=embedding_dim, nhead=num_heads, dropout=dropout)\n",
        "        self.transformer = nn.TransformerEncoder(encoder_layer, num_layers=num_layers)\n",
        "        self.classifier = nn.Linear(embedding_dim, num_classes)\n",
        "        self.seq_length = seq_length\n",
        "\n",
        "    def forward(self, x):\n",
        "        # x: (batch, seq_length, 2, 3000)\n",
        "        batch_size, seq_len = x.size(0), x.size(1)\n",
        "        x = x.view(-1, x.size(2), x.size(3))  # (batch*seq_length, 2, 3000)\n",
        "        epoch_emb = self.encoder(x)           # (batch*seq_length, embedding_dim)\n",
        "        epoch_emb = epoch_emb.view(batch_size, seq_len, -1)\n",
        "        epoch_emb = epoch_emb.transpose(0, 1)   # (seq_length, batch, embedding_dim)\n",
        "        transformer_out = self.transformer(epoch_emb)\n",
        "        transformer_out = transformer_out.transpose(0, 1)  # (batch, seq_length, embedding_dim)\n",
        "        logits = self.classifier(transformer_out)  # (batch, seq_length, num_classes)\n",
        "        return logits"
      ],
      "metadata": {
        "id": "CUpbinAmwBgT"
      },
      "execution_count": 11,
      "outputs": []
    },
    {
      "cell_type": "code",
      "source": [
        "def train_epoch(model, dataloader, criterion, optimizer, device):\n",
        "    model.train()\n",
        "    running_loss = 0.0\n",
        "    all_preds = []\n",
        "    all_labels = []\n",
        "    for seq, labels in dataloader:\n",
        "        seq, labels = seq.to(device), labels.to(device)\n",
        "        optimizer.zero_grad()\n",
        "        logits = model(seq)  # (batch, seq_length, num_classes)\n",
        "        loss = criterion(logits.view(-1, NUM_CLASSES), labels.view(-1))\n",
        "        loss.backward()\n",
        "        optimizer.step()\n",
        "        running_loss += loss.item() * seq.size(0)\n",
        "        preds = torch.argmax(logits, dim=-1)\n",
        "        all_preds.append(preds.cpu().detach().numpy())\n",
        "        all_labels.append(labels.cpu().detach().numpy())\n",
        "    epoch_loss = running_loss / len(dataloader.dataset)\n",
        "    all_preds = np.concatenate(all_preds).flatten()\n",
        "    all_labels = np.concatenate(all_labels).flatten()\n",
        "    acc = accuracy_score(all_labels, all_preds)\n",
        "    return epoch_loss, acc"
      ],
      "metadata": {
        "id": "Weai9I38wEBt"
      },
      "execution_count": 12,
      "outputs": []
    },
    {
      "cell_type": "code",
      "source": [
        "import torch.nn.functional as F\n",
        "\n",
        "def eval_epoch(model, dataloader, criterion, device):\n",
        "    model.eval()\n",
        "    running_loss = 0.0\n",
        "    all_preds = []\n",
        "    all_labels = []\n",
        "    all_probs = []  # <--- store probabilities for ROC\n",
        "\n",
        "    with torch.no_grad():\n",
        "        for seq, labels in dataloader:\n",
        "            seq, labels = seq.to(device), labels.to(device)\n",
        "            logits = model(seq)  # shape: (batch, seq_length, NUM_CLASSES)\n",
        "\n",
        "            # Compute loss\n",
        "            loss = criterion(logits.view(-1, NUM_CLASSES), labels.view(-1))\n",
        "            running_loss += loss.item() * seq.size(0)\n",
        "\n",
        "            # Predicted classes\n",
        "            preds = torch.argmax(logits, dim=-1)\n",
        "            all_preds.append(preds.cpu().numpy())\n",
        "            all_labels.append(labels.cpu().numpy())\n",
        "\n",
        "            # Softmax probabilities for ROC\n",
        "            probs = F.softmax(logits, dim=-1)  # shape: (batch, seq_length, NUM_CLASSES)\n",
        "            all_probs.append(probs.cpu().numpy())\n",
        "\n",
        "    # Convert lists to NumPy arrays\n",
        "    epoch_loss = running_loss / len(dataloader.dataset)\n",
        "    all_preds = np.concatenate(all_preds).ravel()    # shape: (N,)\n",
        "    all_labels = np.concatenate(all_labels).ravel()  # shape: (N,)\n",
        "\n",
        "    # Flatten probabilities to shape (N, NUM_CLASSES)\n",
        "    all_probs = np.concatenate(all_probs, axis=0).reshape(-1, NUM_CLASSES)\n",
        "\n",
        "    acc = accuracy_score(all_labels, all_preds)\n",
        "\n",
        "    # Now we return 5 items, including val_probs\n",
        "    return epoch_loss, acc, all_preds, all_labels, all_probs\n"
      ],
      "metadata": {
        "id": "LGX4FkLRwHLb"
      },
      "execution_count": 13,
      "outputs": []
    },
    {
      "cell_type": "code",
      "source": [
        "def plot_curves(train_losses, val_losses, train_accs, val_accs):\n",
        "    epochs = range(1, len(train_losses)+1)\n",
        "    plt.figure(figsize=(12,5))\n",
        "    plt.subplot(1,2,1)\n",
        "    plt.plot(epochs, train_losses, label='Train Loss')\n",
        "    plt.plot(epochs, val_losses, label='Val Loss')\n",
        "    plt.xlabel('Epoch')\n",
        "    plt.ylabel('Loss')\n",
        "    plt.legend()\n",
        "    plt.subplot(1,2,2)\n",
        "    plt.plot(epochs, train_accs, label='Train Acc')\n",
        "    plt.plot(epochs, val_accs, label='Val Acc')\n",
        "    plt.xlabel('Epoch')\n",
        "    plt.ylabel('Accuracy')\n",
        "    plt.legend()\n",
        "    plt.show()"
      ],
      "metadata": {
        "id": "mwT8mFARwOVl"
      },
      "execution_count": 14,
      "outputs": []
    },
    {
      "cell_type": "code",
      "source": [
        "def plot_confusion(all_labels, all_preds):\n",
        "    cm = confusion_matrix(all_labels, all_preds)\n",
        "    plt.figure(figsize=(6,6))\n",
        "    plt.imshow(cm, interpolation='nearest', cmap=plt.cm.Blues)\n",
        "    plt.title(\"Confusion Matrix\")\n",
        "    plt.colorbar()\n",
        "    classes = ['W', 'N1', 'N2', 'N3', 'R']\n",
        "    tick_marks = np.arange(len(classes))\n",
        "    plt.xticks(tick_marks, classes)\n",
        "    plt.yticks(tick_marks, classes)\n",
        "    thresh = cm.max() / 2.\n",
        "    for i, j in itertools.product(range(cm.shape[0]), range(cm.shape[1])):\n",
        "        plt.text(j, i, format(cm[i, j], 'd'),\n",
        "                 horizontalalignment=\"center\",\n",
        "                 color=\"white\" if cm[i, j] > thresh else \"black\")\n",
        "    plt.ylabel('True label')\n",
        "    plt.xlabel('Predicted label')\n",
        "    plt.tight_layout()\n",
        "    plt.show()"
      ],
      "metadata": {
        "id": "i_iAwS9XwP8Y"
      },
      "execution_count": 15,
      "outputs": []
    },
    {
      "cell_type": "code",
      "source": [
        "from sklearn.metrics import confusion_matrix, accuracy_score"
      ],
      "metadata": {
        "id": "lM99BAeZwRnf"
      },
      "execution_count": 16,
      "outputs": []
    },
    {
      "cell_type": "code",
      "source": [
        "from tqdm.notebook import tqdm"
      ],
      "metadata": {
        "id": "be9O2ifp52Fa"
      },
      "execution_count": 17,
      "outputs": []
    },
    {
      "cell_type": "code",
      "source": [
        "def compute_metrics(y_true, y_pred, class_names=None):\n",
        "    \"\"\"\n",
        "    Compute and print various classification metrics.\n",
        "    y_true, y_pred: 1D numpy arrays of integer class labels.\n",
        "    class_names: Optional list of class names (e.g. [\"W\", \"N1\", \"N2\", \"N3\", \"REM\"]).\n",
        "    \"\"\"\n",
        "    # Overall accuracy\n",
        "    acc = accuracy_score(y_true, y_pred)\n",
        "\n",
        "    # F1 scores\n",
        "    f1_macro = f1_score(y_true, y_pred, average='macro')\n",
        "    f1_per_class = f1_score(y_true, y_pred, average=None)\n",
        "\n",
        "    # Cohen’s Kappa\n",
        "    kappa = cohen_kappa_score(y_true, y_pred)\n",
        "\n",
        "    # Confusion matrix\n",
        "    cm = confusion_matrix(y_true, y_pred)\n",
        "\n",
        "    # Sensitivity & Specificity per class\n",
        "    # (Note: \"sensitivity\" is the same as \"recall\" for that class)\n",
        "    #        \"specificity\" = TN / (TN + FP)\n",
        "    # We can compute them from the confusion matrix:\n",
        "    #    TP = cm[i, i]\n",
        "    #    FN = sum(cm[i, :]) - cm[i, i]\n",
        "    #    FP = sum(cm[:, i]) - cm[i, i]\n",
        "    #    TN = total_sum - (TP + FN + FP)\n",
        "    total_sum = cm.sum()\n",
        "    per_class_sens = []\n",
        "    per_class_spec = []\n",
        "    for i in range(cm.shape[0]):\n",
        "        TP = cm[i, i]\n",
        "        FN = cm[i, :].sum() - TP\n",
        "        FP = cm[:, i].sum() - TP\n",
        "        TN = total_sum - (TP + FN + FP)\n",
        "\n",
        "        sensitivity = TP / (TP + FN + 1e-9)\n",
        "        specificity = TN / (TN + FP + 1e-9)\n",
        "        per_class_sens.append(sensitivity)\n",
        "        per_class_spec.append(specificity)\n",
        "\n",
        "    # Print classification report\n",
        "    # This automatically shows precision, recall, F1, and support for each class\n",
        "    if class_names is not None:\n",
        "        print(\"\\nClassification Report:\")\n",
        "        print(classification_report(y_true, y_pred, target_names=class_names, digits=4))\n",
        "    else:\n",
        "        print(\"\\nClassification Report:\")\n",
        "        print(classification_report(y_true, y_pred, digits=4))\n",
        "\n",
        "    # Organize everything in a dictionary\n",
        "    metrics_dict = {\n",
        "        'Accuracy': acc,\n",
        "        'Macro_F1': f1_macro,\n",
        "        'F1_per_class': f1_per_class,\n",
        "        'Cohen_Kappa': kappa,\n",
        "        'Sensitivity_per_class': per_class_sens,\n",
        "        'Specificity_per_class': per_class_spec\n",
        "    }\n",
        "    return metrics_dict"
      ],
      "metadata": {
        "id": "0qdXs-PpbRTh"
      },
      "execution_count": 22,
      "outputs": []
    },
    {
      "cell_type": "code",
      "source": [
        "from sklearn.preprocessing import label_binarize\n",
        "from sklearn.metrics import roc_curve, auc\n",
        "\n",
        "def plot_roc_curves(y_true, y_score, class_names=None):\n",
        "    \"\"\"\n",
        "    Plot one-vs-rest ROC curves for each class in a multi-class setting.\n",
        "\n",
        "    Parameters:\n",
        "    -----------\n",
        "    y_true : 1D array-like of shape (N,)\n",
        "        Ground truth integer labels (0..num_classes-1).\n",
        "    y_score : 2D array-like of shape (N, num_classes)\n",
        "        Predicted probabilities for each class (softmax output).\n",
        "    class_names : list of str, optional\n",
        "        Class names to display in the legend. Must have length == num_classes.\n",
        "    \"\"\"\n",
        "    n_classes = y_score.shape[1]\n",
        "\n",
        "    # Binarize the labels for a one-vs-rest ROC\n",
        "    # e.g. [0,2,1,...] -> [[1,0,0,0,0], [0,0,1,0,0], [0,1,0,0,0], ...]\n",
        "    y_true_bin = label_binarize(y_true, classes=range(n_classes))\n",
        "\n",
        "    fpr = {}\n",
        "    tpr = {}\n",
        "    roc_auc = {}\n",
        "\n",
        "    # Compute ROC curve and AUC for each class\n",
        "    for i in range(n_classes):\n",
        "        fpr[i], tpr[i], _ = roc_curve(y_true_bin[:, i], y_score[:, i])\n",
        "        roc_auc[i] = auc(fpr[i], tpr[i])\n",
        "\n",
        "    # Plot all ROC curves\n",
        "    plt.figure(figsize=(7,7))\n",
        "    colors = ['blue', 'red', 'green', 'purple', 'orange', 'cyan', 'darkgreen']\n",
        "    for i in range(n_classes):\n",
        "        if class_names and i < len(class_names):\n",
        "            label_str = f\"{class_names[i]} (AUC = {roc_auc[i]:.2f})\"\n",
        "        else:\n",
        "            label_str = f\"Class {i} (AUC = {roc_auc[i]:.2f})\"\n",
        "        plt.plot(fpr[i], tpr[i], color=colors[i % len(colors)], lw=2, label=label_str)\n",
        "\n",
        "    # Plot a random guess line\n",
        "    plt.plot([0, 1], [0, 1], 'k--', lw=2)\n",
        "    plt.xlim([0.0, 1.0])\n",
        "    plt.ylim([0.0, 1.05])\n",
        "    plt.xlabel('False Positive Rate')\n",
        "    plt.ylabel('True Positive Rate')\n",
        "    plt.title('ROC Curves per Class')\n",
        "    plt.legend(loc=\"lower right\")\n",
        "    plt.show()"
      ],
      "metadata": {
        "id": "010qrwWKcOA_"
      },
      "execution_count": 19,
      "outputs": []
    },
    {
      "cell_type": "code",
      "source": [
        "dataset = SleepSequenceDataset(DATA_DIR)"
      ],
      "metadata": {
        "id": "ZCvD_NX6oRP4"
      },
      "execution_count": null,
      "outputs": []
    },
    {
      "cell_type": "code",
      "source": [
        "# Load dataset from processed sequence NPZ files\n",
        "total_len = len(dataset)\n",
        "train_len = int(TRAIN_VAL_SPLIT * total_len)\n",
        "val_len = total_len - train_len\n",
        "train_dataset, val_dataset = random_split(dataset, [train_len, val_len])\n",
        "train_loader = DataLoader(train_dataset, batch_size=BATCH_SIZE, shuffle=True)\n",
        "val_loader = DataLoader(val_dataset, batch_size=BATCH_SIZE, shuffle=False)\n",
        "\n",
        "model = SleepTransformer(EMBEDDING_DIM, NUM_CLASSES, NUM_TRANSFORMER_LAYERS, NUM_HEADS, DROPOUT, SEQ_LENGTH)\n",
        "model.to(DEVICE)\n",
        "criterion = nn.CrossEntropyLoss()\n",
        "optimizer = optim.Adam(model.parameters(), lr=LEARNING_RATE)\n",
        "\n",
        "train_losses, val_losses = [], []\n",
        "train_accs, val_accs = [], []\n",
        "\n",
        "for epoch in tqdm(range(1, NUM_EPOCHS+1), desc=\"Training Epochs\"):\n",
        "    train_loss, train_acc = train_epoch(model, train_loader, criterion, optimizer, DEVICE)\n",
        "    val_loss, val_acc, val_preds, val_labels, _ = eval_epoch(model, val_loader, criterion, DEVICE)\n",
        "    train_losses.append(train_loss)\n",
        "    val_losses.append(val_loss)\n",
        "    train_accs.append(train_acc)\n",
        "    val_accs.append(val_acc)\n",
        "    print(f\"Epoch {epoch}/{NUM_EPOCHS}: Train Loss={train_loss:.4f}, Train Acc={train_acc:.4f}, Val Loss={val_loss:.4f}, Val Acc={val_acc:.4f}\")\n",
        "\n",
        "plot_curves(train_losses, val_losses, train_accs, val_accs)\n",
        "_, _, val_preds, val_labels, _ = eval_epoch(model, val_loader, criterion, DEVICE)\n",
        "plot_confusion(val_labels, val_preds)\n",
        "\n",
        "    # Save the model checkpoint in RESULT_DIR\n",
        "    #torch.save(model.state_dict(), os.path.join(RESULT_DIR, 'sleep_transformer_model.pth'))"
      ],
      "metadata": {
        "id": "KEjycEGMwWZk",
        "colab": {
          "base_uri": "https://localhost:8080/",
          "height": 365
        },
        "outputId": "a2ed888d-df39-440f-bac6-5997cbc8002f"
      },
      "execution_count": 20,
      "outputs": [
        {
          "output_type": "error",
          "ename": "ConnectionAbortedError",
          "evalue": "[Errno 103] Software caused connection abort",
          "traceback": [
            "\u001b[0;31m---------------------------------------------------------------------------\u001b[0m",
            "\u001b[0;31mConnectionAbortedError\u001b[0m                    Traceback (most recent call last)",
            "\u001b[0;32m<ipython-input-20-279c6033354e>\u001b[0m in \u001b[0;36m<cell line: 0>\u001b[0;34m()\u001b[0m\n\u001b[1;32m      1\u001b[0m \u001b[0;31m# Load dataset from processed sequence NPZ files\u001b[0m\u001b[0;34m\u001b[0m\u001b[0;34m\u001b[0m\u001b[0m\n\u001b[0;32m----> 2\u001b[0;31m \u001b[0mdataset\u001b[0m \u001b[0;34m=\u001b[0m \u001b[0mSleepSequenceDataset\u001b[0m\u001b[0;34m(\u001b[0m\u001b[0mDATA_DIR\u001b[0m\u001b[0;34m)\u001b[0m\u001b[0;34m\u001b[0m\u001b[0;34m\u001b[0m\u001b[0m\n\u001b[0m\u001b[1;32m      3\u001b[0m \u001b[0mtotal_len\u001b[0m \u001b[0;34m=\u001b[0m \u001b[0mlen\u001b[0m\u001b[0;34m(\u001b[0m\u001b[0mdataset\u001b[0m\u001b[0;34m)\u001b[0m\u001b[0;34m\u001b[0m\u001b[0;34m\u001b[0m\u001b[0m\n\u001b[1;32m      4\u001b[0m \u001b[0mtrain_len\u001b[0m \u001b[0;34m=\u001b[0m \u001b[0mint\u001b[0m\u001b[0;34m(\u001b[0m\u001b[0mTRAIN_VAL_SPLIT\u001b[0m \u001b[0;34m*\u001b[0m \u001b[0mtotal_len\u001b[0m\u001b[0;34m)\u001b[0m\u001b[0;34m\u001b[0m\u001b[0;34m\u001b[0m\u001b[0m\n\u001b[1;32m      5\u001b[0m \u001b[0mval_len\u001b[0m \u001b[0;34m=\u001b[0m \u001b[0mtotal_len\u001b[0m \u001b[0;34m-\u001b[0m \u001b[0mtrain_len\u001b[0m\u001b[0;34m\u001b[0m\u001b[0;34m\u001b[0m\u001b[0m\n",
            "\u001b[0;32m<ipython-input-9-e049efdbac82>\u001b[0m in \u001b[0;36m__init__\u001b[0;34m(self, data_dir)\u001b[0m\n\u001b[1;32m      7\u001b[0m         \u001b[0;32mfor\u001b[0m \u001b[0mf\u001b[0m \u001b[0;32min\u001b[0m \u001b[0mself\u001b[0m\u001b[0;34m.\u001b[0m\u001b[0mfiles\u001b[0m\u001b[0;34m:\u001b[0m\u001b[0;34m\u001b[0m\u001b[0;34m\u001b[0m\u001b[0m\n\u001b[1;32m      8\u001b[0m             \u001b[0mloaded\u001b[0m \u001b[0;34m=\u001b[0m \u001b[0mnp\u001b[0m\u001b[0;34m.\u001b[0m\u001b[0mload\u001b[0m\u001b[0;34m(\u001b[0m\u001b[0mf\u001b[0m\u001b[0;34m)\u001b[0m\u001b[0;34m\u001b[0m\u001b[0;34m\u001b[0m\u001b[0m\n\u001b[0;32m----> 9\u001b[0;31m             \u001b[0msequences_list\u001b[0m\u001b[0;34m.\u001b[0m\u001b[0mappend\u001b[0m\u001b[0;34m(\u001b[0m\u001b[0mloaded\u001b[0m\u001b[0;34m[\u001b[0m\u001b[0;34m'sequences'\u001b[0m\u001b[0;34m]\u001b[0m\u001b[0;34m)\u001b[0m  \u001b[0;31m# shape: (n_seq, 20, 2, 3000)\u001b[0m\u001b[0;34m\u001b[0m\u001b[0;34m\u001b[0m\u001b[0m\n\u001b[0m\u001b[1;32m     10\u001b[0m             \u001b[0mlabels_list\u001b[0m\u001b[0;34m.\u001b[0m\u001b[0mappend\u001b[0m\u001b[0;34m(\u001b[0m\u001b[0mloaded\u001b[0m\u001b[0;34m[\u001b[0m\u001b[0;34m'seq_labels'\u001b[0m\u001b[0;34m]\u001b[0m\u001b[0;34m)\u001b[0m      \u001b[0;31m# shape: (n_seq, 20)\u001b[0m\u001b[0;34m\u001b[0m\u001b[0;34m\u001b[0m\u001b[0m\n\u001b[1;32m     11\u001b[0m         \u001b[0mself\u001b[0m\u001b[0;34m.\u001b[0m\u001b[0msequences\u001b[0m \u001b[0;34m=\u001b[0m \u001b[0mnp\u001b[0m\u001b[0;34m.\u001b[0m\u001b[0mconcatenate\u001b[0m\u001b[0;34m(\u001b[0m\u001b[0msequences_list\u001b[0m\u001b[0;34m,\u001b[0m \u001b[0maxis\u001b[0m\u001b[0;34m=\u001b[0m\u001b[0;36m0\u001b[0m\u001b[0;34m)\u001b[0m\u001b[0;34m\u001b[0m\u001b[0;34m\u001b[0m\u001b[0m\n",
            "\u001b[0;32m/usr/local/lib/python3.11/dist-packages/numpy/lib/_npyio_impl.py\u001b[0m in \u001b[0;36m__getitem__\u001b[0;34m(self, key)\u001b[0m\n\u001b[1;32m    254\u001b[0m             \u001b[0;32mif\u001b[0m \u001b[0mmagic\u001b[0m \u001b[0;34m==\u001b[0m \u001b[0mformat\u001b[0m\u001b[0;34m.\u001b[0m\u001b[0mMAGIC_PREFIX\u001b[0m\u001b[0;34m:\u001b[0m\u001b[0;34m\u001b[0m\u001b[0;34m\u001b[0m\u001b[0m\n\u001b[1;32m    255\u001b[0m                 \u001b[0mbytes\u001b[0m \u001b[0;34m=\u001b[0m \u001b[0mself\u001b[0m\u001b[0;34m.\u001b[0m\u001b[0mzip\u001b[0m\u001b[0;34m.\u001b[0m\u001b[0mopen\u001b[0m\u001b[0;34m(\u001b[0m\u001b[0mkey\u001b[0m\u001b[0;34m)\u001b[0m\u001b[0;34m\u001b[0m\u001b[0;34m\u001b[0m\u001b[0m\n\u001b[0;32m--> 256\u001b[0;31m                 return format.read_array(bytes,\n\u001b[0m\u001b[1;32m    257\u001b[0m                                          \u001b[0mallow_pickle\u001b[0m\u001b[0;34m=\u001b[0m\u001b[0mself\u001b[0m\u001b[0;34m.\u001b[0m\u001b[0mallow_pickle\u001b[0m\u001b[0;34m,\u001b[0m\u001b[0;34m\u001b[0m\u001b[0;34m\u001b[0m\u001b[0m\n\u001b[1;32m    258\u001b[0m                                          \u001b[0mpickle_kwargs\u001b[0m\u001b[0;34m=\u001b[0m\u001b[0mself\u001b[0m\u001b[0;34m.\u001b[0m\u001b[0mpickle_kwargs\u001b[0m\u001b[0;34m,\u001b[0m\u001b[0;34m\u001b[0m\u001b[0;34m\u001b[0m\u001b[0m\n",
            "\u001b[0;32m/usr/local/lib/python3.11/dist-packages/numpy/lib/format.py\u001b[0m in \u001b[0;36mread_array\u001b[0;34m(fp, allow_pickle, pickle_kwargs, max_header_size)\u001b[0m\n\u001b[1;32m    856\u001b[0m                     \u001b[0mread_count\u001b[0m \u001b[0;34m=\u001b[0m \u001b[0mmin\u001b[0m\u001b[0;34m(\u001b[0m\u001b[0mmax_read_count\u001b[0m\u001b[0;34m,\u001b[0m \u001b[0mcount\u001b[0m \u001b[0;34m-\u001b[0m \u001b[0mi\u001b[0m\u001b[0;34m)\u001b[0m\u001b[0;34m\u001b[0m\u001b[0;34m\u001b[0m\u001b[0m\n\u001b[1;32m    857\u001b[0m                     \u001b[0mread_size\u001b[0m \u001b[0;34m=\u001b[0m \u001b[0mint\u001b[0m\u001b[0;34m(\u001b[0m\u001b[0mread_count\u001b[0m \u001b[0;34m*\u001b[0m \u001b[0mdtype\u001b[0m\u001b[0;34m.\u001b[0m\u001b[0mitemsize\u001b[0m\u001b[0;34m)\u001b[0m\u001b[0;34m\u001b[0m\u001b[0;34m\u001b[0m\u001b[0m\n\u001b[0;32m--> 858\u001b[0;31m                     \u001b[0mdata\u001b[0m \u001b[0;34m=\u001b[0m \u001b[0m_read_bytes\u001b[0m\u001b[0;34m(\u001b[0m\u001b[0mfp\u001b[0m\u001b[0;34m,\u001b[0m \u001b[0mread_size\u001b[0m\u001b[0;34m,\u001b[0m \u001b[0;34m\"array data\"\u001b[0m\u001b[0;34m)\u001b[0m\u001b[0;34m\u001b[0m\u001b[0;34m\u001b[0m\u001b[0m\n\u001b[0m\u001b[1;32m    859\u001b[0m                     array[i:i+read_count] = numpy.frombuffer(data, dtype=dtype,\n\u001b[1;32m    860\u001b[0m                                                              count=read_count)\n",
            "\u001b[0;32m/usr/local/lib/python3.11/dist-packages/numpy/lib/format.py\u001b[0m in \u001b[0;36m_read_bytes\u001b[0;34m(fp, size, error_template)\u001b[0m\n\u001b[1;32m    991\u001b[0m         \u001b[0;31m# done about that.  note that regular files can't be non-blocking\u001b[0m\u001b[0;34m\u001b[0m\u001b[0;34m\u001b[0m\u001b[0m\n\u001b[1;32m    992\u001b[0m         \u001b[0;32mtry\u001b[0m\u001b[0;34m:\u001b[0m\u001b[0;34m\u001b[0m\u001b[0;34m\u001b[0m\u001b[0m\n\u001b[0;32m--> 993\u001b[0;31m             \u001b[0mr\u001b[0m \u001b[0;34m=\u001b[0m \u001b[0mfp\u001b[0m\u001b[0;34m.\u001b[0m\u001b[0mread\u001b[0m\u001b[0;34m(\u001b[0m\u001b[0msize\u001b[0m \u001b[0;34m-\u001b[0m \u001b[0mlen\u001b[0m\u001b[0;34m(\u001b[0m\u001b[0mdata\u001b[0m\u001b[0;34m)\u001b[0m\u001b[0;34m)\u001b[0m\u001b[0;34m\u001b[0m\u001b[0;34m\u001b[0m\u001b[0m\n\u001b[0m\u001b[1;32m    994\u001b[0m             \u001b[0mdata\u001b[0m \u001b[0;34m+=\u001b[0m \u001b[0mr\u001b[0m\u001b[0;34m\u001b[0m\u001b[0;34m\u001b[0m\u001b[0m\n\u001b[1;32m    995\u001b[0m             \u001b[0;32mif\u001b[0m \u001b[0mlen\u001b[0m\u001b[0;34m(\u001b[0m\u001b[0mr\u001b[0m\u001b[0;34m)\u001b[0m \u001b[0;34m==\u001b[0m \u001b[0;36m0\u001b[0m \u001b[0;32mor\u001b[0m \u001b[0mlen\u001b[0m\u001b[0;34m(\u001b[0m\u001b[0mdata\u001b[0m\u001b[0;34m)\u001b[0m \u001b[0;34m==\u001b[0m \u001b[0msize\u001b[0m\u001b[0;34m:\u001b[0m\u001b[0;34m\u001b[0m\u001b[0;34m\u001b[0m\u001b[0m\n",
            "\u001b[0;32m/usr/lib/python3.11/zipfile.py\u001b[0m in \u001b[0;36mread\u001b[0;34m(self, n)\u001b[0m\n\u001b[1;32m    964\u001b[0m         \u001b[0mself\u001b[0m\u001b[0;34m.\u001b[0m\u001b[0m_offset\u001b[0m \u001b[0;34m=\u001b[0m \u001b[0;36m0\u001b[0m\u001b[0;34m\u001b[0m\u001b[0;34m\u001b[0m\u001b[0m\n\u001b[1;32m    965\u001b[0m         \u001b[0;32mwhile\u001b[0m \u001b[0mn\u001b[0m \u001b[0;34m>\u001b[0m \u001b[0;36m0\u001b[0m \u001b[0;32mand\u001b[0m \u001b[0;32mnot\u001b[0m \u001b[0mself\u001b[0m\u001b[0;34m.\u001b[0m\u001b[0m_eof\u001b[0m\u001b[0;34m:\u001b[0m\u001b[0;34m\u001b[0m\u001b[0;34m\u001b[0m\u001b[0m\n\u001b[0;32m--> 966\u001b[0;31m             \u001b[0mdata\u001b[0m \u001b[0;34m=\u001b[0m \u001b[0mself\u001b[0m\u001b[0;34m.\u001b[0m\u001b[0m_read1\u001b[0m\u001b[0;34m(\u001b[0m\u001b[0mn\u001b[0m\u001b[0;34m)\u001b[0m\u001b[0;34m\u001b[0m\u001b[0;34m\u001b[0m\u001b[0m\n\u001b[0m\u001b[1;32m    967\u001b[0m             \u001b[0;32mif\u001b[0m \u001b[0mn\u001b[0m \u001b[0;34m<\u001b[0m \u001b[0mlen\u001b[0m\u001b[0;34m(\u001b[0m\u001b[0mdata\u001b[0m\u001b[0;34m)\u001b[0m\u001b[0;34m:\u001b[0m\u001b[0;34m\u001b[0m\u001b[0;34m\u001b[0m\u001b[0m\n\u001b[1;32m    968\u001b[0m                 \u001b[0mself\u001b[0m\u001b[0;34m.\u001b[0m\u001b[0m_readbuffer\u001b[0m \u001b[0;34m=\u001b[0m \u001b[0mdata\u001b[0m\u001b[0;34m\u001b[0m\u001b[0;34m\u001b[0m\u001b[0m\n",
            "\u001b[0;32m/usr/lib/python3.11/zipfile.py\u001b[0m in \u001b[0;36m_read1\u001b[0;34m(self, n)\u001b[0m\n\u001b[1;32m   1032\u001b[0m             \u001b[0mdata\u001b[0m \u001b[0;34m=\u001b[0m \u001b[0mself\u001b[0m\u001b[0;34m.\u001b[0m\u001b[0m_decompressor\u001b[0m\u001b[0;34m.\u001b[0m\u001b[0munconsumed_tail\u001b[0m\u001b[0;34m\u001b[0m\u001b[0;34m\u001b[0m\u001b[0m\n\u001b[1;32m   1033\u001b[0m             \u001b[0;32mif\u001b[0m \u001b[0mn\u001b[0m \u001b[0;34m>\u001b[0m \u001b[0mlen\u001b[0m\u001b[0;34m(\u001b[0m\u001b[0mdata\u001b[0m\u001b[0;34m)\u001b[0m\u001b[0;34m:\u001b[0m\u001b[0;34m\u001b[0m\u001b[0;34m\u001b[0m\u001b[0m\n\u001b[0;32m-> 1034\u001b[0;31m                 \u001b[0mdata\u001b[0m \u001b[0;34m+=\u001b[0m \u001b[0mself\u001b[0m\u001b[0;34m.\u001b[0m\u001b[0m_read2\u001b[0m\u001b[0;34m(\u001b[0m\u001b[0mn\u001b[0m \u001b[0;34m-\u001b[0m \u001b[0mlen\u001b[0m\u001b[0;34m(\u001b[0m\u001b[0mdata\u001b[0m\u001b[0;34m)\u001b[0m\u001b[0;34m)\u001b[0m\u001b[0;34m\u001b[0m\u001b[0;34m\u001b[0m\u001b[0m\n\u001b[0m\u001b[1;32m   1035\u001b[0m         \u001b[0;32melse\u001b[0m\u001b[0;34m:\u001b[0m\u001b[0;34m\u001b[0m\u001b[0;34m\u001b[0m\u001b[0m\n\u001b[1;32m   1036\u001b[0m             \u001b[0mdata\u001b[0m \u001b[0;34m=\u001b[0m \u001b[0mself\u001b[0m\u001b[0;34m.\u001b[0m\u001b[0m_read2\u001b[0m\u001b[0;34m(\u001b[0m\u001b[0mn\u001b[0m\u001b[0;34m)\u001b[0m\u001b[0;34m\u001b[0m\u001b[0;34m\u001b[0m\u001b[0m\n",
            "\u001b[0;32m/usr/lib/python3.11/zipfile.py\u001b[0m in \u001b[0;36m_read2\u001b[0;34m(self, n)\u001b[0m\n\u001b[1;32m   1064\u001b[0m         \u001b[0mn\u001b[0m \u001b[0;34m=\u001b[0m \u001b[0mmin\u001b[0m\u001b[0;34m(\u001b[0m\u001b[0mn\u001b[0m\u001b[0;34m,\u001b[0m \u001b[0mself\u001b[0m\u001b[0;34m.\u001b[0m\u001b[0m_compress_left\u001b[0m\u001b[0;34m)\u001b[0m\u001b[0;34m\u001b[0m\u001b[0;34m\u001b[0m\u001b[0m\n\u001b[1;32m   1065\u001b[0m \u001b[0;34m\u001b[0m\u001b[0m\n\u001b[0;32m-> 1066\u001b[0;31m         \u001b[0mdata\u001b[0m \u001b[0;34m=\u001b[0m \u001b[0mself\u001b[0m\u001b[0;34m.\u001b[0m\u001b[0m_fileobj\u001b[0m\u001b[0;34m.\u001b[0m\u001b[0mread\u001b[0m\u001b[0;34m(\u001b[0m\u001b[0mn\u001b[0m\u001b[0;34m)\u001b[0m\u001b[0;34m\u001b[0m\u001b[0;34m\u001b[0m\u001b[0m\n\u001b[0m\u001b[1;32m   1067\u001b[0m         \u001b[0mself\u001b[0m\u001b[0;34m.\u001b[0m\u001b[0m_compress_left\u001b[0m \u001b[0;34m-=\u001b[0m \u001b[0mlen\u001b[0m\u001b[0;34m(\u001b[0m\u001b[0mdata\u001b[0m\u001b[0;34m)\u001b[0m\u001b[0;34m\u001b[0m\u001b[0;34m\u001b[0m\u001b[0m\n\u001b[1;32m   1068\u001b[0m         \u001b[0;32mif\u001b[0m \u001b[0;32mnot\u001b[0m \u001b[0mdata\u001b[0m\u001b[0;34m:\u001b[0m\u001b[0;34m\u001b[0m\u001b[0;34m\u001b[0m\u001b[0m\n",
            "\u001b[0;32m/usr/lib/python3.11/zipfile.py\u001b[0m in \u001b[0;36mread\u001b[0;34m(self, n)\u001b[0m\n\u001b[1;32m    784\u001b[0m                         \"Close the writing handle before trying to read.\")\n\u001b[1;32m    785\u001b[0m             \u001b[0mself\u001b[0m\u001b[0;34m.\u001b[0m\u001b[0m_file\u001b[0m\u001b[0;34m.\u001b[0m\u001b[0mseek\u001b[0m\u001b[0;34m(\u001b[0m\u001b[0mself\u001b[0m\u001b[0;34m.\u001b[0m\u001b[0m_pos\u001b[0m\u001b[0;34m)\u001b[0m\u001b[0;34m\u001b[0m\u001b[0;34m\u001b[0m\u001b[0m\n\u001b[0;32m--> 786\u001b[0;31m             \u001b[0mdata\u001b[0m \u001b[0;34m=\u001b[0m \u001b[0mself\u001b[0m\u001b[0;34m.\u001b[0m\u001b[0m_file\u001b[0m\u001b[0;34m.\u001b[0m\u001b[0mread\u001b[0m\u001b[0;34m(\u001b[0m\u001b[0mn\u001b[0m\u001b[0;34m)\u001b[0m\u001b[0;34m\u001b[0m\u001b[0;34m\u001b[0m\u001b[0m\n\u001b[0m\u001b[1;32m    787\u001b[0m             \u001b[0mself\u001b[0m\u001b[0;34m.\u001b[0m\u001b[0m_pos\u001b[0m \u001b[0;34m=\u001b[0m \u001b[0mself\u001b[0m\u001b[0;34m.\u001b[0m\u001b[0m_file\u001b[0m\u001b[0;34m.\u001b[0m\u001b[0mtell\u001b[0m\u001b[0;34m(\u001b[0m\u001b[0;34m)\u001b[0m\u001b[0;34m\u001b[0m\u001b[0;34m\u001b[0m\u001b[0m\n\u001b[1;32m    788\u001b[0m             \u001b[0;32mreturn\u001b[0m \u001b[0mdata\u001b[0m\u001b[0;34m\u001b[0m\u001b[0;34m\u001b[0m\u001b[0m\n",
            "\u001b[0;31mConnectionAbortedError\u001b[0m: [Errno 103] Software caused connection abort"
          ]
        }
      ]
    },
    {
      "cell_type": "code",
      "source": [
        "_, _, val_preds, val_labels, _ = eval_epoch(model, val_loader, criterion, DEVICE)\n",
        "metrics_dict = compute_metrics(val_labels, val_preds, class_names=[\"W\",\"N1\",\"N2\",\"N3\",\"REM\"])\n",
        "print(metrics_dict)"
      ],
      "metadata": {
        "colab": {
          "base_uri": "https://localhost:8080/"
        },
        "id": "7HlE4jlPbSkA",
        "outputId": "595527f8-31b6-4ec9-a6a1-79618f52e6f2"
      },
      "execution_count": null,
      "outputs": [
        {
          "output_type": "stream",
          "name": "stdout",
          "text": [
            "\n",
            "Classification Report:\n",
            "              precision    recall  f1-score   support\n",
            "\n",
            "           W     0.8338    0.8234    0.8286       719\n",
            "          N1     0.6689    0.5601    0.6097       707\n",
            "          N2     0.8712    0.9258    0.8977      4704\n",
            "          N3     0.8672    0.8389    0.8528      1440\n",
            "         REM     0.9082    0.8492    0.8777      1910\n",
            "\n",
            "    accuracy                         0.8621      9480\n",
            "   macro avg     0.8299    0.7995    0.8133      9480\n",
            "weighted avg     0.8601    0.8621    0.8601      9480\n",
            "\n",
            "{'Accuracy': 0.8621308016877637, 'Macro_F1': 0.8132847122379451, 'F1_per_class': array([0.82855143, 0.60969977, 0.89766052, 0.85280621, 0.87770563]), 'Cohen_Kappa': np.float64(0.7935245927728375), 'Sensitivity_per_class': [np.float64(0.8233657858124849), np.float64(0.5601131541717679), np.float64(0.9258078231290549), np.float64(0.8388888888883064), np.float64(0.8492146596854193)], 'Specificity_per_class': [np.float64(0.9865312178973876), np.float64(0.9776587256353609), np.float64(0.8651591289780433), np.float64(0.9769900497511222), np.float64(0.9783355350064757)]}\n"
          ]
        }
      ]
    },
    {
      "cell_type": "code",
      "source": [
        "val_loss, val_acc, val_preds, val_labels, val_probs = eval_epoch(\n",
        "    model, val_loader, criterion, DEVICE\n",
        ")\n",
        "\n",
        "plot_roc_curves(val_labels, val_probs, class_names=[\"W\",\"N1\",\"N2\",\"N3\",\"REM\"])"
      ],
      "metadata": {
        "colab": {
          "base_uri": "https://localhost:8080/",
          "height": 641
        },
        "id": "Qm7IIWTwcFmc",
        "outputId": "9cc40f6c-21c4-43b3-835d-302d519ec808"
      },
      "execution_count": null,
      "outputs": [
        {
          "output_type": "display_data",
          "data": {
            "text/plain": [
              "<Figure size 700x700 with 1 Axes>"
            ],
            "image/png": "[encoded data removed]"
          },
          "metadata": {}
        }
      ]
    }
  ]
}