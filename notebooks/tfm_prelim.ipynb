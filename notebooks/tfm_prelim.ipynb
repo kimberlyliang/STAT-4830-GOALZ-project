{
  "nbformat": 4,
  "nbformat_minor": 0,
  "metadata": {
    "colab": {
      "provenance": [],
      "machine_shape": "hm",
      "gpuType": "A100"
    },
    "kernelspec": {
      "name": "python3",
      "display_name": "Python 3"
    },
    "language_info": {
      "name": "python"
    },
    "accelerator": "GPU",
    "widgets": {
      "application/vnd.jupyter.widget-state+json": {
        "ca61519a966e4b09aa8c2424e4f68bf2": {
          "model_module": "@jupyter-widgets/controls",
          "model_name": "HBoxModel",
          "model_module_version": "1.5.0",
          "state": {
            "_dom_classes": [],
            "_model_module": "@jupyter-widgets/controls",
            "_model_module_version": "1.5.0",
            "_model_name": "HBoxModel",
            "_view_count": null,
            "_view_module": "@jupyter-widgets/controls",
            "_view_module_version": "1.5.0",
            "_view_name": "HBoxView",
            "box_style": "",
            "children": [
              "IPY_MODEL_6e09d4a5ca3b4bf69cca5bca5a5a08e1",
              "IPY_MODEL_d2022cab14c142baa91ec37f449e4e7e",
              "IPY_MODEL_f7364c2f22424d1e8584e3b0bbf0cd4f"
            ],
            "layout": "IPY_MODEL_8765e0b88e904bcea15d2032fbaf9533"
          }
        },
        "6e09d4a5ca3b4bf69cca5bca5a5a08e1": {
          "model_module": "@jupyter-widgets/controls",
          "model_name": "HTMLModel",
          "model_module_version": "1.5.0",
          "state": {
            "_dom_classes": [],
            "_model_module": "@jupyter-widgets/controls",
            "_model_module_version": "1.5.0",
            "_model_name": "HTMLModel",
            "_view_count": null,
            "_view_module": "@jupyter-widgets/controls",
            "_view_module_version": "1.5.0",
            "_view_name": "HTMLView",
            "description": "",
            "description_tooltip": null,
            "layout": "IPY_MODEL_6d0b0e43433d49658cf084c8bdedc4e4",
            "placeholder": "​",
            "style": "IPY_MODEL_645b97659db84bbd9dd588e7f7b1277f",
            "value": "Training Epochs: 100%"
          }
        },
        "d2022cab14c142baa91ec37f449e4e7e": {
          "model_module": "@jupyter-widgets/controls",
          "model_name": "FloatProgressModel",
          "model_module_version": "1.5.0",
          "state": {
            "_dom_classes": [],
            "_model_module": "@jupyter-widgets/controls",
            "_model_module_version": "1.5.0",
            "_model_name": "FloatProgressModel",
            "_view_count": null,
            "_view_module": "@jupyter-widgets/controls",
            "_view_module_version": "1.5.0",
            "_view_name": "ProgressView",
            "bar_style": "success",
            "description": "",
            "description_tooltip": null,
            "layout": "IPY_MODEL_902cb42af31241dab742cc46bc30db19",
            "max": 20,
            "min": 0,
            "orientation": "horizontal",
            "style": "IPY_MODEL_ff8af3556f4742ecbcc011b91443fe6a",
            "value": 20
          }
        },
        "f7364c2f22424d1e8584e3b0bbf0cd4f": {
          "model_module": "@jupyter-widgets/controls",
          "model_name": "HTMLModel",
          "model_module_version": "1.5.0",
          "state": {
            "_dom_classes": [],
            "_model_module": "@jupyter-widgets/controls",
            "_model_module_version": "1.5.0",
            "_model_name": "HTMLModel",
            "_view_count": null,
            "_view_module": "@jupyter-widgets/controls",
            "_view_module_version": "1.5.0",
            "_view_name": "HTMLView",
            "description": "",
            "description_tooltip": null,
            "layout": "IPY_MODEL_56058617d3e8432db3736d1a34e402a4",
            "placeholder": "​",
            "style": "IPY_MODEL_6b477f1627944d9c8d3727c53317a4c6",
            "value": " 20/20 [00:28&lt;00:00,  1.44s/it]"
          }
        },
        "8765e0b88e904bcea15d2032fbaf9533": {
          "model_module": "@jupyter-widgets/base",
          "model_name": "LayoutModel",
          "model_module_version": "1.2.0",
          "state": {
            "_model_module": "@jupyter-widgets/base",
            "_model_module_version": "1.2.0",
            "_model_name": "LayoutModel",
            "_view_count": null,
            "_view_module": "@jupyter-widgets/base",
            "_view_module_version": "1.2.0",
            "_view_name": "LayoutView",
            "align_content": null,
            "align_items": null,
            "align_self": null,
            "border": null,
            "bottom": null,
            "display": null,
            "flex": null,
            "flex_flow": null,
            "grid_area": null,
            "grid_auto_columns": null,
            "grid_auto_flow": null,
            "grid_auto_rows": null,
            "grid_column": null,
            "grid_gap": null,
            "grid_row": null,
            "grid_template_areas": null,
            "grid_template_columns": null,
            "grid_template_rows": null,
            "height": null,
            "justify_content": null,
            "justify_items": null,
            "left": null,
            "margin": null,
            "max_height": null,
            "max_width": null,
            "min_height": null,
            "min_width": null,
            "object_fit": null,
            "object_position": null,
            "order": null,
            "overflow": null,
            "overflow_x": null,
            "overflow_y": null,
            "padding": null,
            "right": null,
            "top": null,
            "visibility": null,
            "width": null
          }
        },
        "6d0b0e43433d49658cf084c8bdedc4e4": {
          "model_module": "@jupyter-widgets/base",
          "model_name": "LayoutModel",
          "model_module_version": "1.2.0",
          "state": {
            "_model_module": "@jupyter-widgets/base",
            "_model_module_version": "1.2.0",
            "_model_name": "LayoutModel",
            "_view_count": null,
            "_view_module": "@jupyter-widgets/base",
            "_view_module_version": "1.2.0",
            "_view_name": "LayoutView",
            "align_content": null,
            "align_items": null,
            "align_self": null,
            "border": null,
            "bottom": null,
            "display": null,
            "flex": null,
            "flex_flow": null,
            "grid_area": null,
            "grid_auto_columns": null,
            "grid_auto_flow": null,
            "grid_auto_rows": null,
            "grid_column": null,
            "grid_gap": null,
            "grid_row": null,
            "grid_template_areas": null,
            "grid_template_columns": null,
            "grid_template_rows": null,
            "height": null,
            "justify_content": null,
            "justify_items": null,
            "left": null,
            "margin": null,
            "max_height": null,
            "max_width": null,
            "min_height": null,
            "min_width": null,
            "object_fit": null,
            "object_position": null,
            "order": null,
            "overflow": null,
            "overflow_x": null,
            "overflow_y": null,
            "padding": null,
            "right": null,
            "top": null,
            "visibility": null,
            "width": null
          }
        },
        "645b97659db84bbd9dd588e7f7b1277f": {
          "model_module": "@jupyter-widgets/controls",
          "model_name": "DescriptionStyleModel",
          "model_module_version": "1.5.0",
          "state": {
            "_model_module": "@jupyter-widgets/controls",
            "_model_module_version": "1.5.0",
            "_model_name": "DescriptionStyleModel",
            "_view_count": null,
            "_view_module": "@jupyter-widgets/base",
            "_view_module_version": "1.2.0",
            "_view_name": "StyleView",
            "description_width": ""
          }
        },
        "902cb42af31241dab742cc46bc30db19": {
          "model_module": "@jupyter-widgets/base",
          "model_name": "LayoutModel",
          "model_module_version": "1.2.0",
          "state": {
            "_model_module": "@jupyter-widgets/base",
            "_model_module_version": "1.2.0",
            "_model_name": "LayoutModel",
            "_view_count": null,
            "_view_module": "@jupyter-widgets/base",
            "_view_module_version": "1.2.0",
            "_view_name": "LayoutView",
            "align_content": null,
            "align_items": null,
            "align_self": null,
            "border": null,
            "bottom": null,
            "display": null,
            "flex": null,
            "flex_flow": null,
            "grid_area": null,
            "grid_auto_columns": null,
            "grid_auto_flow": null,
            "grid_auto_rows": null,
            "grid_column": null,
            "grid_gap": null,
            "grid_row": null,
            "grid_template_areas": null,
            "grid_template_columns": null,
            "grid_template_rows": null,
            "height": null,
            "justify_content": null,
            "justify_items": null,
            "left": null,
            "margin": null,
            "max_height": null,
            "max_width": null,
            "min_height": null,
            "min_width": null,
            "object_fit": null,
            "object_position": null,
            "order": null,
            "overflow": null,
            "overflow_x": null,
            "overflow_y": null,
            "padding": null,
            "right": null,
            "top": null,
            "visibility": null,
            "width": null
          }
        },
        "ff8af3556f4742ecbcc011b91443fe6a": {
          "model_module": "@jupyter-widgets/controls",
          "model_name": "ProgressStyleModel",
          "model_module_version": "1.5.0",
          "state": {
            "_model_module": "@jupyter-widgets/controls",
            "_model_module_version": "1.5.0",
            "_model_name": "ProgressStyleModel",
            "_view_count": null,
            "_view_module": "@jupyter-widgets/base",
            "_view_module_version": "1.2.0",
            "_view_name": "StyleView",
            "bar_color": null,
            "description_width": ""
          }
        },
        "56058617d3e8432db3736d1a34e402a4": {
          "model_module": "@jupyter-widgets/base",
          "model_name": "LayoutModel",
          "model_module_version": "1.2.0",
          "state": {
            "_model_module": "@jupyter-widgets/base",
            "_model_module_version": "1.2.0",
            "_model_name": "LayoutModel",
            "_view_count": null,
            "_view_module": "@jupyter-widgets/base",
            "_view_module_version": "1.2.0",
            "_view_name": "LayoutView",
            "align_content": null,
            "align_items": null,
            "align_self": null,
            "border": null,
            "bottom": null,
            "display": null,
            "flex": null,
            "flex_flow": null,
            "grid_area": null,
            "grid_auto_columns": null,
            "grid_auto_flow": null,
            "grid_auto_rows": null,
            "grid_column": null,
            "grid_gap": null,
            "grid_row": null,
            "grid_template_areas": null,
            "grid_template_columns": null,
            "grid_template_rows": null,
            "height": null,
            "justify_content": null,
            "justify_items": null,
            "left": null,
            "margin": null,
            "max_height": null,
            "max_width": null,
            "min_height": null,
            "min_width": null,
            "object_fit": null,
            "object_position": null,
            "order": null,
            "overflow": null,
            "overflow_x": null,
            "overflow_y": null,
            "padding": null,
            "right": null,
            "top": null,
            "visibility": null,
            "width": null
          }
        },
        "6b477f1627944d9c8d3727c53317a4c6": {
          "model_module": "@jupyter-widgets/controls",
          "model_name": "DescriptionStyleModel",
          "model_module_version": "1.5.0",
          "state": {
            "_model_module": "@jupyter-widgets/controls",
            "_model_module_version": "1.5.0",
            "_model_name": "DescriptionStyleModel",
            "_view_count": null,
            "_view_module": "@jupyter-widgets/base",
            "_view_module_version": "1.2.0",
            "_view_name": "StyleView",
            "description_width": ""
          }
        }
      }
    }
  },
  "cells": [
    {
      "cell_type": "code",
      "execution_count": null,
      "metadata": {
        "id": "yVLiSsiKva-i"
      },
      "outputs": [],
      "source": [
        "import os, glob, numpy as np, torch, torch.nn as nn, torch.optim as optim\n",
        "from torch.utils.data import Dataset, DataLoader, random_split\n",
        "import matplotlib.pyplot as plt\n",
        "from sklearn.metrics import confusion_matrix, accuracy_score\n",
        "import itertools"
      ]
    },
    {
      "cell_type": "code",
      "source": [
        "from google.colab import drive\n",
        "drive.mount('/content/drive')"
      ],
      "metadata": {
        "colab": {
          "base_uri": "https://localhost:8080/"
        },
        "id": "rUeY4VwF1SUY",
        "outputId": "128fd92d-5dd0-4173-d655-655084bec178"
      },
      "execution_count": null,
      "outputs": [
        {
          "output_type": "stream",
          "name": "stdout",
          "text": [
            "Mounted at /content/drive\n"
          ]
        }
      ]
    },
    {
      "cell_type": "code",
      "source": [
        "DATA_DIR = '/content/drive/MyDrive/Stat483-GOALZ/sleepedf_processed'\n",
        "RESULT_DIR = '/content/drive/MyDrive/Stat483-GOALZ/sleepedf_results'\n",
        "os.makedirs(RESULT_DIR, exist_ok=True)"
      ],
      "metadata": {
        "id": "-BsDBS-YvvMB"
      },
      "execution_count": null,
      "outputs": []
    },
    {
      "cell_type": "code",
      "source": [
        "print(\"Files in directory:\", os.listdir(DATA_DIR))"
      ],
      "metadata": {
        "colab": {
          "base_uri": "https://localhost:8080/"
        },
        "id": "vJSFcLpW2iIy",
        "outputId": "556e1a78-271a-4b05-e7d3-d8f0ba8a8dcf"
      },
      "execution_count": null,
      "outputs": [
        {
          "output_type": "stream",
          "name": "stdout",
          "text": [
            "Files in directory: ['ST7242J0_sequences.npz', 'ST7242J0_epochs.npz', 'ST7241J0_sequences.npz', 'ST7241J0_epochs.npz', 'ST7221J0_sequences.npz', 'ST7221J0_epochs.npz', 'ST7212J0_sequences.npz', 'ST7212J0_epochs.npz', 'ST7211J0_sequences.npz', 'ST7211J0_epochs.npz', 'ST7202J0_sequences.npz', 'ST7202J0_epochs.npz', 'ST7201J0_sequences.npz', 'ST7201J0_epochs.npz', 'ST7192J0_sequences.npz', 'ST7192J0_epochs.npz', 'ST7191J0_sequences.npz', 'ST7191J0_epochs.npz', 'ST7182J0_sequences.npz', 'ST7182J0_epochs.npz', 'ST7181J0_sequences.npz', 'ST7181J0_epochs.npz', 'ST7172J0_sequences.npz', 'ST7172J0_epochs.npz', 'ST7171J0_sequences.npz', 'ST7171J0_epochs.npz', 'ST7162J0_sequences.npz', 'ST7162J0_epochs.npz', 'ST7161J0_sequences.npz', 'ST7161J0_epochs.npz', 'ST7152J0_sequences.npz', 'ST7152J0_epochs.npz', 'ST7151J0_sequences.npz', 'ST7151J0_epochs.npz', 'ST7142J0_sequences.npz', 'ST7142J0_epochs.npz', 'ST7141J0_sequences.npz', 'ST7141J0_epochs.npz', 'ST7132J0_sequences.npz', 'ST7132J0_epochs.npz', 'ST7131J0_sequences.npz', 'ST7131J0_epochs.npz', 'ST7122J0_sequences.npz', 'ST7122J0_epochs.npz', 'ST7121J0_sequences.npz', 'ST7121J0_epochs.npz', 'ST7112J0_sequences.npz', 'ST7112J0_epochs.npz', 'ST7111J0_sequences.npz', 'ST7111J0_epochs.npz']\n"
          ]
        }
      ]
    },
    {
      "cell_type": "code",
      "source": [
        "BATCH_SIZE = 16\n",
        "NUM_EPOCHS = 20\n",
        "LEARNING_RATE = 1e-3\n",
        "TRAIN_VAL_SPLIT = 0.8\n",
        "DEVICE = torch.device(\"cuda\" if torch.cuda.is_available() else \"cpu\")"
      ],
      "metadata": {
        "id": "oT53zZbwvxZ_"
      },
      "execution_count": null,
      "outputs": []
    },
    {
      "cell_type": "code",
      "source": [
        "print(\"CUDA available:\", torch.cuda.is_available())"
      ],
      "metadata": {
        "colab": {
          "base_uri": "https://localhost:8080/"
        },
        "id": "dqle45iV4s_l",
        "outputId": "44b489af-0e53-4e61-8213-fea25b0a5671"
      },
      "execution_count": null,
      "outputs": [
        {
          "output_type": "stream",
          "name": "stdout",
          "text": [
            "CUDA available: True\n"
          ]
        }
      ]
    },
    {
      "cell_type": "code",
      "source": [
        "EMBEDDING_DIM = 128   # Dimension of the CNN encoder output per epoch\n",
        "NUM_CLASSES = 5       # 0: Wake, 1: N1, 2: N2, 3: N3, 4: REM\n",
        "NUM_TRANSFORMER_LAYERS = 2\n",
        "NUM_HEADS = 4\n",
        "DROPOUT = 0.1\n",
        "SEQ_LENGTH = 20       # Number of epochs per sequence (must match preprocessing)"
      ],
      "metadata": {
        "id": "yY2kW6JBvz7o"
      },
      "execution_count": null,
      "outputs": []
    },
    {
      "cell_type": "code",
      "source": [
        "class SleepSequenceDataset(Dataset):\n",
        "    def __init__(self, data_dir):\n",
        "        # Find all NPZ files ending with _sequences.npz\n",
        "        self.files = glob.glob(os.path.join(data_dir, '*_sequences.npz'))\n",
        "        sequences_list = []\n",
        "        labels_list = []\n",
        "        for f in self.files:\n",
        "            loaded = np.load(f)\n",
        "            sequences_list.append(loaded['sequences'])  # shape: (n_seq, 20, 2, 3000)\n",
        "            labels_list.append(loaded['seq_labels'])      # shape: (n_seq, 20)\n",
        "        self.sequences = np.concatenate(sequences_list, axis=0)\n",
        "        self.seq_labels = np.concatenate(labels_list, axis=0)\n",
        "        self.sequences = torch.from_numpy(self.sequences).float()\n",
        "        self.seq_labels = torch.from_numpy(self.seq_labels).long()\n",
        "\n",
        "    def __len__(self):\n",
        "        return self.sequences.shape[0]\n",
        "\n",
        "    def __getitem__(self, idx):\n",
        "        return self.sequences[idx], self.seq_labels[idx]"
      ],
      "metadata": {
        "id": "NwT759n5v4Xp"
      },
      "execution_count": null,
      "outputs": []
    },
    {
      "cell_type": "code",
      "source": [
        "class EpochEncoder(nn.Module):\n",
        "    def __init__(self, embedding_dim):\n",
        "        super(EpochEncoder, self).__init__()\n",
        "        self.net = nn.Sequential(\n",
        "            nn.Conv1d(in_channels=2, out_channels=16, kernel_size=50, stride=6),\n",
        "            nn.ReLU(),\n",
        "            nn.MaxPool1d(kernel_size=8, stride=8),\n",
        "            nn.Conv1d(in_channels=16, out_channels=32, kernel_size=8, stride=2),\n",
        "            nn.ReLU(),\n",
        "            nn.MaxPool1d(kernel_size=4, stride=4)\n",
        "        )\n",
        "        #Passing dummy input to automatically calculate no. of features and avoid mismatch error\n",
        "        with torch.no_grad():\n",
        "            dummy_input = torch.zeros(1, 2, 3000)\n",
        "            dummy_output = self.net(dummy_input)\n",
        "            n_features = dummy_output.numel() // dummy_output.shape[0]  # Total features per sample\n",
        "        self.fc = nn.Linear(n_features, embedding_dim)\n",
        "        # The output dimension is computed approximately based on the input size 3000\n",
        "        #self.fc = nn.Linear(32 * (((3000 - 50) // 6 + 1) // 8 // 4), embedding_dim)\n",
        "\n",
        "    def forward(self, x):\n",
        "        # x: (batch, 2, 3000)\n",
        "        out = self.net(x)\n",
        "        out = out.view(out.size(0), -1)\n",
        "        embedding = self.fc(out)\n",
        "        return embedding"
      ],
      "metadata": {
        "id": "DVDcUplEv49-"
      },
      "execution_count": null,
      "outputs": []
    },
    {
      "cell_type": "code",
      "source": [
        "class SleepTransformer(nn.Module):\n",
        "    def __init__(self, embedding_dim, num_classes, num_layers, num_heads, dropout, seq_length):\n",
        "        super(SleepTransformer, self).__init__()\n",
        "        self.encoder = EpochEncoder(embedding_dim)\n",
        "        encoder_layer = nn.TransformerEncoderLayer(d_model=embedding_dim, nhead=num_heads, dropout=dropout)\n",
        "        self.transformer = nn.TransformerEncoder(encoder_layer, num_layers=num_layers)\n",
        "        self.classifier = nn.Linear(embedding_dim, num_classes)\n",
        "        self.seq_length = seq_length\n",
        "\n",
        "    def forward(self, x):\n",
        "        # x: (batch, seq_length, 2, 3000)\n",
        "        batch_size, seq_len = x.size(0), x.size(1)\n",
        "        x = x.view(-1, x.size(2), x.size(3))  # (batch*seq_length, 2, 3000)\n",
        "        epoch_emb = self.encoder(x)           # (batch*seq_length, embedding_dim)\n",
        "        epoch_emb = epoch_emb.view(batch_size, seq_len, -1)\n",
        "        epoch_emb = epoch_emb.transpose(0, 1)   # (seq_length, batch, embedding_dim)\n",
        "        transformer_out = self.transformer(epoch_emb)\n",
        "        transformer_out = transformer_out.transpose(0, 1)  # (batch, seq_length, embedding_dim)\n",
        "        logits = self.classifier(transformer_out)  # (batch, seq_length, num_classes)\n",
        "        return logits"
      ],
      "metadata": {
        "id": "CUpbinAmwBgT"
      },
      "execution_count": null,
      "outputs": []
    },
    {
      "cell_type": "code",
      "source": [
        "def train_epoch(model, dataloader, criterion, optimizer, device):\n",
        "    model.train()\n",
        "    running_loss = 0.0\n",
        "    all_preds = []\n",
        "    all_labels = []\n",
        "    for seq, labels in dataloader:\n",
        "        seq, labels = seq.to(device), labels.to(device)\n",
        "        optimizer.zero_grad()\n",
        "        logits = model(seq)  # (batch, seq_length, num_classes)\n",
        "        loss = criterion(logits.view(-1, NUM_CLASSES), labels.view(-1))\n",
        "        loss.backward()\n",
        "        optimizer.step()\n",
        "        running_loss += loss.item() * seq.size(0)\n",
        "        preds = torch.argmax(logits, dim=-1)\n",
        "        all_preds.append(preds.cpu().detach().numpy())\n",
        "        all_labels.append(labels.cpu().detach().numpy())\n",
        "    epoch_loss = running_loss / len(dataloader.dataset)\n",
        "    all_preds = np.concatenate(all_preds).flatten()\n",
        "    all_labels = np.concatenate(all_labels).flatten()\n",
        "    acc = accuracy_score(all_labels, all_preds)\n",
        "    return epoch_loss, acc"
      ],
      "metadata": {
        "id": "Weai9I38wEBt"
      },
      "execution_count": null,
      "outputs": []
    },
    {
      "cell_type": "code",
      "source": [
        "def eval_epoch(model, dataloader, criterion, device):\n",
        "    model.eval()\n",
        "    running_loss = 0.0\n",
        "    all_preds = []\n",
        "    all_labels = []\n",
        "    with torch.no_grad():\n",
        "        for seq, labels in dataloader:\n",
        "            seq, labels = seq.to(device), labels.to(device)\n",
        "            logits = model(seq)\n",
        "            loss = criterion(logits.view(-1, NUM_CLASSES), labels.view(-1))\n",
        "            running_loss += loss.item() * seq.size(0)\n",
        "            preds = torch.argmax(logits, dim=-1)\n",
        "            all_preds.append(preds.cpu().numpy())\n",
        "            all_labels.append(labels.cpu().numpy())\n",
        "    epoch_loss = running_loss / len(dataloader.dataset)\n",
        "    all_preds = np.concatenate(all_preds).flatten()\n",
        "    all_labels = np.concatenate(all_labels).flatten()\n",
        "    acc = accuracy_score(all_labels, all_preds)\n",
        "    return epoch_loss, acc, all_preds, all_labels"
      ],
      "metadata": {
        "id": "LGX4FkLRwHLb"
      },
      "execution_count": null,
      "outputs": []
    },
    {
      "cell_type": "code",
      "source": [
        "def plot_curves(train_losses, val_losses, train_accs, val_accs):\n",
        "    epochs = range(1, len(train_losses)+1)\n",
        "    plt.figure(figsize=(12,5))\n",
        "    plt.subplot(1,2,1)\n",
        "    plt.plot(epochs, train_losses, label='Train Loss')\n",
        "    plt.plot(epochs, val_losses, label='Val Loss')\n",
        "    plt.xlabel('Epoch')\n",
        "    plt.ylabel('Loss')\n",
        "    plt.legend()\n",
        "    plt.subplot(1,2,2)\n",
        "    plt.plot(epochs, train_accs, label='Train Acc')\n",
        "    plt.plot(epochs, val_accs, label='Val Acc')\n",
        "    plt.xlabel('Epoch')\n",
        "    plt.ylabel('Accuracy')\n",
        "    plt.legend()\n",
        "    plt.show()"
      ],
      "metadata": {
        "id": "mwT8mFARwOVl"
      },
      "execution_count": null,
      "outputs": []
    },
    {
      "cell_type": "code",
      "source": [
        "def plot_confusion(all_labels, all_preds):\n",
        "    cm = confusion_matrix(all_labels, all_preds)\n",
        "    plt.figure(figsize=(6,6))\n",
        "    plt.imshow(cm, interpolation='nearest', cmap=plt.cm.Blues)\n",
        "    plt.title(\"Confusion Matrix\")\n",
        "    plt.colorbar()\n",
        "    classes = ['W', 'N1', 'N2', 'N3', 'R']\n",
        "    tick_marks = np.arange(len(classes))\n",
        "    plt.xticks(tick_marks, classes)\n",
        "    plt.yticks(tick_marks, classes)\n",
        "    thresh = cm.max() / 2.\n",
        "    for i, j in itertools.product(range(cm.shape[0]), range(cm.shape[1])):\n",
        "        plt.text(j, i, format(cm[i, j], 'd'),\n",
        "                 horizontalalignment=\"center\",\n",
        "                 color=\"white\" if cm[i, j] > thresh else \"black\")\n",
        "    plt.ylabel('True label')\n",
        "    plt.xlabel('Predicted label')\n",
        "    plt.tight_layout()\n",
        "    plt.show()"
      ],
      "metadata": {
        "id": "i_iAwS9XwP8Y"
      },
      "execution_count": null,
      "outputs": []
    },
    {
      "cell_type": "code",
      "source": [
        "from sklearn.metrics import confusion_matrix, accuracy_score"
      ],
      "metadata": {
        "id": "lM99BAeZwRnf"
      },
      "execution_count": null,
      "outputs": []
    },
    {
      "cell_type": "code",
      "source": [
        "from tqdm.notebook import tqdm"
      ],
      "metadata": {
        "id": "be9O2ifp52Fa"
      },
      "execution_count": null,
      "outputs": []
    },
    {
      "cell_type": "code",
      "source": [
        "def main():\n",
        "    # Load dataset from processed sequence NPZ files\n",
        "    dataset = SleepSequenceDataset(DATA_DIR)\n",
        "    total_len = len(dataset)\n",
        "    train_len = int(TRAIN_VAL_SPLIT * total_len)\n",
        "    val_len = total_len - train_len\n",
        "    train_dataset, val_dataset = random_split(dataset, [train_len, val_len])\n",
        "    train_loader = DataLoader(train_dataset, batch_size=BATCH_SIZE, shuffle=True)\n",
        "    val_loader = DataLoader(val_dataset, batch_size=BATCH_SIZE, shuffle=False)\n",
        "\n",
        "    model = SleepTransformer(EMBEDDING_DIM, NUM_CLASSES, NUM_TRANSFORMER_LAYERS, NUM_HEADS, DROPOUT, SEQ_LENGTH)\n",
        "    model.to(DEVICE)\n",
        "    criterion = nn.CrossEntropyLoss()\n",
        "    optimizer = optim.Adam(model.parameters(), lr=LEARNING_RATE)\n",
        "\n",
        "    train_losses, val_losses = [], []\n",
        "    train_accs, val_accs = [], []\n",
        "\n",
        "    for epoch in tqdm(range(1, NUM_EPOCHS+1), desc=\"Training Epochs\"):\n",
        "        train_loss, train_acc = train_epoch(model, train_loader, criterion, optimizer, DEVICE)\n",
        "        val_loss, val_acc, val_preds, val_labels = eval_epoch(model, val_loader, criterion, DEVICE)\n",
        "        train_losses.append(train_loss)\n",
        "        val_losses.append(val_loss)\n",
        "        train_accs.append(train_acc)\n",
        "        val_accs.append(val_acc)\n",
        "        print(f\"Epoch {epoch}/{NUM_EPOCHS}: Train Loss={train_loss:.4f}, Train Acc={train_acc:.4f}, Val Loss={val_loss:.4f}, Val Acc={val_acc:.4f}\")\n",
        "\n",
        "    plot_curves(train_losses, val_losses, train_accs, val_accs)\n",
        "    _, _, val_preds, val_labels = eval_epoch(model, val_loader, criterion, DEVICE)\n",
        "    plot_confusion(val_labels, val_preds)\n",
        "\n",
        "    # Save the model checkpoint in RESULT_DIR\n",
        "    torch.save(model.state_dict(), os.path.join(RESULT_DIR, 'sleep_transformer_model.pth'))"
      ],
      "metadata": {
        "id": "KEjycEGMwWZk"
      },
      "execution_count": null,
      "outputs": []
    },
    {
      "cell_type": "code",
      "source": [
        "if __name__ == '__main__':\n",
        "    main()"
      ],
      "metadata": {
        "colab": {
          "base_uri": "https://localhost:8080/",
          "height": 1000,
          "referenced_widgets": [
            "ca61519a966e4b09aa8c2424e4f68bf2",
            "6e09d4a5ca3b4bf69cca5bca5a5a08e1",
            "d2022cab14c142baa91ec37f449e4e7e",
            "f7364c2f22424d1e8584e3b0bbf0cd4f",
            "8765e0b88e904bcea15d2032fbaf9533",
            "6d0b0e43433d49658cf084c8bdedc4e4",
            "645b97659db84bbd9dd588e7f7b1277f",
            "902cb42af31241dab742cc46bc30db19",
            "ff8af3556f4742ecbcc011b91443fe6a",
            "56058617d3e8432db3736d1a34e402a4",
            "6b477f1627944d9c8d3727c53317a4c6"
          ]
        },
        "id": "9qwlp9Uc2YGB",
        "outputId": "492bab60-f3f9-468d-9794-a6330679d585"
      },
      "execution_count": null,
      "outputs": [
        {
          "output_type": "stream",
          "name": "stderr",
          "text": [
            "/usr/local/lib/python3.11/dist-packages/torch/nn/modules/transformer.py:385: UserWarning: enable_nested_tensor is True, but self.use_nested_tensor is False because encoder_layer.self_attn.batch_first was not True(use batch_first for better inference performance)\n",
            "  warnings.warn(\n"
          ]
        },
        {
          "output_type": "display_data",
          "data": {
            "text/plain": [
              "Training Epochs:   0%|          | 0/20 [00:00<?, ?it/s]"
            ],
            "application/vnd.jupyter.widget-view+json": {
              "version_major": 2,
              "version_minor": 0,
              "model_id": "ca61519a966e4b09aa8c2424e4f68bf2"
            }
          },
          "metadata": {}
        },
        {
          "output_type": "stream",
          "name": "stdout",
          "text": [
            "Epoch 1/20: Train Loss=1.1900, Train Acc=0.5418, Val Loss=0.8678, Val Acc=0.6772\n",
            "Epoch 2/20: Train Loss=0.7787, Train Acc=0.7055, Val Loss=0.7576, Val Acc=0.7228\n",
            "Epoch 3/20: Train Loss=0.6593, Train Acc=0.7516, Val Loss=0.6645, Val Acc=0.7532\n",
            "Epoch 4/20: Train Loss=0.6069, Train Acc=0.7721, Val Loss=0.6847, Val Acc=0.7534\n",
            "Epoch 5/20: Train Loss=0.5833, Train Acc=0.7812, Val Loss=0.5874, Val Acc=0.7705\n",
            "Epoch 6/20: Train Loss=0.5912, Train Acc=0.7830, Val Loss=0.7842, Val Acc=0.6846\n",
            "Epoch 7/20: Train Loss=0.5247, Train Acc=0.8047, Val Loss=0.5890, Val Acc=0.7874\n",
            "Epoch 8/20: Train Loss=0.4842, Train Acc=0.8207, Val Loss=0.5876, Val Acc=0.7799\n",
            "Epoch 9/20: Train Loss=0.4639, Train Acc=0.8282, Val Loss=0.6686, Val Acc=0.7475\n",
            "Epoch 10/20: Train Loss=0.4477, Train Acc=0.8290, Val Loss=0.5522, Val Acc=0.7991\n",
            "Epoch 11/20: Train Loss=0.4387, Train Acc=0.8367, Val Loss=0.5908, Val Acc=0.7792\n",
            "Epoch 12/20: Train Loss=0.4254, Train Acc=0.8396, Val Loss=0.5237, Val Acc=0.8073\n",
            "Epoch 13/20: Train Loss=0.3942, Train Acc=0.8466, Val Loss=0.4934, Val Acc=0.8097\n",
            "Epoch 14/20: Train Loss=0.3658, Train Acc=0.8595, Val Loss=0.5762, Val Acc=0.7979\n",
            "Epoch 15/20: Train Loss=0.3704, Train Acc=0.8558, Val Loss=0.5335, Val Acc=0.8132\n",
            "Epoch 16/20: Train Loss=0.3650, Train Acc=0.8603, Val Loss=0.4452, Val Acc=0.8292\n",
            "Epoch 17/20: Train Loss=0.3325, Train Acc=0.8723, Val Loss=0.4199, Val Acc=0.8372\n",
            "Epoch 18/20: Train Loss=0.3431, Train Acc=0.8696, Val Loss=0.4345, Val Acc=0.8306\n",
            "Epoch 19/20: Train Loss=0.3037, Train Acc=0.8823, Val Loss=0.4558, Val Acc=0.8302\n",
            "Epoch 20/20: Train Loss=0.3276, Train Acc=0.8728, Val Loss=0.4446, Val Acc=0.8389\n"
          ]
        },
        {
          "output_type": "display_data",
          "data": {
            "text/plain": [
              "<Figure size 1200x500 with 2 Axes>"
            ],
            "image/png": "[encoded data removed]"
          },
          "metadata": {}
        },
        {
          "output_type": "display_data",
          "data": {
            "text/plain": [
              "<Figure size 600x600 with 2 Axes>"
            ],
            "image/png": "[encoded data removed]"
          },
          "metadata": {}
        }
      ]
    }
  ]
}