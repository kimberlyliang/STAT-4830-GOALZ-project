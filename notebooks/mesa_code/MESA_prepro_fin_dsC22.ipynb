{
  "nbformat": 4,
  "nbformat_minor": 0,
  "metadata": {
    "colab": {
      "provenance": [],
      "authorship_tag": "ABX9TyMKlyTKTOCMZN3zKny/e/GO"
    },
    "kernelspec": {
      "name": "python3",
      "display_name": "Python 3"
    },
    "language_info": {
      "name": "python"
    },
    "widgets": {
      "application/vnd.jupyter.widget-state+json": {
        "df2cb97fd94d455dbebbc09a6864df75": {
          "model_module": "@jupyter-widgets/controls",
          "model_name": "HBoxModel",
          "model_module_version": "1.5.0",
          "state": {
            "_dom_classes": [],
            "_model_module": "@jupyter-widgets/controls",
            "_model_module_version": "1.5.0",
            "_model_name": "HBoxModel",
            "_view_count": null,
            "_view_module": "@jupyter-widgets/controls",
            "_view_module_version": "1.5.0",
            "_view_name": "HBoxView",
            "box_style": "",
            "children": [
              "IPY_MODEL_728c2173c4954681a20084e9213c6665",
              "IPY_MODEL_b43662f5ea8642f6be810392ceda1415",
              "IPY_MODEL_4f3e2cd8dc4143eab7c6dd72371e6e7d"
            ],
            "layout": "IPY_MODEL_152d20dc423b4f2c84887bda22b21238"
          }
        },
        "728c2173c4954681a20084e9213c6665": {
          "model_module": "@jupyter-widgets/controls",
          "model_name": "HTMLModel",
          "model_module_version": "1.5.0",
          "state": {
            "_dom_classes": [],
            "_model_module": "@jupyter-widgets/controls",
            "_model_module_version": "1.5.0",
            "_model_name": "HTMLModel",
            "_view_count": null,
            "_view_module": "@jupyter-widgets/controls",
            "_view_module_version": "1.5.0",
            "_view_name": "HTMLView",
            "description": "",
            "description_tooltip": null,
            "layout": "IPY_MODEL_f1cfe5c2d28f4b619cd3006ebd416222",
            "placeholder": "​",
            "style": "IPY_MODEL_ed1e0f2856704c81bee02358d08fbb22",
            "value": ""
          }
        },
        "b43662f5ea8642f6be810392ceda1415": {
          "model_module": "@jupyter-widgets/controls",
          "model_name": "FloatProgressModel",
          "model_module_version": "1.5.0",
          "state": {
            "_dom_classes": [],
            "_model_module": "@jupyter-widgets/controls",
            "_model_module_version": "1.5.0",
            "_model_name": "FloatProgressModel",
            "_view_count": null,
            "_view_module": "@jupyter-widgets/controls",
            "_view_module_version": "1.5.0",
            "_view_name": "ProgressView",
            "bar_style": "",
            "description": "",
            "description_tooltip": null,
            "layout": "IPY_MODEL_382b73b53a9c4e949d8ab5b14345348a",
            "max": 200,
            "min": 0,
            "orientation": "horizontal",
            "style": "IPY_MODEL_10dc878fcc6a4dff94ada10a0d60a651",
            "value": 200
          }
        },
        "4f3e2cd8dc4143eab7c6dd72371e6e7d": {
          "model_module": "@jupyter-widgets/controls",
          "model_name": "HTMLModel",
          "model_module_version": "1.5.0",
          "state": {
            "_dom_classes": [],
            "_model_module": "@jupyter-widgets/controls",
            "_model_module_version": "1.5.0",
            "_model_name": "HTMLModel",
            "_view_count": null,
            "_view_module": "@jupyter-widgets/controls",
            "_view_module_version": "1.5.0",
            "_view_name": "HTMLView",
            "description": "",
            "description_tooltip": null,
            "layout": "IPY_MODEL_842366e5ff044c32b66f1f6b81da0091",
            "placeholder": "​",
            "style": "IPY_MODEL_8e1e789846e1448cb14f4f0dfe1f7e49",
            "value": " 215727/? [3:47:37&lt;00:00, 30.28it/s]"
          }
        },
        "152d20dc423b4f2c84887bda22b21238": {
          "model_module": "@jupyter-widgets/base",
          "model_name": "LayoutModel",
          "model_module_version": "1.2.0",
          "state": {
            "_model_module": "@jupyter-widgets/base",
            "_model_module_version": "1.2.0",
            "_model_name": "LayoutModel",
            "_view_count": null,
            "_view_module": "@jupyter-widgets/base",
            "_view_module_version": "1.2.0",
            "_view_name": "LayoutView",
            "align_content": null,
            "align_items": null,
            "align_self": null,
            "border": null,
            "bottom": null,
            "display": null,
            "flex": null,
            "flex_flow": null,
            "grid_area": null,
            "grid_auto_columns": null,
            "grid_auto_flow": null,
            "grid_auto_rows": null,
            "grid_column": null,
            "grid_gap": null,
            "grid_row": null,
            "grid_template_areas": null,
            "grid_template_columns": null,
            "grid_template_rows": null,
            "height": null,
            "justify_content": null,
            "justify_items": null,
            "left": null,
            "margin": null,
            "max_height": null,
            "max_width": null,
            "min_height": null,
            "min_width": null,
            "object_fit": null,
            "object_position": null,
            "order": null,
            "overflow": null,
            "overflow_x": null,
            "overflow_y": null,
            "padding": null,
            "right": null,
            "top": null,
            "visibility": null,
            "width": null
          }
        },
        "f1cfe5c2d28f4b619cd3006ebd416222": {
          "model_module": "@jupyter-widgets/base",
          "model_name": "LayoutModel",
          "model_module_version": "1.2.0",
          "state": {
            "_model_module": "@jupyter-widgets/base",
            "_model_module_version": "1.2.0",
            "_model_name": "LayoutModel",
            "_view_count": null,
            "_view_module": "@jupyter-widgets/base",
            "_view_module_version": "1.2.0",
            "_view_name": "LayoutView",
            "align_content": null,
            "align_items": null,
            "align_self": null,
            "border": null,
            "bottom": null,
            "display": null,
            "flex": null,
            "flex_flow": null,
            "grid_area": null,
            "grid_auto_columns": null,
            "grid_auto_flow": null,
            "grid_auto_rows": null,
            "grid_column": null,
            "grid_gap": null,
            "grid_row": null,
            "grid_template_areas": null,
            "grid_template_columns": null,
            "grid_template_rows": null,
            "height": null,
            "justify_content": null,
            "justify_items": null,
            "left": null,
            "margin": null,
            "max_height": null,
            "max_width": null,
            "min_height": null,
            "min_width": null,
            "object_fit": null,
            "object_position": null,
            "order": null,
            "overflow": null,
            "overflow_x": null,
            "overflow_y": null,
            "padding": null,
            "right": null,
            "top": null,
            "visibility": null,
            "width": null
          }
        },
        "ed1e0f2856704c81bee02358d08fbb22": {
          "model_module": "@jupyter-widgets/controls",
          "model_name": "DescriptionStyleModel",
          "model_module_version": "1.5.0",
          "state": {
            "_model_module": "@jupyter-widgets/controls",
            "_model_module_version": "1.5.0",
            "_model_name": "DescriptionStyleModel",
            "_view_count": null,
            "_view_module": "@jupyter-widgets/base",
            "_view_module_version": "1.2.0",
            "_view_name": "StyleView",
            "description_width": ""
          }
        },
        "382b73b53a9c4e949d8ab5b14345348a": {
          "model_module": "@jupyter-widgets/base",
          "model_name": "LayoutModel",
          "model_module_version": "1.2.0",
          "state": {
            "_model_module": "@jupyter-widgets/base",
            "_model_module_version": "1.2.0",
            "_model_name": "LayoutModel",
            "_view_count": null,
            "_view_module": "@jupyter-widgets/base",
            "_view_module_version": "1.2.0",
            "_view_name": "LayoutView",
            "align_content": null,
            "align_items": null,
            "align_self": null,
            "border": null,
            "bottom": null,
            "display": null,
            "flex": null,
            "flex_flow": null,
            "grid_area": null,
            "grid_auto_columns": null,
            "grid_auto_flow": null,
            "grid_auto_rows": null,
            "grid_column": null,
            "grid_gap": null,
            "grid_row": null,
            "grid_template_areas": null,
            "grid_template_columns": null,
            "grid_template_rows": null,
            "height": null,
            "justify_content": null,
            "justify_items": null,
            "left": null,
            "margin": null,
            "max_height": null,
            "max_width": null,
            "min_height": null,
            "min_width": null,
            "object_fit": null,
            "object_position": null,
            "order": null,
            "overflow": null,
            "overflow_x": null,
            "overflow_y": null,
            "padding": null,
            "right": null,
            "top": null,
            "visibility": null,
            "width": null
          }
        },
        "10dc878fcc6a4dff94ada10a0d60a651": {
          "model_module": "@jupyter-widgets/controls",
          "model_name": "ProgressStyleModel",
          "model_module_version": "1.5.0",
          "state": {
            "_model_module": "@jupyter-widgets/controls",
            "_model_module_version": "1.5.0",
            "_model_name": "ProgressStyleModel",
            "_view_count": null,
            "_view_module": "@jupyter-widgets/base",
            "_view_module_version": "1.2.0",
            "_view_name": "StyleView",
            "bar_color": null,
            "description_width": ""
          }
        },
        "842366e5ff044c32b66f1f6b81da0091": {
          "model_module": "@jupyter-widgets/base",
          "model_name": "LayoutModel",
          "model_module_version": "1.2.0",
          "state": {
            "_model_module": "@jupyter-widgets/base",
            "_model_module_version": "1.2.0",
            "_model_name": "LayoutModel",
            "_view_count": null,
            "_view_module": "@jupyter-widgets/base",
            "_view_module_version": "1.2.0",
            "_view_name": "LayoutView",
            "align_content": null,
            "align_items": null,
            "align_self": null,
            "border": null,
            "bottom": null,
            "display": null,
            "flex": null,
            "flex_flow": null,
            "grid_area": null,
            "grid_auto_columns": null,
            "grid_auto_flow": null,
            "grid_auto_rows": null,
            "grid_column": null,
            "grid_gap": null,
            "grid_row": null,
            "grid_template_areas": null,
            "grid_template_columns": null,
            "grid_template_rows": null,
            "height": null,
            "justify_content": null,
            "justify_items": null,
            "left": null,
            "margin": null,
            "max_height": null,
            "max_width": null,
            "min_height": null,
            "min_width": null,
            "object_fit": null,
            "object_position": null,
            "order": null,
            "overflow": null,
            "overflow_x": null,
            "overflow_y": null,
            "padding": null,
            "right": null,
            "top": null,
            "visibility": null,
            "width": null
          }
        },
        "8e1e789846e1448cb14f4f0dfe1f7e49": {
          "model_module": "@jupyter-widgets/controls",
          "model_name": "DescriptionStyleModel",
          "model_module_version": "1.5.0",
          "state": {
            "_model_module": "@jupyter-widgets/controls",
            "_model_module_version": "1.5.0",
            "_model_name": "DescriptionStyleModel",
            "_view_count": null,
            "_view_module": "@jupyter-widgets/base",
            "_view_module_version": "1.2.0",
            "_view_name": "StyleView",
            "description_width": ""
          }
        }
      }
    }
  },
  "cells": [
    {
      "cell_type": "code",
      "execution_count": 1,
      "metadata": {
        "colab": {
          "base_uri": "https://localhost:8080/"
        },
        "id": "vGUk2jPGmZ1y",
        "outputId": "ae868039-02d5-4ae9-ec61-410e339bd8d2"
      },
      "outputs": [
        {
          "output_type": "stream",
          "name": "stdout",
          "text": [
            "Requirement already satisfied: mne in /usr/local/lib/python3.11/dist-packages (1.9.0)\n",
            "Requirement already satisfied: joblib in /usr/local/lib/python3.11/dist-packages (1.4.2)\n",
            "Requirement already satisfied: pycatch22 in /usr/local/lib/python3.11/dist-packages (0.4.5)\n",
            "Requirement already satisfied: tqdm in /usr/local/lib/python3.11/dist-packages (4.67.1)\n",
            "Requirement already satisfied: tqdm_joblib in /usr/local/lib/python3.11/dist-packages (0.0.4)\n",
            "Requirement already satisfied: decorator in /usr/local/lib/python3.11/dist-packages (from mne) (4.4.2)\n",
            "Requirement already satisfied: jinja2 in /usr/local/lib/python3.11/dist-packages (from mne) (3.1.6)\n",
            "Requirement already satisfied: lazy-loader>=0.3 in /usr/local/lib/python3.11/dist-packages (from mne) (0.4)\n",
            "Requirement already satisfied: matplotlib>=3.6 in /usr/local/lib/python3.11/dist-packages (from mne) (3.10.0)\n",
            "Requirement already satisfied: numpy<3,>=1.23 in /usr/local/lib/python3.11/dist-packages (from mne) (2.0.2)\n",
            "Requirement already satisfied: packaging in /usr/local/lib/python3.11/dist-packages (from mne) (24.2)\n",
            "Requirement already satisfied: pooch>=1.5 in /usr/local/lib/python3.11/dist-packages (from mne) (1.8.2)\n",
            "Requirement already satisfied: scipy>=1.9 in /usr/local/lib/python3.11/dist-packages (from mne) (1.14.1)\n",
            "Requirement already satisfied: contourpy>=1.0.1 in /usr/local/lib/python3.11/dist-packages (from matplotlib>=3.6->mne) (1.3.2)\n",
            "Requirement already satisfied: cycler>=0.10 in /usr/local/lib/python3.11/dist-packages (from matplotlib>=3.6->mne) (0.12.1)\n",
            "Requirement already satisfied: fonttools>=4.22.0 in /usr/local/lib/python3.11/dist-packages (from matplotlib>=3.6->mne) (4.57.0)\n",
            "Requirement already satisfied: kiwisolver>=1.3.1 in /usr/local/lib/python3.11/dist-packages (from matplotlib>=3.6->mne) (1.4.8)\n",
            "Requirement already satisfied: pillow>=8 in /usr/local/lib/python3.11/dist-packages (from matplotlib>=3.6->mne) (11.1.0)\n",
            "Requirement already satisfied: pyparsing>=2.3.1 in /usr/local/lib/python3.11/dist-packages (from matplotlib>=3.6->mne) (3.2.3)\n",
            "Requirement already satisfied: python-dateutil>=2.7 in /usr/local/lib/python3.11/dist-packages (from matplotlib>=3.6->mne) (2.8.2)\n",
            "Requirement already satisfied: platformdirs>=2.5.0 in /usr/local/lib/python3.11/dist-packages (from pooch>=1.5->mne) (4.3.7)\n",
            "Requirement already satisfied: requests>=2.19.0 in /usr/local/lib/python3.11/dist-packages (from pooch>=1.5->mne) (2.32.3)\n",
            "Requirement already satisfied: MarkupSafe>=2.0 in /usr/local/lib/python3.11/dist-packages (from jinja2->mne) (3.0.2)\n",
            "Requirement already satisfied: six>=1.5 in /usr/local/lib/python3.11/dist-packages (from python-dateutil>=2.7->matplotlib>=3.6->mne) (1.17.0)\n",
            "Requirement already satisfied: charset-normalizer<4,>=2 in /usr/local/lib/python3.11/dist-packages (from requests>=2.19.0->pooch>=1.5->mne) (3.4.1)\n",
            "Requirement already satisfied: idna<4,>=2.5 in /usr/local/lib/python3.11/dist-packages (from requests>=2.19.0->pooch>=1.5->mne) (3.10)\n",
            "Requirement already satisfied: urllib3<3,>=1.21.1 in /usr/local/lib/python3.11/dist-packages (from requests>=2.19.0->pooch>=1.5->mne) (2.3.0)\n",
            "Requirement already satisfied: certifi>=2017.4.17 in /usr/local/lib/python3.11/dist-packages (from requests>=2.19.0->pooch>=1.5->mne) (2025.1.31)\n"
          ]
        }
      ],
      "source": [
        "!pip install mne joblib pycatch22 tqdm tqdm_joblib"
      ]
    },
    {
      "cell_type": "code",
      "source": [
        "from google.colab import drive\n",
        "drive.mount('/content/drive')"
      ],
      "metadata": {
        "colab": {
          "base_uri": "https://localhost:8080/"
        },
        "id": "jbDPBTj9mnHB",
        "outputId": "9991c9aa-1106-4160-aa66-d27152dd74ac"
      },
      "execution_count": 2,
      "outputs": [
        {
          "output_type": "stream",
          "name": "stdout",
          "text": [
            "Drive already mounted at /content/drive; to attempt to forcibly remount, call drive.mount(\"/content/drive\", force_remount=True).\n"
          ]
        }
      ]
    },
    {
      "cell_type": "code",
      "source": [
        "import os\n",
        "import glob\n",
        "import numpy as np\n",
        "import mne\n",
        "import xml.etree.ElementTree as ET\n",
        "from scipy.signal import butter, iirnotch, iirnotch, sosfiltfilt\n",
        "from joblib import Parallel, delayed\n",
        "from pycatch22 import catch22_all\n",
        "from tqdm import tqdm\n",
        "from tqdm_joblib import tqdm_joblib\n",
        "\n",
        "# Configuration\n",
        "BASE_DIR = '/content/drive/MyDrive/4830_project/data/mesa_data/'\n",
        "EDF_DIR = os.path.join(BASE_DIR, 'mesa_200_subset_edfs')\n",
        "ANNOTATION_DIR = os.path.join(BASE_DIR, 'mesa_200_annotations-events-nssr')\n",
        "OUTPUT_DIR = '/content/drive/MyDrive/4830_project/MESA_data/processed_MESA'\n",
        "os.makedirs(OUTPUT_DIR, exist_ok=True)\n",
        "\n",
        "\n",
        "CHANNELS_TO_LOAD = [\"EEG1\", \"EOG-L\", \"EOG-R\"]\n",
        "TARGET_SFREQ = 256.0\n",
        "LOW_FREQ = 0.5\n",
        "HIGH_FREQ = 30.0\n",
        "EPOCH_LENGTH = 30.0\n",
        "SEQ_LENGTH = 20\n",
        "SEQ_STRIDE = 10\n",
        "\n",
        "# Sleep stage mapping based on NSRR annotations\n",
        "ANNOTATION_MAP = {\n",
        "    \"0\": 0,  # Wake\n",
        "    \"1\": 1,  # N1\n",
        "    \"2\": 2,  # N2\n",
        "    \"3\": 3,  # N3\n",
        "    \"5\": 4   # REM\n",
        "}\n",
        "\n",
        "def design_notch_filter(fs, freq=60.0, quality=30.0):\n",
        "    \"\"\"IIR notch filter, return it in second-order sections.\"\"\"\n",
        "    w0 = freq / (0.5 * fs)\n",
        "    b, a = iirnotch(w0, quality)\n",
        "    sos = butter(2, [freq-1, freq+1], btype='bandstop', fs=fs, output='sos')\n",
        "    return sos\n",
        "\n",
        "def apply_notch_filter(signal, sos):\n",
        "    \"\"\"Apply the pre-designed notch filter.\"\"\"\n",
        "    return sosfiltfilt(sos, signal)\n",
        "\n",
        "def parse_xml_annotations(xml_path):\n",
        "    \"\"\"Parse the XML file to extract sleep stage annotations.\"\"\"\n",
        "    tree = ET.parse(xml_path)\n",
        "    root = tree.getroot()\n",
        "    stages = []\n",
        "    for event in root.findall(\".//ScoredEvent\"):\n",
        "        event_type = event.findtext(\"EventType\", default=\"\")\n",
        "        if event_type != \"Stages|Stages\":\n",
        "            continue\n",
        "        concept = event.findtext(\"EventConcept\", default=\"\").strip().split(\"|\")[-1]  # Get the last part of the stage name\n",
        "        if concept not in ANNOTATION_MAP:\n",
        "            continue\n",
        "\n",
        "        start = float(event.findtext(\"Start\", 0))\n",
        "        duration = float(event.findtext(\"Duration\", 0))\n",
        "        stage_id = ANNOTATION_MAP[concept]\n",
        "\n",
        "        # Split duration into multiple 30-second epochs\n",
        "        num_epochs = int(duration // 30)\n",
        "        for i in range(num_epochs):\n",
        "            epoch_start = start + i * 30\n",
        "            stages.append((epoch_start, 30.0, stage_id))\n",
        "    if len(stages) == 0:\n",
        "        raise ValueError(f\"No valid stages found in {xml_path}\")\n",
        "\n",
        "    return stages\n",
        "\n",
        "def extract_catch22_features(epoch_data):\n",
        "    \"\"\"Compute CATCH22 features for each epoch and channel.\"\"\"\n",
        "    n_epochs, n_channels, n_samples = epoch_data.shape\n",
        "    features = []\n",
        "    for i in range(n_epochs):\n",
        "        epoch_feats = Parallel(n_jobs=-1)(  # Use all cores inside a single file\n",
        "            delayed(catch22_all)(epoch_data[i, ch, :]) for ch in range(n_channels)\n",
        "        )\n",
        "        # Only keep 'values' part from each channel\n",
        "        epoch_feats = [feats['values'] for feats in epoch_feats]\n",
        "        features.append(epoch_feats)\n",
        "    return np.array(features)  # shape: (n_epochs, n_channels, 22)\n",
        "\n",
        "def process_record(psg_path, xml_path, channels, target_sfreq, low_freq, high_freq, epoch_length):\n",
        "    \"\"\"Process a single PSG file with its corresponding XML annotations.\"\"\"\n",
        "    raw = mne.io.read_raw_edf(psg_path, preload=True, verbose=False)\n",
        "    raw.pick_channels(channels) #ONLY KEEP OUR DESIRED CHANNELS\n",
        "    if raw.info['sfreq'] != target_sfreq:\n",
        "        raw.resample(target_sfreq, npad=\"auto\", verbose=False)\n",
        "\n",
        "    raw.filter(l_freq=low_freq, h_freq=high_freq, verbose=False)\n",
        "\n",
        "    # Apply notch\n",
        "    sos = design_notch_filter(raw.info['sfreq'], freq=60.0)\n",
        "\n",
        "    for ch_idx in range(len(raw.ch_names)):\n",
        "        signal = raw.get_data(picks=[ch_idx])[0]\n",
        "        raw._data[ch_idx] = apply_notch_filter(signal, sos)\n",
        "\n",
        "    annotations = parse_xml_annotations(xml_path)\n",
        "\n",
        "    # Convert annotations to MNE-compatible events\n",
        "    events = []\n",
        "    for start, duration, stage_id in annotations:\n",
        "        sample = int(start * raw.info['sfreq'])\n",
        "        events.append([sample, 0, stage_id])\n",
        "\n",
        "    events = np.array(events)\n",
        "    tmin = 0.0\n",
        "    tmax = epoch_length - 1 / raw.info['sfreq']\n",
        "    epochs = mne.Epochs(raw, events=events, event_id=None, tmin=tmin, tmax=tmax,\n",
        "                        baseline=None, preload=True, verbose=False)\n",
        "\n",
        "    data = epochs.get_data()\n",
        "    labels = epochs.events[:, -1]\n",
        "\n",
        "    for ch in range(data.shape[1]):\n",
        "        m = np.mean(data[:, ch, :])\n",
        "        s = np.std(data[:, ch, :]) if np.std(data[:, ch, :]) != 0 else 1.0\n",
        "        data[:, ch, :] = (data[:, ch, :] - m) / s\n",
        "\n",
        "    return data, labels, raw.ch_names\n",
        "\n",
        "def create_sequences(data, labels, seq_length, seq_stride):\n",
        "    \"\"\"Create sequences of epochs.\"\"\"\n",
        "    n_epochs = data.shape[0]\n",
        "    sequences, seq_labels = [], []\n",
        "    for start in range(0, n_epochs - seq_length + 1, seq_stride):\n",
        "        sequences.append(data[start:start+seq_length])\n",
        "        seq_labels.append(labels[start:start+seq_length])\n",
        "    return np.array(sequences), np.array(seq_labels)\n",
        "\n",
        "def process_and_save(psg_file, output_dir, channels):\n",
        "    \"\"\"Process and save data for a single PSG file.\"\"\"\n",
        "    try:\n",
        "        rec_id = os.path.basename(psg_file).replace(\".edf\", \"\")\n",
        "        tqdm.write(f\"Starting {rec_id}\")\n",
        "        xml_file = os.path.join(ANNOTATION_DIR, os.path.basename(psg_file).replace(\".edf\", \"-nsrr.xml\"))\n",
        "        if not os.path.exists(xml_file):\n",
        "            tqdm.write(f\"Annotation file not found for {rec_id}, skipping.\")\n",
        "            return\n",
        "        #loading and prepro\n",
        "        try:\n",
        "            tqdm.write(f\"Loading and preprocessing {rec_id}\")\n",
        "            data, labels, ch_names = process_record(psg_file, xml_file, channels,\n",
        "                                                    TARGET_SFREQ, LOW_FREQ, HIGH_FREQ, EPOCH_LENGTH)\n",
        "        except Exception as e:\n",
        "            tqdm.write(f\"Failed during process_record for {os.path.basename(psg_file)}: {e}\")\n",
        "            return\n",
        "        #Feature extraction\n",
        "        try:\n",
        "            tqdm.write(f\"Extracting CATCH22 for {rec_id}\")\n",
        "            # Before feature extraction, downsample data:\n",
        "            data_downsample = mne.filter.resample(data, down=2.56, npad=\"auto\")\n",
        "            features = extract_catch22_features(data_downsample)\n",
        "        except Exception as e:\n",
        "            tqdm.write(f\"Failed during feature extraction for {os.path.basename(psg_file)}: {e}\")\n",
        "            return\n",
        "\n",
        "\n",
        "\n",
        "        # Try saving\n",
        "        try:\n",
        "            tqdm.write(f\"Saving for {rec_id}\")\n",
        "            np.savez_compressed(os.path.join(output_dir, f\"{rec_id}_epochs.npz\"),\n",
        "                                data=data.astype('float32'), labels=labels.astype('int8'), features=features.astype('float32'))\n",
        "            sequences, seq_labels = create_sequences(data, labels, SEQ_LENGTH, SEQ_STRIDE)\n",
        "            np.savez_compressed(os.path.join(output_dir, f\"{rec_id}_sequences.npz\"),\n",
        "                                sequences=sequences.astype('float32'), seq_labels=seq_labels.astype('int8'))\n",
        "        except Exception as e:\n",
        "            tqdm.write(f\"Failed during saving for {os.path.basename(psg_file)}: {e}\")\n",
        "            return\n",
        "\n",
        "        tqdm.write(f\"Finished {rec_id}: {data.shape[0]} epochs, {sequences.shape[0]} sequences, channels: {ch_names}\")\n",
        "\n",
        "    except Exception as e:\n",
        "        tqdm.write(f\"Unexpected error with {os.path.basename(psg_file)}: {e}\")"
      ],
      "metadata": {
        "id": "fARRB-2jmrQu"
      },
      "execution_count": 5,
      "outputs": []
    },
    {
      "cell_type": "code",
      "source": [
        "def main():\n",
        "    psg_files = glob.glob(os.path.join(EDF_DIR, \"*.edf\"))\n",
        "    print(f\"Found {len(psg_files)} PSG files.\")\n",
        "\n",
        "    with tqdm_joblib(tqdm(desc=\"Processing PSGs\", ncols=100, total=len(psg_files))):\n",
        "        Parallel(n_jobs=1)(\n",
        "            delayed(process_and_save)(f, OUTPUT_DIR, CHANNELS_TO_LOAD)\n",
        "            for f in psg_files\n",
        "        )\n",
        "\n",
        "if __name__ == '__main__':\n",
        "    main()"
      ],
      "metadata": {
        "colab": {
          "base_uri": "https://localhost:8080/",
          "height": 1000,
          "referenced_widgets": [
            "df2cb97fd94d455dbebbc09a6864df75",
            "728c2173c4954681a20084e9213c6665",
            "b43662f5ea8642f6be810392ceda1415",
            "4f3e2cd8dc4143eab7c6dd72371e6e7d",
            "152d20dc423b4f2c84887bda22b21238",
            "f1cfe5c2d28f4b619cd3006ebd416222",
            "ed1e0f2856704c81bee02358d08fbb22",
            "382b73b53a9c4e949d8ab5b14345348a",
            "10dc878fcc6a4dff94ada10a0d60a651",
            "842366e5ff044c32b66f1f6b81da0091",
            "8e1e789846e1448cb14f4f0dfe1f7e49"
          ]
        },
        "id": "paUWGJnbm1US",
        "outputId": "81189fec-a2dd-4b85-f4ae-32a4587e9151"
      },
      "execution_count": null,
      "outputs": [
        {
          "output_type": "stream",
          "name": "stdout",
          "text": [
            "Found 200 PSG files.\n"
          ]
        },
        {
          "output_type": "stream",
          "name": "stderr",
          "text": [
            "\n",
            "Processing PSGs:   0%|                                                      | 0/200 [00:00<?, ?it/s]\u001b[A"
          ]
        },
        {
          "output_type": "display_data",
          "data": {
            "text/plain": [
              "  0%|          | 0/200 [00:00<?, ?it/s]"
            ],
            "application/vnd.jupyter.widget-view+json": {
              "version_major": 2,
              "version_minor": 0,
              "model_id": "df2cb97fd94d455dbebbc09a6864df75"
            }
          },
          "metadata": {}
        },
        {
          "output_type": "stream",
          "name": "stderr",
          "text": [
            "\n",
            "Processing PSGs:   0%|                                                       | 0/25 [48:44<?, ?it/s]\n",
            "\n",
            "Processing PSGs:   0%|                                                       | 0/25 [48:44<?, ?it/s]\n",
            "Processing PSGs:   0%|                                                      | 0/200 [00:00<?, ?it/s]\u001b[A"
          ]
        },
        {
          "output_type": "stream",
          "name": "stdout",
          "text": [
            "Starting mesa-sleep-0001\n",
            "Loading and preprocessing mesa-sleep-0001\n",
            "NOTE: pick_channels() is a legacy function. New code should use inst.pick(...).\n"
          ]
        },
        {
          "output_type": "stream",
          "name": "stderr",
          "text": [
            "\n",
            "Processing PSGs:   0%|                                                       | 0/25 [53:06<?, ?it/s]\n",
            "Processing PSGs:   0%|                                                      | 0/200 [04:22<?, ?it/s]\u001b[A"
          ]
        },
        {
          "output_type": "stream",
          "name": "stdout",
          "text": [
            "Extracting CATCH22 for mesa-sleep-0001\n"
          ]
        },
        {
          "output_type": "stream",
          "name": "stderr",
          "text": [
            "\n",
            "Processing PSGs:   0%|                                                       | 0/25 [55:27<?, ?it/s]\n",
            "Processing PSGs:   0%|                                                      | 0/200 [06:42<?, ?it/s]\u001b[A"
          ]
        },
        {
          "output_type": "stream",
          "name": "stdout",
          "text": [
            "Saving for mesa-sleep-0001\n"
          ]
        },
        {
          "output_type": "stream",
          "name": "stderr",
          "text": [
            "\n",
            "Processing PSGs:   0%|                                                       | 0/25 [55:53<?, ?it/s]\n",
            "\n",
            "Processing PSGs:   0%|                                                       | 0/25 [55:53<?, ?it/s]\n",
            "\n",
            "Processing PSGs:   0%|                                                       | 0/25 [55:53<?, ?it/s]\n",
            "Processing PSGs:   0%|                                                      | 0/200 [07:08<?, ?it/s]\u001b[A"
          ]
        },
        {
          "output_type": "stream",
          "name": "stdout",
          "text": [
            "Finished mesa-sleep-0001: 1439 epochs, 142 sequences, channels: ['EEG1', 'EOG-L', 'EOG-R']\n",
            "Starting mesa-sleep-0002\n",
            "Loading and preprocessing mesa-sleep-0002\n",
            "NOTE: pick_channels() is a legacy function. New code should use inst.pick(...).\n"
          ]
        },
        {
          "output_type": "stream",
          "name": "stderr",
          "text": [
            "\n",
            "Processing PSGs:   0%|                                                       | 0/25 [57:05<?, ?it/s]\n",
            "Processing PSGs:   0%|                                                      | 0/200 [08:20<?, ?it/s]\u001b[A"
          ]
        },
        {
          "output_type": "stream",
          "name": "stdout",
          "text": [
            "Extracting CATCH22 for mesa-sleep-0002\n"
          ]
        },
        {
          "output_type": "stream",
          "name": "stderr",
          "text": [
            "\n",
            "Processing PSGs:   0%|                                                       | 0/25 [59:13<?, ?it/s]\n",
            "Processing PSGs:   0%|                                                      | 0/200 [10:29<?, ?it/s]\u001b[A"
          ]
        },
        {
          "output_type": "stream",
          "name": "stdout",
          "text": [
            "Saving for mesa-sleep-0002\n"
          ]
        },
        {
          "output_type": "stream",
          "name": "stderr",
          "text": [
            "\n",
            "Processing PSGs:   0%|                                                       | 0/25 [59:38<?, ?it/s]\n",
            "\n",
            "Processing PSGs:   0%|                                                       | 0/25 [59:38<?, ?it/s]\n",
            "\n",
            "Processing PSGs:   0%|                                                       | 0/25 [59:38<?, ?it/s]\n",
            "Processing PSGs:   0%|                                                      | 0/200 [10:53<?, ?it/s]\u001b[A"
          ]
        },
        {
          "output_type": "stream",
          "name": "stdout",
          "text": [
            "Finished mesa-sleep-0002: 1319 epochs, 130 sequences, channels: ['EEG1', 'EOG-L', 'EOG-R']\n",
            "Starting mesa-sleep-0006\n",
            "Loading and preprocessing mesa-sleep-0006\n",
            "NOTE: pick_channels() is a legacy function. New code should use inst.pick(...).\n"
          ]
        },
        {
          "output_type": "stream",
          "name": "stderr",
          "text": [
            "\n",
            "Processing PSGs:   0%|                                                     | 0/25 [1:00:19<?, ?it/s]\n",
            "Processing PSGs:   0%|                                                      | 0/200 [11:34<?, ?it/s]\u001b[A"
          ]
        },
        {
          "output_type": "stream",
          "name": "stdout",
          "text": [
            "Extracting CATCH22 for mesa-sleep-0006\n"
          ]
        },
        {
          "output_type": "stream",
          "name": "stderr",
          "text": [
            "\rProcessing PSGs:   0%|                                                     | 0/25 [1:01:35<?, ?it/s]\n",
            "\n",
            "\u001b[A\n",
            "Processing PSGs:   0%|                                                      | 0/200 [13:19<?, ?it/s]\u001b[A"
          ]
        },
        {
          "output_type": "stream",
          "name": "stdout",
          "text": [
            "Saving for mesa-sleep-0006\n"
          ]
        },
        {
          "output_type": "stream",
          "name": "stderr",
          "text": [
            "\n",
            "\u001b[A\n",
            "Processing PSGs:   0%|                                                      | 0/200 [13:39<?, ?it/s]\u001b[A\n",
            "\u001b[A\n",
            "Processing PSGs:   0%|                                                      | 0/200 [13:39<?, ?it/s]\u001b[A\n",
            "\u001b[A\n",
            "Processing PSGs:   0%|                                                      | 0/200 [13:39<?, ?it/s]\u001b[A"
          ]
        },
        {
          "output_type": "stream",
          "name": "stdout",
          "text": [
            "Finished mesa-sleep-0006: 1079 epochs, 106 sequences, channels: ['EEG1', 'EOG-L', 'EOG-R']\n",
            "Starting mesa-sleep-0010\n",
            "Loading and preprocessing mesa-sleep-0010\n",
            "NOTE: pick_channels() is a legacy function. New code should use inst.pick(...).\n"
          ]
        },
        {
          "output_type": "stream",
          "name": "stderr",
          "text": [
            "\n",
            "\u001b[A\n",
            "Processing PSGs:   0%|                                                      | 0/200 [14:46<?, ?it/s]\u001b[A"
          ]
        },
        {
          "output_type": "stream",
          "name": "stdout",
          "text": [
            "Extracting CATCH22 for mesa-sleep-0010\n"
          ]
        },
        {
          "output_type": "stream",
          "name": "stderr",
          "text": [
            "\n",
            "\u001b[A\n",
            "Processing PSGs:   0%|                                                      | 0/200 [16:45<?, ?it/s]\u001b[A"
          ]
        },
        {
          "output_type": "stream",
          "name": "stdout",
          "text": [
            "Saving for mesa-sleep-0010\n"
          ]
        },
        {
          "output_type": "stream",
          "name": "stderr",
          "text": [
            "\n",
            "\u001b[A\n",
            "Processing PSGs:   0%|                                                      | 0/200 [17:06<?, ?it/s]\u001b[A\n",
            "\u001b[A\n",
            "Processing PSGs:   0%|                                                      | 0/200 [17:06<?, ?it/s]\u001b[A\n",
            "\u001b[A\n",
            "Processing PSGs:   0%|                                                      | 0/200 [17:06<?, ?it/s]\u001b[A"
          ]
        },
        {
          "output_type": "stream",
          "name": "stdout",
          "text": [
            "Finished mesa-sleep-0010: 1199 epochs, 118 sequences, channels: ['EEG1', 'EOG-L', 'EOG-R']\n",
            "Starting mesa-sleep-0012\n",
            "Loading and preprocessing mesa-sleep-0012\n",
            "NOTE: pick_channels() is a legacy function. New code should use inst.pick(...).\n"
          ]
        },
        {
          "output_type": "stream",
          "name": "stderr",
          "text": [
            "\n",
            "\u001b[A\n",
            "Processing PSGs:   0%|                                                      | 0/200 [18:23<?, ?it/s]\u001b[A"
          ]
        },
        {
          "output_type": "stream",
          "name": "stdout",
          "text": [
            "Extracting CATCH22 for mesa-sleep-0012\n"
          ]
        },
        {
          "output_type": "stream",
          "name": "stderr",
          "text": [
            "\n",
            "\u001b[A\n",
            "Processing PSGs:   0%|                                                      | 0/200 [20:44<?, ?it/s]\u001b[A"
          ]
        },
        {
          "output_type": "stream",
          "name": "stdout",
          "text": [
            "Saving for mesa-sleep-0012\n"
          ]
        },
        {
          "output_type": "stream",
          "name": "stderr",
          "text": [
            "\n",
            "\u001b[A\n",
            "Processing PSGs:   0%|                                                      | 0/200 [21:11<?, ?it/s]\u001b[A\n",
            "\u001b[A\n",
            "Processing PSGs:   0%|                                                      | 0/200 [21:11<?, ?it/s]\u001b[A\n",
            "\u001b[A\n",
            "Processing PSGs:   0%|                                                      | 0/200 [21:11<?, ?it/s]\u001b[A"
          ]
        },
        {
          "output_type": "stream",
          "name": "stdout",
          "text": [
            "Finished mesa-sleep-0012: 1427 epochs, 141 sequences, channels: ['EEG1', 'EOG-L', 'EOG-R']\n",
            "Starting mesa-sleep-0014\n",
            "Loading and preprocessing mesa-sleep-0014\n",
            "NOTE: pick_channels() is a legacy function. New code should use inst.pick(...).\n"
          ]
        },
        {
          "output_type": "stream",
          "name": "stderr",
          "text": [
            "\n",
            "\u001b[A\n",
            "Processing PSGs:   0%|                                                      | 0/200 [22:40<?, ?it/s]\u001b[A"
          ]
        },
        {
          "output_type": "stream",
          "name": "stdout",
          "text": [
            "Extracting CATCH22 for mesa-sleep-0014\n"
          ]
        },
        {
          "output_type": "stream",
          "name": "stderr",
          "text": [
            "\n",
            "\u001b[A\n",
            "Processing PSGs:   0%|                                                      | 0/200 [25:23<?, ?it/s]\u001b[A"
          ]
        },
        {
          "output_type": "stream",
          "name": "stdout",
          "text": [
            "Saving for mesa-sleep-0014\n"
          ]
        },
        {
          "output_type": "stream",
          "name": "stderr",
          "text": [
            "\n",
            "\u001b[A\n",
            "Processing PSGs:   0%|                                                      | 0/200 [25:53<?, ?it/s]\u001b[A\n",
            "\u001b[A\n",
            "Processing PSGs:   0%|                                                      | 0/200 [25:53<?, ?it/s]\u001b[A\n",
            "\u001b[A\n",
            "Processing PSGs:   0%|                                                      | 0/200 [25:53<?, ?it/s]\u001b[A"
          ]
        },
        {
          "output_type": "stream",
          "name": "stdout",
          "text": [
            "Finished mesa-sleep-0014: 1679 epochs, 166 sequences, channels: ['EEG1', 'EOG-L', 'EOG-R']\n",
            "Starting mesa-sleep-0016\n",
            "Loading and preprocessing mesa-sleep-0016\n",
            "NOTE: pick_channels() is a legacy function. New code should use inst.pick(...).\n"
          ]
        },
        {
          "output_type": "stream",
          "name": "stderr",
          "text": [
            "\n",
            "\u001b[A\n",
            "Processing PSGs:   0%|                                                      | 0/200 [26:59<?, ?it/s]\u001b[A"
          ]
        },
        {
          "output_type": "stream",
          "name": "stdout",
          "text": [
            "Extracting CATCH22 for mesa-sleep-0016\n"
          ]
        },
        {
          "output_type": "stream",
          "name": "stderr",
          "text": [
            "\n",
            "\u001b[A\n",
            "Processing PSGs:   0%|                                                      | 0/200 [28:57<?, ?it/s]\u001b[A"
          ]
        },
        {
          "output_type": "stream",
          "name": "stdout",
          "text": [
            "Saving for mesa-sleep-0016\n"
          ]
        },
        {
          "output_type": "stream",
          "name": "stderr",
          "text": [
            "\n",
            "\u001b[A\n",
            "Processing PSGs:   0%|                                                      | 0/200 [29:19<?, ?it/s]\u001b[A\n",
            "\u001b[A\n",
            "Processing PSGs:   0%|                                                      | 0/200 [29:19<?, ?it/s]\u001b[A\n",
            "\u001b[A\n",
            "Processing PSGs:   0%|                                                      | 0/200 [29:19<?, ?it/s]\u001b[A"
          ]
        },
        {
          "output_type": "stream",
          "name": "stdout",
          "text": [
            "Finished mesa-sleep-0016: 1199 epochs, 118 sequences, channels: ['EEG1', 'EOG-L', 'EOG-R']\n",
            "Starting mesa-sleep-0021\n",
            "Loading and preprocessing mesa-sleep-0021\n",
            "NOTE: pick_channels() is a legacy function. New code should use inst.pick(...).\n"
          ]
        },
        {
          "output_type": "stream",
          "name": "stderr",
          "text": [
            "\n",
            "\u001b[A\n",
            "Processing PSGs:   0%|                                                      | 0/200 [29:59<?, ?it/s]\u001b[A"
          ]
        },
        {
          "output_type": "stream",
          "name": "stdout",
          "text": [
            "Extracting CATCH22 for mesa-sleep-0021\n"
          ]
        },
        {
          "output_type": "stream",
          "name": "stderr",
          "text": [
            "\n",
            "\u001b[A\n",
            "Processing PSGs:   0%|                                                      | 0/200 [31:45<?, ?it/s]\u001b[A"
          ]
        },
        {
          "output_type": "stream",
          "name": "stdout",
          "text": [
            "Saving for mesa-sleep-0021\n"
          ]
        },
        {
          "output_type": "stream",
          "name": "stderr",
          "text": [
            "\n",
            "\u001b[A\n",
            "Processing PSGs:   0%|                                                      | 0/200 [32:04<?, ?it/s]\u001b[A\n",
            "\u001b[A\n",
            "Processing PSGs:   0%|                                                      | 0/200 [32:04<?, ?it/s]\u001b[A\n",
            "\u001b[A\n",
            "Processing PSGs:   0%|                                                      | 0/200 [32:04<?, ?it/s]\u001b[A"
          ]
        },
        {
          "output_type": "stream",
          "name": "stdout",
          "text": [
            "Finished mesa-sleep-0021: 1079 epochs, 106 sequences, channels: ['EEG1', 'EOG-L', 'EOG-R']\n",
            "Starting mesa-sleep-0027\n",
            "Loading and preprocessing mesa-sleep-0027\n",
            "NOTE: pick_channels() is a legacy function. New code should use inst.pick(...).\n"
          ]
        },
        {
          "output_type": "stream",
          "name": "stderr",
          "text": [
            "\n",
            "\u001b[A\n",
            "Processing PSGs:   0%|                                                      | 0/200 [33:15<?, ?it/s]\u001b[A"
          ]
        },
        {
          "output_type": "stream",
          "name": "stdout",
          "text": [
            "Extracting CATCH22 for mesa-sleep-0027\n"
          ]
        },
        {
          "output_type": "stream",
          "name": "stderr",
          "text": [
            "\n",
            "\u001b[A\n",
            "Processing PSGs:   0%|                                                      | 0/200 [35:15<?, ?it/s]\u001b[A"
          ]
        },
        {
          "output_type": "stream",
          "name": "stdout",
          "text": [
            "Saving for mesa-sleep-0027\n"
          ]
        },
        {
          "output_type": "stream",
          "name": "stderr",
          "text": [
            "\n",
            "\u001b[A\n",
            "Processing PSGs:   0%|                                                      | 0/200 [35:36<?, ?it/s]\u001b[A\n",
            "\u001b[A\n",
            "Processing PSGs:   0%|                                                      | 0/200 [35:36<?, ?it/s]\u001b[A\n",
            "\u001b[A\n",
            "Processing PSGs:   0%|                                                      | 0/200 [35:36<?, ?it/s]\u001b[A"
          ]
        },
        {
          "output_type": "stream",
          "name": "stdout",
          "text": [
            "Finished mesa-sleep-0027: 1199 epochs, 118 sequences, channels: ['EEG1', 'EOG-L', 'EOG-R']\n",
            "Starting mesa-sleep-0028\n",
            "Loading and preprocessing mesa-sleep-0028\n",
            "NOTE: pick_channels() is a legacy function. New code should use inst.pick(...).\n"
          ]
        },
        {
          "output_type": "stream",
          "name": "stderr",
          "text": [
            "\n",
            "\u001b[A\n",
            "Processing PSGs:   0%|                                                      | 0/200 [36:43<?, ?it/s]\u001b[A"
          ]
        },
        {
          "output_type": "stream",
          "name": "stdout",
          "text": [
            "Extracting CATCH22 for mesa-sleep-0028\n"
          ]
        },
        {
          "output_type": "stream",
          "name": "stderr",
          "text": [
            "\n",
            "\u001b[A\n",
            "Processing PSGs:   0%|                                                      | 0/200 [38:38<?, ?it/s]\u001b[A"
          ]
        },
        {
          "output_type": "stream",
          "name": "stdout",
          "text": [
            "Saving for mesa-sleep-0028\n"
          ]
        },
        {
          "output_type": "stream",
          "name": "stderr",
          "text": [
            "\n",
            "\u001b[A\n",
            "Processing PSGs:   0%|                                                      | 0/200 [38:57<?, ?it/s]\u001b[A\n",
            "\u001b[A\n",
            "Processing PSGs:   0%|                                                      | 0/200 [38:58<?, ?it/s]\u001b[A\n",
            "\u001b[A\n",
            "Processing PSGs:   0%|                                                      | 0/200 [38:58<?, ?it/s]\u001b[A"
          ]
        },
        {
          "output_type": "stream",
          "name": "stdout",
          "text": [
            "Finished mesa-sleep-0028: 1139 epochs, 112 sequences, channels: ['EEG1', 'EOG-L', 'EOG-R']\n",
            "Starting mesa-sleep-0033\n",
            "Loading and preprocessing mesa-sleep-0033\n",
            "NOTE: pick_channels() is a legacy function. New code should use inst.pick(...).\n"
          ]
        },
        {
          "output_type": "stream",
          "name": "stderr",
          "text": [
            "\n",
            "\u001b[A\n",
            "Processing PSGs:   0%|                                                      | 0/200 [39:18<?, ?it/s]\u001b[A"
          ]
        },
        {
          "output_type": "stream",
          "name": "stdout",
          "text": [
            "Extracting CATCH22 for mesa-sleep-0033\n"
          ]
        },
        {
          "output_type": "stream",
          "name": "stderr",
          "text": [
            "\n",
            "\u001b[A\n",
            "Processing PSGs:   0%|                                                      | 0/200 [41:04<?, ?it/s]\u001b[A"
          ]
        },
        {
          "output_type": "stream",
          "name": "stdout",
          "text": [
            "Saving for mesa-sleep-0033\n"
          ]
        },
        {
          "output_type": "stream",
          "name": "stderr",
          "text": [
            "\n",
            "\u001b[A\n",
            "Processing PSGs:   0%|                                                      | 0/200 [41:23<?, ?it/s]\u001b[A\n",
            "\u001b[A\n",
            "Processing PSGs:   0%|                                                      | 0/200 [41:23<?, ?it/s]\u001b[A\n",
            "\u001b[A\n",
            "Processing PSGs:   0%|                                                      | 0/200 [41:23<?, ?it/s]\u001b[A"
          ]
        },
        {
          "output_type": "stream",
          "name": "stdout",
          "text": [
            "Finished mesa-sleep-0033: 1080 epochs, 107 sequences, channels: ['EEG1', 'EOG-L', 'EOG-R']\n",
            "Starting mesa-sleep-0035\n",
            "Loading and preprocessing mesa-sleep-0035\n",
            "NOTE: pick_channels() is a legacy function. New code should use inst.pick(...).\n"
          ]
        },
        {
          "output_type": "stream",
          "name": "stderr",
          "text": [
            "\n",
            "\u001b[A\n",
            "Processing PSGs:   0%|                                                      | 0/200 [42:04<?, ?it/s]\u001b[A"
          ]
        },
        {
          "output_type": "stream",
          "name": "stdout",
          "text": [
            "Extracting CATCH22 for mesa-sleep-0035\n"
          ]
        },
        {
          "output_type": "stream",
          "name": "stderr",
          "text": [
            "\n",
            "\u001b[A\n",
            "Processing PSGs:   0%|                                                      | 0/200 [43:55<?, ?it/s]\u001b[A"
          ]
        },
        {
          "output_type": "stream",
          "name": "stdout",
          "text": [
            "Saving for mesa-sleep-0035\n"
          ]
        },
        {
          "output_type": "stream",
          "name": "stderr",
          "text": [
            "\n",
            "\u001b[A\n",
            "Processing PSGs:   0%|                                                      | 0/200 [44:16<?, ?it/s]\u001b[A\n",
            "\u001b[A\n",
            "Processing PSGs:   0%|                                                      | 0/200 [44:16<?, ?it/s]\u001b[A\n",
            "\u001b[A\n",
            "Processing PSGs:   0%|                                                      | 0/200 [44:16<?, ?it/s]\u001b[A"
          ]
        },
        {
          "output_type": "stream",
          "name": "stdout",
          "text": [
            "Finished mesa-sleep-0035: 1079 epochs, 106 sequences, channels: ['EEG1', 'EOG-L', 'EOG-R']\n",
            "Starting mesa-sleep-0036\n",
            "Loading and preprocessing mesa-sleep-0036\n",
            "NOTE: pick_channels() is a legacy function. New code should use inst.pick(...).\n"
          ]
        },
        {
          "output_type": "stream",
          "name": "stderr",
          "text": [
            "\n",
            "\u001b[A\n",
            "Processing PSGs:   0%|                                                      | 0/200 [44:57<?, ?it/s]\u001b[A"
          ]
        },
        {
          "output_type": "stream",
          "name": "stdout",
          "text": [
            "Extracting CATCH22 for mesa-sleep-0036\n"
          ]
        },
        {
          "output_type": "stream",
          "name": "stderr",
          "text": [
            "\n",
            "\u001b[A\n",
            "Processing PSGs:   0%|                                                      | 0/200 [46:45<?, ?it/s]\u001b[A"
          ]
        },
        {
          "output_type": "stream",
          "name": "stdout",
          "text": [
            "Saving for mesa-sleep-0036\n"
          ]
        },
        {
          "output_type": "stream",
          "name": "stderr",
          "text": [
            "\n",
            "\u001b[A\n",
            "Processing PSGs:   0%|                                                      | 0/200 [47:04<?, ?it/s]\u001b[A\n",
            "\u001b[A\n",
            "Processing PSGs:   0%|                                                      | 0/200 [47:04<?, ?it/s]\u001b[A\n",
            "\u001b[A\n",
            "Processing PSGs:   0%|                                                      | 0/200 [47:04<?, ?it/s]\u001b[A"
          ]
        },
        {
          "output_type": "stream",
          "name": "stdout",
          "text": [
            "Finished mesa-sleep-0036: 1079 epochs, 106 sequences, channels: ['EEG1', 'EOG-L', 'EOG-R']\n",
            "Starting mesa-sleep-0038\n",
            "Loading and preprocessing mesa-sleep-0038\n",
            "NOTE: pick_channels() is a legacy function. New code should use inst.pick(...).\n"
          ]
        },
        {
          "output_type": "stream",
          "name": "stderr",
          "text": [
            "\n",
            "\u001b[A\n",
            "Processing PSGs:   0%|                                                      | 0/200 [47:43<?, ?it/s]\u001b[A"
          ]
        },
        {
          "output_type": "stream",
          "name": "stdout",
          "text": [
            "Extracting CATCH22 for mesa-sleep-0038\n"
          ]
        },
        {
          "output_type": "stream",
          "name": "stderr",
          "text": [
            "\n",
            "\u001b[A\n",
            "Processing PSGs:   0%|                                                      | 0/200 [49:32<?, ?it/s]\u001b[A"
          ]
        },
        {
          "output_type": "stream",
          "name": "stdout",
          "text": [
            "Saving for mesa-sleep-0038\n"
          ]
        },
        {
          "output_type": "stream",
          "name": "stderr",
          "text": [
            "\n",
            "\u001b[A\n",
            "Processing PSGs:   0%|                                                      | 0/200 [49:50<?, ?it/s]\u001b[A\n",
            "\u001b[A\n",
            "Processing PSGs:   0%|                                                      | 0/200 [49:50<?, ?it/s]\u001b[A\n",
            "\u001b[A\n",
            "Processing PSGs:   0%|                                                      | 0/200 [49:50<?, ?it/s]\u001b[A"
          ]
        },
        {
          "output_type": "stream",
          "name": "stdout",
          "text": [
            "Finished mesa-sleep-0038: 1079 epochs, 106 sequences, channels: ['EEG1', 'EOG-L', 'EOG-R']\n",
            "Starting mesa-sleep-0046\n",
            "Loading and preprocessing mesa-sleep-0046\n",
            "NOTE: pick_channels() is a legacy function. New code should use inst.pick(...).\n"
          ]
        },
        {
          "output_type": "stream",
          "name": "stderr",
          "text": [
            "\n",
            "\u001b[A\n",
            "Processing PSGs:   0%|                                                      | 0/200 [50:53<?, ?it/s]\u001b[A"
          ]
        },
        {
          "output_type": "stream",
          "name": "stdout",
          "text": [
            "Extracting CATCH22 for mesa-sleep-0046\n"
          ]
        },
        {
          "output_type": "stream",
          "name": "stderr",
          "text": [
            "\n",
            "\u001b[A\n",
            "Processing PSGs:   0%|                                                      | 0/200 [52:51<?, ?it/s]\u001b[A"
          ]
        },
        {
          "output_type": "stream",
          "name": "stdout",
          "text": [
            "Saving for mesa-sleep-0046\n"
          ]
        },
        {
          "output_type": "stream",
          "name": "stderr",
          "text": [
            "\n",
            "\u001b[A\n",
            "Processing PSGs:   0%|                                                      | 0/200 [53:17<?, ?it/s]\u001b[A\n",
            "\u001b[A\n",
            "Processing PSGs:   0%|                                                      | 0/200 [53:17<?, ?it/s]\u001b[A\n",
            "\u001b[A\n",
            "Processing PSGs:   0%|                                                      | 0/200 [53:17<?, ?it/s]\u001b[A"
          ]
        },
        {
          "output_type": "stream",
          "name": "stdout",
          "text": [
            "Finished mesa-sleep-0046: 1199 epochs, 118 sequences, channels: ['EEG1', 'EOG-L', 'EOG-R']\n",
            "Starting mesa-sleep-0048\n",
            "Loading and preprocessing mesa-sleep-0048\n",
            "NOTE: pick_channels() is a legacy function. New code should use inst.pick(...).\n"
          ]
        },
        {
          "output_type": "stream",
          "name": "stderr",
          "text": [
            "\n",
            "\u001b[A\n",
            "Processing PSGs:   0%|                                                      | 0/200 [54:24<?, ?it/s]\u001b[A"
          ]
        },
        {
          "output_type": "stream",
          "name": "stdout",
          "text": [
            "Extracting CATCH22 for mesa-sleep-0048\n"
          ]
        },
        {
          "output_type": "stream",
          "name": "stderr",
          "text": [
            "\n",
            "\u001b[A\n",
            "Processing PSGs:   0%|                                                      | 0/200 [56:23<?, ?it/s]\u001b[A"
          ]
        },
        {
          "output_type": "stream",
          "name": "stdout",
          "text": [
            "Saving for mesa-sleep-0048\n"
          ]
        },
        {
          "output_type": "stream",
          "name": "stderr",
          "text": [
            "\n",
            "\u001b[A\n",
            "Processing PSGs:   0%|                                                      | 0/200 [56:44<?, ?it/s]\u001b[A\n",
            "\u001b[A\n",
            "Processing PSGs:   0%|                                                      | 0/200 [56:44<?, ?it/s]\u001b[A\n",
            "\u001b[A\n",
            "Processing PSGs:   0%|                                                      | 0/200 [56:44<?, ?it/s]\u001b[A"
          ]
        },
        {
          "output_type": "stream",
          "name": "stdout",
          "text": [
            "Finished mesa-sleep-0048: 1199 epochs, 118 sequences, channels: ['EEG1', 'EOG-L', 'EOG-R']\n",
            "Starting mesa-sleep-0050\n",
            "Loading and preprocessing mesa-sleep-0050\n",
            "NOTE: pick_channels() is a legacy function. New code should use inst.pick(...).\n"
          ]
        },
        {
          "output_type": "stream",
          "name": "stderr",
          "text": [
            "\n",
            "\u001b[A\n",
            "Processing PSGs:   0%|                                                      | 0/200 [57:47<?, ?it/s]\u001b[A"
          ]
        },
        {
          "output_type": "stream",
          "name": "stdout",
          "text": [
            "Extracting CATCH22 for mesa-sleep-0050\n"
          ]
        },
        {
          "output_type": "stream",
          "name": "stderr",
          "text": [
            "\n",
            "\u001b[A\n",
            "Processing PSGs:   0%|                                                      | 0/200 [59:46<?, ?it/s]\u001b[A"
          ]
        },
        {
          "output_type": "stream",
          "name": "stdout",
          "text": [
            "Saving for mesa-sleep-0050\n"
          ]
        },
        {
          "output_type": "stream",
          "name": "stderr",
          "text": [
            "\n",
            "\u001b[A\n",
            "Processing PSGs:   0%|                                                    | 0/200 [1:00:08<?, ?it/s]\u001b[A\n",
            "\u001b[A\n",
            "Processing PSGs:   0%|                                                    | 0/200 [1:00:08<?, ?it/s]\u001b[A\n",
            "\u001b[A\n",
            "Processing PSGs:   0%|                                                    | 0/200 [1:00:08<?, ?it/s]\u001b[A"
          ]
        },
        {
          "output_type": "stream",
          "name": "stdout",
          "text": [
            "Finished mesa-sleep-0050: 1199 epochs, 118 sequences, channels: ['EEG1', 'EOG-L', 'EOG-R']\n",
            "Starting mesa-sleep-0052\n",
            "Loading and preprocessing mesa-sleep-0052\n",
            "NOTE: pick_channels() is a legacy function. New code should use inst.pick(...).\n"
          ]
        },
        {
          "output_type": "stream",
          "name": "stderr",
          "text": [
            "\n",
            "\u001b[A\n",
            "Processing PSGs:   0%|                                                    | 0/200 [1:04:37<?, ?it/s]\u001b[A"
          ]
        },
        {
          "output_type": "stream",
          "name": "stdout",
          "text": [
            "Extracting CATCH22 for mesa-sleep-0052\n"
          ]
        },
        {
          "output_type": "stream",
          "name": "stderr",
          "text": [
            "\n",
            "\u001b[A\n",
            "Processing PSGs:   0%|                                                    | 0/200 [1:07:02<?, ?it/s]\u001b[A"
          ]
        },
        {
          "output_type": "stream",
          "name": "stdout",
          "text": [
            "Saving for mesa-sleep-0052\n"
          ]
        },
        {
          "output_type": "stream",
          "name": "stderr",
          "text": [
            "\n",
            "\u001b[A\n",
            "Processing PSGs:   0%|                                                    | 0/200 [1:07:28<?, ?it/s]\u001b[A\n",
            "\u001b[A\n",
            "Processing PSGs:   0%|                                                    | 0/200 [1:07:28<?, ?it/s]\u001b[A\n",
            "\u001b[A\n",
            "Processing PSGs:   0%|                                                    | 0/200 [1:07:28<?, ?it/s]\u001b[A"
          ]
        },
        {
          "output_type": "stream",
          "name": "stdout",
          "text": [
            "Finished mesa-sleep-0052: 1439 epochs, 142 sequences, channels: ['EEG1', 'EOG-L', 'EOG-R']\n",
            "Starting mesa-sleep-0054\n",
            "Loading and preprocessing mesa-sleep-0054\n",
            "NOTE: pick_channels() is a legacy function. New code should use inst.pick(...).\n"
          ]
        },
        {
          "output_type": "stream",
          "name": "stderr",
          "text": [
            "\n",
            "\u001b[A\n",
            "Processing PSGs:   0%|                                                    | 0/200 [1:08:37<?, ?it/s]\u001b[A"
          ]
        },
        {
          "output_type": "stream",
          "name": "stdout",
          "text": [
            "Extracting CATCH22 for mesa-sleep-0054\n"
          ]
        },
        {
          "output_type": "stream",
          "name": "stderr",
          "text": [
            "\n",
            "\u001b[A\n",
            "Processing PSGs:   0%|                                                    | 0/200 [1:10:42<?, ?it/s]\u001b[A"
          ]
        },
        {
          "output_type": "stream",
          "name": "stdout",
          "text": [
            "Saving for mesa-sleep-0054\n"
          ]
        },
        {
          "output_type": "stream",
          "name": "stderr",
          "text": [
            "\n",
            "\u001b[A\n",
            "Processing PSGs:   0%|                                                    | 0/200 [1:11:05<?, ?it/s]\u001b[A\n",
            "\u001b[A\n",
            "Processing PSGs:   0%|                                                    | 0/200 [1:11:05<?, ?it/s]\u001b[A\n",
            "\u001b[A\n",
            "Processing PSGs:   0%|                                                    | 0/200 [1:11:05<?, ?it/s]\u001b[A"
          ]
        },
        {
          "output_type": "stream",
          "name": "stdout",
          "text": [
            "Finished mesa-sleep-0054: 1259 epochs, 124 sequences, channels: ['EEG1', 'EOG-L', 'EOG-R']\n",
            "Starting mesa-sleep-0056\n",
            "Loading and preprocessing mesa-sleep-0056\n",
            "NOTE: pick_channels() is a legacy function. New code should use inst.pick(...).\n"
          ]
        },
        {
          "output_type": "stream",
          "name": "stderr",
          "text": [
            "\n",
            "\u001b[A\n",
            "Processing PSGs:   0%|                                                    | 0/200 [1:15:36<?, ?it/s]\u001b[A"
          ]
        },
        {
          "output_type": "stream",
          "name": "stdout",
          "text": [
            "Extracting CATCH22 for mesa-sleep-0056\n"
          ]
        },
        {
          "output_type": "stream",
          "name": "stderr",
          "text": [
            "\n",
            "\u001b[A\n",
            "Processing PSGs:   0%|                                                    | 0/200 [1:17:59<?, ?it/s]\u001b[A"
          ]
        },
        {
          "output_type": "stream",
          "name": "stdout",
          "text": [
            "Saving for mesa-sleep-0056\n"
          ]
        },
        {
          "output_type": "stream",
          "name": "stderr",
          "text": [
            "\n",
            "\u001b[A\n",
            "Processing PSGs:   0%|                                                    | 0/200 [1:18:26<?, ?it/s]\u001b[A\n",
            "\u001b[A\n",
            "Processing PSGs:   0%|                                                    | 0/200 [1:18:26<?, ?it/s]\u001b[A\n",
            "\u001b[A\n",
            "Processing PSGs:   0%|                                                    | 0/200 [1:18:26<?, ?it/s]\u001b[A"
          ]
        },
        {
          "output_type": "stream",
          "name": "stdout",
          "text": [
            "Finished mesa-sleep-0056: 1439 epochs, 142 sequences, channels: ['EEG1', 'EOG-L', 'EOG-R']\n",
            "Starting mesa-sleep-0064\n",
            "Loading and preprocessing mesa-sleep-0064\n",
            "NOTE: pick_channels() is a legacy function. New code should use inst.pick(...).\n"
          ]
        },
        {
          "output_type": "stream",
          "name": "stderr",
          "text": [
            "\n",
            "\u001b[A\n",
            "Processing PSGs:   0%|                                                    | 0/200 [1:19:07<?, ?it/s]\u001b[A"
          ]
        },
        {
          "output_type": "stream",
          "name": "stdout",
          "text": [
            "Extracting CATCH22 for mesa-sleep-0064\n"
          ]
        },
        {
          "output_type": "stream",
          "name": "stderr",
          "text": [
            "\n",
            "\u001b[A\n",
            "Processing PSGs:   0%|                                                    | 0/200 [1:20:57<?, ?it/s]\u001b[A"
          ]
        },
        {
          "output_type": "stream",
          "name": "stdout",
          "text": [
            "Saving for mesa-sleep-0064\n"
          ]
        },
        {
          "output_type": "stream",
          "name": "stderr",
          "text": [
            "\n",
            "\u001b[A\n",
            "Processing PSGs:   0%|                                                    | 0/200 [1:21:16<?, ?it/s]\u001b[A\n",
            "\u001b[A\n",
            "Processing PSGs:   0%|                                                    | 0/200 [1:21:16<?, ?it/s]\u001b[A\n",
            "\u001b[A\n",
            "Processing PSGs:   0%|                                                    | 0/200 [1:21:16<?, ?it/s]\u001b[A"
          ]
        },
        {
          "output_type": "stream",
          "name": "stdout",
          "text": [
            "Finished mesa-sleep-0064: 1079 epochs, 106 sequences, channels: ['EEG1', 'EOG-L', 'EOG-R']\n",
            "Starting mesa-sleep-0070\n",
            "Loading and preprocessing mesa-sleep-0070\n",
            "NOTE: pick_channels() is a legacy function. New code should use inst.pick(...).\n"
          ]
        },
        {
          "output_type": "stream",
          "name": "stderr",
          "text": [
            "\n",
            "\u001b[A\n",
            "Processing PSGs:   0%|                                                    | 0/200 [1:22:27<?, ?it/s]\u001b[A"
          ]
        },
        {
          "output_type": "stream",
          "name": "stdout",
          "text": [
            "Extracting CATCH22 for mesa-sleep-0070\n"
          ]
        },
        {
          "output_type": "stream",
          "name": "stderr",
          "text": [
            "\n",
            "\u001b[A\n",
            "Processing PSGs:   0%|                                                    | 0/200 [1:24:41<?, ?it/s]\u001b[A"
          ]
        },
        {
          "output_type": "stream",
          "name": "stdout",
          "text": [
            "Saving for mesa-sleep-0070\n"
          ]
        },
        {
          "output_type": "stream",
          "name": "stderr",
          "text": [
            "\n",
            "\u001b[A\n",
            "Processing PSGs:   0%|                                                    | 0/200 [1:25:07<?, ?it/s]\u001b[A\n",
            "\u001b[A\n",
            "Processing PSGs:   0%|                                                    | 0/200 [1:25:07<?, ?it/s]\u001b[A\n",
            "\u001b[A\n",
            "Processing PSGs:   0%|                                                    | 0/200 [1:25:07<?, ?it/s]\u001b[A"
          ]
        },
        {
          "output_type": "stream",
          "name": "stdout",
          "text": [
            "Finished mesa-sleep-0070: 1319 epochs, 130 sequences, channels: ['EEG1', 'EOG-L', 'EOG-R']\n",
            "Starting mesa-sleep-0074\n",
            "Loading and preprocessing mesa-sleep-0074\n",
            "NOTE: pick_channels() is a legacy function. New code should use inst.pick(...).\n"
          ]
        },
        {
          "output_type": "stream",
          "name": "stderr",
          "text": [
            "\n",
            "\u001b[A\n",
            "Processing PSGs:   0%|                                                    | 0/200 [1:26:28<?, ?it/s]\u001b[A"
          ]
        },
        {
          "output_type": "stream",
          "name": "stdout",
          "text": [
            "Extracting CATCH22 for mesa-sleep-0074\n"
          ]
        },
        {
          "output_type": "stream",
          "name": "stderr",
          "text": [
            "\n",
            "\u001b[A\n",
            "Processing PSGs:   0%|                                                    | 0/200 [1:28:53<?, ?it/s]\u001b[A"
          ]
        },
        {
          "output_type": "stream",
          "name": "stdout",
          "text": [
            "Saving for mesa-sleep-0074\n"
          ]
        },
        {
          "output_type": "stream",
          "name": "stderr",
          "text": [
            "\n",
            "\u001b[A\n",
            "Processing PSGs:   0%|                                                    | 0/200 [1:29:19<?, ?it/s]\u001b[A\n",
            "\u001b[A\n",
            "Processing PSGs:   0%|                                                    | 0/200 [1:29:19<?, ?it/s]\u001b[A\n",
            "\u001b[A\n",
            "Processing PSGs:   0%|                                                    | 0/200 [1:29:19<?, ?it/s]\u001b[A"
          ]
        },
        {
          "output_type": "stream",
          "name": "stdout",
          "text": [
            "Finished mesa-sleep-0074: 1439 epochs, 142 sequences, channels: ['EEG1', 'EOG-L', 'EOG-R']\n",
            "Starting mesa-sleep-0077\n",
            "Loading and preprocessing mesa-sleep-0077\n",
            "NOTE: pick_channels() is a legacy function. New code should use inst.pick(...).\n"
          ]
        },
        {
          "output_type": "stream",
          "name": "stderr",
          "text": [
            "\n",
            "\u001b[A\n",
            "Processing PSGs:   0%|                                                    | 0/200 [1:29:40<?, ?it/s]\u001b[A"
          ]
        },
        {
          "output_type": "stream",
          "name": "stdout",
          "text": [
            "Extracting CATCH22 for mesa-sleep-0077\n"
          ]
        },
        {
          "output_type": "stream",
          "name": "stderr",
          "text": [
            "\n",
            "\u001b[A\n",
            "Processing PSGs:   0%|                                                    | 0/200 [1:31:43<?, ?it/s]\u001b[A"
          ]
        },
        {
          "output_type": "stream",
          "name": "stdout",
          "text": [
            "Saving for mesa-sleep-0077\n"
          ]
        },
        {
          "output_type": "stream",
          "name": "stderr",
          "text": [
            "\n",
            "\u001b[A\n",
            "Processing PSGs:   0%|                                                    | 0/200 [1:32:04<?, ?it/s]\u001b[A\n",
            "\u001b[A\n",
            "Processing PSGs:   0%|                                                    | 0/200 [1:32:04<?, ?it/s]\u001b[A\n",
            "\u001b[A\n",
            "Processing PSGs:   0%|                                                    | 0/200 [1:32:04<?, ?it/s]\u001b[A"
          ]
        },
        {
          "output_type": "stream",
          "name": "stdout",
          "text": [
            "Finished mesa-sleep-0077: 1200 epochs, 119 sequences, channels: ['EEG1', 'EOG-L', 'EOG-R']\n",
            "Starting mesa-sleep-0079\n",
            "Loading and preprocessing mesa-sleep-0079\n",
            "NOTE: pick_channels() is a legacy function. New code should use inst.pick(...).\n"
          ]
        },
        {
          "output_type": "stream",
          "name": "stderr",
          "text": [
            "\n",
            "\u001b[A\n",
            "Processing PSGs:   0%|                                                    | 0/200 [1:33:09<?, ?it/s]\u001b[A"
          ]
        },
        {
          "output_type": "stream",
          "name": "stdout",
          "text": [
            "Extracting CATCH22 for mesa-sleep-0079\n"
          ]
        },
        {
          "output_type": "stream",
          "name": "stderr",
          "text": [
            "\n",
            "\u001b[A\n",
            "Processing PSGs:   0%|                                                    | 0/200 [1:35:10<?, ?it/s]\u001b[A"
          ]
        },
        {
          "output_type": "stream",
          "name": "stdout",
          "text": [
            "Saving for mesa-sleep-0079\n"
          ]
        },
        {
          "output_type": "stream",
          "name": "stderr",
          "text": [
            "\n",
            "\u001b[A\n",
            "Processing PSGs:   0%|                                                    | 0/200 [1:35:32<?, ?it/s]\u001b[A\n",
            "\u001b[A\n",
            "Processing PSGs:   0%|                                                    | 0/200 [1:35:32<?, ?it/s]\u001b[A\n",
            "\u001b[A\n",
            "Processing PSGs:   0%|                                                    | 0/200 [1:35:32<?, ?it/s]\u001b[A"
          ]
        },
        {
          "output_type": "stream",
          "name": "stdout",
          "text": [
            "Finished mesa-sleep-0079: 1199 epochs, 118 sequences, channels: ['EEG1', 'EOG-L', 'EOG-R']\n",
            "Starting mesa-sleep-0081\n",
            "Loading and preprocessing mesa-sleep-0081\n",
            "NOTE: pick_channels() is a legacy function. New code should use inst.pick(...).\n"
          ]
        },
        {
          "output_type": "stream",
          "name": "stderr",
          "text": [
            "\n",
            "\u001b[A\n",
            "Processing PSGs:   0%|                                                    | 0/200 [1:36:40<?, ?it/s]\u001b[A"
          ]
        },
        {
          "output_type": "stream",
          "name": "stdout",
          "text": [
            "Extracting CATCH22 for mesa-sleep-0081\n"
          ]
        },
        {
          "output_type": "stream",
          "name": "stderr",
          "text": [
            "\n",
            "\u001b[A\n",
            "Processing PSGs:   0%|                                                    | 0/200 [1:38:42<?, ?it/s]\u001b[A"
          ]
        },
        {
          "output_type": "stream",
          "name": "stdout",
          "text": [
            "Saving for mesa-sleep-0081\n"
          ]
        },
        {
          "output_type": "stream",
          "name": "stderr",
          "text": [
            "\n",
            "\u001b[A\n",
            "Processing PSGs:   0%|                                                    | 0/200 [1:39:03<?, ?it/s]\u001b[A\n",
            "\u001b[A\n",
            "Processing PSGs:   0%|                                                    | 0/200 [1:39:03<?, ?it/s]\u001b[A\n",
            "\u001b[A\n",
            "Processing PSGs:   0%|                                                    | 0/200 [1:39:03<?, ?it/s]\u001b[A"
          ]
        },
        {
          "output_type": "stream",
          "name": "stdout",
          "text": [
            "Finished mesa-sleep-0081: 1199 epochs, 118 sequences, channels: ['EEG1', 'EOG-L', 'EOG-R']\n",
            "Starting mesa-sleep-0084\n",
            "Loading and preprocessing mesa-sleep-0084\n",
            "NOTE: pick_channels() is a legacy function. New code should use inst.pick(...).\n"
          ]
        },
        {
          "output_type": "stream",
          "name": "stderr",
          "text": [
            "\n",
            "\u001b[A\n",
            "Processing PSGs:   0%|                                                    | 0/200 [1:40:06<?, ?it/s]\u001b[A"
          ]
        },
        {
          "output_type": "stream",
          "name": "stdout",
          "text": [
            "Extracting CATCH22 for mesa-sleep-0084\n"
          ]
        },
        {
          "output_type": "stream",
          "name": "stderr",
          "text": [
            "\n",
            "\u001b[A\n",
            "Processing PSGs:   0%|                                                    | 0/200 [1:42:07<?, ?it/s]\u001b[A"
          ]
        },
        {
          "output_type": "stream",
          "name": "stdout",
          "text": [
            "Saving for mesa-sleep-0084\n"
          ]
        },
        {
          "output_type": "stream",
          "name": "stderr",
          "text": [
            "\n",
            "\u001b[A\n",
            "Processing PSGs:   0%|                                                    | 0/200 [1:42:29<?, ?it/s]\u001b[A\n",
            "\u001b[A\n",
            "Processing PSGs:   0%|                                                    | 0/200 [1:42:29<?, ?it/s]\u001b[A\n",
            "\u001b[A\n",
            "Processing PSGs:   0%|                                                    | 0/200 [1:42:29<?, ?it/s]\u001b[A"
          ]
        },
        {
          "output_type": "stream",
          "name": "stdout",
          "text": [
            "Finished mesa-sleep-0084: 1199 epochs, 118 sequences, channels: ['EEG1', 'EOG-L', 'EOG-R']\n",
            "Starting mesa-sleep-0085\n",
            "Loading and preprocessing mesa-sleep-0085\n",
            "NOTE: pick_channels() is a legacy function. New code should use inst.pick(...).\n"
          ]
        },
        {
          "output_type": "stream",
          "name": "stderr",
          "text": [
            "\n",
            "\u001b[A\n",
            "Processing PSGs:   0%|                                                    | 0/200 [1:46:57<?, ?it/s]\u001b[A"
          ]
        },
        {
          "output_type": "stream",
          "name": "stdout",
          "text": [
            "Extracting CATCH22 for mesa-sleep-0085\n"
          ]
        },
        {
          "output_type": "stream",
          "name": "stderr",
          "text": [
            "\n",
            "\u001b[A\n",
            "Processing PSGs:   0%|                                                    | 0/200 [1:49:24<?, ?it/s]\u001b[A"
          ]
        },
        {
          "output_type": "stream",
          "name": "stdout",
          "text": [
            "Saving for mesa-sleep-0085\n"
          ]
        },
        {
          "output_type": "stream",
          "name": "stderr",
          "text": [
            "\n",
            "\u001b[A\n",
            "Processing PSGs:   0%|                                                    | 0/200 [1:49:50<?, ?it/s]\u001b[A\n",
            "\u001b[A\n",
            "Processing PSGs:   0%|                                                    | 0/200 [1:49:50<?, ?it/s]\u001b[A\n",
            "\u001b[A\n",
            "Processing PSGs:   0%|                                                    | 0/200 [1:49:50<?, ?it/s]\u001b[A"
          ]
        },
        {
          "output_type": "stream",
          "name": "stdout",
          "text": [
            "Finished mesa-sleep-0085: 1439 epochs, 142 sequences, channels: ['EEG1', 'EOG-L', 'EOG-R']\n",
            "Starting mesa-sleep-0087\n",
            "Loading and preprocessing mesa-sleep-0087\n",
            "NOTE: pick_channels() is a legacy function. New code should use inst.pick(...).\n"
          ]
        },
        {
          "output_type": "stream",
          "name": "stderr",
          "text": [
            "\n",
            "\u001b[A\n",
            "Processing PSGs:   0%|                                                    | 0/200 [1:50:15<?, ?it/s]\u001b[A"
          ]
        },
        {
          "output_type": "stream",
          "name": "stdout",
          "text": [
            "Extracting CATCH22 for mesa-sleep-0087\n"
          ]
        },
        {
          "output_type": "stream",
          "name": "stderr",
          "text": [
            "\n",
            "\u001b[A\n",
            "Processing PSGs:   0%|                                                    | 0/200 [1:52:17<?, ?it/s]\u001b[A"
          ]
        },
        {
          "output_type": "stream",
          "name": "stdout",
          "text": [
            "Saving for mesa-sleep-0087\n"
          ]
        },
        {
          "output_type": "stream",
          "name": "stderr",
          "text": [
            "\n",
            "\u001b[A\n",
            "Processing PSGs:   0%|                                                    | 0/200 [1:52:40<?, ?it/s]\u001b[A\n",
            "\u001b[A\n",
            "Processing PSGs:   0%|                                                    | 0/200 [1:52:40<?, ?it/s]\u001b[A\n",
            "\u001b[A\n",
            "Processing PSGs:   0%|                                                    | 0/200 [1:52:40<?, ?it/s]\u001b[A"
          ]
        },
        {
          "output_type": "stream",
          "name": "stdout",
          "text": [
            "Finished mesa-sleep-0087: 1199 epochs, 118 sequences, channels: ['EEG1', 'EOG-L', 'EOG-R']\n",
            "Starting mesa-sleep-0099\n",
            "Loading and preprocessing mesa-sleep-0099\n",
            "NOTE: pick_channels() is a legacy function. New code should use inst.pick(...).\n"
          ]
        },
        {
          "output_type": "stream",
          "name": "stderr",
          "text": [
            "\n",
            "\u001b[A\n",
            "Processing PSGs:   0%|                                                    | 0/200 [1:53:47<?, ?it/s]\u001b[A"
          ]
        },
        {
          "output_type": "stream",
          "name": "stdout",
          "text": [
            "Extracting CATCH22 for mesa-sleep-0099\n"
          ]
        },
        {
          "output_type": "stream",
          "name": "stderr",
          "text": [
            "\n",
            "\u001b[A\n",
            "Processing PSGs:   0%|                                                    | 0/200 [1:55:56<?, ?it/s]\u001b[A"
          ]
        },
        {
          "output_type": "stream",
          "name": "stdout",
          "text": [
            "Saving for mesa-sleep-0099\n"
          ]
        },
        {
          "output_type": "stream",
          "name": "stderr",
          "text": [
            "\n",
            "\u001b[A\n",
            "Processing PSGs:   0%|                                                    | 0/200 [1:56:18<?, ?it/s]\u001b[A\n",
            "\u001b[A\n",
            "Processing PSGs:   0%|                                                    | 0/200 [1:56:18<?, ?it/s]\u001b[A\n",
            "\u001b[A\n",
            "Processing PSGs:   0%|                                                    | 0/200 [1:56:18<?, ?it/s]\u001b[A"
          ]
        },
        {
          "output_type": "stream",
          "name": "stdout",
          "text": [
            "Finished mesa-sleep-0099: 1259 epochs, 124 sequences, channels: ['EEG1', 'EOG-L', 'EOG-R']\n",
            "Starting mesa-sleep-0101\n",
            "Loading and preprocessing mesa-sleep-0101\n",
            "NOTE: pick_channels() is a legacy function. New code should use inst.pick(...).\n"
          ]
        },
        {
          "output_type": "stream",
          "name": "stderr",
          "text": [
            "\n",
            "\u001b[A\n",
            "Processing PSGs:   0%|                                                    | 0/200 [1:57:26<?, ?it/s]\u001b[A"
          ]
        },
        {
          "output_type": "stream",
          "name": "stdout",
          "text": [
            "Extracting CATCH22 for mesa-sleep-0101\n"
          ]
        },
        {
          "output_type": "stream",
          "name": "stderr",
          "text": [
            "\n",
            "\u001b[A\n",
            "Processing PSGs:   0%|                                                    | 0/200 [1:59:31<?, ?it/s]\u001b[A"
          ]
        },
        {
          "output_type": "stream",
          "name": "stdout",
          "text": [
            "Saving for mesa-sleep-0101\n"
          ]
        },
        {
          "output_type": "stream",
          "name": "stderr",
          "text": [
            "\n",
            "\u001b[A\n",
            "Processing PSGs:   0%|                                                    | 0/200 [1:59:53<?, ?it/s]\u001b[A\n",
            "\u001b[A\n",
            "Processing PSGs:   0%|                                                    | 0/200 [1:59:53<?, ?it/s]\u001b[A\n",
            "\u001b[A\n",
            "Processing PSGs:   0%|                                                    | 0/200 [1:59:53<?, ?it/s]\u001b[A"
          ]
        },
        {
          "output_type": "stream",
          "name": "stdout",
          "text": [
            "Finished mesa-sleep-0101: 1199 epochs, 118 sequences, channels: ['EEG1', 'EOG-L', 'EOG-R']\n",
            "Starting mesa-sleep-0105\n",
            "Loading and preprocessing mesa-sleep-0105\n",
            "NOTE: pick_channels() is a legacy function. New code should use inst.pick(...).\n"
          ]
        },
        {
          "output_type": "stream",
          "name": "stderr",
          "text": [
            "\n",
            "\u001b[A\n",
            "Processing PSGs:   0%|                                                    | 0/200 [2:01:03<?, ?it/s]\u001b[A"
          ]
        },
        {
          "output_type": "stream",
          "name": "stdout",
          "text": [
            "Extracting CATCH22 for mesa-sleep-0105\n"
          ]
        },
        {
          "output_type": "stream",
          "name": "stderr",
          "text": [
            "\n",
            "\u001b[A\n",
            "Processing PSGs:   0%|                                                    | 0/200 [2:03:10<?, ?it/s]\u001b[A"
          ]
        },
        {
          "output_type": "stream",
          "name": "stdout",
          "text": [
            "Saving for mesa-sleep-0105\n"
          ]
        },
        {
          "output_type": "stream",
          "name": "stderr",
          "text": [
            "\n",
            "\u001b[A\n",
            "Processing PSGs:   0%|                                                    | 0/200 [2:03:33<?, ?it/s]\u001b[A\n",
            "\u001b[A\n",
            "Processing PSGs:   0%|                                                    | 0/200 [2:03:33<?, ?it/s]\u001b[A\n",
            "\u001b[A\n",
            "Processing PSGs:   0%|                                                    | 0/200 [2:03:33<?, ?it/s]\u001b[A"
          ]
        },
        {
          "output_type": "stream",
          "name": "stdout",
          "text": [
            "Finished mesa-sleep-0105: 1245 epochs, 123 sequences, channels: ['EEG1', 'EOG-L', 'EOG-R']\n",
            "Starting mesa-sleep-0107\n",
            "Loading and preprocessing mesa-sleep-0107\n",
            "NOTE: pick_channels() is a legacy function. New code should use inst.pick(...).\n"
          ]
        },
        {
          "output_type": "stream",
          "name": "stderr",
          "text": [
            "\n",
            "\u001b[A\n",
            "Processing PSGs:   0%|                                                    | 0/200 [2:08:05<?, ?it/s]\u001b[A"
          ]
        },
        {
          "output_type": "stream",
          "name": "stdout",
          "text": [
            "Extracting CATCH22 for mesa-sleep-0107\n"
          ]
        },
        {
          "output_type": "stream",
          "name": "stderr",
          "text": [
            "\n",
            "\u001b[A\n",
            "Processing PSGs:   0%|                                                    | 0/200 [2:10:31<?, ?it/s]\u001b[A"
          ]
        },
        {
          "output_type": "stream",
          "name": "stdout",
          "text": [
            "Saving for mesa-sleep-0107\n"
          ]
        },
        {
          "output_type": "stream",
          "name": "stderr",
          "text": [
            "\n",
            "\u001b[A\n",
            "Processing PSGs:   0%|                                                    | 0/200 [2:10:57<?, ?it/s]\u001b[A\n",
            "\u001b[A\n",
            "Processing PSGs:   0%|                                                    | 0/200 [2:10:57<?, ?it/s]\u001b[A\n",
            "\u001b[A\n",
            "Processing PSGs:   0%|                                                    | 0/200 [2:10:57<?, ?it/s]\u001b[A"
          ]
        },
        {
          "output_type": "stream",
          "name": "stdout",
          "text": [
            "Finished mesa-sleep-0107: 1439 epochs, 142 sequences, channels: ['EEG1', 'EOG-L', 'EOG-R']\n",
            "Starting mesa-sleep-0109\n",
            "Loading and preprocessing mesa-sleep-0109\n",
            "NOTE: pick_channels() is a legacy function. New code should use inst.pick(...).\n"
          ]
        },
        {
          "output_type": "stream",
          "name": "stderr",
          "text": [
            "\n",
            "\u001b[A\n",
            "Processing PSGs:   0%|                                                    | 0/200 [2:12:56<?, ?it/s]\u001b[A"
          ]
        },
        {
          "output_type": "stream",
          "name": "stdout",
          "text": [
            "Extracting CATCH22 for mesa-sleep-0109\n"
          ]
        },
        {
          "output_type": "stream",
          "name": "stderr",
          "text": [
            "\n",
            "\u001b[A\n",
            "Processing PSGs:   0%|                                                    | 0/200 [2:15:22<?, ?it/s]\u001b[A"
          ]
        },
        {
          "output_type": "stream",
          "name": "stdout",
          "text": [
            "Saving for mesa-sleep-0109\n"
          ]
        },
        {
          "output_type": "stream",
          "name": "stderr",
          "text": [
            "\n",
            "\u001b[A\n",
            "Processing PSGs:   0%|                                                    | 0/200 [2:15:48<?, ?it/s]\u001b[A\n",
            "\u001b[A\n",
            "Processing PSGs:   0%|                                                    | 0/200 [2:15:48<?, ?it/s]\u001b[A\n",
            "\u001b[A\n",
            "Processing PSGs:   0%|                                                    | 0/200 [2:15:48<?, ?it/s]\u001b[A"
          ]
        },
        {
          "output_type": "stream",
          "name": "stdout",
          "text": [
            "Finished mesa-sleep-0109: 1433 epochs, 142 sequences, channels: ['EEG1', 'EOG-L', 'EOG-R']\n",
            "Starting mesa-sleep-0110\n",
            "Loading and preprocessing mesa-sleep-0110\n",
            "NOTE: pick_channels() is a legacy function. New code should use inst.pick(...).\n"
          ]
        },
        {
          "output_type": "stream",
          "name": "stderr",
          "text": [
            "\n",
            "\u001b[A\n",
            "Processing PSGs:   0%|                                                    | 0/200 [2:17:03<?, ?it/s]\u001b[A"
          ]
        },
        {
          "output_type": "stream",
          "name": "stdout",
          "text": [
            "Extracting CATCH22 for mesa-sleep-0110\n"
          ]
        },
        {
          "output_type": "stream",
          "name": "stderr",
          "text": [
            "\n",
            "\u001b[A\n",
            "Processing PSGs:   0%|                                                    | 0/200 [2:19:22<?, ?it/s]\u001b[A"
          ]
        },
        {
          "output_type": "stream",
          "name": "stdout",
          "text": [
            "Saving for mesa-sleep-0110\n"
          ]
        },
        {
          "output_type": "stream",
          "name": "stderr",
          "text": [
            "\n",
            "\u001b[A\n",
            "Processing PSGs:   0%|                                                    | 0/200 [2:19:45<?, ?it/s]\u001b[A\n",
            "\u001b[A\n",
            "Processing PSGs:   0%|                                                    | 0/200 [2:19:45<?, ?it/s]\u001b[A\n",
            "\u001b[A\n",
            "Processing PSGs:   0%|                                                    | 0/200 [2:19:45<?, ?it/s]\u001b[A"
          ]
        },
        {
          "output_type": "stream",
          "name": "stdout",
          "text": [
            "Finished mesa-sleep-0110: 1319 epochs, 130 sequences, channels: ['EEG1', 'EOG-L', 'EOG-R']\n",
            "Starting mesa-sleep-0111\n",
            "Loading and preprocessing mesa-sleep-0111\n",
            "NOTE: pick_channels() is a legacy function. New code should use inst.pick(...).\n"
          ]
        },
        {
          "output_type": "stream",
          "name": "stderr",
          "text": [
            "\n",
            "\u001b[A\n",
            "Processing PSGs:   0%|                                                    | 0/200 [2:21:05<?, ?it/s]\u001b[A"
          ]
        },
        {
          "output_type": "stream",
          "name": "stdout",
          "text": [
            "Extracting CATCH22 for mesa-sleep-0111\n"
          ]
        },
        {
          "output_type": "stream",
          "name": "stderr",
          "text": [
            "\n",
            "\u001b[A\n",
            "Processing PSGs:   0%|                                                    | 0/200 [2:23:24<?, ?it/s]\u001b[A"
          ]
        },
        {
          "output_type": "stream",
          "name": "stdout",
          "text": [
            "Saving for mesa-sleep-0111\n"
          ]
        },
        {
          "output_type": "stream",
          "name": "stderr",
          "text": [
            "\n",
            "\u001b[A\n",
            "Processing PSGs:   0%|                                                    | 0/200 [2:23:50<?, ?it/s]\u001b[A\n",
            "\u001b[A\n",
            "Processing PSGs:   0%|                                                    | 0/200 [2:23:50<?, ?it/s]\u001b[A\n",
            "\u001b[A\n",
            "Processing PSGs:   0%|                                                    | 0/200 [2:23:50<?, ?it/s]\u001b[A"
          ]
        },
        {
          "output_type": "stream",
          "name": "stdout",
          "text": [
            "Finished mesa-sleep-0111: 1319 epochs, 130 sequences, channels: ['EEG1', 'EOG-L', 'EOG-R']\n",
            "Starting mesa-sleep-0113\n",
            "Loading and preprocessing mesa-sleep-0113\n",
            "NOTE: pick_channels() is a legacy function. New code should use inst.pick(...).\n"
          ]
        },
        {
          "output_type": "stream",
          "name": "stderr",
          "text": [
            "\n",
            "\u001b[A\n",
            "Processing PSGs:   0%|                                                    | 0/200 [2:28:16<?, ?it/s]\u001b[A"
          ]
        },
        {
          "output_type": "stream",
          "name": "stdout",
          "text": [
            "Extracting CATCH22 for mesa-sleep-0113\n"
          ]
        },
        {
          "output_type": "stream",
          "name": "stderr",
          "text": [
            "\n",
            "\u001b[A\n",
            "Processing PSGs:   0%|                                                    | 0/200 [2:30:45<?, ?it/s]\u001b[A"
          ]
        },
        {
          "output_type": "stream",
          "name": "stdout",
          "text": [
            "Saving for mesa-sleep-0113\n"
          ]
        },
        {
          "output_type": "stream",
          "name": "stderr",
          "text": [
            "\n",
            "\u001b[A\n",
            "Processing PSGs:   0%|                                                    | 0/200 [2:31:11<?, ?it/s]\u001b[A\n",
            "\u001b[A\n",
            "Processing PSGs:   0%|                                                    | 0/200 [2:31:11<?, ?it/s]\u001b[A\n",
            "\u001b[A\n",
            "Processing PSGs:   0%|                                                    | 0/200 [2:31:11<?, ?it/s]\u001b[A"
          ]
        },
        {
          "output_type": "stream",
          "name": "stdout",
          "text": [
            "Finished mesa-sleep-0113: 1439 epochs, 142 sequences, channels: ['EEG1', 'EOG-L', 'EOG-R']\n",
            "Starting mesa-sleep-0118\n",
            "Loading and preprocessing mesa-sleep-0118\n",
            "NOTE: pick_channels() is a legacy function. New code should use inst.pick(...).\n"
          ]
        },
        {
          "output_type": "stream",
          "name": "stderr",
          "text": [
            "\n",
            "\u001b[A\n",
            "Processing PSGs:   0%|                                                    | 0/200 [2:32:18<?, ?it/s]\u001b[A"
          ]
        },
        {
          "output_type": "stream",
          "name": "stdout",
          "text": [
            "Extracting CATCH22 for mesa-sleep-0118\n"
          ]
        },
        {
          "output_type": "stream",
          "name": "stderr",
          "text": [
            "\n",
            "\u001b[A\n",
            "Processing PSGs:   0%|                                                    | 0/200 [2:34:23<?, ?it/s]\u001b[A"
          ]
        },
        {
          "output_type": "stream",
          "name": "stdout",
          "text": [
            "Saving for mesa-sleep-0118\n"
          ]
        },
        {
          "output_type": "stream",
          "name": "stderr",
          "text": [
            "\n",
            "\u001b[A\n",
            "Processing PSGs:   0%|                                                    | 0/200 [2:34:45<?, ?it/s]\u001b[A\n",
            "\u001b[A\n",
            "Processing PSGs:   0%|                                                    | 0/200 [2:34:45<?, ?it/s]\u001b[A\n",
            "\u001b[A\n",
            "Processing PSGs:   0%|                                                    | 0/200 [2:34:45<?, ?it/s]\u001b[A"
          ]
        },
        {
          "output_type": "stream",
          "name": "stdout",
          "text": [
            "Finished mesa-sleep-0118: 1199 epochs, 118 sequences, channels: ['EEG1', 'EOG-L', 'EOG-R']\n",
            "Starting mesa-sleep-0120\n",
            "Loading and preprocessing mesa-sleep-0120\n",
            "NOTE: pick_channels() is a legacy function. New code should use inst.pick(...).\n"
          ]
        },
        {
          "output_type": "stream",
          "name": "stderr",
          "text": [
            "\n",
            "\u001b[A\n",
            "Processing PSGs:   0%|                                                    | 0/200 [2:36:13<?, ?it/s]\u001b[A"
          ]
        },
        {
          "output_type": "stream",
          "name": "stdout",
          "text": [
            "Extracting CATCH22 for mesa-sleep-0120\n"
          ]
        },
        {
          "output_type": "stream",
          "name": "stderr",
          "text": [
            "\n",
            "\u001b[A\n",
            "Processing PSGs:   0%|                                                    | 0/200 [2:38:47<?, ?it/s]\u001b[A"
          ]
        },
        {
          "output_type": "stream",
          "name": "stdout",
          "text": [
            "Saving for mesa-sleep-0120\n"
          ]
        },
        {
          "output_type": "stream",
          "name": "stderr",
          "text": [
            "\n",
            "\u001b[A\n",
            "Processing PSGs:   0%|                                                    | 0/200 [2:39:15<?, ?it/s]\u001b[A\n",
            "\u001b[A\n",
            "Processing PSGs:   0%|                                                    | 0/200 [2:39:15<?, ?it/s]\u001b[A\n",
            "\u001b[A\n",
            "Processing PSGs:   0%|                                                    | 0/200 [2:39:15<?, ?it/s]\u001b[A"
          ]
        },
        {
          "output_type": "stream",
          "name": "stdout",
          "text": [
            "Finished mesa-sleep-0120: 1490 epochs, 148 sequences, channels: ['EEG1', 'EOG-L', 'EOG-R']\n",
            "Starting mesa-sleep-0121\n",
            "Loading and preprocessing mesa-sleep-0121\n",
            "NOTE: pick_channels() is a legacy function. New code should use inst.pick(...).\n"
          ]
        },
        {
          "output_type": "stream",
          "name": "stderr",
          "text": [
            "\n",
            "\u001b[A\n",
            "Processing PSGs:   0%|                                                    | 0/200 [2:40:26<?, ?it/s]\u001b[A"
          ]
        },
        {
          "output_type": "stream",
          "name": "stdout",
          "text": [
            "Extracting CATCH22 for mesa-sleep-0121\n"
          ]
        },
        {
          "output_type": "stream",
          "name": "stderr",
          "text": [
            "\n",
            "\u001b[A\n",
            "Processing PSGs:   0%|                                                    | 0/200 [2:42:31<?, ?it/s]\u001b[A"
          ]
        },
        {
          "output_type": "stream",
          "name": "stdout",
          "text": [
            "Saving for mesa-sleep-0121\n"
          ]
        },
        {
          "output_type": "stream",
          "name": "stderr",
          "text": [
            "\n",
            "\u001b[A\n",
            "Processing PSGs:   0%|                                                    | 0/200 [2:42:53<?, ?it/s]\u001b[A\n",
            "\u001b[A\n",
            "Processing PSGs:   0%|                                                    | 0/200 [2:42:53<?, ?it/s]\u001b[A\n",
            "\u001b[A\n",
            "Processing PSGs:   0%|                                                    | 0/200 [2:42:53<?, ?it/s]\u001b[A"
          ]
        },
        {
          "output_type": "stream",
          "name": "stdout",
          "text": [
            "Finished mesa-sleep-0121: 1199 epochs, 118 sequences, channels: ['EEG1', 'EOG-L', 'EOG-R']\n",
            "Starting mesa-sleep-0125\n",
            "Loading and preprocessing mesa-sleep-0125\n",
            "NOTE: pick_channels() is a legacy function. New code should use inst.pick(...).\n"
          ]
        },
        {
          "output_type": "stream",
          "name": "stderr",
          "text": [
            "\n",
            "\u001b[A\n",
            "Processing PSGs:   0%|                                                    | 0/200 [2:43:19<?, ?it/s]\u001b[A"
          ]
        },
        {
          "output_type": "stream",
          "name": "stdout",
          "text": [
            "Extracting CATCH22 for mesa-sleep-0125\n"
          ]
        },
        {
          "output_type": "stream",
          "name": "stderr",
          "text": [
            "\n",
            "\u001b[A\n",
            "Processing PSGs:   0%|                                                    | 0/200 [2:45:49<?, ?it/s]\u001b[A"
          ]
        },
        {
          "output_type": "stream",
          "name": "stdout",
          "text": [
            "Saving for mesa-sleep-0125\n"
          ]
        },
        {
          "output_type": "stream",
          "name": "stderr",
          "text": [
            "\n",
            "\u001b[A\n",
            "Processing PSGs:   0%|                                                    | 0/200 [2:46:14<?, ?it/s]\u001b[A\n",
            "\u001b[A\n",
            "Processing PSGs:   0%|                                                    | 0/200 [2:46:14<?, ?it/s]\u001b[A\n",
            "\u001b[A\n",
            "Processing PSGs:   0%|                                                    | 0/200 [2:46:14<?, ?it/s]\u001b[A"
          ]
        },
        {
          "output_type": "stream",
          "name": "stdout",
          "text": [
            "Finished mesa-sleep-0125: 1439 epochs, 142 sequences, channels: ['EEG1', 'EOG-L', 'EOG-R']\n",
            "Starting mesa-sleep-0132\n",
            "Loading and preprocessing mesa-sleep-0132\n",
            "NOTE: pick_channels() is a legacy function. New code should use inst.pick(...).\n"
          ]
        },
        {
          "output_type": "stream",
          "name": "stderr",
          "text": [
            "\n",
            "\u001b[A\n",
            "Processing PSGs:   0%|                                                    | 0/200 [2:47:18<?, ?it/s]\u001b[A"
          ]
        },
        {
          "output_type": "stream",
          "name": "stdout",
          "text": [
            "Extracting CATCH22 for mesa-sleep-0132\n"
          ]
        },
        {
          "output_type": "stream",
          "name": "stderr",
          "text": [
            "\n",
            "\u001b[A\n",
            "Processing PSGs:   0%|                                                    | 0/200 [2:49:22<?, ?it/s]\u001b[A"
          ]
        },
        {
          "output_type": "stream",
          "name": "stdout",
          "text": [
            "Saving for mesa-sleep-0132\n"
          ]
        },
        {
          "output_type": "stream",
          "name": "stderr",
          "text": [
            "\n",
            "\u001b[A\n",
            "Processing PSGs:   0%|                                                    | 0/200 [2:49:43<?, ?it/s]\u001b[A\n",
            "\u001b[A\n",
            "Processing PSGs:   0%|                                                    | 0/200 [2:49:43<?, ?it/s]\u001b[A\n",
            "\u001b[A\n",
            "Processing PSGs:   0%|                                                    | 0/200 [2:49:43<?, ?it/s]\u001b[A"
          ]
        },
        {
          "output_type": "stream",
          "name": "stdout",
          "text": [
            "Finished mesa-sleep-0132: 1199 epochs, 118 sequences, channels: ['EEG1', 'EOG-L', 'EOG-R']\n",
            "Starting mesa-sleep-0133\n",
            "Loading and preprocessing mesa-sleep-0133\n",
            "NOTE: pick_channels() is a legacy function. New code should use inst.pick(...).\n"
          ]
        },
        {
          "output_type": "stream",
          "name": "stderr",
          "text": [
            "\n",
            "\u001b[A\n",
            "Processing PSGs:   0%|                                                    | 0/200 [2:50:03<?, ?it/s]\u001b[A"
          ]
        },
        {
          "output_type": "stream",
          "name": "stdout",
          "text": [
            "Extracting CATCH22 for mesa-sleep-0133\n"
          ]
        },
        {
          "output_type": "stream",
          "name": "stderr",
          "text": [
            "\n",
            "\u001b[A\n",
            "Processing PSGs:   0%|                                                    | 0/200 [2:51:55<?, ?it/s]\u001b[A"
          ]
        },
        {
          "output_type": "stream",
          "name": "stdout",
          "text": [
            "Saving for mesa-sleep-0133\n"
          ]
        },
        {
          "output_type": "stream",
          "name": "stderr",
          "text": [
            "\n",
            "\u001b[A\n",
            "Processing PSGs:   0%|                                                    | 0/200 [2:52:14<?, ?it/s]\u001b[A\n",
            "\u001b[A\n",
            "Processing PSGs:   0%|                                                    | 0/200 [2:52:14<?, ?it/s]\u001b[A\n",
            "\u001b[A\n",
            "Processing PSGs:   0%|                                                    | 0/200 [2:52:14<?, ?it/s]\u001b[A"
          ]
        },
        {
          "output_type": "stream",
          "name": "stdout",
          "text": [
            "Finished mesa-sleep-0133: 1080 epochs, 107 sequences, channels: ['EEG1', 'EOG-L', 'EOG-R']\n",
            "Starting mesa-sleep-0138\n",
            "Loading and preprocessing mesa-sleep-0138\n",
            "NOTE: pick_channels() is a legacy function. New code should use inst.pick(...).\n"
          ]
        },
        {
          "output_type": "stream",
          "name": "stderr",
          "text": [
            "\n",
            "\u001b[A\n",
            "Processing PSGs:   0%|                                                    | 0/200 [2:53:20<?, ?it/s]\u001b[A"
          ]
        },
        {
          "output_type": "stream",
          "name": "stdout",
          "text": [
            "Extracting CATCH22 for mesa-sleep-0138\n"
          ]
        },
        {
          "output_type": "stream",
          "name": "stderr",
          "text": [
            "\n",
            "\u001b[A\n",
            "Processing PSGs:   0%|                                                    | 0/200 [2:54:58<?, ?it/s]\u001b[A"
          ]
        },
        {
          "output_type": "stream",
          "name": "stdout",
          "text": [
            "Saving for mesa-sleep-0138\n"
          ]
        },
        {
          "output_type": "stream",
          "name": "stderr",
          "text": [
            "\n",
            "\u001b[A\n",
            "Processing PSGs:   0%|                                                    | 0/200 [2:55:17<?, ?it/s]\u001b[A\n",
            "\u001b[A\n",
            "Processing PSGs:   0%|                                                    | 0/200 [2:55:17<?, ?it/s]\u001b[A\n",
            "\u001b[A\n",
            "Processing PSGs:   0%|                                                    | 0/200 [2:55:17<?, ?it/s]\u001b[A"
          ]
        },
        {
          "output_type": "stream",
          "name": "stdout",
          "text": [
            "Finished mesa-sleep-0138: 959 epochs, 94 sequences, channels: ['EEG1', 'EOG-L', 'EOG-R']\n",
            "Starting mesa-sleep-0140\n",
            "Loading and preprocessing mesa-sleep-0140\n",
            "NOTE: pick_channels() is a legacy function. New code should use inst.pick(...).\n"
          ]
        },
        {
          "output_type": "stream",
          "name": "stderr",
          "text": [
            "\n",
            "\u001b[A\n",
            "Processing PSGs:   0%|                                                    | 0/200 [2:55:47<?, ?it/s]\u001b[A"
          ]
        },
        {
          "output_type": "stream",
          "name": "stdout",
          "text": [
            "Extracting CATCH22 for mesa-sleep-0140\n"
          ]
        },
        {
          "output_type": "stream",
          "name": "stderr",
          "text": [
            "\n",
            "\u001b[A\n",
            "Processing PSGs:   0%|                                                    | 0/200 [2:58:17<?, ?it/s]\u001b[A"
          ]
        },
        {
          "output_type": "stream",
          "name": "stdout",
          "text": [
            "Saving for mesa-sleep-0140\n"
          ]
        },
        {
          "output_type": "stream",
          "name": "stderr",
          "text": [
            "\n",
            "\u001b[A\n",
            "Processing PSGs:   0%|                                                    | 0/200 [2:58:43<?, ?it/s]\u001b[A\n",
            "\u001b[A\n",
            "Processing PSGs:   0%|                                                    | 0/200 [2:58:43<?, ?it/s]\u001b[A\n",
            "\u001b[A\n",
            "Processing PSGs:   0%|                                                    | 0/200 [2:58:43<?, ?it/s]\u001b[A"
          ]
        },
        {
          "output_type": "stream",
          "name": "stdout",
          "text": [
            "Finished mesa-sleep-0140: 1440 epochs, 143 sequences, channels: ['EEG1', 'EOG-L', 'EOG-R']\n",
            "Starting mesa-sleep-0144\n",
            "Loading and preprocessing mesa-sleep-0144\n",
            "NOTE: pick_channels() is a legacy function. New code should use inst.pick(...).\n"
          ]
        },
        {
          "output_type": "stream",
          "name": "stderr",
          "text": [
            "\n",
            "\u001b[A\n",
            "Processing PSGs:   0%|                                                    | 0/200 [3:03:12<?, ?it/s]\u001b[A"
          ]
        },
        {
          "output_type": "stream",
          "name": "stdout",
          "text": [
            "Extracting CATCH22 for mesa-sleep-0144\n"
          ]
        },
        {
          "output_type": "stream",
          "name": "stderr",
          "text": [
            "\n",
            "\u001b[A\n",
            "Processing PSGs:   0%|                                                    | 0/200 [3:05:46<?, ?it/s]\u001b[A"
          ]
        },
        {
          "output_type": "stream",
          "name": "stdout",
          "text": [
            "Saving for mesa-sleep-0144\n"
          ]
        },
        {
          "output_type": "stream",
          "name": "stderr",
          "text": [
            "\n",
            "\u001b[A\n",
            "Processing PSGs:   0%|                                                    | 0/200 [3:06:14<?, ?it/s]\u001b[A\n",
            "\u001b[A\n",
            "Processing PSGs:   0%|                                                    | 0/200 [3:06:14<?, ?it/s]\u001b[A\n",
            "\u001b[A\n",
            "Processing PSGs:   0%|                                                    | 0/200 [3:06:14<?, ?it/s]\u001b[A"
          ]
        },
        {
          "output_type": "stream",
          "name": "stdout",
          "text": [
            "Finished mesa-sleep-0144: 1439 epochs, 142 sequences, channels: ['EEG1', 'EOG-L', 'EOG-R']\n",
            "Starting mesa-sleep-0149\n",
            "Loading and preprocessing mesa-sleep-0149\n",
            "NOTE: pick_channels() is a legacy function. New code should use inst.pick(...).\n"
          ]
        },
        {
          "output_type": "stream",
          "name": "stderr",
          "text": [
            "\n",
            "\u001b[A\n",
            "Processing PSGs:   0%|                                                    | 0/200 [3:07:22<?, ?it/s]\u001b[A"
          ]
        },
        {
          "output_type": "stream",
          "name": "stdout",
          "text": [
            "Extracting CATCH22 for mesa-sleep-0149\n"
          ]
        },
        {
          "output_type": "stream",
          "name": "stderr",
          "text": [
            "\n",
            "\u001b[A\n",
            "Processing PSGs:   0%|                                                    | 0/200 [3:09:35<?, ?it/s]\u001b[A"
          ]
        },
        {
          "output_type": "stream",
          "name": "stdout",
          "text": [
            "Saving for mesa-sleep-0149\n"
          ]
        },
        {
          "output_type": "stream",
          "name": "stderr",
          "text": [
            "\n",
            "\u001b[A\n",
            "Processing PSGs:   0%|                                                    | 0/200 [3:09:58<?, ?it/s]\u001b[A\n",
            "\u001b[A\n",
            "Processing PSGs:   0%|                                                    | 0/200 [3:09:58<?, ?it/s]\u001b[A\n",
            "\u001b[A\n",
            "Processing PSGs:   0%|                                                    | 0/200 [3:09:58<?, ?it/s]\u001b[A"
          ]
        },
        {
          "output_type": "stream",
          "name": "stdout",
          "text": [
            "Finished mesa-sleep-0149: 1259 epochs, 124 sequences, channels: ['EEG1', 'EOG-L', 'EOG-R']\n",
            "Starting mesa-sleep-0152\n",
            "Loading and preprocessing mesa-sleep-0152\n",
            "NOTE: pick_channels() is a legacy function. New code should use inst.pick(...).\n"
          ]
        },
        {
          "output_type": "stream",
          "name": "stderr",
          "text": [
            "\n",
            "\u001b[A\n",
            "Processing PSGs:   0%|                                                    | 0/200 [3:10:23<?, ?it/s]\u001b[A"
          ]
        },
        {
          "output_type": "stream",
          "name": "stdout",
          "text": [
            "Extracting CATCH22 for mesa-sleep-0152\n"
          ]
        },
        {
          "output_type": "stream",
          "name": "stderr",
          "text": [
            "\n",
            "\u001b[A\n",
            "Processing PSGs:   0%|                                                    | 0/200 [3:12:31<?, ?it/s]\u001b[A"
          ]
        },
        {
          "output_type": "stream",
          "name": "stdout",
          "text": [
            "Saving for mesa-sleep-0152\n"
          ]
        },
        {
          "output_type": "stream",
          "name": "stderr",
          "text": [
            "\n",
            "\u001b[A\n",
            "Processing PSGs:   0%|                                                    | 0/200 [3:12:53<?, ?it/s]\u001b[A\n",
            "\u001b[A\n",
            "Processing PSGs:   0%|                                                    | 0/200 [3:12:53<?, ?it/s]\u001b[A\n",
            "\u001b[A\n",
            "Processing PSGs:   0%|                                                    | 0/200 [3:12:53<?, ?it/s]\u001b[A"
          ]
        },
        {
          "output_type": "stream",
          "name": "stdout",
          "text": [
            "Finished mesa-sleep-0152: 1200 epochs, 119 sequences, channels: ['EEG1', 'EOG-L', 'EOG-R']\n",
            "Starting mesa-sleep-0155\n",
            "Loading and preprocessing mesa-sleep-0155\n",
            "NOTE: pick_channels() is a legacy function. New code should use inst.pick(...).\n"
          ]
        },
        {
          "output_type": "stream",
          "name": "stderr",
          "text": [
            "\n",
            "\u001b[A\n",
            "Processing PSGs:   0%|                                                    | 0/200 [3:13:15<?, ?it/s]\u001b[A"
          ]
        },
        {
          "output_type": "stream",
          "name": "stdout",
          "text": [
            "Extracting CATCH22 for mesa-sleep-0155\n"
          ]
        },
        {
          "output_type": "stream",
          "name": "stderr",
          "text": [
            "\n",
            "\u001b[A\n",
            "Processing PSGs:   0%|                                                    | 0/200 [3:15:15<?, ?it/s]\u001b[A"
          ]
        },
        {
          "output_type": "stream",
          "name": "stdout",
          "text": [
            "Saving for mesa-sleep-0155\n"
          ]
        },
        {
          "output_type": "stream",
          "name": "stderr",
          "text": [
            "\n",
            "\u001b[A\n",
            "Processing PSGs:   0%|                                                    | 0/200 [3:15:36<?, ?it/s]\u001b[A\n",
            "\u001b[A\n",
            "Processing PSGs:   0%|                                                    | 0/200 [3:15:36<?, ?it/s]\u001b[A\n",
            "\u001b[A\n",
            "Processing PSGs:   0%|                                                    | 0/200 [3:15:36<?, ?it/s]\u001b[A"
          ]
        },
        {
          "output_type": "stream",
          "name": "stdout",
          "text": [
            "Finished mesa-sleep-0155: 1080 epochs, 107 sequences, channels: ['EEG1', 'EOG-L', 'EOG-R']\n",
            "Starting mesa-sleep-0159\n",
            "Loading and preprocessing mesa-sleep-0159\n",
            "NOTE: pick_channels() is a legacy function. New code should use inst.pick(...).\n"
          ]
        },
        {
          "output_type": "stream",
          "name": "stderr",
          "text": [
            "\n",
            "\u001b[A\n",
            "Processing PSGs:   0%|                                                    | 0/200 [3:16:48<?, ?it/s]\u001b[A"
          ]
        },
        {
          "output_type": "stream",
          "name": "stdout",
          "text": [
            "Extracting CATCH22 for mesa-sleep-0159\n"
          ]
        },
        {
          "output_type": "stream",
          "name": "stderr",
          "text": [
            "\n",
            "\u001b[A\n",
            "Processing PSGs:   0%|                                                    | 0/200 [3:18:56<?, ?it/s]\u001b[A"
          ]
        },
        {
          "output_type": "stream",
          "name": "stdout",
          "text": [
            "Saving for mesa-sleep-0159\n"
          ]
        },
        {
          "output_type": "stream",
          "name": "stderr",
          "text": [
            "\n",
            "\u001b[A\n",
            "Processing PSGs:   0%|                                                    | 0/200 [3:19:18<?, ?it/s]\u001b[A\n",
            "\u001b[A\n",
            "Processing PSGs:   0%|                                                    | 0/200 [3:19:18<?, ?it/s]\u001b[A\n",
            "\u001b[A\n",
            "Processing PSGs:   0%|                                                    | 0/200 [3:19:18<?, ?it/s]\u001b[A"
          ]
        },
        {
          "output_type": "stream",
          "name": "stdout",
          "text": [
            "Finished mesa-sleep-0159: 1199 epochs, 118 sequences, channels: ['EEG1', 'EOG-L', 'EOG-R']\n",
            "Starting mesa-sleep-0167\n",
            "Loading and preprocessing mesa-sleep-0167\n",
            "NOTE: pick_channels() is a legacy function. New code should use inst.pick(...).\n"
          ]
        },
        {
          "output_type": "stream",
          "name": "stderr",
          "text": [
            "\n",
            "\u001b[A\n",
            "Processing PSGs:   0%|                                                    | 0/200 [3:20:01<?, ?it/s]\u001b[A"
          ]
        },
        {
          "output_type": "stream",
          "name": "stdout",
          "text": [
            "Extracting CATCH22 for mesa-sleep-0167\n"
          ]
        },
        {
          "output_type": "stream",
          "name": "stderr",
          "text": [
            "\n",
            "\u001b[A\n",
            "Processing PSGs:   0%|                                                    | 0/200 [3:21:56<?, ?it/s]\u001b[A"
          ]
        },
        {
          "output_type": "stream",
          "name": "stdout",
          "text": [
            "Saving for mesa-sleep-0167\n"
          ]
        },
        {
          "output_type": "stream",
          "name": "stderr",
          "text": [
            "\n",
            "\u001b[A\n",
            "Processing PSGs:   0%|                                                    | 0/200 [3:22:15<?, ?it/s]\u001b[A\n",
            "\u001b[A\n",
            "Processing PSGs:   0%|                                                    | 0/200 [3:22:15<?, ?it/s]\u001b[A\n",
            "\u001b[A\n",
            "Processing PSGs:   0%|                                                    | 0/200 [3:22:15<?, ?it/s]\u001b[A"
          ]
        },
        {
          "output_type": "stream",
          "name": "stdout",
          "text": [
            "Finished mesa-sleep-0167: 1079 epochs, 106 sequences, channels: ['EEG1', 'EOG-L', 'EOG-R']\n",
            "Starting mesa-sleep-0169\n",
            "Loading and preprocessing mesa-sleep-0169\n",
            "NOTE: pick_channels() is a legacy function. New code should use inst.pick(...).\n"
          ]
        },
        {
          "output_type": "stream",
          "name": "stderr",
          "text": [
            "\n",
            "\u001b[A\n",
            "Processing PSGs:   0%|                                                    | 0/200 [3:22:57<?, ?it/s]\u001b[A"
          ]
        },
        {
          "output_type": "stream",
          "name": "stdout",
          "text": [
            "Extracting CATCH22 for mesa-sleep-0169\n"
          ]
        },
        {
          "output_type": "stream",
          "name": "stderr",
          "text": [
            "\n",
            "\u001b[A\n",
            "Processing PSGs:   0%|                                                    | 0/200 [3:24:58<?, ?it/s]\u001b[A"
          ]
        },
        {
          "output_type": "stream",
          "name": "stdout",
          "text": [
            "Saving for mesa-sleep-0169\n"
          ]
        },
        {
          "output_type": "stream",
          "name": "stderr",
          "text": [
            "\n",
            "\u001b[A\n",
            "Processing PSGs:   0%|                                                    | 0/200 [3:25:19<?, ?it/s]\u001b[A\n",
            "\u001b[A\n",
            "Processing PSGs:   0%|                                                    | 0/200 [3:25:19<?, ?it/s]\u001b[A\n",
            "\u001b[A\n",
            "Processing PSGs:   0%|                                                    | 0/200 [3:25:19<?, ?it/s]\u001b[A"
          ]
        },
        {
          "output_type": "stream",
          "name": "stdout",
          "text": [
            "Finished mesa-sleep-0169: 1079 epochs, 106 sequences, channels: ['EEG1', 'EOG-L', 'EOG-R']\n",
            "Starting mesa-sleep-0171\n",
            "Loading and preprocessing mesa-sleep-0171\n",
            "NOTE: pick_channels() is a legacy function. New code should use inst.pick(...).\n"
          ]
        },
        {
          "output_type": "stream",
          "name": "stderr",
          "text": [
            "\n",
            "\u001b[A\n",
            "Processing PSGs:   0%|                                                    | 0/200 [3:26:25<?, ?it/s]\u001b[A"
          ]
        },
        {
          "output_type": "stream",
          "name": "stdout",
          "text": [
            "Extracting CATCH22 for mesa-sleep-0171\n"
          ]
        },
        {
          "output_type": "stream",
          "name": "stderr",
          "text": [
            "\n",
            "\u001b[A\n",
            "Processing PSGs:   0%|                                                    | 0/200 [3:28:34<?, ?it/s]\u001b[A"
          ]
        },
        {
          "output_type": "stream",
          "name": "stdout",
          "text": [
            "Saving for mesa-sleep-0171\n"
          ]
        },
        {
          "output_type": "stream",
          "name": "stderr",
          "text": [
            "\n",
            "\u001b[A\n",
            "Processing PSGs:   0%|                                                    | 0/200 [3:28:56<?, ?it/s]\u001b[A\n",
            "\u001b[A\n",
            "Processing PSGs:   0%|                                                    | 0/200 [3:28:56<?, ?it/s]\u001b[A\n",
            "\u001b[A\n",
            "Processing PSGs:   0%|                                                    | 0/200 [3:28:56<?, ?it/s]\u001b[A"
          ]
        },
        {
          "output_type": "stream",
          "name": "stdout",
          "text": [
            "Finished mesa-sleep-0171: 1199 epochs, 118 sequences, channels: ['EEG1', 'EOG-L', 'EOG-R']\n",
            "Starting mesa-sleep-0183\n",
            "Loading and preprocessing mesa-sleep-0183\n",
            "NOTE: pick_channels() is a legacy function. New code should use inst.pick(...).\n"
          ]
        },
        {
          "output_type": "stream",
          "name": "stderr",
          "text": [
            "\n",
            "\u001b[A\n",
            "Processing PSGs:   0%|                                                    | 0/200 [3:30:16<?, ?it/s]\u001b[A"
          ]
        },
        {
          "output_type": "stream",
          "name": "stdout",
          "text": [
            "Extracting CATCH22 for mesa-sleep-0183\n"
          ]
        },
        {
          "output_type": "stream",
          "name": "stderr",
          "text": [
            "\n",
            "\u001b[A\n",
            "Processing PSGs:   0%|                                                    | 0/200 [3:32:46<?, ?it/s]\u001b[A"
          ]
        },
        {
          "output_type": "stream",
          "name": "stdout",
          "text": [
            "Saving for mesa-sleep-0183\n"
          ]
        },
        {
          "output_type": "stream",
          "name": "stderr",
          "text": [
            "\n",
            "\u001b[A\n",
            "Processing PSGs:   0%|                                                    | 0/200 [3:33:12<?, ?it/s]\u001b[A\n",
            "\u001b[A\n",
            "Processing PSGs:   0%|                                                    | 0/200 [3:33:12<?, ?it/s]\u001b[A\n",
            "\u001b[A\n",
            "Processing PSGs:   0%|                                                    | 0/200 [3:33:12<?, ?it/s]\u001b[A"
          ]
        },
        {
          "output_type": "stream",
          "name": "stdout",
          "text": [
            "Finished mesa-sleep-0183: 1439 epochs, 142 sequences, channels: ['EEG1', 'EOG-L', 'EOG-R']\n",
            "Starting mesa-sleep-0187\n",
            "Loading and preprocessing mesa-sleep-0187\n",
            "NOTE: pick_channels() is a legacy function. New code should use inst.pick(...).\n"
          ]
        },
        {
          "output_type": "stream",
          "name": "stderr",
          "text": [
            "\n",
            "\u001b[A\n",
            "Processing PSGs:   0%|                                                    | 0/200 [3:33:41<?, ?it/s]\u001b[A"
          ]
        },
        {
          "output_type": "stream",
          "name": "stdout",
          "text": [
            "Extracting CATCH22 for mesa-sleep-0187\n"
          ]
        },
        {
          "output_type": "stream",
          "name": "stderr",
          "text": [
            "\n",
            "\u001b[A\n",
            "Processing PSGs:   0%|                                                    | 0/200 [3:36:18<?, ?it/s]\u001b[A"
          ]
        },
        {
          "output_type": "stream",
          "name": "stdout",
          "text": [
            "Saving for mesa-sleep-0187\n"
          ]
        },
        {
          "output_type": "stream",
          "name": "stderr",
          "text": [
            "\n",
            "\u001b[A\n",
            "Processing PSGs:   0%|                                                    | 0/200 [3:36:45<?, ?it/s]\u001b[A\n",
            "\u001b[A\n",
            "Processing PSGs:   0%|                                                    | 0/200 [3:36:45<?, ?it/s]\u001b[A\n",
            "\u001b[A\n",
            "Processing PSGs:   0%|                                                    | 0/200 [3:36:45<?, ?it/s]\u001b[A"
          ]
        },
        {
          "output_type": "stream",
          "name": "stdout",
          "text": [
            "Finished mesa-sleep-0187: 1439 epochs, 142 sequences, channels: ['EEG1', 'EOG-L', 'EOG-R']\n",
            "Starting mesa-sleep-0188\n",
            "Loading and preprocessing mesa-sleep-0188\n",
            "NOTE: pick_channels() is a legacy function. New code should use inst.pick(...).\n"
          ]
        },
        {
          "output_type": "stream",
          "name": "stderr",
          "text": [
            "\n",
            "\u001b[A\n",
            "Processing PSGs:   0%|                                                    | 0/200 [3:41:13<?, ?it/s]\u001b[A"
          ]
        },
        {
          "output_type": "stream",
          "name": "stdout",
          "text": [
            "Extracting CATCH22 for mesa-sleep-0188\n"
          ]
        },
        {
          "output_type": "stream",
          "name": "stderr",
          "text": [
            "\n",
            "\u001b[A\n",
            "Processing PSGs:   0%|                                                    | 0/200 [3:43:46<?, ?it/s]\u001b[A"
          ]
        },
        {
          "output_type": "stream",
          "name": "stdout",
          "text": [
            "Saving for mesa-sleep-0188\n"
          ]
        },
        {
          "output_type": "stream",
          "name": "stderr",
          "text": [
            "\n",
            "\u001b[A\n",
            "Processing PSGs:   0%|                                                    | 0/200 [3:44:19<?, ?it/s]\u001b[A\n",
            "\u001b[A\n",
            "Processing PSGs:   0%|                                                    | 0/200 [3:44:19<?, ?it/s]\u001b[A\n",
            "\u001b[A\n",
            "Processing PSGs:   0%|                                                    | 0/200 [3:44:19<?, ?it/s]\u001b[A"
          ]
        },
        {
          "output_type": "stream",
          "name": "stdout",
          "text": [
            "Finished mesa-sleep-0188: 1439 epochs, 142 sequences, channels: ['EEG1', 'EOG-L', 'EOG-R']\n",
            "Starting mesa-sleep-0193\n",
            "Loading and preprocessing mesa-sleep-0193\n",
            "NOTE: pick_channels() is a legacy function. New code should use inst.pick(...).\n"
          ]
        },
        {
          "output_type": "stream",
          "name": "stderr",
          "text": [
            "\n",
            "\u001b[A\n",
            "Processing PSGs:   0%|                                                    | 0/200 [3:44:46<?, ?it/s]\u001b[A"
          ]
        },
        {
          "output_type": "stream",
          "name": "stdout",
          "text": [
            "Extracting CATCH22 for mesa-sleep-0193\n"
          ]
        },
        {
          "output_type": "stream",
          "name": "stderr",
          "text": [
            "\n",
            "\u001b[A\n",
            "Processing PSGs:   0%|                                                    | 0/200 [3:47:12<?, ?it/s]\u001b[A"
          ]
        },
        {
          "output_type": "stream",
          "name": "stdout",
          "text": [
            "Saving for mesa-sleep-0193\n"
          ]
        },
        {
          "output_type": "stream",
          "name": "stderr",
          "text": [
            "\n",
            "\u001b[A\n",
            "Processing PSGs:   0%|                                                    | 0/200 [3:47:37<?, ?it/s]\u001b[A\n",
            "\u001b[A\n",
            "Processing PSGs:   0%|                                                    | 0/200 [3:47:37<?, ?it/s]\u001b[A\n",
            "\u001b[A\n",
            "Processing PSGs:   0%|                                                    | 0/200 [3:47:37<?, ?it/s]\u001b[A"
          ]
        },
        {
          "output_type": "stream",
          "name": "stdout",
          "text": [
            "Finished mesa-sleep-0193: 1320 epochs, 131 sequences, channels: ['EEG1', 'EOG-L', 'EOG-R']\n",
            "Starting mesa-sleep-0194\n",
            "Loading and preprocessing mesa-sleep-0194\n"
          ]
        }
      ]
    },
    {
      "cell_type": "code",
      "source": [
        "from google.colab import runtime\n",
        "runtime.unassign()"
      ],
      "metadata": {
        "id": "fqPBDjocoxMM"
      },
      "execution_count": null,
      "outputs": []
    },
    {
      "cell_type": "code",
      "source": [],
      "metadata": {
        "id": "bTBreCHuqcXQ"
      },
      "execution_count": null,
      "outputs": []
    }
  ]
}