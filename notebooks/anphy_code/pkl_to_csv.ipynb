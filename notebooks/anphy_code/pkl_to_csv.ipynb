{
 "cells": [
  {
   "cell_type": "code",
   "execution_count": 1,
   "metadata": {},
   "outputs": [],
   "source": [
    "import os, glob, pickle, csv\n",
    "import numpy as np"
   ]
  },
  {
   "cell_type": "code",
   "execution_count": 2,
   "metadata": {},
   "outputs": [
    {
     "name": "stdout",
     "output_type": "stream",
     "text": [
      "Converted /Users/tereza/spring_2025/STAT_4830/STAT-4830-GOALZ-project/data/ANPHY-Sleep_data/EPCTL07/extracted_windows_group3.pkl -> /Users/tereza/spring_2025/STAT_4830/STAT-4830-GOALZ-project/data/ANPHY-Sleep_data/EPCTL07/extracted_windows_group3.csv\n",
      "Converted /Users/tereza/spring_2025/STAT_4830/STAT-4830-GOALZ-project/data/ANPHY-Sleep_data/EPCTL09/extracted_windows_group3.pkl -> /Users/tereza/spring_2025/STAT_4830/STAT-4830-GOALZ-project/data/ANPHY-Sleep_data/EPCTL09/extracted_windows_group3.csv\n",
      "Converted /Users/tereza/spring_2025/STAT_4830/STAT-4830-GOALZ-project/data/ANPHY-Sleep_data/EPCTL08/extracted_windows_group3.pkl -> /Users/tereza/spring_2025/STAT_4830/STAT-4830-GOALZ-project/data/ANPHY-Sleep_data/EPCTL08/extracted_windows_group3.csv\n",
      "Converted /Users/tereza/spring_2025/STAT_4830/STAT-4830-GOALZ-project/data/ANPHY-Sleep_data/EPCTL06/extracted_windows_group2.pkl -> /Users/tereza/spring_2025/STAT_4830/STAT-4830-GOALZ-project/data/ANPHY-Sleep_data/EPCTL06/extracted_windows_group2.csv\n",
      "Converted /Users/tereza/spring_2025/STAT_4830/STAT-4830-GOALZ-project/data/ANPHY-Sleep_data/EPCTL01/extracted_windows_group1.pkl -> /Users/tereza/spring_2025/STAT_4830/STAT-4830-GOALZ-project/data/ANPHY-Sleep_data/EPCTL01/extracted_windows_group1.csv\n",
      "Converted /Users/tereza/spring_2025/STAT_4830/STAT-4830-GOALZ-project/data/ANPHY-Sleep_data/EPCTL23/extracted_windows_group8.pkl -> /Users/tereza/spring_2025/STAT_4830/STAT-4830-GOALZ-project/data/ANPHY-Sleep_data/EPCTL23/extracted_windows_group8.csv\n",
      "Converted /Users/tereza/spring_2025/STAT_4830/STAT-4830-GOALZ-project/data/ANPHY-Sleep_data/EPCTL24/extracted_windows_group8.pkl -> /Users/tereza/spring_2025/STAT_4830/STAT-4830-GOALZ-project/data/ANPHY-Sleep_data/EPCTL24/extracted_windows_group8.csv\n",
      "Converted /Users/tereza/spring_2025/STAT_4830/STAT-4830-GOALZ-project/data/ANPHY-Sleep_data/EPCTL12/extracted_windows_group4.pkl -> /Users/tereza/spring_2025/STAT_4830/STAT-4830-GOALZ-project/data/ANPHY-Sleep_data/EPCTL12/extracted_windows_group4.csv\n",
      "Converted /Users/tereza/spring_2025/STAT_4830/STAT-4830-GOALZ-project/data/ANPHY-Sleep_data/EPCTL15/extracted_windows_group5.pkl -> /Users/tereza/spring_2025/STAT_4830/STAT-4830-GOALZ-project/data/ANPHY-Sleep_data/EPCTL15/extracted_windows_group5.csv\n",
      "Converted /Users/tereza/spring_2025/STAT_4830/STAT-4830-GOALZ-project/data/ANPHY-Sleep_data/EPCTL14/extracted_windows_group5.pkl -> /Users/tereza/spring_2025/STAT_4830/STAT-4830-GOALZ-project/data/ANPHY-Sleep_data/EPCTL14/extracted_windows_group5.csv\n",
      "Converted /Users/tereza/spring_2025/STAT_4830/STAT-4830-GOALZ-project/data/ANPHY-Sleep_data/EPCTL13/extracted_windows_group5.pkl -> /Users/tereza/spring_2025/STAT_4830/STAT-4830-GOALZ-project/data/ANPHY-Sleep_data/EPCTL13/extracted_windows_group5.csv\n",
      "Converted /Users/tereza/spring_2025/STAT_4830/STAT-4830-GOALZ-project/data/ANPHY-Sleep_data/EPCTL25/extracted_windows_group9.pkl -> /Users/tereza/spring_2025/STAT_4830/STAT-4830-GOALZ-project/data/ANPHY-Sleep_data/EPCTL25/extracted_windows_group9.csv\n",
      "Converted /Users/tereza/spring_2025/STAT_4830/STAT-4830-GOALZ-project/data/ANPHY-Sleep_data/EPCTL22/extracted_windows_group8.pkl -> /Users/tereza/spring_2025/STAT_4830/STAT-4830-GOALZ-project/data/ANPHY-Sleep_data/EPCTL22/extracted_windows_group8.csv\n",
      "Converted /Users/tereza/spring_2025/STAT_4830/STAT-4830-GOALZ-project/data/ANPHY-Sleep_data/EPCTL04/extracted_windows_group2.pkl -> /Users/tereza/spring_2025/STAT_4830/STAT-4830-GOALZ-project/data/ANPHY-Sleep_data/EPCTL04/extracted_windows_group2.csv\n",
      "Converted /Users/tereza/spring_2025/STAT_4830/STAT-4830-GOALZ-project/data/ANPHY-Sleep_data/EPCTL03/extracted_windows_group1.pkl -> /Users/tereza/spring_2025/STAT_4830/STAT-4830-GOALZ-project/data/ANPHY-Sleep_data/EPCTL03/extracted_windows_group1.csv\n",
      "Converted /Users/tereza/spring_2025/STAT_4830/STAT-4830-GOALZ-project/data/ANPHY-Sleep_data/EPCTL02/extracted_windows_group1.pkl -> /Users/tereza/spring_2025/STAT_4830/STAT-4830-GOALZ-project/data/ANPHY-Sleep_data/EPCTL02/extracted_windows_group1.csv\n",
      "Converted /Users/tereza/spring_2025/STAT_4830/STAT-4830-GOALZ-project/data/ANPHY-Sleep_data/EPCTL05/extracted_windows_group2.pkl -> /Users/tereza/spring_2025/STAT_4830/STAT-4830-GOALZ-project/data/ANPHY-Sleep_data/EPCTL05/extracted_windows_group2.csv\n",
      "Converted /Users/tereza/spring_2025/STAT_4830/STAT-4830-GOALZ-project/data/ANPHY-Sleep_data/EPCTL27/extracted_windows_group9.pkl -> /Users/tereza/spring_2025/STAT_4830/STAT-4830-GOALZ-project/data/ANPHY-Sleep_data/EPCTL27/extracted_windows_group9.csv\n",
      "Converted /Users/tereza/spring_2025/STAT_4830/STAT-4830-GOALZ-project/data/ANPHY-Sleep_data/EPCTL18/extracted_windows_group6.pkl -> /Users/tereza/spring_2025/STAT_4830/STAT-4830-GOALZ-project/data/ANPHY-Sleep_data/EPCTL18/extracted_windows_group6.csv\n",
      "Converted /Users/tereza/spring_2025/STAT_4830/STAT-4830-GOALZ-project/data/ANPHY-Sleep_data/EPCTL20/extracted_windows_group7.pkl -> /Users/tereza/spring_2025/STAT_4830/STAT-4830-GOALZ-project/data/ANPHY-Sleep_data/EPCTL20/extracted_windows_group7.csv\n",
      "Converted /Users/tereza/spring_2025/STAT_4830/STAT-4830-GOALZ-project/data/ANPHY-Sleep_data/EPCTL16/extracted_windows_group6.pkl -> /Users/tereza/spring_2025/STAT_4830/STAT-4830-GOALZ-project/data/ANPHY-Sleep_data/EPCTL16/extracted_windows_group6.csv\n",
      "Converted /Users/tereza/spring_2025/STAT_4830/STAT-4830-GOALZ-project/data/ANPHY-Sleep_data/EPCTL29/extracted_windows_group10.pkl -> /Users/tereza/spring_2025/STAT_4830/STAT-4830-GOALZ-project/data/ANPHY-Sleep_data/EPCTL29/extracted_windows_group10.csv\n",
      "Converted /Users/tereza/spring_2025/STAT_4830/STAT-4830-GOALZ-project/data/ANPHY-Sleep_data/EPCTL11/extracted_windows_group4.pkl -> /Users/tereza/spring_2025/STAT_4830/STAT-4830-GOALZ-project/data/ANPHY-Sleep_data/EPCTL11/extracted_windows_group4.csv\n",
      "Converted /Users/tereza/spring_2025/STAT_4830/STAT-4830-GOALZ-project/data/ANPHY-Sleep_data/EPCTL10/extracted_windows_group4.pkl -> /Users/tereza/spring_2025/STAT_4830/STAT-4830-GOALZ-project/data/ANPHY-Sleep_data/EPCTL10/extracted_windows_group4.csv\n",
      "Converted /Users/tereza/spring_2025/STAT_4830/STAT-4830-GOALZ-project/data/ANPHY-Sleep_data/EPCTL17/extracted_windows_group6.pkl -> /Users/tereza/spring_2025/STAT_4830/STAT-4830-GOALZ-project/data/ANPHY-Sleep_data/EPCTL17/extracted_windows_group6.csv\n",
      "Converted /Users/tereza/spring_2025/STAT_4830/STAT-4830-GOALZ-project/data/ANPHY-Sleep_data/EPCTL28/extracted_windows_group10.pkl -> /Users/tereza/spring_2025/STAT_4830/STAT-4830-GOALZ-project/data/ANPHY-Sleep_data/EPCTL28/extracted_windows_group10.csv\n",
      "Converted /Users/tereza/spring_2025/STAT_4830/STAT-4830-GOALZ-project/data/ANPHY-Sleep_data/EPCTL21/extracted_windows_group7.pkl -> /Users/tereza/spring_2025/STAT_4830/STAT-4830-GOALZ-project/data/ANPHY-Sleep_data/EPCTL21/extracted_windows_group7.csv\n",
      "Converted /Users/tereza/spring_2025/STAT_4830/STAT-4830-GOALZ-project/data/ANPHY-Sleep_data/EPCTL26/extracted_windows_group9.pkl -> /Users/tereza/spring_2025/STAT_4830/STAT-4830-GOALZ-project/data/ANPHY-Sleep_data/EPCTL26/extracted_windows_group9.csv\n",
      "Converted /Users/tereza/spring_2025/STAT_4830/STAT-4830-GOALZ-project/data/ANPHY-Sleep_data/EPCTL19/extracted_windows_group7.pkl -> /Users/tereza/spring_2025/STAT_4830/STAT-4830-GOALZ-project/data/ANPHY-Sleep_data/EPCTL19/extracted_windows_group7.csv\n"
     ]
    }
   ],
   "source": [
    "data_dir = \"/Users/tereza/spring_2025/STAT_4830/STAT-4830-GOALZ-project/data/ANPHY-Sleep_data\"\n",
    "# Find all pkl files in EPCTL* subdirectories that match naming convention\n",
    "pkl_files = glob.glob(os.path.join(data_dir, \"EPCTL*\", \"extracted_windows_group*.pkl\"))\n",
    "\n",
    "for pkl_file in pkl_files:\n",
    "    with open(pkl_file, \"rb\") as f:\n",
    "        windows_dict = pickle.load(f)\n",
    "    \n",
    "    # Create a corresponding CSV file path\n",
    "    csv_file = pkl_file.replace(\".pkl\", \".csv\")\n",
    "    \n",
    "    with open(csv_file, \"w\", newline=\"\") as csvfile:\n",
    "        writer = csv.writer(csvfile)\n",
    "        # Write header: key, time_index, window (as comma-separated numbers)\n",
    "        writer.writerow([\"key\", \"time_index\", \"window\"])\n",
    "        \n",
    "        for key, value in windows_dict.items():\n",
    "            time_index = value.get(\"time_index\")\n",
    "            window = value.get(\"window\")\n",
    "            # Convert the numpy array to a comma-separated string\n",
    "            window_str = \",\".join(map(str, window.tolist()))\n",
    "            writer.writerow([key, time_index, window_str])\n",
    "    \n",
    "    print(f\"Converted {pkl_file} -> {csv_file}\")"
   ]
  },
  {
   "cell_type": "code",
   "execution_count": null,
   "metadata": {},
   "outputs": [],
   "source": []
  }
 ],
 "metadata": {
  "kernelspec": {
   "display_name": "cnt_gen",
   "language": "python",
   "name": "python3"
  },
  "language_info": {
   "codemirror_mode": {
    "name": "ipython",
    "version": 3
   },
   "file_extension": ".py",
   "mimetype": "text/x-python",
   "name": "python",
   "nbconvert_exporter": "python",
   "pygments_lexer": "ipython3",
   "version": "3.12.4"
  }
 },
 "nbformat": 4,
 "nbformat_minor": 2
}
