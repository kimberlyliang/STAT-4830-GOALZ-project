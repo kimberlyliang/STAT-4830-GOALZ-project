{
 "cells": [
  {
   "cell_type": "code",
   "execution_count": 6,
   "metadata": {},
   "outputs": [
    {
     "name": "stdout",
     "output_type": "stream",
     "text": [
      "Files found: ['/Users/tereza/spring_2025/STAT_4830/STAT-4830-GOALZ-project/data/ANPHY-Sleep/EPCTL_all_subj_sleep_labels/EPCTL28 copy.txt', '/Users/tereza/spring_2025/STAT_4830/STAT-4830-GOALZ-project/data/ANPHY-Sleep/EPCTL_all_subj_sleep_labels/EPCTL29 copy.txt', '/Users/tereza/spring_2025/STAT_4830/STAT-4830-GOALZ-project/data/ANPHY-Sleep/EPCTL_all_subj_sleep_labels/EPCTL16 copy.txt', '/Users/tereza/spring_2025/STAT_4830/STAT-4830-GOALZ-project/data/ANPHY-Sleep/EPCTL_all_subj_sleep_labels/EPCTL17 copy.txt', '/Users/tereza/spring_2025/STAT_4830/STAT-4830-GOALZ-project/data/ANPHY-Sleep/EPCTL_all_subj_sleep_labels/EPCTL22 copy.txt', '/Users/tereza/spring_2025/STAT_4830/STAT-4830-GOALZ-project/data/ANPHY-Sleep/EPCTL_all_subj_sleep_labels/EPCTL23 copy.txt', '/Users/tereza/spring_2025/STAT_4830/STAT-4830-GOALZ-project/data/ANPHY-Sleep/EPCTL_all_subj_sleep_labels/EPCTL01 copy.txt', '/Users/tereza/spring_2025/STAT_4830/STAT-4830-GOALZ-project/data/ANPHY-Sleep/EPCTL_all_subj_sleep_labels/EPCTL06 copy.txt', '/Users/tereza/spring_2025/STAT_4830/STAT-4830-GOALZ-project/data/ANPHY-Sleep/EPCTL_all_subj_sleep_labels/EPCTL07 copy.txt', '/Users/tereza/spring_2025/STAT_4830/STAT-4830-GOALZ-project/data/ANPHY-Sleep/EPCTL_all_subj_sleep_labels/EPCTL11 copy.txt', '/Users/tereza/spring_2025/STAT_4830/STAT-4830-GOALZ-project/data/ANPHY-Sleep/EPCTL_all_subj_sleep_labels/EPCTL10 copy.txt', '/Users/tereza/spring_2025/STAT_4830/STAT-4830-GOALZ-project/data/ANPHY-Sleep/EPCTL_all_subj_sleep_labels/EPCTL25 copy.txt', '/Users/tereza/spring_2025/STAT_4830/STAT-4830-GOALZ-project/data/ANPHY-Sleep/EPCTL_all_subj_sleep_labels/EPCTL24 copy.txt', '/Users/tereza/spring_2025/STAT_4830/STAT-4830-GOALZ-project/data/ANPHY-Sleep/EPCTL_all_subj_sleep_labels/EPCTL08 copy.txt', '/Users/tereza/spring_2025/STAT_4830/STAT-4830-GOALZ-project/data/ANPHY-Sleep/EPCTL_all_subj_sleep_labels/EPCTL09 copy.txt', '/Users/tereza/spring_2025/STAT_4830/STAT-4830-GOALZ-project/data/ANPHY-Sleep/EPCTL_all_subj_sleep_labels/EPCTL02 copy.txt', '/Users/tereza/spring_2025/STAT_4830/STAT-4830-GOALZ-project/data/ANPHY-Sleep/EPCTL_all_subj_sleep_labels/EPCTL03 copy.txt', '/Users/tereza/spring_2025/STAT_4830/STAT-4830-GOALZ-project/data/ANPHY-Sleep/EPCTL_all_subj_sleep_labels/EPCTL21 copy.txt', '/Users/tereza/spring_2025/STAT_4830/STAT-4830-GOALZ-project/data/ANPHY-Sleep/EPCTL_all_subj_sleep_labels/EPCTL20 copy.txt', '/Users/tereza/spring_2025/STAT_4830/STAT-4830-GOALZ-project/data/ANPHY-Sleep/EPCTL_all_subj_sleep_labels/EPCTL15 copy.txt', '/Users/tereza/spring_2025/STAT_4830/STAT-4830-GOALZ-project/data/ANPHY-Sleep/EPCTL_all_subj_sleep_labels/EPCTL14 copy.txt', '/Users/tereza/spring_2025/STAT_4830/STAT-4830-GOALZ-project/data/ANPHY-Sleep/EPCTL_all_subj_sleep_labels/EPCTL26 copy.txt', '/Users/tereza/spring_2025/STAT_4830/STAT-4830-GOALZ-project/data/ANPHY-Sleep/EPCTL_all_subj_sleep_labels/EPCTL27 copy.txt', '/Users/tereza/spring_2025/STAT_4830/STAT-4830-GOALZ-project/data/ANPHY-Sleep/EPCTL_all_subj_sleep_labels/EPCTL18 copy.txt', '/Users/tereza/spring_2025/STAT_4830/STAT-4830-GOALZ-project/data/ANPHY-Sleep/EPCTL_all_subj_sleep_labels/EPCTL19 copy.txt', '/Users/tereza/spring_2025/STAT_4830/STAT-4830-GOALZ-project/data/ANPHY-Sleep/EPCTL_all_subj_sleep_labels/EPCTL12 copy.txt', '/Users/tereza/spring_2025/STAT_4830/STAT-4830-GOALZ-project/data/ANPHY-Sleep/EPCTL_all_subj_sleep_labels/EPCTL13 copy.txt', '/Users/tereza/spring_2025/STAT_4830/STAT-4830-GOALZ-project/data/ANPHY-Sleep/EPCTL_all_subj_sleep_labels/EPCTL05 copy.txt', '/Users/tereza/spring_2025/STAT_4830/STAT-4830-GOALZ-project/data/ANPHY-Sleep/EPCTL_all_subj_sleep_labels/EPCTL04 copy.txt']\n"
     ]
    }
   ],
   "source": [
    "import pandas as pd\n",
    "import glob\n",
    "import os\n",
    "\n",
    "# from google.colab import drive\n",
    "# drive.mount('/content/drive')\n",
    "data_dir = \"/Users/tereza/spring_2025/STAT_4830/STAT-4830-GOALZ-project/data/ANPHY-Sleep/EPCTL_all_subj_sleep_labels\"\n",
    "results_dir = \"/Users/tereza/spring_2025/STAT_4830/STAT-4830-GOALZ-project/results\"\n",
    "\n",
    "file_list = glob.glob(os.path.join(data_dir, \"*.txt\"))\n",
    "\n",
    "print(\"Files found:\", file_list)"
   ]
  },
  {
   "cell_type": "code",
   "execution_count": 7,
   "metadata": {},
   "outputs": [
    {
     "name": "stdout",
     "output_type": "stream",
     "text": [
      "       Patient  Stage  Start\n",
      "0      EPCTL28      0   4860\n",
      "1      EPCTL28      0   4890\n",
      "2      EPCTL28      0   4920\n",
      "3      EPCTL28      0   4950\n",
      "4      EPCTL28      0   4980\n",
      "...        ...    ...    ...\n",
      "24188  EPCTL04      0  22350\n",
      "24189  EPCTL04      0  22380\n",
      "24190  EPCTL04      0  22410\n",
      "24191  EPCTL04      0  22440\n",
      "24192  EPCTL04      0  22470\n",
      "\n",
      "[24193 rows x 3 columns]\n",
      "   Patient                                              Stage  \\\n",
      "0  EPCTL01  [0, 0, 1, 1, 1, 1, 0, 1, 1, 1, 1, 1, 2, 2, 0, ...   \n",
      "1  EPCTL02  [0, 0, 0, 0, 0, 0, 0, 0, 0, 0, 0, 0, 0, 0, 0, ...   \n",
      "2  EPCTL03  [0, 0, 0, 0, 0, 0, 0, 0, 0, 0, 1, 1, 2, 2, 2, ...   \n",
      "3  EPCTL04  [0, 0, 0, 0, 0, 0, 0, 0, 0, 0, 0, 0, 0, 0, 0, ...   \n",
      "4  EPCTL05  [0, 0, 0, 0, 0, 0, 0, 0, 0, 0, 0, 0, 0, 0, 0, ...   \n",
      "\n",
      "                                               Start  \n",
      "0  [0, 30, 60, 90, 120, 150, 180, 210, 240, 270, ...  \n",
      "1  [1290, 1320, 1350, 1380, 1410, 1440, 1470, 150...  \n",
      "2  [2130, 2160, 2190, 2220, 2250, 2280, 2310, 234...  \n",
      "3  [450, 480, 510, 540, 570, 600, 630, 660, 690, ...  \n",
      "4  [690, 720, 750, 780, 810, 840, 870, 900, 930, ...  \n"
     ]
    }
   ],
   "source": [
    "stage_mapping = {\n",
    "    'W': 0,\n",
    "    'N1': 1,\n",
    "    'N2': 2,\n",
    "    'N3': 3,\n",
    "    'R': 4\n",
    "}\n",
    "\n",
    "df_list = []\n",
    "\n",
    "for file_path in file_list:\n",
    "    df = pd.read_csv(file_path, sep='\\t', header=None, names=['Stage', 'Start', 'Duration'])\n",
    "    df = df[df['Stage'] != 'L']\n",
    "    df = df[['Stage', 'Start']]\n",
    "\n",
    "    patient_id = os.path.splitext(os.path.basename(file_path))[0]\n",
    "    df['Patient'] = patient_id\n",
    "    df['Patient'] = df['Patient'].str.replace(\" copy\", \"\", regex=False)\n",
    "    df['Stage'] = df['Stage'].map(stage_mapping)\n",
    "    df_list.append(df)\n",
    "\n",
    "dataset = pd.concat(df_list, ignore_index=True)\n",
    "\n",
    "dataset = dataset[['Patient', 'Stage', 'Start']]\n",
    "print(dataset)\n",
    "\n",
    "aggregated = dataset.groupby(\"Patient\").agg({\n",
    "    \"Stage\": lambda x: list(x),\n",
    "    \"Start\": lambda x: list(x)\n",
    "}).reset_index()\n",
    "\n",
    "print(aggregated.head())"
   ]
  },
  {
   "cell_type": "code",
   "execution_count": 8,
   "metadata": {},
   "outputs": [],
   "source": [
    "#aggregated.to_csv(\"combined_sleep_data.csv\", index=False)\n",
    "aggregated.to_csv(os.path.join(results_dir, \"combined_sleep_data.csv\"), index=False)"
   ]
  }
 ],
 "metadata": {
  "kernelspec": {
   "display_name": "cnt_gen",
   "language": "python",
   "name": "python3"
  },
  "language_info": {
   "codemirror_mode": {
    "name": "ipython",
    "version": 3
   },
   "file_extension": ".py",
   "mimetype": "text/x-python",
   "name": "python",
   "nbconvert_exporter": "python",
   "pygments_lexer": "ipython3",
   "version": "3.12.4"
  }
 },
 "nbformat": 4,
 "nbformat_minor": 2
}
