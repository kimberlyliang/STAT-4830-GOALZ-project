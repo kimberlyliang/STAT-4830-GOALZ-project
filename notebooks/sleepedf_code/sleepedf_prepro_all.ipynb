{
 "cells": [
  {
   "cell_type": "code",
   "execution_count": 1,
   "metadata": {},
   "outputs": [],
   "source": [
    "#!/usr/bin/env python3\n",
    "import os, glob, numpy as np, mne, pandas as pd\n",
    "from joblib import Parallel, delayed"
   ]
  },
  {
   "cell_type": "code",
   "execution_count": 2,
   "metadata": {},
   "outputs": [],
   "source": [
    "# Configuration\n",
    " # Example using absolute path (adjust to your actual path)\n",
    "PROJECT_ROOT = \"/Users/kimberly/Documents/STAT4830/STAT-4830-GOALZ-project\"\n",
    "BASE_DIR = os.path.join(PROJECT_ROOT, \"data/sleep-edf-database-expanded-1.0.0\")\n",
    "OUTPUT_DIR = os.path.join(PROJECT_ROOT, 'complete_psd_sleep_edf')\n",
    "os.makedirs(OUTPUT_DIR, exist_ok=True)\n",
    "\n",
    "# USE_MULTIPLE_CHANNELS = True\n",
    "# if USE_MULTIPLE_CHANNELS:\n",
    "#     CHANNELS_TO_LOAD = [\"EEG Fpz-Cz\", \"EOG horizontal\"]\n",
    "# else:\n",
    "#     CHANNELS_TO_LOAD = [\"EEG Fpz-Cz\"]\n",
    "\n",
    "TARGET_SFREQ = 100.0\n",
    "LOW_FREQ = 0.5\n",
    "HIGH_FREQ = 30.0\n",
    "EPOCH_LENGTH = 30.0\n",
    "SEQ_LENGTH = 20\n",
    "SEQ_STRIDE = 10\n",
    "\n",
    "ANNOTATION_MAP = {\n",
    "    \"Sleep stage W\": 0,\n",
    "    \"Sleep stage 1\": 1,\n",
    "    \"Sleep stage 2\": 2,\n",
    "    \"Sleep stage 3\": 3,\n",
    "    \"Sleep stage 4\": 3,\n",
    "    \"Sleep stage R\": 4\n",
    "}\n",
    "\n",
    "def process_record(psg_path, hyp_path, target_sfreq, low_freq, high_freq, epoch_length):\n",
    "    raw = mne.io.read_raw_edf(psg_path, preload=True, verbose=False)\n",
    "    if raw.info['sfreq'] != target_sfreq:\n",
    "        raw.resample(target_sfreq, npad=\"auto\", verbose=False)\n",
    "    picks = mne.pick_types(raw.info, eeg=True, eog=True)\n",
    "    raw.filter(l_freq=low_freq, h_freq=high_freq, picks=picks, verbose=False)\n",
    "    ann = mne.read_annotations(hyp_path)\n",
    "    raw.set_annotations(ann, emit_warning=False)\n",
    "    events, _ = mne.events_from_annotations(raw, event_id=ANNOTATION_MAP, chunk_duration=epoch_length)\n",
    "    tmin = 0.0; tmax = epoch_length - 1/raw.info['sfreq']\n",
    "    epochs = mne.Epochs(raw, events=events, event_id=ANNOTATION_MAP, tmin=tmin, tmax=tmax,\n",
    "                        baseline=None, preload=True, verbose=False)\n",
    "    data = epochs.get_data()\n",
    "    labels = epochs.events[:, -1]\n",
    "    for ch in range(data.shape[1]):\n",
    "        m = np.mean(data[:, ch, :])\n",
    "        s = np.std(data[:, ch, :]) if np.std(data[:, ch, :]) != 0 else 1.0\n",
    "        data[:, ch, :] = (data[:, ch, :] - m) / s\n",
    "    return data, labels, raw.ch_names\n",
    "\n",
    "def create_sequences(data, labels, seq_length, seq_stride):\n",
    "    n_epochs = data.shape[0]\n",
    "    sequences, seq_labels = [], []\n",
    "    for start in range(0, n_epochs - seq_length + 1, seq_stride):\n",
    "        sequences.append(data[start:start+seq_length])\n",
    "        seq_labels.append(labels[start:start+seq_length])\n",
    "    return np.array(sequences), np.array(seq_labels)\n",
    "\n",
    "def find_hypnogram(psg_file):\n",
    "    # Extract subject ID (assumes first 6 characters, e.g., \"SC4001\")\n",
    "    subject_id = os.path.basename(psg_file)[:6]\n",
    "    dir_path = os.path.dirname(psg_file)\n",
    "    pattern = os.path.join(dir_path, f\"{subject_id}*Hypnogram.edf\")\n",
    "    hyp_files = glob.glob(pattern)\n",
    "    if len(hyp_files) == 1:\n",
    "        return hyp_files[0]\n",
    "    elif len(hyp_files) > 1:\n",
    "        return hyp_files[0]  # or choose based on additional rules if needed\n",
    "    else:\n",
    "        return None\n",
    "\n",
    "def process_and_save(psg_file, output_dir):\n",
    "    hyp_file = find_hypnogram(psg_file)\n",
    "    if not hyp_file:\n",
    "        print(f\"Hypnogram not found for {psg_file}, skipping.\")\n",
    "        return\n",
    "    try:\n",
    "        data, labels, ch_names = process_record(psg_file, hyp_file,\n",
    "                                                  TARGET_SFREQ, LOW_FREQ, HIGH_FREQ, EPOCH_LENGTH)\n",
    "    except Exception as e:\n",
    "        print(f\"Error processing {psg_file}: {e}\")\n",
    "        return\n",
    "    rec_id = os.path.basename(psg_file).replace('-PSG.edf', '')\n",
    "    np.savez_compressed(os.path.join(output_dir, f\"{rec_id}_epochs.npz\"),\n",
    "                        data=data.astype('float32'), labels=labels.astype('int8'))\n",
    "    sequences, seq_labels = create_sequences(data, labels, SEQ_LENGTH, SEQ_STRIDE)\n",
    "    np.savez_compressed(os.path.join(output_dir, f\"{rec_id}_sequences.npz\"),\n",
    "                        sequences=sequences.astype('float32'), seq_labels=seq_labels.astype('int8'))\n",
    "    print(f\"Processed {rec_id}: epochs {data.shape[0]}, sequences {sequences.shape[0]}, channels: {ch_names}\")"
   ]
  },
  {
   "cell_type": "code",
   "execution_count": null,
   "metadata": {},
   "outputs": [
    {
     "name": "stdout",
     "output_type": "stream",
     "text": [
      "Found 197 PSG files.\n"
     ]
    },
    {
     "name": "stderr",
     "output_type": "stream",
     "text": [
      "/var/folders/fq/t46mbxyj54j1d9t60j44v_j80000gn/T/ipykernel_88349/2190940151.py:31: RuntimeWarning: Channels contain different highpass filters. Highest filter setting will be stored.\n",
      "/var/folders/fq/t46mbxyj54j1d9t60j44v_j80000gn/T/ipykernel_88349/2190940151.py:31: RuntimeWarning: Channels contain different highpass filters. Highest filter setting will be stored.\n",
      "/var/folders/fq/t46mbxyj54j1d9t60j44v_j80000gn/T/ipykernel_88349/2190940151.py:31: RuntimeWarning: Channels contain different lowpass filters. Lowest filter setting will be stored.\n",
      "/var/folders/fq/t46mbxyj54j1d9t60j44v_j80000gn/T/ipykernel_88349/2190940151.py:31: RuntimeWarning: Channels contain different lowpass filters. Lowest filter setting will be stored.\n",
      "/var/folders/fq/t46mbxyj54j1d9t60j44v_j80000gn/T/ipykernel_88349/2190940151.py:31: RuntimeWarning: Highpass cutoff frequency 16.0 is greater than lowpass cutoff frequency 0.7, setting values to 0 and Nyquist.\n",
      "/var/folders/fq/t46mbxyj54j1d9t60j44v_j80000gn/T/ipykernel_88349/2190940151.py:31: RuntimeWarning: Highpass cutoff frequency 16.0 is greater than lowpass cutoff frequency 0.7, setting values to 0 and Nyquist.\n"
     ]
    },
    {
     "name": "stdout",
     "output_type": "stream",
     "text": [
      "Used Annotations descriptions: [np.str_('Sleep stage 1'), np.str_('Sleep stage 2'), np.str_('Sleep stage 3'), np.str_('Sleep stage 4'), np.str_('Sleep stage R'), np.str_('Sleep stage W')]\n",
      "Used Annotations descriptions: [np.str_('Sleep stage 1'), np.str_('Sleep stage 2'), np.str_('Sleep stage 3'), np.str_('Sleep stage R'), np.str_('Sleep stage W')]\n",
      "Processed SC4171E0: epochs 2741, sequences 273, channels: ['EEG Fpz-Cz', 'EEG Pz-Oz', 'EOG horizontal', 'Resp oro-nasal', 'EMG submental', 'Temp rectal', 'Event marker']\n"
     ]
    },
    {
     "name": "stderr",
     "output_type": "stream",
     "text": [
      "/var/folders/fq/t46mbxyj54j1d9t60j44v_j80000gn/T/ipykernel_88349/2190940151.py:31: RuntimeWarning: Channels contain different highpass filters. Highest filter setting will be stored.\n",
      "/var/folders/fq/t46mbxyj54j1d9t60j44v_j80000gn/T/ipykernel_88349/2190940151.py:31: RuntimeWarning: Channels contain different lowpass filters. Lowest filter setting will be stored.\n",
      "/var/folders/fq/t46mbxyj54j1d9t60j44v_j80000gn/T/ipykernel_88349/2190940151.py:31: RuntimeWarning: Highpass cutoff frequency 16.0 is greater than lowpass cutoff frequency 0.7, setting values to 0 and Nyquist.\n"
     ]
    },
    {
     "name": "stdout",
     "output_type": "stream",
     "text": [
      "Processed SC4201E0: epochs 2803, sequences 279, channels: ['EEG Fpz-Cz', 'EEG Pz-Oz', 'EOG horizontal', 'Resp oro-nasal', 'EMG submental', 'Temp rectal', 'Event marker']\n"
     ]
    },
    {
     "name": "stderr",
     "output_type": "stream",
     "text": [
      "/var/folders/fq/t46mbxyj54j1d9t60j44v_j80000gn/T/ipykernel_88349/2190940151.py:31: RuntimeWarning: Channels contain different highpass filters. Highest filter setting will be stored.\n",
      "/var/folders/fq/t46mbxyj54j1d9t60j44v_j80000gn/T/ipykernel_88349/2190940151.py:31: RuntimeWarning: Channels contain different lowpass filters. Lowest filter setting will be stored.\n",
      "/var/folders/fq/t46mbxyj54j1d9t60j44v_j80000gn/T/ipykernel_88349/2190940151.py:31: RuntimeWarning: Highpass cutoff frequency 16.0 is greater than lowpass cutoff frequency 0.7, setting values to 0 and Nyquist.\n"
     ]
    },
    {
     "name": "stdout",
     "output_type": "stream",
     "text": [
      "Used Annotations descriptions: [np.str_('Sleep stage 1'), np.str_('Sleep stage 2'), np.str_('Sleep stage 3'), np.str_('Sleep stage 4'), np.str_('Sleep stage R'), np.str_('Sleep stage W')]\n",
      "Used Annotations descriptions: [np.str_('Sleep stage 1'), np.str_('Sleep stage 2'), np.str_('Sleep stage 3'), np.str_('Sleep stage 4'), np.str_('Sleep stage R'), np.str_('Sleep stage W')]\n",
      "Processed SC4272F0: epochs 2870, sequences 286, channels: ['EEG Fpz-Cz', 'EEG Pz-Oz', 'EOG horizontal', 'Resp oro-nasal', 'EMG submental', 'Temp rectal', 'Event marker']\n"
     ]
    },
    {
     "name": "stderr",
     "output_type": "stream",
     "text": [
      "/var/folders/fq/t46mbxyj54j1d9t60j44v_j80000gn/T/ipykernel_88349/2190940151.py:31: RuntimeWarning: Channels contain different highpass filters. Highest filter setting will be stored.\n",
      "/var/folders/fq/t46mbxyj54j1d9t60j44v_j80000gn/T/ipykernel_88349/2190940151.py:31: RuntimeWarning: Channels contain different lowpass filters. Lowest filter setting will be stored.\n",
      "/var/folders/fq/t46mbxyj54j1d9t60j44v_j80000gn/T/ipykernel_88349/2190940151.py:31: RuntimeWarning: Highpass cutoff frequency 16.0 is greater than lowpass cutoff frequency 0.7, setting values to 0 and Nyquist.\n"
     ]
    },
    {
     "name": "stdout",
     "output_type": "stream",
     "text": [
      "Processed SC4421E0: epochs 2764, sequences 275, channels: ['EEG Fpz-Cz', 'EEG Pz-Oz', 'EOG horizontal', 'Resp oro-nasal', 'EMG submental', 'Temp rectal', 'Event marker']\n",
      "Used Annotations descriptions: [np.str_('Sleep stage 1'), np.str_('Sleep stage 2'), np.str_('Sleep stage R'), np.str_('Sleep stage W')]\n",
      "Error processing /Users/kimberly/Documents/STAT4830/STAT-4830-GOALZ-project/data/sleep-edf-database-expanded-1.0.0/sleep-cassette/SC4751E0-PSG.edf: No matching events found for Sleep stage 3 (event id 3)\n"
     ]
    },
    {
     "name": "stderr",
     "output_type": "stream",
     "text": [
      "/var/folders/fq/t46mbxyj54j1d9t60j44v_j80000gn/T/ipykernel_88349/2190940151.py:31: RuntimeWarning: Channels contain different highpass filters. Highest filter setting will be stored.\n",
      "/var/folders/fq/t46mbxyj54j1d9t60j44v_j80000gn/T/ipykernel_88349/2190940151.py:31: RuntimeWarning: Channels contain different lowpass filters. Lowest filter setting will be stored.\n",
      "/var/folders/fq/t46mbxyj54j1d9t60j44v_j80000gn/T/ipykernel_88349/2190940151.py:31: RuntimeWarning: Highpass cutoff frequency 16.0 is greater than lowpass cutoff frequency 0.7, setting values to 0 and Nyquist.\n",
      "/Library/Frameworks/Python.framework/Versions/3.13/lib/python3.13/site-packages/joblib/externals/loky/process_executor.py:752: UserWarning: A worker stopped while some jobs were given to the executor. This can be caused by a too short worker timeout or by a memory leak.\n",
      "  warnings.warn(\n",
      "/var/folders/fq/t46mbxyj54j1d9t60j44v_j80000gn/T/ipykernel_88349/2190940151.py:31: RuntimeWarning: Channels contain different highpass filters. Highest filter setting will be stored.\n",
      "/var/folders/fq/t46mbxyj54j1d9t60j44v_j80000gn/T/ipykernel_88349/2190940151.py:31: RuntimeWarning: Channels contain different lowpass filters. Lowest filter setting will be stored.\n",
      "/var/folders/fq/t46mbxyj54j1d9t60j44v_j80000gn/T/ipykernel_88349/2190940151.py:31: RuntimeWarning: Highpass cutoff frequency 16.0 is greater than lowpass cutoff frequency 0.7, setting values to 0 and Nyquist.\n"
     ]
    },
    {
     "name": "stdout",
     "output_type": "stream",
     "text": [
      "Used Annotations descriptions: [np.str_('Sleep stage 1'), np.str_('Sleep stage 2'), np.str_('Sleep stage 3'), np.str_('Sleep stage 4'), np.str_('Sleep stage R'), np.str_('Sleep stage W')]\n",
      "Used Annotations descriptions: [np.str_('Sleep stage 1'), np.str_('Sleep stage 2'), np.str_('Sleep stage 3'), np.str_('Sleep stage R'), np.str_('Sleep stage W')]\n",
      "Processed SC4452F0: epochs 2670, sequences 266, channels: ['EEG Fpz-Cz', 'EEG Pz-Oz', 'EOG horizontal', 'Resp oro-nasal', 'EMG submental', 'Temp rectal', 'Event marker']\n"
     ]
    },
    {
     "name": "stderr",
     "output_type": "stream",
     "text": [
      "/var/folders/fq/t46mbxyj54j1d9t60j44v_j80000gn/T/ipykernel_88349/2190940151.py:31: RuntimeWarning: Channels contain different highpass filters. Highest filter setting will be stored.\n",
      "/var/folders/fq/t46mbxyj54j1d9t60j44v_j80000gn/T/ipykernel_88349/2190940151.py:31: RuntimeWarning: Channels contain different lowpass filters. Lowest filter setting will be stored.\n",
      "/var/folders/fq/t46mbxyj54j1d9t60j44v_j80000gn/T/ipykernel_88349/2190940151.py:31: RuntimeWarning: Highpass cutoff frequency 16.0 is greater than lowpass cutoff frequency 0.7, setting values to 0 and Nyquist.\n"
     ]
    },
    {
     "name": "stdout",
     "output_type": "stream",
     "text": [
      "Used Annotations descriptions: [np.str_('Sleep stage 1'), np.str_('Sleep stage 2'), np.str_('Sleep stage 3'), np.str_('Sleep stage 4'), np.str_('Sleep stage R'), np.str_('Sleep stage W')]\n",
      "Processed SC4622E0: epochs 2856, sequences 284, channels: ['EEG Fpz-Cz', 'EEG Pz-Oz', 'EOG horizontal', 'Resp oro-nasal', 'EMG submental', 'Temp rectal', 'Event marker']\n"
     ]
    },
    {
     "name": "stderr",
     "output_type": "stream",
     "text": [
      "/var/folders/fq/t46mbxyj54j1d9t60j44v_j80000gn/T/ipykernel_88349/2190940151.py:31: RuntimeWarning: Channels contain different highpass filters. Highest filter setting will be stored.\n",
      "/var/folders/fq/t46mbxyj54j1d9t60j44v_j80000gn/T/ipykernel_88349/2190940151.py:31: RuntimeWarning: Channels contain different lowpass filters. Lowest filter setting will be stored.\n",
      "/var/folders/fq/t46mbxyj54j1d9t60j44v_j80000gn/T/ipykernel_88349/2190940151.py:31: RuntimeWarning: Highpass cutoff frequency 16.0 is greater than lowpass cutoff frequency 0.7, setting values to 0 and Nyquist.\n"
     ]
    },
    {
     "name": "stdout",
     "output_type": "stream",
     "text": [
      "Used Annotations descriptions: [np.str_('Sleep stage 1'), np.str_('Sleep stage 2'), np.str_('Sleep stage 3'), np.str_('Sleep stage 4'), np.str_('Sleep stage R'), np.str_('Sleep stage W')]\n",
      "Processed SC4592G0: epochs 2040, sequences 203, channels: ['EEG Fpz-Cz', 'EEG Pz-Oz', 'EOG horizontal', 'Resp oro-nasal', 'EMG submental', 'Temp rectal', 'Event marker']\n"
     ]
    },
    {
     "name": "stderr",
     "output_type": "stream",
     "text": [
      "/var/folders/fq/t46mbxyj54j1d9t60j44v_j80000gn/T/ipykernel_88349/2190940151.py:31: RuntimeWarning: Channels contain different highpass filters. Highest filter setting will be stored.\n",
      "/var/folders/fq/t46mbxyj54j1d9t60j44v_j80000gn/T/ipykernel_88349/2190940151.py:31: RuntimeWarning: Channels contain different lowpass filters. Lowest filter setting will be stored.\n",
      "/var/folders/fq/t46mbxyj54j1d9t60j44v_j80000gn/T/ipykernel_88349/2190940151.py:31: RuntimeWarning: Highpass cutoff frequency 16.0 is greater than lowpass cutoff frequency 0.7, setting values to 0 and Nyquist.\n"
     ]
    },
    {
     "name": "stdout",
     "output_type": "stream",
     "text": [
      "Used Annotations descriptions: [np.str_('Sleep stage 1'), np.str_('Sleep stage 2'), np.str_('Sleep stage 3'), np.str_('Sleep stage 4'), np.str_('Sleep stage R'), np.str_('Sleep stage W')]\n",
      "Processed SC4002E0: epochs 2829, sequences 281, channels: ['EEG Fpz-Cz', 'EEG Pz-Oz', 'EOG horizontal', 'Resp oro-nasal', 'EMG submental', 'Temp rectal', 'Event marker']\n"
     ]
    },
    {
     "name": "stderr",
     "output_type": "stream",
     "text": [
      "/var/folders/fq/t46mbxyj54j1d9t60j44v_j80000gn/T/ipykernel_88349/2190940151.py:31: RuntimeWarning: Channels contain different highpass filters. Highest filter setting will be stored.\n",
      "/var/folders/fq/t46mbxyj54j1d9t60j44v_j80000gn/T/ipykernel_88349/2190940151.py:31: RuntimeWarning: Channels contain different lowpass filters. Lowest filter setting will be stored.\n",
      "/var/folders/fq/t46mbxyj54j1d9t60j44v_j80000gn/T/ipykernel_88349/2190940151.py:31: RuntimeWarning: Highpass cutoff frequency 16.0 is greater than lowpass cutoff frequency 0.7, setting values to 0 and Nyquist.\n"
     ]
    },
    {
     "name": "stdout",
     "output_type": "stream",
     "text": [
      "Used Annotations descriptions: [np.str_('Sleep stage 1'), np.str_('Sleep stage 2'), np.str_('Sleep stage 3'), np.str_('Sleep stage 4'), np.str_('Sleep stage R'), np.str_('Sleep stage W')]\n",
      "Processed SC4112E0: epochs 2780, sequences 277, channels: ['EEG Fpz-Cz', 'EEG Pz-Oz', 'EOG horizontal', 'Resp oro-nasal', 'EMG submental', 'Temp rectal', 'Event marker']\n"
     ]
    },
    {
     "name": "stderr",
     "output_type": "stream",
     "text": [
      "/var/folders/fq/t46mbxyj54j1d9t60j44v_j80000gn/T/ipykernel_88349/2190940151.py:31: RuntimeWarning: Channels contain different highpass filters. Highest filter setting will be stored.\n",
      "/var/folders/fq/t46mbxyj54j1d9t60j44v_j80000gn/T/ipykernel_88349/2190940151.py:31: RuntimeWarning: Channels contain different lowpass filters. Lowest filter setting will be stored.\n",
      "/var/folders/fq/t46mbxyj54j1d9t60j44v_j80000gn/T/ipykernel_88349/2190940151.py:31: RuntimeWarning: Highpass cutoff frequency 16.0 is greater than lowpass cutoff frequency 0.7, setting values to 0 and Nyquist.\n"
     ]
    },
    {
     "name": "stdout",
     "output_type": "stream",
     "text": [
      "Used Annotations descriptions: [np.str_('Sleep stage 1'), np.str_('Sleep stage 2'), np.str_('Sleep stage R'), np.str_('Sleep stage W')]\n",
      "Error processing /Users/kimberly/Documents/STAT4830/STAT-4830-GOALZ-project/data/sleep-edf-database-expanded-1.0.0/sleep-cassette/SC4732E0-PSG.edf: No matching events found for Sleep stage 3 (event id 3)\n"
     ]
    },
    {
     "name": "stderr",
     "output_type": "stream",
     "text": [
      "/var/folders/fq/t46mbxyj54j1d9t60j44v_j80000gn/T/ipykernel_88349/2190940151.py:31: RuntimeWarning: Channels contain different highpass filters. Highest filter setting will be stored.\n",
      "/var/folders/fq/t46mbxyj54j1d9t60j44v_j80000gn/T/ipykernel_88349/2190940151.py:31: RuntimeWarning: Channels contain different lowpass filters. Lowest filter setting will be stored.\n",
      "/var/folders/fq/t46mbxyj54j1d9t60j44v_j80000gn/T/ipykernel_88349/2190940151.py:31: RuntimeWarning: Highpass cutoff frequency 16.0 is greater than lowpass cutoff frequency 0.7, setting values to 0 and Nyquist.\n"
     ]
    },
    {
     "name": "stdout",
     "output_type": "stream",
     "text": [
      "Used Annotations descriptions: [np.str_('Sleep stage 1'), np.str_('Sleep stage 2'), np.str_('Sleep stage 3'), np.str_('Sleep stage 4'), np.str_('Sleep stage R'), np.str_('Sleep stage W')]\n",
      "Processed SC4482F0: epochs 2880, sequences 287, channels: ['EEG Fpz-Cz', 'EEG Pz-Oz', 'EOG horizontal', 'Resp oro-nasal', 'EMG submental', 'Temp rectal', 'Event marker']\n"
     ]
    },
    {
     "name": "stderr",
     "output_type": "stream",
     "text": [
      "/var/folders/fq/t46mbxyj54j1d9t60j44v_j80000gn/T/ipykernel_88349/2190940151.py:31: RuntimeWarning: Channels contain different highpass filters. Highest filter setting will be stored.\n",
      "/var/folders/fq/t46mbxyj54j1d9t60j44v_j80000gn/T/ipykernel_88349/2190940151.py:31: RuntimeWarning: Channels contain different lowpass filters. Lowest filter setting will be stored.\n",
      "/var/folders/fq/t46mbxyj54j1d9t60j44v_j80000gn/T/ipykernel_88349/2190940151.py:31: RuntimeWarning: Highpass cutoff frequency 16.0 is greater than lowpass cutoff frequency 0.7, setting values to 0 and Nyquist.\n"
     ]
    },
    {
     "name": "stdout",
     "output_type": "stream",
     "text": [
      "Used Annotations descriptions: [np.str_('Sleep stage 1'), np.str_('Sleep stage 2'), np.str_('Sleep stage 3'), np.str_('Sleep stage R'), np.str_('Sleep stage W')]\n",
      "Processed SC4442E0: epochs 2778, sequences 276, channels: ['EEG Fpz-Cz', 'EEG Pz-Oz', 'EOG horizontal', 'Resp oro-nasal', 'EMG submental', 'Temp rectal', 'Event marker']\n"
     ]
    },
    {
     "name": "stderr",
     "output_type": "stream",
     "text": [
      "/var/folders/fq/t46mbxyj54j1d9t60j44v_j80000gn/T/ipykernel_88349/2190940151.py:31: RuntimeWarning: Channels contain different highpass filters. Highest filter setting will be stored.\n",
      "/var/folders/fq/t46mbxyj54j1d9t60j44v_j80000gn/T/ipykernel_88349/2190940151.py:31: RuntimeWarning: Channels contain different lowpass filters. Lowest filter setting will be stored.\n",
      "/var/folders/fq/t46mbxyj54j1d9t60j44v_j80000gn/T/ipykernel_88349/2190940151.py:31: RuntimeWarning: Highpass cutoff frequency 16.0 is greater than lowpass cutoff frequency 0.7, setting values to 0 and Nyquist.\n"
     ]
    },
    {
     "name": "stdout",
     "output_type": "stream",
     "text": [
      "Used Annotations descriptions: [np.str_('Sleep stage 1'), np.str_('Sleep stage 2'), np.str_('Sleep stage 3'), np.str_('Sleep stage 4'), np.str_('Sleep stage R'), np.str_('Sleep stage W')]\n",
      "Processed SC4802G0: epochs 2810, sequences 280, channels: ['EEG Fpz-Cz', 'EEG Pz-Oz', 'EOG horizontal', 'Resp oro-nasal', 'EMG submental', 'Temp rectal', 'Event marker']\n"
     ]
    },
    {
     "name": "stderr",
     "output_type": "stream",
     "text": [
      "/var/folders/fq/t46mbxyj54j1d9t60j44v_j80000gn/T/ipykernel_88349/2190940151.py:31: RuntimeWarning: Channels contain different highpass filters. Highest filter setting will be stored.\n",
      "/var/folders/fq/t46mbxyj54j1d9t60j44v_j80000gn/T/ipykernel_88349/2190940151.py:31: RuntimeWarning: Channels contain different lowpass filters. Lowest filter setting will be stored.\n",
      "/var/folders/fq/t46mbxyj54j1d9t60j44v_j80000gn/T/ipykernel_88349/2190940151.py:31: RuntimeWarning: Highpass cutoff frequency 16.0 is greater than lowpass cutoff frequency 0.7, setting values to 0 and Nyquist.\n"
     ]
    },
    {
     "name": "stdout",
     "output_type": "stream",
     "text": [
      "Used Annotations descriptions: [np.str_('Sleep stage 1'), np.str_('Sleep stage 2'), np.str_('Sleep stage R'), np.str_('Sleep stage W')]\n",
      "Error processing /Users/kimberly/Documents/STAT4830/STAT-4830-GOALZ-project/data/sleep-edf-database-expanded-1.0.0/sleep-cassette/SC4641E0-PSG.edf: No matching events found for Sleep stage 3 (event id 3)\n"
     ]
    },
    {
     "name": "stderr",
     "output_type": "stream",
     "text": [
      "/var/folders/fq/t46mbxyj54j1d9t60j44v_j80000gn/T/ipykernel_88349/2190940151.py:31: RuntimeWarning: Channels contain different highpass filters. Highest filter setting will be stored.\n",
      "/var/folders/fq/t46mbxyj54j1d9t60j44v_j80000gn/T/ipykernel_88349/2190940151.py:31: RuntimeWarning: Channels contain different lowpass filters. Lowest filter setting will be stored.\n",
      "/var/folders/fq/t46mbxyj54j1d9t60j44v_j80000gn/T/ipykernel_88349/2190940151.py:31: RuntimeWarning: Highpass cutoff frequency 16.0 is greater than lowpass cutoff frequency 0.7, setting values to 0 and Nyquist.\n"
     ]
    },
    {
     "name": "stdout",
     "output_type": "stream",
     "text": [
      "Used Annotations descriptions: [np.str_('Sleep stage 1'), np.str_('Sleep stage 2'), np.str_('Sleep stage 3'), np.str_('Sleep stage 4'), np.str_('Sleep stage R'), np.str_('Sleep stage W')]\n",
      "Processed SC4542F0: epochs 2680, sequences 267, channels: ['EEG Fpz-Cz', 'EEG Pz-Oz', 'EOG horizontal', 'Resp oro-nasal', 'EMG submental', 'Temp rectal', 'Event marker']\n"
     ]
    },
    {
     "name": "stderr",
     "output_type": "stream",
     "text": [
      "/var/folders/fq/t46mbxyj54j1d9t60j44v_j80000gn/T/ipykernel_88349/2190940151.py:31: RuntimeWarning: Channels contain different highpass filters. Highest filter setting will be stored.\n",
      "/var/folders/fq/t46mbxyj54j1d9t60j44v_j80000gn/T/ipykernel_88349/2190940151.py:31: RuntimeWarning: Channels contain different lowpass filters. Lowest filter setting will be stored.\n",
      "/var/folders/fq/t46mbxyj54j1d9t60j44v_j80000gn/T/ipykernel_88349/2190940151.py:31: RuntimeWarning: Highpass cutoff frequency 16.0 is greater than lowpass cutoff frequency 0.7, setting values to 0 and Nyquist.\n"
     ]
    },
    {
     "name": "stdout",
     "output_type": "stream",
     "text": [
      "Used Annotations descriptions: [np.str_('Sleep stage 1'), np.str_('Sleep stage 2'), np.str_('Sleep stage 3'), np.str_('Sleep stage R'), np.str_('Sleep stage W')]\n",
      "Processed SC4531E0: epochs 2602, sequences 259, channels: ['EEG Fpz-Cz', 'EEG Pz-Oz', 'EOG horizontal', 'Resp oro-nasal', 'EMG submental', 'Temp rectal', 'Event marker']\n"
     ]
    },
    {
     "name": "stderr",
     "output_type": "stream",
     "text": [
      "/var/folders/fq/t46mbxyj54j1d9t60j44v_j80000gn/T/ipykernel_88349/2190940151.py:31: RuntimeWarning: Channels contain different highpass filters. Highest filter setting will be stored.\n",
      "/var/folders/fq/t46mbxyj54j1d9t60j44v_j80000gn/T/ipykernel_88349/2190940151.py:31: RuntimeWarning: Channels contain different lowpass filters. Lowest filter setting will be stored.\n",
      "/var/folders/fq/t46mbxyj54j1d9t60j44v_j80000gn/T/ipykernel_88349/2190940151.py:31: RuntimeWarning: Highpass cutoff frequency 16.0 is greater than lowpass cutoff frequency 0.7, setting values to 0 and Nyquist.\n"
     ]
    },
    {
     "name": "stdout",
     "output_type": "stream",
     "text": [
      "Used Annotations descriptions: [np.str_('Sleep stage 1'), np.str_('Sleep stage 2'), np.str_('Sleep stage 3'), np.str_('Sleep stage 4'), np.str_('Sleep stage R'), np.str_('Sleep stage W')]\n",
      "Processed SC4362F0: epochs 2266, sequences 225, channels: ['EEG Fpz-Cz', 'EEG Pz-Oz', 'EOG horizontal', 'Resp oro-nasal', 'EMG submental', 'Temp rectal', 'Event marker']\n"
     ]
    },
    {
     "name": "stderr",
     "output_type": "stream",
     "text": [
      "/var/folders/fq/t46mbxyj54j1d9t60j44v_j80000gn/T/ipykernel_88349/2190940151.py:31: RuntimeWarning: Channels contain different highpass filters. Highest filter setting will be stored.\n",
      "/var/folders/fq/t46mbxyj54j1d9t60j44v_j80000gn/T/ipykernel_88349/2190940151.py:31: RuntimeWarning: Channels contain different lowpass filters. Lowest filter setting will be stored.\n",
      "/var/folders/fq/t46mbxyj54j1d9t60j44v_j80000gn/T/ipykernel_88349/2190940151.py:31: RuntimeWarning: Highpass cutoff frequency 16.0 is greater than lowpass cutoff frequency 0.7, setting values to 0 and Nyquist.\n"
     ]
    },
    {
     "name": "stdout",
     "output_type": "stream",
     "text": [
      "Used Annotations descriptions: [np.str_('Sleep stage 1'), np.str_('Sleep stage 2'), np.str_('Sleep stage 3'), np.str_('Sleep stage 4'), np.str_('Sleep stage R'), np.str_('Sleep stage W')]\n",
      "Processed SC4061E0: epochs 2770, sequences 276, channels: ['EEG Fpz-Cz', 'EEG Pz-Oz', 'EOG horizontal', 'Resp oro-nasal', 'EMG submental', 'Temp rectal', 'Event marker']\n"
     ]
    },
    {
     "name": "stderr",
     "output_type": "stream",
     "text": [
      "/var/folders/fq/t46mbxyj54j1d9t60j44v_j80000gn/T/ipykernel_88349/2190940151.py:31: RuntimeWarning: Channels contain different highpass filters. Highest filter setting will be stored.\n",
      "/var/folders/fq/t46mbxyj54j1d9t60j44v_j80000gn/T/ipykernel_88349/2190940151.py:31: RuntimeWarning: Channels contain different lowpass filters. Lowest filter setting will be stored.\n",
      "/var/folders/fq/t46mbxyj54j1d9t60j44v_j80000gn/T/ipykernel_88349/2190940151.py:31: RuntimeWarning: Highpass cutoff frequency 16.0 is greater than lowpass cutoff frequency 0.7, setting values to 0 and Nyquist.\n"
     ]
    },
    {
     "name": "stdout",
     "output_type": "stream",
     "text": [
      "Used Annotations descriptions: [np.str_('Sleep stage 1'), np.str_('Sleep stage 2'), np.str_('Sleep stage 3'), np.str_('Sleep stage R'), np.str_('Sleep stage W')]\n",
      "Processed SC4311E0: epochs 2670, sequences 266, channels: ['EEG Fpz-Cz', 'EEG Pz-Oz', 'EOG horizontal', 'Resp oro-nasal', 'EMG submental', 'Temp rectal', 'Event marker']\n"
     ]
    },
    {
     "name": "stderr",
     "output_type": "stream",
     "text": [
      "/var/folders/fq/t46mbxyj54j1d9t60j44v_j80000gn/T/ipykernel_88349/2190940151.py:31: RuntimeWarning: Channels contain different highpass filters. Highest filter setting will be stored.\n",
      "/var/folders/fq/t46mbxyj54j1d9t60j44v_j80000gn/T/ipykernel_88349/2190940151.py:31: RuntimeWarning: Channels contain different lowpass filters. Lowest filter setting will be stored.\n",
      "/var/folders/fq/t46mbxyj54j1d9t60j44v_j80000gn/T/ipykernel_88349/2190940151.py:31: RuntimeWarning: Highpass cutoff frequency 16.0 is greater than lowpass cutoff frequency 0.7, setting values to 0 and Nyquist.\n"
     ]
    },
    {
     "name": "stdout",
     "output_type": "stream",
     "text": [
      "Used Annotations descriptions: [np.str_('Sleep stage 1'), np.str_('Sleep stage 2'), np.str_('Sleep stage 3'), np.str_('Sleep stage 4'), np.str_('Sleep stage R'), np.str_('Sleep stage W')]\n",
      "Processed SC4232E0: epochs 2635, sequences 262, channels: ['EEG Fpz-Cz', 'EEG Pz-Oz', 'EOG horizontal', 'Resp oro-nasal', 'EMG submental', 'Temp rectal', 'Event marker']\n"
     ]
    },
    {
     "name": "stderr",
     "output_type": "stream",
     "text": [
      "/var/folders/fq/t46mbxyj54j1d9t60j44v_j80000gn/T/ipykernel_88349/2190940151.py:31: RuntimeWarning: Channels contain different highpass filters. Highest filter setting will be stored.\n",
      "/var/folders/fq/t46mbxyj54j1d9t60j44v_j80000gn/T/ipykernel_88349/2190940151.py:31: RuntimeWarning: Channels contain different lowpass filters. Lowest filter setting will be stored.\n",
      "/var/folders/fq/t46mbxyj54j1d9t60j44v_j80000gn/T/ipykernel_88349/2190940151.py:31: RuntimeWarning: Highpass cutoff frequency 16.0 is greater than lowpass cutoff frequency 0.7, setting values to 0 and Nyquist.\n"
     ]
    },
    {
     "name": "stdout",
     "output_type": "stream",
     "text": [
      "Used Annotations descriptions: [np.str_('Sleep stage 1'), np.str_('Sleep stage 2'), np.str_('Sleep stage 3'), np.str_('Sleep stage R'), np.str_('Sleep stage W')]\n",
      "Processed SC4142E0: epochs 2774, sequences 276, channels: ['EEG Fpz-Cz', 'EEG Pz-Oz', 'EOG horizontal', 'Resp oro-nasal', 'EMG submental', 'Temp rectal', 'Event marker']\n"
     ]
    },
    {
     "name": "stderr",
     "output_type": "stream",
     "text": [
      "/var/folders/fq/t46mbxyj54j1d9t60j44v_j80000gn/T/ipykernel_88349/2190940151.py:31: RuntimeWarning: Channels contain different highpass filters. Highest filter setting will be stored.\n",
      "/var/folders/fq/t46mbxyj54j1d9t60j44v_j80000gn/T/ipykernel_88349/2190940151.py:31: RuntimeWarning: Channels contain different lowpass filters. Lowest filter setting will be stored.\n",
      "/var/folders/fq/t46mbxyj54j1d9t60j44v_j80000gn/T/ipykernel_88349/2190940151.py:31: RuntimeWarning: Highpass cutoff frequency 16.0 is greater than lowpass cutoff frequency 0.7, setting values to 0 and Nyquist.\n"
     ]
    },
    {
     "name": "stdout",
     "output_type": "stream",
     "text": [
      "Used Annotations descriptions: [np.str_('Sleep stage 1'), np.str_('Sleep stage 2'), np.str_('Sleep stage 3'), np.str_('Sleep stage 4'), np.str_('Sleep stage R'), np.str_('Sleep stage W')]\n",
      "Processed SC4461F0: epochs 2695, sequences 268, channels: ['EEG Fpz-Cz', 'EEG Pz-Oz', 'EOG horizontal', 'Resp oro-nasal', 'EMG submental', 'Temp rectal', 'Event marker']\n"
     ]
    },
    {
     "name": "stderr",
     "output_type": "stream",
     "text": [
      "/var/folders/fq/t46mbxyj54j1d9t60j44v_j80000gn/T/ipykernel_88349/2190940151.py:31: RuntimeWarning: Channels contain different highpass filters. Highest filter setting will be stored.\n",
      "/var/folders/fq/t46mbxyj54j1d9t60j44v_j80000gn/T/ipykernel_88349/2190940151.py:31: RuntimeWarning: Channels contain different lowpass filters. Lowest filter setting will be stored.\n",
      "/var/folders/fq/t46mbxyj54j1d9t60j44v_j80000gn/T/ipykernel_88349/2190940151.py:31: RuntimeWarning: Highpass cutoff frequency 16.0 is greater than lowpass cutoff frequency 0.7, setting values to 0 and Nyquist.\n"
     ]
    },
    {
     "name": "stdout",
     "output_type": "stream",
     "text": [
      "Used Annotations descriptions: [np.str_('Sleep stage 1'), np.str_('Sleep stage 2'), np.str_('Sleep stage R'), np.str_('Sleep stage W')]\n",
      "Error processing /Users/kimberly/Documents/STAT4830/STAT-4830-GOALZ-project/data/sleep-edf-database-expanded-1.0.0/sleep-cassette/SC4762E0-PSG.edf: No matching events found for Sleep stage 3 (event id 3)\n"
     ]
    },
    {
     "name": "stderr",
     "output_type": "stream",
     "text": [
      "/var/folders/fq/t46mbxyj54j1d9t60j44v_j80000gn/T/ipykernel_88349/2190940151.py:31: RuntimeWarning: Channels contain different highpass filters. Highest filter setting will be stored.\n",
      "/var/folders/fq/t46mbxyj54j1d9t60j44v_j80000gn/T/ipykernel_88349/2190940151.py:31: RuntimeWarning: Channels contain different lowpass filters. Lowest filter setting will be stored.\n",
      "/var/folders/fq/t46mbxyj54j1d9t60j44v_j80000gn/T/ipykernel_88349/2190940151.py:31: RuntimeWarning: Highpass cutoff frequency 16.0 is greater than lowpass cutoff frequency 0.7, setting values to 0 and Nyquist.\n"
     ]
    },
    {
     "name": "stdout",
     "output_type": "stream",
     "text": [
      "Used Annotations descriptions: [np.str_('Sleep stage 1'), np.str_('Sleep stage 2'), np.str_('Sleep stage 3'), np.str_('Sleep stage 4'), np.str_('Sleep stage R'), np.str_('Sleep stage W')]\n",
      "Processed SC4412E0: epochs 2765, sequences 275, channels: ['EEG Fpz-Cz', 'EEG Pz-Oz', 'EOG horizontal', 'Resp oro-nasal', 'EMG submental', 'Temp rectal', 'Event marker']\n"
     ]
    },
    {
     "name": "stderr",
     "output_type": "stream",
     "text": [
      "/var/folders/fq/t46mbxyj54j1d9t60j44v_j80000gn/T/ipykernel_88349/2190940151.py:31: RuntimeWarning: Channels contain different highpass filters. Highest filter setting will be stored.\n",
      "/var/folders/fq/t46mbxyj54j1d9t60j44v_j80000gn/T/ipykernel_88349/2190940151.py:31: RuntimeWarning: Channels contain different lowpass filters. Lowest filter setting will be stored.\n",
      "/var/folders/fq/t46mbxyj54j1d9t60j44v_j80000gn/T/ipykernel_88349/2190940151.py:31: RuntimeWarning: Highpass cutoff frequency 16.0 is greater than lowpass cutoff frequency 0.7, setting values to 0 and Nyquist.\n"
     ]
    },
    {
     "name": "stdout",
     "output_type": "stream",
     "text": [
      "Used Annotations descriptions: [np.str_('Sleep stage 1'), np.str_('Sleep stage 2'), np.str_('Sleep stage 3'), np.str_('Sleep stage 4'), np.str_('Sleep stage R'), np.str_('Sleep stage W')]\n",
      "Processed SC4082E0: epochs 2634, sequences 262, channels: ['EEG Fpz-Cz', 'EEG Pz-Oz', 'EOG horizontal', 'Resp oro-nasal', 'EMG submental', 'Temp rectal', 'Event marker']\n"
     ]
    },
    {
     "name": "stderr",
     "output_type": "stream",
     "text": [
      "/var/folders/fq/t46mbxyj54j1d9t60j44v_j80000gn/T/ipykernel_88349/2190940151.py:31: RuntimeWarning: Channels contain different highpass filters. Highest filter setting will be stored.\n",
      "/var/folders/fq/t46mbxyj54j1d9t60j44v_j80000gn/T/ipykernel_88349/2190940151.py:31: RuntimeWarning: Channels contain different lowpass filters. Lowest filter setting will be stored.\n",
      "/var/folders/fq/t46mbxyj54j1d9t60j44v_j80000gn/T/ipykernel_88349/2190940151.py:31: RuntimeWarning: Highpass cutoff frequency 16.0 is greater than lowpass cutoff frequency 0.7, setting values to 0 and Nyquist.\n"
     ]
    },
    {
     "name": "stdout",
     "output_type": "stream",
     "text": [
      "Used Annotations descriptions: [np.str_('Sleep stage 1'), np.str_('Sleep stage 2'), np.str_('Sleep stage 3'), np.str_('Sleep stage R'), np.str_('Sleep stage W')]\n",
      "Processed SC4611E0: epochs 2644, sequences 263, channels: ['EEG Fpz-Cz', 'EEG Pz-Oz', 'EOG horizontal', 'Resp oro-nasal', 'EMG submental', 'Temp rectal', 'Event marker']\n"
     ]
    },
    {
     "name": "stderr",
     "output_type": "stream",
     "text": [
      "/var/folders/fq/t46mbxyj54j1d9t60j44v_j80000gn/T/ipykernel_88349/2190940151.py:31: RuntimeWarning: Channels contain different highpass filters. Highest filter setting will be stored.\n",
      "/var/folders/fq/t46mbxyj54j1d9t60j44v_j80000gn/T/ipykernel_88349/2190940151.py:31: RuntimeWarning: Channels contain different lowpass filters. Lowest filter setting will be stored.\n",
      "/var/folders/fq/t46mbxyj54j1d9t60j44v_j80000gn/T/ipykernel_88349/2190940151.py:31: RuntimeWarning: Highpass cutoff frequency 16.0 is greater than lowpass cutoff frequency 0.7, setting values to 0 and Nyquist.\n"
     ]
    },
    {
     "name": "stdout",
     "output_type": "stream",
     "text": [
      "Used Annotations descriptions: [np.str_('Sleep stage 1'), np.str_('Sleep stage 2'), np.str_('Sleep stage 3'), np.str_('Sleep stage 4'), np.str_('Sleep stage R'), np.str_('Sleep stage W')]\n",
      "Processed SC4381F0: epochs 2750, sequences 274, channels: ['EEG Fpz-Cz', 'EEG Pz-Oz', 'EOG horizontal', 'Resp oro-nasal', 'EMG submental', 'Temp rectal', 'Event marker']\n"
     ]
    },
    {
     "name": "stderr",
     "output_type": "stream",
     "text": [
      "/var/folders/fq/t46mbxyj54j1d9t60j44v_j80000gn/T/ipykernel_88349/2190940151.py:31: RuntimeWarning: Channels contain different highpass filters. Highest filter setting will be stored.\n",
      "/var/folders/fq/t46mbxyj54j1d9t60j44v_j80000gn/T/ipykernel_88349/2190940151.py:31: RuntimeWarning: Channels contain different lowpass filters. Lowest filter setting will be stored.\n",
      "/var/folders/fq/t46mbxyj54j1d9t60j44v_j80000gn/T/ipykernel_88349/2190940151.py:31: RuntimeWarning: Highpass cutoff frequency 16.0 is greater than lowpass cutoff frequency 0.7, setting values to 0 and Nyquist.\n"
     ]
    },
    {
     "name": "stdout",
     "output_type": "stream",
     "text": [
      "Used Annotations descriptions: [np.str_('Sleep stage 1'), np.str_('Sleep stage 2'), np.str_('Sleep stage R'), np.str_('Sleep stage W')]\n",
      "Error processing /Users/kimberly/Documents/STAT4830/STAT-4830-GOALZ-project/data/sleep-edf-database-expanded-1.0.0/sleep-cassette/SC4332F0-PSG.edf: No matching events found for Sleep stage 3 (event id 3)\n"
     ]
    },
    {
     "name": "stderr",
     "output_type": "stream",
     "text": [
      "/var/folders/fq/t46mbxyj54j1d9t60j44v_j80000gn/T/ipykernel_88349/2190940151.py:31: RuntimeWarning: Channels contain different highpass filters. Highest filter setting will be stored.\n",
      "/var/folders/fq/t46mbxyj54j1d9t60j44v_j80000gn/T/ipykernel_88349/2190940151.py:31: RuntimeWarning: Channels contain different lowpass filters. Lowest filter setting will be stored.\n",
      "/var/folders/fq/t46mbxyj54j1d9t60j44v_j80000gn/T/ipykernel_88349/2190940151.py:31: RuntimeWarning: Highpass cutoff frequency 16.0 is greater than lowpass cutoff frequency 0.7, setting values to 0 and Nyquist.\n"
     ]
    },
    {
     "name": "stdout",
     "output_type": "stream",
     "text": [
      "Used Annotations descriptions: [np.str_('Sleep stage 1'), np.str_('Sleep stage 2'), np.str_('Sleep stage 3'), np.str_('Sleep stage 4'), np.str_('Sleep stage R'), np.str_('Sleep stage W')]\n",
      "Processed SC4031E0: epochs 2820, sequences 281, channels: ['EEG Fpz-Cz', 'EEG Pz-Oz', 'EOG horizontal', 'Resp oro-nasal', 'EMG submental', 'Temp rectal', 'Event marker']\n"
     ]
    },
    {
     "name": "stderr",
     "output_type": "stream",
     "text": [
      "/var/folders/fq/t46mbxyj54j1d9t60j44v_j80000gn/T/ipykernel_88349/2190940151.py:31: RuntimeWarning: Channels contain different highpass filters. Highest filter setting will be stored.\n",
      "/var/folders/fq/t46mbxyj54j1d9t60j44v_j80000gn/T/ipykernel_88349/2190940151.py:31: RuntimeWarning: Channels contain different lowpass filters. Lowest filter setting will be stored.\n",
      "/var/folders/fq/t46mbxyj54j1d9t60j44v_j80000gn/T/ipykernel_88349/2190940151.py:31: RuntimeWarning: Highpass cutoff frequency 16.0 is greater than lowpass cutoff frequency 0.7, setting values to 0 and Nyquist.\n"
     ]
    },
    {
     "name": "stdout",
     "output_type": "stream",
     "text": [
      "Used Annotations descriptions: [np.str_('Sleep stage 1'), np.str_('Sleep stage 2'), np.str_('Sleep stage 3'), np.str_('Sleep stage R'), np.str_('Sleep stage W')]\n",
      "Processed SC4121E0: epochs 2685, sequences 267, channels: ['EEG Fpz-Cz', 'EEG Pz-Oz', 'EOG horizontal', 'Resp oro-nasal', 'EMG submental', 'Temp rectal', 'Event marker']\n"
     ]
    },
    {
     "name": "stderr",
     "output_type": "stream",
     "text": [
      "/var/folders/fq/t46mbxyj54j1d9t60j44v_j80000gn/T/ipykernel_88349/2190940151.py:31: RuntimeWarning: Channels contain different highpass filters. Highest filter setting will be stored.\n",
      "/var/folders/fq/t46mbxyj54j1d9t60j44v_j80000gn/T/ipykernel_88349/2190940151.py:31: RuntimeWarning: Channels contain different lowpass filters. Lowest filter setting will be stored.\n",
      "/var/folders/fq/t46mbxyj54j1d9t60j44v_j80000gn/T/ipykernel_88349/2190940151.py:31: RuntimeWarning: Highpass cutoff frequency 16.0 is greater than lowpass cutoff frequency 0.7, setting values to 0 and Nyquist.\n"
     ]
    },
    {
     "name": "stdout",
     "output_type": "stream",
     "text": [
      "Used Annotations descriptions: [np.str_('Sleep stage 1'), np.str_('Sleep stage 2'), np.str_('Sleep stage 3'), np.str_('Sleep stage 4'), np.str_('Sleep stage R'), np.str_('Sleep stage W')]\n",
      "Processed SC4251E0: epochs 2760, sequences 275, channels: ['EEG Fpz-Cz', 'EEG Pz-Oz', 'EOG horizontal', 'Resp oro-nasal', 'EMG submental', 'Temp rectal', 'Event marker']\n"
     ]
    },
    {
     "name": "stderr",
     "output_type": "stream",
     "text": [
      "/var/folders/fq/t46mbxyj54j1d9t60j44v_j80000gn/T/ipykernel_88349/2190940151.py:31: RuntimeWarning: Channels contain different highpass filters. Highest filter setting will be stored.\n",
      "/var/folders/fq/t46mbxyj54j1d9t60j44v_j80000gn/T/ipykernel_88349/2190940151.py:31: RuntimeWarning: Channels contain different lowpass filters. Lowest filter setting will be stored.\n",
      "/var/folders/fq/t46mbxyj54j1d9t60j44v_j80000gn/T/ipykernel_88349/2190940151.py:31: RuntimeWarning: Highpass cutoff frequency 16.0 is greater than lowpass cutoff frequency 0.7, setting values to 0 and Nyquist.\n"
     ]
    },
    {
     "name": "stdout",
     "output_type": "stream",
     "text": [
      "Used Annotations descriptions: [np.str_('Sleep stage 1'), np.str_('Sleep stage 2'), np.str_('Sleep stage 3'), np.str_('Sleep stage 4'), np.str_('Sleep stage R'), np.str_('Sleep stage W')]\n",
      "Processed SC4772G0: epochs 2242, sequences 223, channels: ['EEG Fpz-Cz', 'EEG Pz-Oz', 'EOG horizontal', 'Resp oro-nasal', 'EMG submental', 'Temp rectal', 'Event marker']\n"
     ]
    },
    {
     "name": "stderr",
     "output_type": "stream",
     "text": [
      "/var/folders/fq/t46mbxyj54j1d9t60j44v_j80000gn/T/ipykernel_88349/2190940151.py:31: RuntimeWarning: Channels contain different highpass filters. Highest filter setting will be stored.\n",
      "/var/folders/fq/t46mbxyj54j1d9t60j44v_j80000gn/T/ipykernel_88349/2190940151.py:31: RuntimeWarning: Channels contain different lowpass filters. Lowest filter setting will be stored.\n",
      "/var/folders/fq/t46mbxyj54j1d9t60j44v_j80000gn/T/ipykernel_88349/2190940151.py:31: RuntimeWarning: Highpass cutoff frequency 16.0 is greater than lowpass cutoff frequency 0.7, setting values to 0 and Nyquist.\n"
     ]
    },
    {
     "name": "stdout",
     "output_type": "stream",
     "text": [
      "Used Annotations descriptions: [np.str_('Sleep stage 1'), np.str_('Sleep stage 2'), np.str_('Sleep stage 3'), np.str_('Sleep stage R'), np.str_('Sleep stage W')]\n",
      "Processed SC4291G0: epochs 2756, sequences 274, channels: ['EEG Fpz-Cz', 'EEG Pz-Oz', 'EOG horizontal', 'Resp oro-nasal', 'EMG submental', 'Temp rectal', 'Event marker']\n"
     ]
    },
    {
     "name": "stderr",
     "output_type": "stream",
     "text": [
      "/var/folders/fq/t46mbxyj54j1d9t60j44v_j80000gn/T/ipykernel_88349/2190940151.py:31: RuntimeWarning: Channels contain different highpass filters. Highest filter setting will be stored.\n",
      "/var/folders/fq/t46mbxyj54j1d9t60j44v_j80000gn/T/ipykernel_88349/2190940151.py:31: RuntimeWarning: Channels contain different lowpass filters. Lowest filter setting will be stored.\n",
      "/var/folders/fq/t46mbxyj54j1d9t60j44v_j80000gn/T/ipykernel_88349/2190940151.py:31: RuntimeWarning: Highpass cutoff frequency 16.0 is greater than lowpass cutoff frequency 0.7, setting values to 0 and Nyquist.\n"
     ]
    },
    {
     "name": "stdout",
     "output_type": "stream",
     "text": [
      "Used Annotations descriptions: [np.str_('Sleep stage 1'), np.str_('Sleep stage 2'), np.str_('Sleep stage 3'), np.str_('Sleep stage 4'), np.str_('Sleep stage R'), np.str_('Sleep stage W')]\n",
      "Processed SC4701E0: epochs 2679, sequences 266, channels: ['EEG Fpz-Cz', 'EEG Pz-Oz', 'EOG horizontal', 'Resp oro-nasal', 'EMG submental', 'Temp rectal', 'Event marker']\n"
     ]
    },
    {
     "name": "stderr",
     "output_type": "stream",
     "text": [
      "/var/folders/fq/t46mbxyj54j1d9t60j44v_j80000gn/T/ipykernel_88349/2190940151.py:31: RuntimeWarning: Channels contain different highpass filters. Highest filter setting will be stored.\n",
      "/var/folders/fq/t46mbxyj54j1d9t60j44v_j80000gn/T/ipykernel_88349/2190940151.py:31: RuntimeWarning: Channels contain different lowpass filters. Lowest filter setting will be stored.\n",
      "/var/folders/fq/t46mbxyj54j1d9t60j44v_j80000gn/T/ipykernel_88349/2190940151.py:31: RuntimeWarning: Highpass cutoff frequency 16.0 is greater than lowpass cutoff frequency 0.7, setting values to 0 and Nyquist.\n"
     ]
    },
    {
     "name": "stdout",
     "output_type": "stream",
     "text": [
      "Used Annotations descriptions: [np.str_('Sleep stage 1'), np.str_('Sleep stage 2'), np.str_('Sleep stage 3'), np.str_('Sleep stage R'), np.str_('Sleep stage W')]\n",
      "Processed SC4192E0: epochs 2605, sequences 259, channels: ['EEG Fpz-Cz', 'EEG Pz-Oz', 'EOG horizontal', 'Resp oro-nasal', 'EMG submental', 'Temp rectal', 'Event marker']\n"
     ]
    },
    {
     "name": "stderr",
     "output_type": "stream",
     "text": [
      "/var/folders/fq/t46mbxyj54j1d9t60j44v_j80000gn/T/ipykernel_88349/2190940151.py:31: RuntimeWarning: Channels contain different highpass filters. Highest filter setting will be stored.\n",
      "/var/folders/fq/t46mbxyj54j1d9t60j44v_j80000gn/T/ipykernel_88349/2190940151.py:31: RuntimeWarning: Channels contain different lowpass filters. Lowest filter setting will be stored.\n",
      "/var/folders/fq/t46mbxyj54j1d9t60j44v_j80000gn/T/ipykernel_88349/2190940151.py:31: RuntimeWarning: Highpass cutoff frequency 16.0 is greater than lowpass cutoff frequency 0.7, setting values to 0 and Nyquist.\n"
     ]
    },
    {
     "name": "stdout",
     "output_type": "stream",
     "text": [
      "Used Annotations descriptions: [np.str_('Sleep stage 1'), np.str_('Sleep stage 2'), np.str_('Sleep stage R'), np.str_('Sleep stage W')]\n",
      "Error processing /Users/kimberly/Documents/STAT4830/STAT-4830-GOALZ-project/data/sleep-edf-database-expanded-1.0.0/sleep-cassette/SC4571F0-PSG.edf: No matching events found for Sleep stage 3 (event id 3)\n"
     ]
    },
    {
     "name": "stderr",
     "output_type": "stream",
     "text": [
      "/var/folders/fq/t46mbxyj54j1d9t60j44v_j80000gn/T/ipykernel_88349/2190940151.py:31: RuntimeWarning: Channels contain different highpass filters. Highest filter setting will be stored.\n",
      "/var/folders/fq/t46mbxyj54j1d9t60j44v_j80000gn/T/ipykernel_88349/2190940151.py:31: RuntimeWarning: Channels contain different lowpass filters. Lowest filter setting will be stored.\n",
      "/var/folders/fq/t46mbxyj54j1d9t60j44v_j80000gn/T/ipykernel_88349/2190940151.py:31: RuntimeWarning: Highpass cutoff frequency 16.0 is greater than lowpass cutoff frequency 0.7, setting values to 0 and Nyquist.\n"
     ]
    },
    {
     "name": "stdout",
     "output_type": "stream",
     "text": [
      "Used Annotations descriptions: [np.str_('Sleep stage 1'), np.str_('Sleep stage 2'), np.str_('Sleep stage 3'), np.str_('Sleep stage 4'), np.str_('Sleep stage R'), np.str_('Sleep stage W')]\n",
      "Processed SC4502E0: epochs 2770, sequences 276, channels: ['EEG Fpz-Cz', 'EEG Pz-Oz', 'EOG horizontal', 'Resp oro-nasal', 'EMG submental', 'Temp rectal', 'Event marker']\n"
     ]
    },
    {
     "name": "stderr",
     "output_type": "stream",
     "text": [
      "/var/folders/fq/t46mbxyj54j1d9t60j44v_j80000gn/T/ipykernel_88349/2190940151.py:31: RuntimeWarning: Channels contain different highpass filters. Highest filter setting will be stored.\n",
      "/var/folders/fq/t46mbxyj54j1d9t60j44v_j80000gn/T/ipykernel_88349/2190940151.py:31: RuntimeWarning: Channels contain different lowpass filters. Lowest filter setting will be stored.\n",
      "/var/folders/fq/t46mbxyj54j1d9t60j44v_j80000gn/T/ipykernel_88349/2190940151.py:31: RuntimeWarning: Highpass cutoff frequency 16.0 is greater than lowpass cutoff frequency 0.7, setting values to 0 and Nyquist.\n"
     ]
    },
    {
     "name": "stdout",
     "output_type": "stream",
     "text": [
      "Used Annotations descriptions: [np.str_('Sleep stage 1'), np.str_('Sleep stage 2'), np.str_('Sleep stage 3'), np.str_('Sleep stage R'), np.str_('Sleep stage W')]\n",
      "Processed SC4052E0: epochs 2804, sequences 279, channels: ['EEG Fpz-Cz', 'EEG Pz-Oz', 'EOG horizontal', 'Resp oro-nasal', 'EMG submental', 'Temp rectal', 'Event marker']\n"
     ]
    },
    {
     "name": "stderr",
     "output_type": "stream",
     "text": [
      "/var/folders/fq/t46mbxyj54j1d9t60j44v_j80000gn/T/ipykernel_88349/2190940151.py:31: RuntimeWarning: Channels contain different highpass filters. Highest filter setting will be stored.\n",
      "/var/folders/fq/t46mbxyj54j1d9t60j44v_j80000gn/T/ipykernel_88349/2190940151.py:31: RuntimeWarning: Channels contain different lowpass filters. Lowest filter setting will be stored.\n",
      "/var/folders/fq/t46mbxyj54j1d9t60j44v_j80000gn/T/ipykernel_88349/2190940151.py:31: RuntimeWarning: Highpass cutoff frequency 16.0 is greater than lowpass cutoff frequency 0.7, setting values to 0 and Nyquist.\n"
     ]
    },
    {
     "name": "stdout",
     "output_type": "stream",
     "text": [
      "Used Annotations descriptions: [np.str_('Sleep stage 1'), np.str_('Sleep stage 2'), np.str_('Sleep stage 3'), np.str_('Sleep stage R'), np.str_('Sleep stage W')]\n",
      "Processed SC4322E0: epochs 2616, sequences 260, channels: ['EEG Fpz-Cz', 'EEG Pz-Oz', 'EOG horizontal', 'Resp oro-nasal', 'EMG submental', 'Temp rectal', 'Event marker']\n"
     ]
    },
    {
     "name": "stderr",
     "output_type": "stream",
     "text": [
      "/var/folders/fq/t46mbxyj54j1d9t60j44v_j80000gn/T/ipykernel_88349/2190940151.py:31: RuntimeWarning: Channels contain different highpass filters. Highest filter setting will be stored.\n",
      "/var/folders/fq/t46mbxyj54j1d9t60j44v_j80000gn/T/ipykernel_88349/2190940151.py:31: RuntimeWarning: Channels contain different lowpass filters. Lowest filter setting will be stored.\n",
      "/var/folders/fq/t46mbxyj54j1d9t60j44v_j80000gn/T/ipykernel_88349/2190940151.py:31: RuntimeWarning: Highpass cutoff frequency 16.0 is greater than lowpass cutoff frequency 0.7, setting values to 0 and Nyquist.\n"
     ]
    },
    {
     "name": "stdout",
     "output_type": "stream",
     "text": [
      "Used Annotations descriptions: [np.str_('Sleep stage 1'), np.str_('Sleep stage 2'), np.str_('Sleep stage 3'), np.str_('Sleep stage R'), np.str_('Sleep stage W')]\n",
      "Processed SC4351F0: epochs 2710, sequences 270, channels: ['EEG Fpz-Cz', 'EEG Pz-Oz', 'EOG horizontal', 'Resp oro-nasal', 'EMG submental', 'Temp rectal', 'Event marker']\n"
     ]
    },
    {
     "name": "stderr",
     "output_type": "stream",
     "text": [
      "/var/folders/fq/t46mbxyj54j1d9t60j44v_j80000gn/T/ipykernel_88349/2190940151.py:31: RuntimeWarning: Channels contain different highpass filters. Highest filter setting will be stored.\n",
      "/var/folders/fq/t46mbxyj54j1d9t60j44v_j80000gn/T/ipykernel_88349/2190940151.py:31: RuntimeWarning: Channels contain different lowpass filters. Lowest filter setting will be stored.\n",
      "/var/folders/fq/t46mbxyj54j1d9t60j44v_j80000gn/T/ipykernel_88349/2190940151.py:31: RuntimeWarning: Highpass cutoff frequency 16.0 is greater than lowpass cutoff frequency 0.7, setting values to 0 and Nyquist.\n"
     ]
    },
    {
     "name": "stdout",
     "output_type": "stream",
     "text": [
      "Used Annotations descriptions: [np.str_('Sleep stage 1'), np.str_('Sleep stage 2'), np.str_('Sleep stage 3'), np.str_('Sleep stage 4'), np.str_('Sleep stage R'), np.str_('Sleep stage W')]\n",
      "Processed SC4671G0: epochs 2780, sequences 277, channels: ['EEG Fpz-Cz', 'EEG Pz-Oz', 'EOG horizontal', 'Resp oro-nasal', 'EMG submental', 'Temp rectal', 'Event marker']\n"
     ]
    },
    {
     "name": "stderr",
     "output_type": "stream",
     "text": [
      "/var/folders/fq/t46mbxyj54j1d9t60j44v_j80000gn/T/ipykernel_88349/2190940151.py:31: RuntimeWarning: Channels contain different highpass filters. Highest filter setting will be stored.\n",
      "/var/folders/fq/t46mbxyj54j1d9t60j44v_j80000gn/T/ipykernel_88349/2190940151.py:31: RuntimeWarning: Channels contain different lowpass filters. Lowest filter setting will be stored.\n",
      "/var/folders/fq/t46mbxyj54j1d9t60j44v_j80000gn/T/ipykernel_88349/2190940151.py:31: RuntimeWarning: Highpass cutoff frequency 16.0 is greater than lowpass cutoff frequency 0.7, setting values to 0 and Nyquist.\n"
     ]
    },
    {
     "name": "stdout",
     "output_type": "stream",
     "text": [
      "Used Annotations descriptions: [np.str_('Sleep stage 1'), np.str_('Sleep stage 2'), np.str_('Sleep stage 3'), np.str_('Sleep stage 4'), np.str_('Sleep stage R'), np.str_('Sleep stage W')]\n",
      "Processed SC4602E0: epochs 2800, sequences 279, channels: ['EEG Fpz-Cz', 'EEG Pz-Oz', 'EOG horizontal', 'Resp oro-nasal', 'EMG submental', 'Temp rectal', 'Event marker']\n"
     ]
    },
    {
     "name": "stderr",
     "output_type": "stream",
     "text": [
      "/var/folders/fq/t46mbxyj54j1d9t60j44v_j80000gn/T/ipykernel_88349/2190940151.py:31: RuntimeWarning: Channels contain different highpass filters. Highest filter setting will be stored.\n",
      "/var/folders/fq/t46mbxyj54j1d9t60j44v_j80000gn/T/ipykernel_88349/2190940151.py:31: RuntimeWarning: Channels contain different lowpass filters. Lowest filter setting will be stored.\n",
      "/var/folders/fq/t46mbxyj54j1d9t60j44v_j80000gn/T/ipykernel_88349/2190940151.py:31: RuntimeWarning: Highpass cutoff frequency 16.0 is greater than lowpass cutoff frequency 0.7, setting values to 0 and Nyquist.\n"
     ]
    },
    {
     "name": "stdout",
     "output_type": "stream",
     "text": [
      "Used Annotations descriptions: [np.str_('Sleep stage 1'), np.str_('Sleep stage 2'), np.str_('Sleep stage 3'), np.str_('Sleep stage 4'), np.str_('Sleep stage R'), np.str_('Sleep stage W')]\n",
      "Processed SC4091E0: epochs 2721, sequences 271, channels: ['EEG Fpz-Cz', 'EEG Pz-Oz', 'EOG horizontal', 'Resp oro-nasal', 'EMG submental', 'Temp rectal', 'Event marker']\n"
     ]
    },
    {
     "name": "stderr",
     "output_type": "stream",
     "text": [
      "/var/folders/fq/t46mbxyj54j1d9t60j44v_j80000gn/T/ipykernel_88349/2190940151.py:31: RuntimeWarning: Channels contain different highpass filters. Highest filter setting will be stored.\n",
      "/var/folders/fq/t46mbxyj54j1d9t60j44v_j80000gn/T/ipykernel_88349/2190940151.py:31: RuntimeWarning: Channels contain different lowpass filters. Lowest filter setting will be stored.\n",
      "/var/folders/fq/t46mbxyj54j1d9t60j44v_j80000gn/T/ipykernel_88349/2190940151.py:31: RuntimeWarning: Highpass cutoff frequency 16.0 is greater than lowpass cutoff frequency 0.7, setting values to 0 and Nyquist.\n"
     ]
    },
    {
     "name": "stdout",
     "output_type": "stream",
     "text": [
      "Used Annotations descriptions: [np.str_('Sleep stage 1'), np.str_('Sleep stage 2'), np.str_('Sleep stage 3'), np.str_('Sleep stage 4'), np.str_('Sleep stage R'), np.str_('Sleep stage W')]\n",
      "Processed SC4022E0: epochs 2755, sequences 274, channels: ['EEG Fpz-Cz', 'EEG Pz-Oz', 'EOG horizontal', 'Resp oro-nasal', 'EMG submental', 'Temp rectal', 'Event marker']\n"
     ]
    },
    {
     "name": "stderr",
     "output_type": "stream",
     "text": [
      "/var/folders/fq/t46mbxyj54j1d9t60j44v_j80000gn/T/ipykernel_88349/2190940151.py:31: RuntimeWarning: Channels contain different highpass filters. Highest filter setting will be stored.\n",
      "/var/folders/fq/t46mbxyj54j1d9t60j44v_j80000gn/T/ipykernel_88349/2190940151.py:31: RuntimeWarning: Channels contain different lowpass filters. Lowest filter setting will be stored.\n",
      "/var/folders/fq/t46mbxyj54j1d9t60j44v_j80000gn/T/ipykernel_88349/2190940151.py:31: RuntimeWarning: Highpass cutoff frequency 16.0 is greater than lowpass cutoff frequency 0.7, setting values to 0 and Nyquist.\n"
     ]
    },
    {
     "name": "stdout",
     "output_type": "stream",
     "text": [
      "Used Annotations descriptions: [np.str_('Sleep stage 1'), np.str_('Sleep stage 2'), np.str_('Sleep stage 3'), np.str_('Sleep stage 4'), np.str_('Sleep stage R'), np.str_('Sleep stage W')]\n",
      "Processed SC4151E0: epochs 2616, sequences 260, channels: ['EEG Fpz-Cz', 'EEG Pz-Oz', 'EOG horizontal', 'Resp oro-nasal', 'EMG submental', 'Temp rectal', 'Event marker']\n"
     ]
    },
    {
     "name": "stderr",
     "output_type": "stream",
     "text": [
      "/var/folders/fq/t46mbxyj54j1d9t60j44v_j80000gn/T/ipykernel_88349/2190940151.py:31: RuntimeWarning: Channels contain different highpass filters. Highest filter setting will be stored.\n",
      "/var/folders/fq/t46mbxyj54j1d9t60j44v_j80000gn/T/ipykernel_88349/2190940151.py:31: RuntimeWarning: Channels contain different lowpass filters. Lowest filter setting will be stored.\n",
      "/var/folders/fq/t46mbxyj54j1d9t60j44v_j80000gn/T/ipykernel_88349/2190940151.py:31: RuntimeWarning: Highpass cutoff frequency 16.0 is greater than lowpass cutoff frequency 0.7, setting values to 0 and Nyquist.\n"
     ]
    },
    {
     "name": "stdout",
     "output_type": "stream",
     "text": [
      "Used Annotations descriptions: [np.str_('Sleep stage 1'), np.str_('Sleep stage 2'), np.str_('Sleep stage 3'), np.str_('Sleep stage R'), np.str_('Sleep stage W')]\n",
      "Processed SC4221E0: epochs 2700, sequences 269, channels: ['EEG Fpz-Cz', 'EEG Pz-Oz', 'EOG horizontal', 'Resp oro-nasal', 'EMG submental', 'Temp rectal', 'Event marker']\n"
     ]
    },
    {
     "name": "stderr",
     "output_type": "stream",
     "text": [
      "/var/folders/fq/t46mbxyj54j1d9t60j44v_j80000gn/T/ipykernel_88349/2190940151.py:31: RuntimeWarning: Channels contain different highpass filters. Highest filter setting will be stored.\n",
      "/var/folders/fq/t46mbxyj54j1d9t60j44v_j80000gn/T/ipykernel_88349/2190940151.py:31: RuntimeWarning: Channels contain different lowpass filters. Lowest filter setting will be stored.\n",
      "/var/folders/fq/t46mbxyj54j1d9t60j44v_j80000gn/T/ipykernel_88349/2190940151.py:31: RuntimeWarning: Highpass cutoff frequency 16.0 is greater than lowpass cutoff frequency 0.7, setting values to 0 and Nyquist.\n"
     ]
    },
    {
     "name": "stdout",
     "output_type": "stream",
     "text": [
      "Used Annotations descriptions: [np.str_('Sleep stage 1'), np.str_('Sleep stage 2'), np.str_('Sleep stage 3'), np.str_('Sleep stage 4'), np.str_('Sleep stage R'), np.str_('Sleep stage W')]\n",
      "Processed SC4401E0: epochs 2630, sequences 262, channels: ['EEG Fpz-Cz', 'EEG Pz-Oz', 'EOG horizontal', 'Resp oro-nasal', 'EMG submental', 'Temp rectal', 'Event marker']\n"
     ]
    },
    {
     "name": "stderr",
     "output_type": "stream",
     "text": [
      "/var/folders/fq/t46mbxyj54j1d9t60j44v_j80000gn/T/ipykernel_88349/2190940151.py:31: RuntimeWarning: Channels contain different highpass filters. Highest filter setting will be stored.\n",
      "/var/folders/fq/t46mbxyj54j1d9t60j44v_j80000gn/T/ipykernel_88349/2190940151.py:31: RuntimeWarning: Channels contain different lowpass filters. Lowest filter setting will be stored.\n",
      "/var/folders/fq/t46mbxyj54j1d9t60j44v_j80000gn/T/ipykernel_88349/2190940151.py:31: RuntimeWarning: Highpass cutoff frequency 16.0 is greater than lowpass cutoff frequency 0.7, setting values to 0 and Nyquist.\n"
     ]
    },
    {
     "name": "stdout",
     "output_type": "stream",
     "text": [
      "Used Annotations descriptions: [np.str_('Sleep stage 1'), np.str_('Sleep stage 2'), np.str_('Sleep stage 3'), np.str_('Sleep stage R'), np.str_('Sleep stage W')]\n",
      "Processed SC4472F0: epochs 2789, sequences 277, channels: ['EEG Fpz-Cz', 'EEG Pz-Oz', 'EOG horizontal', 'Resp oro-nasal', 'EMG submental', 'Temp rectal', 'Event marker']\n"
     ]
    },
    {
     "name": "stderr",
     "output_type": "stream",
     "text": [
      "/var/folders/fq/t46mbxyj54j1d9t60j44v_j80000gn/T/ipykernel_88349/2190940151.py:31: RuntimeWarning: Channels contain different highpass filters. Highest filter setting will be stored.\n",
      "/var/folders/fq/t46mbxyj54j1d9t60j44v_j80000gn/T/ipykernel_88349/2190940151.py:31: RuntimeWarning: Channels contain different lowpass filters. Lowest filter setting will be stored.\n",
      "/var/folders/fq/t46mbxyj54j1d9t60j44v_j80000gn/T/ipykernel_88349/2190940151.py:31: RuntimeWarning: Highpass cutoff frequency 16.0 is greater than lowpass cutoff frequency 0.7, setting values to 0 and Nyquist.\n"
     ]
    },
    {
     "name": "stdout",
     "output_type": "stream",
     "text": [
      "Used Annotations descriptions: [np.str_('Sleep stage 1'), np.str_('Sleep stage 2'), np.str_('Sleep stage 3'), np.str_('Sleep stage R'), np.str_('Sleep stage W')]\n",
      "Processed SC4562F0: epochs 2800, sequences 279, channels: ['EEG Fpz-Cz', 'EEG Pz-Oz', 'EOG horizontal', 'Resp oro-nasal', 'EMG submental', 'Temp rectal', 'Event marker']\n"
     ]
    },
    {
     "name": "stderr",
     "output_type": "stream",
     "text": [
      "/var/folders/fq/t46mbxyj54j1d9t60j44v_j80000gn/T/ipykernel_88349/2190940151.py:31: RuntimeWarning: Channels contain different highpass filters. Highest filter setting will be stored.\n",
      "/var/folders/fq/t46mbxyj54j1d9t60j44v_j80000gn/T/ipykernel_88349/2190940151.py:31: RuntimeWarning: Channels contain different lowpass filters. Lowest filter setting will be stored.\n",
      "/var/folders/fq/t46mbxyj54j1d9t60j44v_j80000gn/T/ipykernel_88349/2190940151.py:31: RuntimeWarning: Highpass cutoff frequency 16.0 is greater than lowpass cutoff frequency 0.7, setting values to 0 and Nyquist.\n"
     ]
    },
    {
     "name": "stdout",
     "output_type": "stream",
     "text": [
      "Used Annotations descriptions: [np.str_('Sleep stage 1'), np.str_('Sleep stage 2'), np.str_('Sleep stage 3'), np.str_('Sleep stage R'), np.str_('Sleep stage W')]\n",
      "Processed SC4511E0: epochs 2712, sequences 270, channels: ['EEG Fpz-Cz', 'EEG Pz-Oz', 'EOG horizontal', 'Resp oro-nasal', 'EMG submental', 'Temp rectal', 'Event marker']\n"
     ]
    },
    {
     "name": "stderr",
     "output_type": "stream",
     "text": [
      "/var/folders/fq/t46mbxyj54j1d9t60j44v_j80000gn/T/ipykernel_88349/2190940151.py:31: RuntimeWarning: Channels contain different highpass filters. Highest filter setting will be stored.\n",
      "/var/folders/fq/t46mbxyj54j1d9t60j44v_j80000gn/T/ipykernel_88349/2190940151.py:31: RuntimeWarning: Channels contain different lowpass filters. Lowest filter setting will be stored.\n",
      "/var/folders/fq/t46mbxyj54j1d9t60j44v_j80000gn/T/ipykernel_88349/2190940151.py:31: RuntimeWarning: Highpass cutoff frequency 16.0 is greater than lowpass cutoff frequency 0.7, setting values to 0 and Nyquist.\n"
     ]
    },
    {
     "name": "stdout",
     "output_type": "stream",
     "text": [
      "Used Annotations descriptions: [np.str_('Sleep stage 1'), np.str_('Sleep stage 2'), np.str_('Sleep stage R'), np.str_('Sleep stage W')]\n",
      "Error processing /Users/kimberly/Documents/STAT4830/STAT-4830-GOALZ-project/data/sleep-edf-database-expanded-1.0.0/sleep-cassette/SC4342F0-PSG.edf: No matching events found for Sleep stage 3 (event id 3)\n"
     ]
    },
    {
     "name": "stderr",
     "output_type": "stream",
     "text": [
      "/var/folders/fq/t46mbxyj54j1d9t60j44v_j80000gn/T/ipykernel_88349/2190940151.py:31: RuntimeWarning: Channels contain different highpass filters. Highest filter setting will be stored.\n",
      "/var/folders/fq/t46mbxyj54j1d9t60j44v_j80000gn/T/ipykernel_88349/2190940151.py:31: RuntimeWarning: Channels contain different lowpass filters. Lowest filter setting will be stored.\n",
      "/var/folders/fq/t46mbxyj54j1d9t60j44v_j80000gn/T/ipykernel_88349/2190940151.py:31: RuntimeWarning: Highpass cutoff frequency 16.0 is greater than lowpass cutoff frequency 0.7, setting values to 0 and Nyquist.\n"
     ]
    },
    {
     "name": "stdout",
     "output_type": "stream",
     "text": [
      "Used Annotations descriptions: [np.str_('Sleep stage 1'), np.str_('Sleep stage 2'), np.str_('Sleep stage 3'), np.str_('Sleep stage R'), np.str_('Sleep stage W')]\n",
      "Processed SC4661E0: epochs 2664, sequences 265, channels: ['EEG Fpz-Cz', 'EEG Pz-Oz', 'EOG horizontal', 'Resp oro-nasal', 'EMG submental', 'Temp rectal', 'Event marker']\n"
     ]
    },
    {
     "name": "stderr",
     "output_type": "stream",
     "text": [
      "/var/folders/fq/t46mbxyj54j1d9t60j44v_j80000gn/T/ipykernel_88349/2190940151.py:31: RuntimeWarning: Channels contain different highpass filters. Highest filter setting will be stored.\n",
      "/var/folders/fq/t46mbxyj54j1d9t60j44v_j80000gn/T/ipykernel_88349/2190940151.py:31: RuntimeWarning: Channels contain different lowpass filters. Lowest filter setting will be stored.\n",
      "/var/folders/fq/t46mbxyj54j1d9t60j44v_j80000gn/T/ipykernel_88349/2190940151.py:31: RuntimeWarning: Highpass cutoff frequency 16.0 is greater than lowpass cutoff frequency 0.7, setting values to 0 and Nyquist.\n"
     ]
    },
    {
     "name": "stdout",
     "output_type": "stream",
     "text": [
      "Used Annotations descriptions: [np.str_('Sleep stage 1'), np.str_('Sleep stage 2'), np.str_('Sleep stage 3'), np.str_('Sleep stage R'), np.str_('Sleep stage W')]\n",
      "Processed SC4041E0: epochs 2569, sequences 255, channels: ['EEG Fpz-Cz', 'EEG Pz-Oz', 'EOG horizontal', 'Resp oro-nasal', 'EMG submental', 'Temp rectal', 'Event marker']\n"
     ]
    },
    {
     "name": "stderr",
     "output_type": "stream",
     "text": [
      "/var/folders/fq/t46mbxyj54j1d9t60j44v_j80000gn/T/ipykernel_88349/2190940151.py:31: RuntimeWarning: Channels contain different highpass filters. Highest filter setting will be stored.\n",
      "/var/folders/fq/t46mbxyj54j1d9t60j44v_j80000gn/T/ipykernel_88349/2190940151.py:31: RuntimeWarning: Channels contain different lowpass filters. Lowest filter setting will be stored.\n",
      "/var/folders/fq/t46mbxyj54j1d9t60j44v_j80000gn/T/ipykernel_88349/2190940151.py:31: RuntimeWarning: Highpass cutoff frequency 16.0 is greater than lowpass cutoff frequency 0.7, setting values to 0 and Nyquist.\n"
     ]
    },
    {
     "name": "stdout",
     "output_type": "stream",
     "text": [
      "Used Annotations descriptions: [np.str_('Sleep stage 1'), np.str_('Sleep stage 2'), np.str_('Sleep stage 3'), np.str_('Sleep stage 4'), np.str_('Sleep stage R'), np.str_('Sleep stage W')]\n",
      "Processed SC4242E0: epochs 2710, sequences 270, channels: ['EEG Fpz-Cz', 'EEG Pz-Oz', 'EOG horizontal', 'Resp oro-nasal', 'EMG submental', 'Temp rectal', 'Event marker']\n"
     ]
    },
    {
     "name": "stderr",
     "output_type": "stream",
     "text": [
      "/var/folders/fq/t46mbxyj54j1d9t60j44v_j80000gn/T/ipykernel_88349/2190940151.py:31: RuntimeWarning: Channels contain different highpass filters. Highest filter setting will be stored.\n",
      "/var/folders/fq/t46mbxyj54j1d9t60j44v_j80000gn/T/ipykernel_88349/2190940151.py:31: RuntimeWarning: Channels contain different lowpass filters. Lowest filter setting will be stored.\n",
      "/var/folders/fq/t46mbxyj54j1d9t60j44v_j80000gn/T/ipykernel_88349/2190940151.py:31: RuntimeWarning: Highpass cutoff frequency 16.0 is greater than lowpass cutoff frequency 0.7, setting values to 0 and Nyquist.\n"
     ]
    },
    {
     "name": "stdout",
     "output_type": "stream",
     "text": [
      "Used Annotations descriptions: [np.str_('Sleep stage 1'), np.str_('Sleep stage 2'), np.str_('Sleep stage R'), np.str_('Sleep stage W')]\n",
      "Error processing /Users/kimberly/Documents/STAT4830/STAT-4830-GOALZ-project/data/sleep-edf-database-expanded-1.0.0/sleep-cassette/SC4712E0-PSG.edf: No matching events found for Sleep stage 3 (event id 3)\n"
     ]
    },
    {
     "name": "stderr",
     "output_type": "stream",
     "text": [
      "/var/folders/fq/t46mbxyj54j1d9t60j44v_j80000gn/T/ipykernel_88349/2190940151.py:31: RuntimeWarning: Channels contain different highpass filters. Highest filter setting will be stored.\n",
      "/var/folders/fq/t46mbxyj54j1d9t60j44v_j80000gn/T/ipykernel_88349/2190940151.py:31: RuntimeWarning: Channels contain different lowpass filters. Lowest filter setting will be stored.\n",
      "/var/folders/fq/t46mbxyj54j1d9t60j44v_j80000gn/T/ipykernel_88349/2190940151.py:31: RuntimeWarning: Highpass cutoff frequency 16.0 is greater than lowpass cutoff frequency 0.7, setting values to 0 and Nyquist.\n"
     ]
    },
    {
     "name": "stdout",
     "output_type": "stream",
     "text": [
      "Used Annotations descriptions: [np.str_('Sleep stage 1'), np.str_('Sleep stage 2'), np.str_('Sleep stage 3'), np.str_('Sleep stage 4'), np.str_('Sleep stage R'), np.str_('Sleep stage W')]\n",
      "Processed SC4181E0: epochs 2756, sequences 274, channels: ['EEG Fpz-Cz', 'EEG Pz-Oz', 'EOG horizontal', 'Resp oro-nasal', 'EMG submental', 'Temp rectal', 'Event marker']\n"
     ]
    },
    {
     "name": "stderr",
     "output_type": "stream",
     "text": [
      "/var/folders/fq/t46mbxyj54j1d9t60j44v_j80000gn/T/ipykernel_88349/2190940151.py:31: RuntimeWarning: Channels contain different highpass filters. Highest filter setting will be stored.\n",
      "/var/folders/fq/t46mbxyj54j1d9t60j44v_j80000gn/T/ipykernel_88349/2190940151.py:31: RuntimeWarning: Channels contain different lowpass filters. Lowest filter setting will be stored.\n",
      "/var/folders/fq/t46mbxyj54j1d9t60j44v_j80000gn/T/ipykernel_88349/2190940151.py:31: RuntimeWarning: Highpass cutoff frequency 16.0 is greater than lowpass cutoff frequency 0.7, setting values to 0 and Nyquist.\n"
     ]
    },
    {
     "name": "stdout",
     "output_type": "stream",
     "text": [
      "Used Annotations descriptions: [np.str_('Sleep stage 1'), np.str_('Sleep stage 2'), np.str_('Sleep stage 3'), np.str_('Sleep stage 4'), np.str_('Sleep stage R'), np.str_('Sleep stage W')]\n",
      "Processed SC4282G0: epochs 2814, sequences 280, channels: ['EEG Fpz-Cz', 'EEG Pz-Oz', 'EOG horizontal', 'Resp oro-nasal', 'EMG submental', 'Temp rectal', 'Event marker']\n"
     ]
    },
    {
     "name": "stderr",
     "output_type": "stream",
     "text": [
      "/var/folders/fq/t46mbxyj54j1d9t60j44v_j80000gn/T/ipykernel_88349/2190940151.py:31: RuntimeWarning: Channels contain different highpass filters. Highest filter setting will be stored.\n",
      "/var/folders/fq/t46mbxyj54j1d9t60j44v_j80000gn/T/ipykernel_88349/2190940151.py:31: RuntimeWarning: Channels contain different lowpass filters. Lowest filter setting will be stored.\n",
      "/var/folders/fq/t46mbxyj54j1d9t60j44v_j80000gn/T/ipykernel_88349/2190940151.py:31: RuntimeWarning: Highpass cutoff frequency 16.0 is greater than lowpass cutoff frequency 0.7, setting values to 0 and Nyquist.\n"
     ]
    },
    {
     "name": "stdout",
     "output_type": "stream",
     "text": [
      "Used Annotations descriptions: [np.str_('Sleep stage 1'), np.str_('Sleep stage 2'), np.str_('Sleep stage 3'), np.str_('Sleep stage R'), np.str_('Sleep stage W')]\n",
      "Processed SC4822G0: epochs 2810, sequences 280, channels: ['EEG Fpz-Cz', 'EEG Pz-Oz', 'EOG horizontal', 'Resp oro-nasal', 'EMG submental', 'Temp rectal', 'Event marker']\n"
     ]
    },
    {
     "name": "stderr",
     "output_type": "stream",
     "text": [
      "/var/folders/fq/t46mbxyj54j1d9t60j44v_j80000gn/T/ipykernel_88349/2190940151.py:31: RuntimeWarning: Channels contain different highpass filters. Highest filter setting will be stored.\n",
      "/var/folders/fq/t46mbxyj54j1d9t60j44v_j80000gn/T/ipykernel_88349/2190940151.py:31: RuntimeWarning: Channels contain different lowpass filters. Lowest filter setting will be stored.\n",
      "/var/folders/fq/t46mbxyj54j1d9t60j44v_j80000gn/T/ipykernel_88349/2190940151.py:31: RuntimeWarning: Highpass cutoff frequency 16.0 is greater than lowpass cutoff frequency 0.7, setting values to 0 and Nyquist.\n"
     ]
    },
    {
     "name": "stdout",
     "output_type": "stream",
     "text": [
      "Used Annotations descriptions: [np.str_('Sleep stage 1'), np.str_('Sleep stage 2'), np.str_('Sleep stage 3'), np.str_('Sleep stage 4'), np.str_('Sleep stage R'), np.str_('Sleep stage W')]\n",
      "Processed SC4631E0: epochs 2758, sequences 274, channels: ['EEG Fpz-Cz', 'EEG Pz-Oz', 'EOG horizontal', 'Resp oro-nasal', 'EMG submental', 'Temp rectal', 'Event marker']\n"
     ]
    },
    {
     "name": "stderr",
     "output_type": "stream",
     "text": [
      "/var/folders/fq/t46mbxyj54j1d9t60j44v_j80000gn/T/ipykernel_88349/2190940151.py:31: RuntimeWarning: Channels contain different highpass filters. Highest filter setting will be stored.\n",
      "/var/folders/fq/t46mbxyj54j1d9t60j44v_j80000gn/T/ipykernel_88349/2190940151.py:31: RuntimeWarning: Channels contain different lowpass filters. Lowest filter setting will be stored.\n",
      "/var/folders/fq/t46mbxyj54j1d9t60j44v_j80000gn/T/ipykernel_88349/2190940151.py:31: RuntimeWarning: Highpass cutoff frequency 16.0 is greater than lowpass cutoff frequency 0.7, setting values to 0 and Nyquist.\n"
     ]
    },
    {
     "name": "stdout",
     "output_type": "stream",
     "text": [
      "Used Annotations descriptions: [np.str_('Sleep stage 1'), np.str_('Sleep stage 2'), np.str_('Sleep stage 3'), np.str_('Sleep stage R'), np.str_('Sleep stage W')]\n",
      "Processed SC4011E0: epochs 2802, sequences 279, channels: ['EEG Fpz-Cz', 'EEG Pz-Oz', 'EOG horizontal', 'Resp oro-nasal', 'EMG submental', 'Temp rectal', 'Event marker']\n"
     ]
    },
    {
     "name": "stderr",
     "output_type": "stream",
     "text": [
      "/var/folders/fq/t46mbxyj54j1d9t60j44v_j80000gn/T/ipykernel_88349/2190940151.py:31: RuntimeWarning: Channels contain different highpass filters. Highest filter setting will be stored.\n",
      "/var/folders/fq/t46mbxyj54j1d9t60j44v_j80000gn/T/ipykernel_88349/2190940151.py:31: RuntimeWarning: Channels contain different lowpass filters. Lowest filter setting will be stored.\n",
      "/var/folders/fq/t46mbxyj54j1d9t60j44v_j80000gn/T/ipykernel_88349/2190940151.py:31: RuntimeWarning: Highpass cutoff frequency 16.0 is greater than lowpass cutoff frequency 0.7, setting values to 0 and Nyquist.\n"
     ]
    },
    {
     "name": "stdout",
     "output_type": "stream",
     "text": [
      "Used Annotations descriptions: [np.str_('Sleep stage 1'), np.str_('Sleep stage 2'), np.str_('Sleep stage 3'), np.str_('Sleep stage 4'), np.str_('Sleep stage R'), np.str_('Sleep stage W')]\n",
      "Processed SC4581G0: epochs 2738, sequences 272, channels: ['EEG Fpz-Cz', 'EEG Pz-Oz', 'EOG horizontal', 'Resp oro-nasal', 'EMG submental', 'Temp rectal', 'Event marker']\n"
     ]
    },
    {
     "name": "stderr",
     "output_type": "stream",
     "text": [
      "/var/folders/fq/t46mbxyj54j1d9t60j44v_j80000gn/T/ipykernel_88349/2190940151.py:31: RuntimeWarning: Channels contain different highpass filters. Highest filter setting will be stored.\n",
      "/var/folders/fq/t46mbxyj54j1d9t60j44v_j80000gn/T/ipykernel_88349/2190940151.py:31: RuntimeWarning: Channels contain different lowpass filters. Lowest filter setting will be stored.\n",
      "/var/folders/fq/t46mbxyj54j1d9t60j44v_j80000gn/T/ipykernel_88349/2190940151.py:31: RuntimeWarning: Highpass cutoff frequency 16.0 is greater than lowpass cutoff frequency 0.7, setting values to 0 and Nyquist.\n"
     ]
    },
    {
     "name": "stdout",
     "output_type": "stream",
     "text": [
      "Used Annotations descriptions: [np.str_('Sleep stage 1'), np.str_('Sleep stage 2'), np.str_('Sleep stage 3'), np.str_('Sleep stage 4'), np.str_('Sleep stage R'), np.str_('Sleep stage W')]\n",
      "Processed SC4261F0: epochs 2800, sequences 279, channels: ['EEG Fpz-Cz', 'EEG Pz-Oz', 'EOG horizontal', 'Resp oro-nasal', 'EMG submental', 'Temp rectal', 'Event marker']\n"
     ]
    },
    {
     "name": "stderr",
     "output_type": "stream",
     "text": [
      "/var/folders/fq/t46mbxyj54j1d9t60j44v_j80000gn/T/ipykernel_88349/2190940151.py:31: RuntimeWarning: Channels contain different highpass filters. Highest filter setting will be stored.\n",
      "/var/folders/fq/t46mbxyj54j1d9t60j44v_j80000gn/T/ipykernel_88349/2190940151.py:31: RuntimeWarning: Channels contain different lowpass filters. Lowest filter setting will be stored.\n",
      "/var/folders/fq/t46mbxyj54j1d9t60j44v_j80000gn/T/ipykernel_88349/2190940151.py:31: RuntimeWarning: Highpass cutoff frequency 16.0 is greater than lowpass cutoff frequency 0.7, setting values to 0 and Nyquist.\n"
     ]
    },
    {
     "name": "stdout",
     "output_type": "stream",
     "text": [
      "Used Annotations descriptions: [np.str_('Sleep stage 1'), np.str_('Sleep stage 2'), np.str_('Sleep stage 3'), np.str_('Sleep stage R'), np.str_('Sleep stage W')]\n",
      "Processed SC4162E0: epochs 2750, sequences 274, channels: ['EEG Fpz-Cz', 'EEG Pz-Oz', 'EOG horizontal', 'Resp oro-nasal', 'EMG submental', 'Temp rectal', 'Event marker']\n"
     ]
    },
    {
     "name": "stderr",
     "output_type": "stream",
     "text": [
      "/var/folders/fq/t46mbxyj54j1d9t60j44v_j80000gn/T/ipykernel_88349/2190940151.py:31: RuntimeWarning: Channels contain different highpass filters. Highest filter setting will be stored.\n",
      "/var/folders/fq/t46mbxyj54j1d9t60j44v_j80000gn/T/ipykernel_88349/2190940151.py:31: RuntimeWarning: Channels contain different lowpass filters. Lowest filter setting will be stored.\n",
      "/var/folders/fq/t46mbxyj54j1d9t60j44v_j80000gn/T/ipykernel_88349/2190940151.py:31: RuntimeWarning: Highpass cutoff frequency 16.0 is greater than lowpass cutoff frequency 0.7, setting values to 0 and Nyquist.\n"
     ]
    },
    {
     "name": "stdout",
     "output_type": "stream",
     "text": [
      "Used Annotations descriptions: [np.str_('Sleep stage 1'), np.str_('Sleep stage 2'), np.str_('Sleep stage R'), np.str_('Sleep stage W')]\n",
      "Error processing /Users/kimberly/Documents/STAT4830/STAT-4830-GOALZ-project/data/sleep-edf-database-expanded-1.0.0/sleep-cassette/SC4742E0-PSG.edf: No matching events found for Sleep stage 3 (event id 3)\n"
     ]
    },
    {
     "name": "stderr",
     "output_type": "stream",
     "text": [
      "/var/folders/fq/t46mbxyj54j1d9t60j44v_j80000gn/T/ipykernel_88349/2190940151.py:31: RuntimeWarning: Channels contain different highpass filters. Highest filter setting will be stored.\n",
      "/var/folders/fq/t46mbxyj54j1d9t60j44v_j80000gn/T/ipykernel_88349/2190940151.py:31: RuntimeWarning: Channels contain different lowpass filters. Lowest filter setting will be stored.\n",
      "/var/folders/fq/t46mbxyj54j1d9t60j44v_j80000gn/T/ipykernel_88349/2190940151.py:31: RuntimeWarning: Highpass cutoff frequency 16.0 is greater than lowpass cutoff frequency 0.7, setting values to 0 and Nyquist.\n"
     ]
    },
    {
     "name": "stdout",
     "output_type": "stream",
     "text": [
      "Used Annotations descriptions: [np.str_('Sleep stage 1'), np.str_('Sleep stage 2'), np.str_('Sleep stage 3'), np.str_('Sleep stage 4'), np.str_('Sleep stage R'), np.str_('Sleep stage W')]\n",
      "Processed SC4212E0: epochs 2694, sequences 268, channels: ['EEG Fpz-Cz', 'EEG Pz-Oz', 'EOG horizontal', 'Resp oro-nasal', 'EMG submental', 'Temp rectal', 'Event marker']\n"
     ]
    },
    {
     "name": "stderr",
     "output_type": "stream",
     "text": [
      "/var/folders/fq/t46mbxyj54j1d9t60j44v_j80000gn/T/ipykernel_88349/2190940151.py:31: RuntimeWarning: Channels contain different highpass filters. Highest filter setting will be stored.\n",
      "/var/folders/fq/t46mbxyj54j1d9t60j44v_j80000gn/T/ipykernel_88349/2190940151.py:31: RuntimeWarning: Channels contain different lowpass filters. Lowest filter setting will be stored.\n",
      "/var/folders/fq/t46mbxyj54j1d9t60j44v_j80000gn/T/ipykernel_88349/2190940151.py:31: RuntimeWarning: Highpass cutoff frequency 16.0 is greater than lowpass cutoff frequency 0.7, setting values to 0 and Nyquist.\n"
     ]
    },
    {
     "name": "stdout",
     "output_type": "stream",
     "text": [
      "Used Annotations descriptions: [np.str_('Sleep stage 1'), np.str_('Sleep stage 2'), np.str_('Sleep stage 3'), np.str_('Sleep stage R'), np.str_('Sleep stage W')]\n",
      "Processed SC4432E0: epochs 2780, sequences 277, channels: ['EEG Fpz-Cz', 'EEG Pz-Oz', 'EOG horizontal', 'Resp oro-nasal', 'EMG submental', 'Temp rectal', 'Event marker']\n"
     ]
    },
    {
     "name": "stderr",
     "output_type": "stream",
     "text": [
      "/var/folders/fq/t46mbxyj54j1d9t60j44v_j80000gn/T/ipykernel_88349/2190940151.py:31: RuntimeWarning: Channels contain different highpass filters. Highest filter setting will be stored.\n",
      "/var/folders/fq/t46mbxyj54j1d9t60j44v_j80000gn/T/ipykernel_88349/2190940151.py:31: RuntimeWarning: Channels contain different lowpass filters. Lowest filter setting will be stored.\n",
      "/var/folders/fq/t46mbxyj54j1d9t60j44v_j80000gn/T/ipykernel_88349/2190940151.py:31: RuntimeWarning: Highpass cutoff frequency 16.0 is greater than lowpass cutoff frequency 0.7, setting values to 0 and Nyquist.\n"
     ]
    },
    {
     "name": "stdout",
     "output_type": "stream",
     "text": [
      "Used Annotations descriptions: [np.str_('Sleep stage 1'), np.str_('Sleep stage 2'), np.str_('Sleep stage 3'), np.str_('Sleep stage 4'), np.str_('Sleep stage R'), np.str_('Sleep stage W')]\n",
      "Processed SC4522E0: epochs 2774, sequences 276, channels: ['EEG Fpz-Cz', 'EEG Pz-Oz', 'EOG horizontal', 'Resp oro-nasal', 'EMG submental', 'Temp rectal', 'Event marker']\n"
     ]
    },
    {
     "name": "stderr",
     "output_type": "stream",
     "text": [
      "/var/folders/fq/t46mbxyj54j1d9t60j44v_j80000gn/T/ipykernel_88349/2190940151.py:31: RuntimeWarning: Channels contain different highpass filters. Highest filter setting will be stored.\n",
      "/var/folders/fq/t46mbxyj54j1d9t60j44v_j80000gn/T/ipykernel_88349/2190940151.py:31: RuntimeWarning: Channels contain different lowpass filters. Lowest filter setting will be stored.\n",
      "/var/folders/fq/t46mbxyj54j1d9t60j44v_j80000gn/T/ipykernel_88349/2190940151.py:31: RuntimeWarning: Highpass cutoff frequency 16.0 is greater than lowpass cutoff frequency 0.7, setting values to 0 and Nyquist.\n"
     ]
    },
    {
     "name": "stdout",
     "output_type": "stream",
     "text": [
      "Used Annotations descriptions: [np.str_('Sleep stage 1'), np.str_('Sleep stage 2'), np.str_('Sleep stage 3'), np.str_('Sleep stage R'), np.str_('Sleep stage W')]\n",
      "Processed SC4652E0: epochs 2838, sequences 282, channels: ['EEG Fpz-Cz', 'EEG Pz-Oz', 'EOG horizontal', 'Resp oro-nasal', 'EMG submental', 'Temp rectal', 'Event marker']\n"
     ]
    },
    {
     "name": "stderr",
     "output_type": "stream",
     "text": [
      "/var/folders/fq/t46mbxyj54j1d9t60j44v_j80000gn/T/ipykernel_88349/2190940151.py:31: RuntimeWarning: Channels contain different highpass filters. Highest filter setting will be stored.\n",
      "/var/folders/fq/t46mbxyj54j1d9t60j44v_j80000gn/T/ipykernel_88349/2190940151.py:31: RuntimeWarning: Channels contain different lowpass filters. Lowest filter setting will be stored.\n",
      "/var/folders/fq/t46mbxyj54j1d9t60j44v_j80000gn/T/ipykernel_88349/2190940151.py:31: RuntimeWarning: Highpass cutoff frequency 16.0 is greater than lowpass cutoff frequency 0.7, setting values to 0 and Nyquist.\n"
     ]
    },
    {
     "name": "stdout",
     "output_type": "stream",
     "text": [
      "Used Annotations descriptions: [np.str_('Sleep stage 1'), np.str_('Sleep stage 2'), np.str_('Sleep stage 3'), np.str_('Sleep stage R'), np.str_('Sleep stage W')]\n",
      "Processed SC4551F0: epochs 2772, sequences 276, channels: ['EEG Fpz-Cz', 'EEG Pz-Oz', 'EOG horizontal', 'Resp oro-nasal', 'EMG submental', 'Temp rectal', 'Event marker']\n"
     ]
    },
    {
     "name": "stderr",
     "output_type": "stream",
     "text": [
      "/var/folders/fq/t46mbxyj54j1d9t60j44v_j80000gn/T/ipykernel_88349/2190940151.py:31: RuntimeWarning: Channels contain different highpass filters. Highest filter setting will be stored.\n",
      "/var/folders/fq/t46mbxyj54j1d9t60j44v_j80000gn/T/ipykernel_88349/2190940151.py:31: RuntimeWarning: Channels contain different lowpass filters. Lowest filter setting will be stored.\n",
      "/var/folders/fq/t46mbxyj54j1d9t60j44v_j80000gn/T/ipykernel_88349/2190940151.py:31: RuntimeWarning: Highpass cutoff frequency 16.0 is greater than lowpass cutoff frequency 0.7, setting values to 0 and Nyquist.\n"
     ]
    },
    {
     "name": "stdout",
     "output_type": "stream",
     "text": [
      "Used Annotations descriptions: [np.str_('Sleep stage 1'), np.str_('Sleep stage 2'), np.str_('Sleep stage 3'), np.str_('Sleep stage 4'), np.str_('Sleep stage R'), np.str_('Sleep stage W')]\n",
      "Processed SC4302E0: epochs 2808, sequences 279, channels: ['EEG Fpz-Cz', 'EEG Pz-Oz', 'EOG horizontal', 'Resp oro-nasal', 'EMG submental', 'Temp rectal', 'Event marker']\n"
     ]
    },
    {
     "name": "stderr",
     "output_type": "stream",
     "text": [
      "/var/folders/fq/t46mbxyj54j1d9t60j44v_j80000gn/T/ipykernel_88349/2190940151.py:31: RuntimeWarning: Channels contain different highpass filters. Highest filter setting will be stored.\n",
      "/var/folders/fq/t46mbxyj54j1d9t60j44v_j80000gn/T/ipykernel_88349/2190940151.py:31: RuntimeWarning: Channels contain different lowpass filters. Lowest filter setting will be stored.\n",
      "/var/folders/fq/t46mbxyj54j1d9t60j44v_j80000gn/T/ipykernel_88349/2190940151.py:31: RuntimeWarning: Highpass cutoff frequency 16.0 is greater than lowpass cutoff frequency 0.7, setting values to 0 and Nyquist.\n"
     ]
    },
    {
     "name": "stdout",
     "output_type": "stream",
     "text": [
      "Used Annotations descriptions: [np.str_('Sleep stage 1'), np.str_('Sleep stage 2'), np.str_('Sleep stage 3'), np.str_('Sleep stage R'), np.str_('Sleep stage W')]\n",
      "Processed SC4072E0: epochs 2770, sequences 276, channels: ['EEG Fpz-Cz', 'EEG Pz-Oz', 'EOG horizontal', 'Resp oro-nasal', 'EMG submental', 'Temp rectal', 'Event marker']\n"
     ]
    },
    {
     "name": "stderr",
     "output_type": "stream",
     "text": [
      "/var/folders/fq/t46mbxyj54j1d9t60j44v_j80000gn/T/ipykernel_88349/2190940151.py:31: RuntimeWarning: Channels contain different highpass filters. Highest filter setting will be stored.\n",
      "/var/folders/fq/t46mbxyj54j1d9t60j44v_j80000gn/T/ipykernel_88349/2190940151.py:31: RuntimeWarning: Channels contain different lowpass filters. Lowest filter setting will be stored.\n",
      "/var/folders/fq/t46mbxyj54j1d9t60j44v_j80000gn/T/ipykernel_88349/2190940151.py:31: RuntimeWarning: Highpass cutoff frequency 16.0 is greater than lowpass cutoff frequency 0.7, setting values to 0 and Nyquist.\n"
     ]
    },
    {
     "name": "stdout",
     "output_type": "stream",
     "text": [
      "Used Annotations descriptions: [np.str_('Sleep stage 1'), np.str_('Sleep stage 2'), np.str_('Sleep stage 3'), np.str_('Sleep stage R'), np.str_('Sleep stage W')]\n",
      "Processed SC4371F0: epochs 2850, sequences 284, channels: ['EEG Fpz-Cz', 'EEG Pz-Oz', 'EOG horizontal', 'Resp oro-nasal', 'EMG submental', 'Temp rectal', 'Event marker']\n"
     ]
    },
    {
     "name": "stderr",
     "output_type": "stream",
     "text": [
      "/var/folders/fq/t46mbxyj54j1d9t60j44v_j80000gn/T/ipykernel_88349/2190940151.py:31: RuntimeWarning: Channels contain different highpass filters. Highest filter setting will be stored.\n",
      "/var/folders/fq/t46mbxyj54j1d9t60j44v_j80000gn/T/ipykernel_88349/2190940151.py:31: RuntimeWarning: Channels contain different lowpass filters. Lowest filter setting will be stored.\n",
      "/var/folders/fq/t46mbxyj54j1d9t60j44v_j80000gn/T/ipykernel_88349/2190940151.py:31: RuntimeWarning: Highpass cutoff frequency 16.0 is greater than lowpass cutoff frequency 0.7, setting values to 0 and Nyquist.\n"
     ]
    },
    {
     "name": "stdout",
     "output_type": "stream",
     "text": [
      "Used Annotations descriptions: [np.str_('Sleep stage 1'), np.str_('Sleep stage 2'), np.str_('Sleep stage 3'), np.str_('Sleep stage R'), np.str_('Sleep stage W')]\n",
      "Processed SC4491G0: epochs 2800, sequences 279, channels: ['EEG Fpz-Cz', 'EEG Pz-Oz', 'EOG horizontal', 'Resp oro-nasal', 'EMG submental', 'Temp rectal', 'Event marker']\n"
     ]
    },
    {
     "name": "stderr",
     "output_type": "stream",
     "text": [
      "/var/folders/fq/t46mbxyj54j1d9t60j44v_j80000gn/T/ipykernel_88349/2190940151.py:31: RuntimeWarning: Channels contain different highpass filters. Highest filter setting will be stored.\n",
      "/var/folders/fq/t46mbxyj54j1d9t60j44v_j80000gn/T/ipykernel_88349/2190940151.py:31: RuntimeWarning: Channels contain different lowpass filters. Lowest filter setting will be stored.\n",
      "/var/folders/fq/t46mbxyj54j1d9t60j44v_j80000gn/T/ipykernel_88349/2190940151.py:31: RuntimeWarning: Highpass cutoff frequency 16.0 is greater than lowpass cutoff frequency 0.7, setting values to 0 and Nyquist.\n"
     ]
    },
    {
     "name": "stdout",
     "output_type": "stream",
     "text": [
      "Used Annotations descriptions: [np.str_('Sleep stage 1'), np.str_('Sleep stage 2'), np.str_('Sleep stage R'), np.str_('Sleep stage W')]\n",
      "Error processing /Users/kimberly/Documents/STAT4830/STAT-4830-GOALZ-project/data/sleep-edf-database-expanded-1.0.0/sleep-cassette/SC4721E0-PSG.edf: No matching events found for Sleep stage 3 (event id 3)\n"
     ]
    },
    {
     "name": "stderr",
     "output_type": "stream",
     "text": [
      "/var/folders/fq/t46mbxyj54j1d9t60j44v_j80000gn/T/ipykernel_88349/2190940151.py:31: RuntimeWarning: Channels contain different highpass filters. Highest filter setting will be stored.\n",
      "/var/folders/fq/t46mbxyj54j1d9t60j44v_j80000gn/T/ipykernel_88349/2190940151.py:31: RuntimeWarning: Channels contain different lowpass filters. Lowest filter setting will be stored.\n",
      "/var/folders/fq/t46mbxyj54j1d9t60j44v_j80000gn/T/ipykernel_88349/2190940151.py:31: RuntimeWarning: Highpass cutoff frequency 16.0 is greater than lowpass cutoff frequency 0.7, setting values to 0 and Nyquist.\n"
     ]
    }
   ],
   "source": [
    "def main():\n",
    "    psg_files = glob.glob(os.path.join(BASE_DIR, '**', '*-PSG.edf'), recursive=True)\n",
    "    print(f\"Found {len(psg_files)} PSG files.\")\n",
    "    Parallel(n_jobs=2)(delayed(process_and_save)(f, OUTPUT_DIR) for f in psg_files)\n",
    "\n",
    "if __name__ == '__main__':\n",
    "    main()"
   ]
  },
  {
   "cell_type": "code",
   "execution_count": null,
   "metadata": {},
   "outputs": [],
   "source": [
    "import os\n",
    "import numpy as np\n",
    "\n",
    "# Path to your output directory where *_epochs.npz files are saved\n",
    "OUTPUT_DIR = '/Users/kimberly/Documents/STAT4830/STAT-4830-GOALZ-project/complete_psd_sleep_edf'\n",
    "\n",
    "# Loop through all *_epochs.npz files and check channel count\n",
    "channel_counts = []\n",
    "for fname in os.listdir(OUTPUT_DIR):\n",
    "    if fname.endswith('_epochs.npz'):\n",
    "        fpath = os.path.join(OUTPUT_DIR, fname)\n",
    "        data = np.load(fpath)\n",
    "        ch_count = data['data'].shape[1]\n",
    "        channel_counts.append((fname, ch_count))\n",
    "\n",
    "# Print results\n",
    "for fname, count in channel_counts:\n",
    "    print(f\"{fname}: {count} channels\")\n",
    "\n",
    "# Optionally assert that all files have the same number of channels\n",
    "unique_counts = set(count for _, count in channel_counts)\n",
    "if len(unique_counts) == 1:\n",
    "    print(f\"✅ All files have {unique_counts.pop()} channels.\")\n",
    "else:\n",
    "    print(\"⚠️ Channel count mismatch across files:\")\n",
    "    for fname, count in channel_counts:\n",
    "        print(f\"  {fname}: {count}\")\n"
   ]
  },
  {
   "cell_type": "code",
   "execution_count": 6,
   "metadata": {},
   "outputs": [
    {
     "ename": "FileNotFoundError",
     "evalue": "[Errno 2] No such file or directory: '../../data/psd_sleep_edf/ST7121J0_epochs.npz'",
     "output_type": "error",
     "traceback": [
      "\u001b[0;31m---------------------------------------------------------------------------\u001b[0m",
      "\u001b[0;31mFileNotFoundError\u001b[0m                         Traceback (most recent call last)",
      "Cell \u001b[0;32mIn[6], line 6\u001b[0m\n\u001b[1;32m      4\u001b[0m \u001b[38;5;66;03m# Load epoch-level data\u001b[39;00m\n\u001b[1;32m      5\u001b[0m epoch_file \u001b[38;5;241m=\u001b[39m os\u001b[38;5;241m.\u001b[39mpath\u001b[38;5;241m.\u001b[39mjoin(OUTPUT_DIR, \u001b[38;5;124mf\u001b[39m\u001b[38;5;124m\"\u001b[39m\u001b[38;5;132;01m{\u001b[39;00mrec_id\u001b[38;5;132;01m}\u001b[39;00m\u001b[38;5;124m_epochs.npz\u001b[39m\u001b[38;5;124m\"\u001b[39m)\n\u001b[0;32m----> 6\u001b[0m epoch_data \u001b[38;5;241m=\u001b[39m \u001b[43mnp\u001b[49m\u001b[38;5;241;43m.\u001b[39;49m\u001b[43mload\u001b[49m\u001b[43m(\u001b[49m\u001b[43mepoch_file\u001b[49m\u001b[43m)\u001b[49m\n\u001b[1;32m      7\u001b[0m data \u001b[38;5;241m=\u001b[39m epoch_data[\u001b[38;5;124m'\u001b[39m\u001b[38;5;124mdata\u001b[39m\u001b[38;5;124m'\u001b[39m]      \u001b[38;5;66;03m# shape: (n_epochs, n_channels, n_samples)\u001b[39;00m\n\u001b[1;32m      8\u001b[0m labels \u001b[38;5;241m=\u001b[39m epoch_data[\u001b[38;5;124m'\u001b[39m\u001b[38;5;124mlabels\u001b[39m\u001b[38;5;124m'\u001b[39m]  \u001b[38;5;66;03m# shape: (n_epochs,)\u001b[39;00m\n",
      "File \u001b[0;32m/Library/Frameworks/Python.framework/Versions/3.13/lib/python3.13/site-packages/numpy/lib/_npyio_impl.py:451\u001b[0m, in \u001b[0;36mload\u001b[0;34m(file, mmap_mode, allow_pickle, fix_imports, encoding, max_header_size)\u001b[0m\n\u001b[1;32m    449\u001b[0m     own_fid \u001b[38;5;241m=\u001b[39m \u001b[38;5;28;01mFalse\u001b[39;00m\n\u001b[1;32m    450\u001b[0m \u001b[38;5;28;01melse\u001b[39;00m:\n\u001b[0;32m--> 451\u001b[0m     fid \u001b[38;5;241m=\u001b[39m stack\u001b[38;5;241m.\u001b[39menter_context(\u001b[38;5;28;43mopen\u001b[39;49m\u001b[43m(\u001b[49m\u001b[43mos\u001b[49m\u001b[38;5;241;43m.\u001b[39;49m\u001b[43mfspath\u001b[49m\u001b[43m(\u001b[49m\u001b[43mfile\u001b[49m\u001b[43m)\u001b[49m\u001b[43m,\u001b[49m\u001b[43m \u001b[49m\u001b[38;5;124;43m\"\u001b[39;49m\u001b[38;5;124;43mrb\u001b[39;49m\u001b[38;5;124;43m\"\u001b[39;49m\u001b[43m)\u001b[49m)\n\u001b[1;32m    452\u001b[0m     own_fid \u001b[38;5;241m=\u001b[39m \u001b[38;5;28;01mTrue\u001b[39;00m\n\u001b[1;32m    454\u001b[0m \u001b[38;5;66;03m# Code to distinguish from NumPy binary files and pickles.\u001b[39;00m\n",
      "\u001b[0;31mFileNotFoundError\u001b[0m: [Errno 2] No such file or directory: '../../data/psd_sleep_edf/ST7121J0_epochs.npz'"
     ]
    }
   ],
   "source": [
    "OUTPUT_DIR = '../../data/psd_sleep_edf'\n",
    "rec_id = 'ST7121J0'\n",
    "\n",
    "# Load epoch-level data\n",
    "epoch_file = os.path.join(OUTPUT_DIR, f\"{rec_id}_epochs.npz\")\n",
    "epoch_data = np.load(epoch_file)\n",
    "data = epoch_data['data']      # shape: (n_epochs, n_channels, n_samples)\n",
    "labels = epoch_data['labels']  # shape: (n_epochs,)\n",
    "\n",
    "print(f\"Epoch-level data shape: {data.shape}\")\n",
    "print(f\"Epoch-level labels shape: {labels.shape}\")\n",
    "print(\"First 10 labels:\", labels[:100])\n",
    "\n",
    "# Load sequence-level data\n",
    "seq_file = os.path.join(OUTPUT_DIR, f\"{rec_id}_sequences.npz\")\n",
    "seq_data = np.load(seq_file)\n",
    "sequences = seq_data['sequences']       # shape: (n_sequences, SEQ_LENGTH, n_channels, n_samples)\n",
    "seq_labels = seq_data['seq_labels']     # shape: (n_sequences, SEQ_LENGTH)\n",
    "\n",
    "print(f\"Sequence-level data shape: {sequences.shape}\")\n",
    "print(f\"Sequence-level labels shape: {seq_labels.shape}\")\n",
    "print(\"First sequence labels:\", seq_labels[0])\n"
   ]
  },
  {
   "cell_type": "code",
   "execution_count": 5,
   "metadata": {},
   "outputs": [
    {
     "name": "stdout",
     "output_type": "stream",
     "text": [
      "Annotation descriptions: ['Sleep stage W' 'Sleep stage 1' 'Sleep stage 2' 'Sleep stage 1'\n",
      " 'Sleep stage 2' 'Sleep stage 3' 'Sleep stage 4' 'Sleep stage 3'\n",
      " 'Sleep stage 4' 'Sleep stage 3' 'Sleep stage 4' 'Sleep stage 3'\n",
      " 'Sleep stage 2' 'Sleep stage R' 'Sleep stage 1' 'Sleep stage 2'\n",
      " 'Sleep stage 1' 'Sleep stage 2' 'Sleep stage 3' 'Sleep stage 2'\n",
      " 'Sleep stage 3' 'Sleep stage 4' 'Sleep stage 3' 'Sleep stage 2'\n",
      " 'Sleep stage 1' 'Sleep stage 2' 'Sleep stage W' 'Sleep stage 1'\n",
      " 'Sleep stage 2' 'Sleep stage W' 'Sleep stage 1' 'Sleep stage 2'\n",
      " 'Sleep stage W' 'Sleep stage 1' 'Sleep stage 2' 'Sleep stage R'\n",
      " 'Sleep stage 2' 'Sleep stage 3' 'Sleep stage 2' 'Sleep stage 3'\n",
      " 'Sleep stage 2' 'Sleep stage 3' 'Sleep stage 2' 'Sleep stage 3'\n",
      " 'Sleep stage 2' 'Sleep stage 1' 'Sleep stage 2' 'Sleep stage 3'\n",
      " 'Sleep stage 2' 'Sleep stage 3' 'Sleep stage 2' 'Sleep stage 3'\n",
      " 'Sleep stage 4' 'Sleep stage 3' 'Sleep stage 4' 'Sleep stage 3'\n",
      " 'Sleep stage 4' 'Sleep stage 3' 'Sleep stage 4' 'Sleep stage 3'\n",
      " 'Sleep stage 4' 'Sleep stage W' 'Sleep stage 1' 'Sleep stage 2'\n",
      " 'Sleep stage 1' 'Sleep stage 2' 'Sleep stage 1' 'Sleep stage 2'\n",
      " 'Sleep stage R' 'Sleep stage 2' 'Sleep stage W' 'Sleep stage 1'\n",
      " 'Sleep stage W' 'Sleep stage 1' 'Sleep stage W' 'Sleep stage 1'\n",
      " 'Sleep stage 2' 'Sleep stage 1' 'Sleep stage 2' 'Sleep stage 3'\n",
      " 'Sleep stage 2' 'Sleep stage 3' 'Sleep stage W' 'Sleep stage 1'\n",
      " 'Sleep stage W' 'Sleep stage 1' 'Sleep stage 2' 'Sleep stage 1'\n",
      " 'Sleep stage 2' 'Sleep stage R' 'Sleep stage 2' 'Sleep stage W'\n",
      " 'Sleep stage 1' 'Sleep stage 2' 'Sleep stage 1' 'Sleep stage 2'\n",
      " 'Sleep stage 1' 'Sleep stage 2' 'Sleep stage 1' 'Sleep stage 2'\n",
      " 'Sleep stage 1' 'Sleep stage 2' 'Sleep stage W' 'Sleep stage 1'\n",
      " 'Sleep stage W' 'Sleep stage 1' 'Sleep stage 2' 'Sleep stage 1'\n",
      " 'Sleep stage 2' 'Sleep stage W' 'Sleep stage 1' 'Sleep stage R'\n",
      " 'Sleep stage W' 'Sleep stage R' 'Sleep stage 1' 'Sleep stage 2'\n",
      " 'Sleep stage 1' 'Sleep stage W' 'Sleep stage 1' 'Sleep stage 2'\n",
      " 'Sleep stage 1' 'Sleep stage W' 'Sleep stage 1' 'Sleep stage R'\n",
      " 'Sleep stage W' 'Sleep stage R' 'Sleep stage W' 'Sleep stage ?'\n",
      " 'Sleep stage ?' 'Sleep stage ?' 'Sleep stage ?']\n"
     ]
    }
   ],
   "source": [
    "hyp_path = '/Users/tereza/spring_2025/STAT_4830/STAT-4830-GOALZ-project/data/sleep-edf-database-expanded-1.0.0/sleep-cassette/SC4121EC-Hypnogram.edf'\n",
    "ann = mne.read_annotations(hyp_path)\n",
    "print(\"Annotation descriptions:\", ann.description)"
   ]
  }
 ],
 "metadata": {
  "kernelspec": {
   "display_name": "Python 3",
   "language": "python",
   "name": "python3"
  },
  "language_info": {
   "codemirror_mode": {
    "name": "ipython",
    "version": 3
   },
   "file_extension": ".py",
   "mimetype": "text/x-python",
   "name": "python",
   "nbconvert_exporter": "python",
   "pygments_lexer": "ipython3",
   "version": "3.13.0"
  }
 },
 "nbformat": 4,
 "nbformat_minor": 2
}
